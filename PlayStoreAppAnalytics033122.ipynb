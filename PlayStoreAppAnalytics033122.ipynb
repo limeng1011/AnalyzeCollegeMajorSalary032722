{
  "nbformat": 4,
  "nbformat_minor": 0,
  "metadata": {
    "kernelspec": {
      "display_name": "Python 3",
      "language": "python",
      "name": "python3"
    },
    "language_info": {
      "codemirror_mode": {
        "name": "ipython",
        "version": 3
      },
      "file_extension": ".py",
      "mimetype": "text/x-python",
      "name": "python",
      "nbconvert_exporter": "python",
      "pygments_lexer": "ipython3",
      "version": "3.7.3"
    },
    "colab": {
      "name": "PlayStoreAppAnalytics033122.ipynb",
      "provenance": [],
      "include_colab_link": true
    }
  },
  "cells": [
    {
      "cell_type": "markdown",
      "metadata": {
        "id": "view-in-github",
        "colab_type": "text"
      },
      "source": [
        "<a href=\"https://colab.research.google.com/github/limeng1011/AnalyzeCollegeMajorSalary032722/blob/main/PlayStoreAppAnalytics033122.ipynb\" target=\"_parent\"><img src=\"https://colab.research.google.com/assets/colab-badge.svg\" alt=\"Open In Colab\"/></a>"
      ]
    },
    {
      "cell_type": "markdown",
      "metadata": {
        "dc": {
          "key": "4"
        },
        "run_control": {
          "frozen": true
        },
        "tags": [
          "context"
        ],
        "id": "-Sxae4jbdiT2"
      },
      "source": [
        "# Introduction\n",
        "\n",
        "In this notebook, we will do a comprehensive analysis of the Android app market by comparing thousands of apps in the Google Play store."
      ]
    },
    {
      "cell_type": "markdown",
      "metadata": {
        "id": "sDT5lMxadiT3"
      },
      "source": [
        "# About the Dataset of Google Play Store Apps & Reviews"
      ]
    },
    {
      "cell_type": "markdown",
      "metadata": {
        "id": "5CiydsdNdiT3"
      },
      "source": [
        "**Data Source:** <br>\n",
        "App and review data was scraped from the Google Play Store by Lavanya Gupta in 2018. Original files listed [here](\n",
        "https://www.kaggle.com/lava18/google-play-store-apps)."
      ]
    },
    {
      "cell_type": "markdown",
      "metadata": {
        "id": "BBKBNy4UdiT4"
      },
      "source": [
        "# Import Statements"
      ]
    },
    {
      "cell_type": "code",
      "metadata": {
        "id": "_5mfFH4_diT4"
      },
      "source": [
        "import pandas as pd\n",
        "\n"
      ],
      "execution_count": 1,
      "outputs": []
    },
    {
      "cell_type": "markdown",
      "metadata": {
        "id": "KegC9nPDdiT7"
      },
      "source": [
        "# Notebook Presentation"
      ]
    },
    {
      "cell_type": "code",
      "metadata": {
        "id": "WPL7rhJndiT7"
      },
      "source": [
        "# Show numeric output in decimal format e.g., 2.15\n",
        "# pd.options.display.float_format = '{:,.2f}'.format\n",
        "pd.options.display.float_format = '{:,.2f}'.format"
      ],
      "execution_count": 2,
      "outputs": []
    },
    {
      "cell_type": "markdown",
      "metadata": {
        "id": "Uc9LOZu9diT-"
      },
      "source": [
        "# Read the Dataset"
      ]
    },
    {
      "cell_type": "code",
      "metadata": {
        "id": "zU0Zisv_diT-"
      },
      "source": [
        "df_apps = pd.read_csv('apps.csv')"
      ],
      "execution_count": 3,
      "outputs": []
    },
    {
      "cell_type": "markdown",
      "metadata": {
        "id": "iKvSUwQldiUA"
      },
      "source": [
        "# Data Cleaning"
      ]
    },
    {
      "cell_type": "markdown",
      "metadata": {
        "id": "MWTzYZIds5L9"
      },
      "source": [
        "**Challenge**: How many rows and columns does `df_apps` have? What are the column names? Look at a random sample of 5 different rows with [.sample()](https://pandas.pydata.org/pandas-docs/stable/reference/api/pandas.DataFrame.sample.html)."
      ]
    },
    {
      "cell_type": "code",
      "metadata": {
        "id": "HJI7UsPrnuRf",
        "colab": {
          "base_uri": "https://localhost:8080/"
        },
        "outputId": "2e3fee76-ab4e-4fcb-980a-056fb2c64b7c"
      },
      "source": [
        "df_apps.shape"
      ],
      "execution_count": 4,
      "outputs": [
        {
          "output_type": "execute_result",
          "data": {
            "text/plain": [
              "(10841, 12)"
            ]
          },
          "metadata": {},
          "execution_count": 4
        }
      ]
    },
    {
      "cell_type": "code",
      "metadata": {
        "id": "fKXFjPkmnuYA",
        "colab": {
          "base_uri": "https://localhost:8080/"
        },
        "outputId": "0a973997-7af8-410e-ee31-88e06f429868"
      },
      "source": [
        "df_apps.columns"
      ],
      "execution_count": 5,
      "outputs": [
        {
          "output_type": "execute_result",
          "data": {
            "text/plain": [
              "Index(['App', 'Category', 'Rating', 'Reviews', 'Size_MBs', 'Installs', 'Type',\n",
              "       'Price', 'Content_Rating', 'Genres', 'Last_Updated', 'Android_Ver'],\n",
              "      dtype='object')"
            ]
          },
          "metadata": {},
          "execution_count": 5
        }
      ]
    },
    {
      "cell_type": "code",
      "metadata": {
        "id": "MUluaHF5nueH",
        "colab": {
          "base_uri": "https://localhost:8080/",
          "height": 409
        },
        "outputId": "7888c3a7-491d-44de-d236-3f2208ae7ef0"
      },
      "source": [
        "df_apps.sample(5)"
      ],
      "execution_count": 6,
      "outputs": [
        {
          "output_type": "execute_result",
          "data": {
            "text/plain": [
              "                                                   App            Category  \\\n",
              "1906                                     Safe Santa Fe              FAMILY   \n",
              "2603                        2017 EMRA Antibiotic Guide             MEDICAL   \n",
              "2875  Q Alerts: QAnon Drop Notifications, Research +++  NEWS_AND_MAGAZINES   \n",
              "1201                                          AO-EVENT            BUSINESS   \n",
              "9911                                   Mobile Bancomer             FINANCE   \n",
              "\n",
              "      Rating  Reviews  Size_MBs    Installs  Type   Price Content_Rating  \\\n",
              "1906    5.00        2     12.00       1,000  Free       0       Everyone   \n",
              "2603    4.40       12      3.80       1,000  Paid  $16.99       Everyone   \n",
              "2875    4.70      143     26.00       5,000  Paid   $0.99     Mature 17+   \n",
              "1201     NaN        0     42.00         100  Free       0       Everyone   \n",
              "9911    4.20   278082     70.00  10,000,000  Free       0       Everyone   \n",
              "\n",
              "                Genres      Last_Updated   Android_Ver  \n",
              "1906         Education      July 4, 2016    4.0 and up  \n",
              "2603           Medical  January 27, 2017  4.0.3 and up  \n",
              "2875  News & Magazines     July 26, 2018    4.1 and up  \n",
              "1201          Business      May 28, 2018    4.1 and up  \n",
              "9911           Finance     July 30, 2018  4.0.3 and up  "
            ],
            "text/html": [
              "\n",
              "  <div id=\"df-0f6d1153-c982-4f10-8589-7e11aa449d42\">\n",
              "    <div class=\"colab-df-container\">\n",
              "      <div>\n",
              "<style scoped>\n",
              "    .dataframe tbody tr th:only-of-type {\n",
              "        vertical-align: middle;\n",
              "    }\n",
              "\n",
              "    .dataframe tbody tr th {\n",
              "        vertical-align: top;\n",
              "    }\n",
              "\n",
              "    .dataframe thead th {\n",
              "        text-align: right;\n",
              "    }\n",
              "</style>\n",
              "<table border=\"1\" class=\"dataframe\">\n",
              "  <thead>\n",
              "    <tr style=\"text-align: right;\">\n",
              "      <th></th>\n",
              "      <th>App</th>\n",
              "      <th>Category</th>\n",
              "      <th>Rating</th>\n",
              "      <th>Reviews</th>\n",
              "      <th>Size_MBs</th>\n",
              "      <th>Installs</th>\n",
              "      <th>Type</th>\n",
              "      <th>Price</th>\n",
              "      <th>Content_Rating</th>\n",
              "      <th>Genres</th>\n",
              "      <th>Last_Updated</th>\n",
              "      <th>Android_Ver</th>\n",
              "    </tr>\n",
              "  </thead>\n",
              "  <tbody>\n",
              "    <tr>\n",
              "      <th>1906</th>\n",
              "      <td>Safe Santa Fe</td>\n",
              "      <td>FAMILY</td>\n",
              "      <td>5.00</td>\n",
              "      <td>2</td>\n",
              "      <td>12.00</td>\n",
              "      <td>1,000</td>\n",
              "      <td>Free</td>\n",
              "      <td>0</td>\n",
              "      <td>Everyone</td>\n",
              "      <td>Education</td>\n",
              "      <td>July 4, 2016</td>\n",
              "      <td>4.0 and up</td>\n",
              "    </tr>\n",
              "    <tr>\n",
              "      <th>2603</th>\n",
              "      <td>2017 EMRA Antibiotic Guide</td>\n",
              "      <td>MEDICAL</td>\n",
              "      <td>4.40</td>\n",
              "      <td>12</td>\n",
              "      <td>3.80</td>\n",
              "      <td>1,000</td>\n",
              "      <td>Paid</td>\n",
              "      <td>$16.99</td>\n",
              "      <td>Everyone</td>\n",
              "      <td>Medical</td>\n",
              "      <td>January 27, 2017</td>\n",
              "      <td>4.0.3 and up</td>\n",
              "    </tr>\n",
              "    <tr>\n",
              "      <th>2875</th>\n",
              "      <td>Q Alerts: QAnon Drop Notifications, Research +++</td>\n",
              "      <td>NEWS_AND_MAGAZINES</td>\n",
              "      <td>4.70</td>\n",
              "      <td>143</td>\n",
              "      <td>26.00</td>\n",
              "      <td>5,000</td>\n",
              "      <td>Paid</td>\n",
              "      <td>$0.99</td>\n",
              "      <td>Mature 17+</td>\n",
              "      <td>News &amp; Magazines</td>\n",
              "      <td>July 26, 2018</td>\n",
              "      <td>4.1 and up</td>\n",
              "    </tr>\n",
              "    <tr>\n",
              "      <th>1201</th>\n",
              "      <td>AO-EVENT</td>\n",
              "      <td>BUSINESS</td>\n",
              "      <td>NaN</td>\n",
              "      <td>0</td>\n",
              "      <td>42.00</td>\n",
              "      <td>100</td>\n",
              "      <td>Free</td>\n",
              "      <td>0</td>\n",
              "      <td>Everyone</td>\n",
              "      <td>Business</td>\n",
              "      <td>May 28, 2018</td>\n",
              "      <td>4.1 and up</td>\n",
              "    </tr>\n",
              "    <tr>\n",
              "      <th>9911</th>\n",
              "      <td>Mobile Bancomer</td>\n",
              "      <td>FINANCE</td>\n",
              "      <td>4.20</td>\n",
              "      <td>278082</td>\n",
              "      <td>70.00</td>\n",
              "      <td>10,000,000</td>\n",
              "      <td>Free</td>\n",
              "      <td>0</td>\n",
              "      <td>Everyone</td>\n",
              "      <td>Finance</td>\n",
              "      <td>July 30, 2018</td>\n",
              "      <td>4.0.3 and up</td>\n",
              "    </tr>\n",
              "  </tbody>\n",
              "</table>\n",
              "</div>\n",
              "      <button class=\"colab-df-convert\" onclick=\"convertToInteractive('df-0f6d1153-c982-4f10-8589-7e11aa449d42')\"\n",
              "              title=\"Convert this dataframe to an interactive table.\"\n",
              "              style=\"display:none;\">\n",
              "        \n",
              "  <svg xmlns=\"http://www.w3.org/2000/svg\" height=\"24px\"viewBox=\"0 0 24 24\"\n",
              "       width=\"24px\">\n",
              "    <path d=\"M0 0h24v24H0V0z\" fill=\"none\"/>\n",
              "    <path d=\"M18.56 5.44l.94 2.06.94-2.06 2.06-.94-2.06-.94-.94-2.06-.94 2.06-2.06.94zm-11 1L8.5 8.5l.94-2.06 2.06-.94-2.06-.94L8.5 2.5l-.94 2.06-2.06.94zm10 10l.94 2.06.94-2.06 2.06-.94-2.06-.94-.94-2.06-.94 2.06-2.06.94z\"/><path d=\"M17.41 7.96l-1.37-1.37c-.4-.4-.92-.59-1.43-.59-.52 0-1.04.2-1.43.59L10.3 9.45l-7.72 7.72c-.78.78-.78 2.05 0 2.83L4 21.41c.39.39.9.59 1.41.59.51 0 1.02-.2 1.41-.59l7.78-7.78 2.81-2.81c.8-.78.8-2.07 0-2.86zM5.41 20L4 18.59l7.72-7.72 1.47 1.35L5.41 20z\"/>\n",
              "  </svg>\n",
              "      </button>\n",
              "      \n",
              "  <style>\n",
              "    .colab-df-container {\n",
              "      display:flex;\n",
              "      flex-wrap:wrap;\n",
              "      gap: 12px;\n",
              "    }\n",
              "\n",
              "    .colab-df-convert {\n",
              "      background-color: #E8F0FE;\n",
              "      border: none;\n",
              "      border-radius: 50%;\n",
              "      cursor: pointer;\n",
              "      display: none;\n",
              "      fill: #1967D2;\n",
              "      height: 32px;\n",
              "      padding: 0 0 0 0;\n",
              "      width: 32px;\n",
              "    }\n",
              "\n",
              "    .colab-df-convert:hover {\n",
              "      background-color: #E2EBFA;\n",
              "      box-shadow: 0px 1px 2px rgba(60, 64, 67, 0.3), 0px 1px 3px 1px rgba(60, 64, 67, 0.15);\n",
              "      fill: #174EA6;\n",
              "    }\n",
              "\n",
              "    [theme=dark] .colab-df-convert {\n",
              "      background-color: #3B4455;\n",
              "      fill: #D2E3FC;\n",
              "    }\n",
              "\n",
              "    [theme=dark] .colab-df-convert:hover {\n",
              "      background-color: #434B5C;\n",
              "      box-shadow: 0px 1px 3px 1px rgba(0, 0, 0, 0.15);\n",
              "      filter: drop-shadow(0px 1px 2px rgba(0, 0, 0, 0.3));\n",
              "      fill: #FFFFFF;\n",
              "    }\n",
              "  </style>\n",
              "\n",
              "      <script>\n",
              "        const buttonEl =\n",
              "          document.querySelector('#df-0f6d1153-c982-4f10-8589-7e11aa449d42 button.colab-df-convert');\n",
              "        buttonEl.style.display =\n",
              "          google.colab.kernel.accessAllowed ? 'block' : 'none';\n",
              "\n",
              "        async function convertToInteractive(key) {\n",
              "          const element = document.querySelector('#df-0f6d1153-c982-4f10-8589-7e11aa449d42');\n",
              "          const dataTable =\n",
              "            await google.colab.kernel.invokeFunction('convertToInteractive',\n",
              "                                                     [key], {});\n",
              "          if (!dataTable) return;\n",
              "\n",
              "          const docLinkHtml = 'Like what you see? Visit the ' +\n",
              "            '<a target=\"_blank\" href=https://colab.research.google.com/notebooks/data_table.ipynb>data table notebook</a>'\n",
              "            + ' to learn more about interactive tables.';\n",
              "          element.innerHTML = '';\n",
              "          dataTable['output_type'] = 'display_data';\n",
              "          await google.colab.output.renderOutput(dataTable, element);\n",
              "          const docLink = document.createElement('div');\n",
              "          docLink.innerHTML = docLinkHtml;\n",
              "          element.appendChild(docLink);\n",
              "        }\n",
              "      </script>\n",
              "    </div>\n",
              "  </div>\n",
              "  "
            ]
          },
          "metadata": {},
          "execution_count": 6
        }
      ]
    },
    {
      "cell_type": "markdown",
      "metadata": {
        "id": "Hh81sMcvdiUI"
      },
      "source": [
        "### Drop Unused Columns\n",
        "\n",
        "**Challenge**: Remove the columns called `Last_Updated` and `Android_Version` from the DataFrame. We will not use these columns. "
      ]
    },
    {
      "cell_type": "code",
      "metadata": {
        "id": "t7EMSKAOnyzI",
        "colab": {
          "base_uri": "https://localhost:8080/",
          "height": 475
        },
        "outputId": "4fad5e98-8aae-405d-cb87-8aaec9d41f4a"
      },
      "source": [
        "df_apps = df_apps.drop(columns=['Last_Updated', 'Android_Ver'])\n",
        "df_apps.head()"
      ],
      "execution_count": 7,
      "outputs": [
        {
          "output_type": "execute_result",
          "data": {
            "text/plain": [
              "                                            App         Category  Rating  \\\n",
              "0                       Ak Parti Yardım Toplama           SOCIAL     NaN   \n",
              "1                    Ain Arabic Kids Alif Ba ta           FAMILY     NaN   \n",
              "2  Popsicle Launcher for Android P 9.0 launcher  PERSONALIZATION     NaN   \n",
              "3                     Command & Conquer: Rivals           FAMILY     NaN   \n",
              "4                                    CX Network         BUSINESS     NaN   \n",
              "\n",
              "   Reviews  Size_MBs Installs  Type   Price Content_Rating           Genres  \n",
              "0        0      8.70        0  Paid  $13.99           Teen           Social  \n",
              "1        0     33.00        0  Paid   $2.99       Everyone        Education  \n",
              "2        0      5.50        0  Paid   $1.49       Everyone  Personalization  \n",
              "3        0     19.00        0   NaN       0   Everyone 10+         Strategy  \n",
              "4        0     10.00        0  Free       0       Everyone         Business  "
            ],
            "text/html": [
              "\n",
              "  <div id=\"df-95da954e-e678-4d62-a409-da76097f0b60\">\n",
              "    <div class=\"colab-df-container\">\n",
              "      <div>\n",
              "<style scoped>\n",
              "    .dataframe tbody tr th:only-of-type {\n",
              "        vertical-align: middle;\n",
              "    }\n",
              "\n",
              "    .dataframe tbody tr th {\n",
              "        vertical-align: top;\n",
              "    }\n",
              "\n",
              "    .dataframe thead th {\n",
              "        text-align: right;\n",
              "    }\n",
              "</style>\n",
              "<table border=\"1\" class=\"dataframe\">\n",
              "  <thead>\n",
              "    <tr style=\"text-align: right;\">\n",
              "      <th></th>\n",
              "      <th>App</th>\n",
              "      <th>Category</th>\n",
              "      <th>Rating</th>\n",
              "      <th>Reviews</th>\n",
              "      <th>Size_MBs</th>\n",
              "      <th>Installs</th>\n",
              "      <th>Type</th>\n",
              "      <th>Price</th>\n",
              "      <th>Content_Rating</th>\n",
              "      <th>Genres</th>\n",
              "    </tr>\n",
              "  </thead>\n",
              "  <tbody>\n",
              "    <tr>\n",
              "      <th>0</th>\n",
              "      <td>Ak Parti Yardım Toplama</td>\n",
              "      <td>SOCIAL</td>\n",
              "      <td>NaN</td>\n",
              "      <td>0</td>\n",
              "      <td>8.70</td>\n",
              "      <td>0</td>\n",
              "      <td>Paid</td>\n",
              "      <td>$13.99</td>\n",
              "      <td>Teen</td>\n",
              "      <td>Social</td>\n",
              "    </tr>\n",
              "    <tr>\n",
              "      <th>1</th>\n",
              "      <td>Ain Arabic Kids Alif Ba ta</td>\n",
              "      <td>FAMILY</td>\n",
              "      <td>NaN</td>\n",
              "      <td>0</td>\n",
              "      <td>33.00</td>\n",
              "      <td>0</td>\n",
              "      <td>Paid</td>\n",
              "      <td>$2.99</td>\n",
              "      <td>Everyone</td>\n",
              "      <td>Education</td>\n",
              "    </tr>\n",
              "    <tr>\n",
              "      <th>2</th>\n",
              "      <td>Popsicle Launcher for Android P 9.0 launcher</td>\n",
              "      <td>PERSONALIZATION</td>\n",
              "      <td>NaN</td>\n",
              "      <td>0</td>\n",
              "      <td>5.50</td>\n",
              "      <td>0</td>\n",
              "      <td>Paid</td>\n",
              "      <td>$1.49</td>\n",
              "      <td>Everyone</td>\n",
              "      <td>Personalization</td>\n",
              "    </tr>\n",
              "    <tr>\n",
              "      <th>3</th>\n",
              "      <td>Command &amp; Conquer: Rivals</td>\n",
              "      <td>FAMILY</td>\n",
              "      <td>NaN</td>\n",
              "      <td>0</td>\n",
              "      <td>19.00</td>\n",
              "      <td>0</td>\n",
              "      <td>NaN</td>\n",
              "      <td>0</td>\n",
              "      <td>Everyone 10+</td>\n",
              "      <td>Strategy</td>\n",
              "    </tr>\n",
              "    <tr>\n",
              "      <th>4</th>\n",
              "      <td>CX Network</td>\n",
              "      <td>BUSINESS</td>\n",
              "      <td>NaN</td>\n",
              "      <td>0</td>\n",
              "      <td>10.00</td>\n",
              "      <td>0</td>\n",
              "      <td>Free</td>\n",
              "      <td>0</td>\n",
              "      <td>Everyone</td>\n",
              "      <td>Business</td>\n",
              "    </tr>\n",
              "  </tbody>\n",
              "</table>\n",
              "</div>\n",
              "      <button class=\"colab-df-convert\" onclick=\"convertToInteractive('df-95da954e-e678-4d62-a409-da76097f0b60')\"\n",
              "              title=\"Convert this dataframe to an interactive table.\"\n",
              "              style=\"display:none;\">\n",
              "        \n",
              "  <svg xmlns=\"http://www.w3.org/2000/svg\" height=\"24px\"viewBox=\"0 0 24 24\"\n",
              "       width=\"24px\">\n",
              "    <path d=\"M0 0h24v24H0V0z\" fill=\"none\"/>\n",
              "    <path d=\"M18.56 5.44l.94 2.06.94-2.06 2.06-.94-2.06-.94-.94-2.06-.94 2.06-2.06.94zm-11 1L8.5 8.5l.94-2.06 2.06-.94-2.06-.94L8.5 2.5l-.94 2.06-2.06.94zm10 10l.94 2.06.94-2.06 2.06-.94-2.06-.94-.94-2.06-.94 2.06-2.06.94z\"/><path d=\"M17.41 7.96l-1.37-1.37c-.4-.4-.92-.59-1.43-.59-.52 0-1.04.2-1.43.59L10.3 9.45l-7.72 7.72c-.78.78-.78 2.05 0 2.83L4 21.41c.39.39.9.59 1.41.59.51 0 1.02-.2 1.41-.59l7.78-7.78 2.81-2.81c.8-.78.8-2.07 0-2.86zM5.41 20L4 18.59l7.72-7.72 1.47 1.35L5.41 20z\"/>\n",
              "  </svg>\n",
              "      </button>\n",
              "      \n",
              "  <style>\n",
              "    .colab-df-container {\n",
              "      display:flex;\n",
              "      flex-wrap:wrap;\n",
              "      gap: 12px;\n",
              "    }\n",
              "\n",
              "    .colab-df-convert {\n",
              "      background-color: #E8F0FE;\n",
              "      border: none;\n",
              "      border-radius: 50%;\n",
              "      cursor: pointer;\n",
              "      display: none;\n",
              "      fill: #1967D2;\n",
              "      height: 32px;\n",
              "      padding: 0 0 0 0;\n",
              "      width: 32px;\n",
              "    }\n",
              "\n",
              "    .colab-df-convert:hover {\n",
              "      background-color: #E2EBFA;\n",
              "      box-shadow: 0px 1px 2px rgba(60, 64, 67, 0.3), 0px 1px 3px 1px rgba(60, 64, 67, 0.15);\n",
              "      fill: #174EA6;\n",
              "    }\n",
              "\n",
              "    [theme=dark] .colab-df-convert {\n",
              "      background-color: #3B4455;\n",
              "      fill: #D2E3FC;\n",
              "    }\n",
              "\n",
              "    [theme=dark] .colab-df-convert:hover {\n",
              "      background-color: #434B5C;\n",
              "      box-shadow: 0px 1px 3px 1px rgba(0, 0, 0, 0.15);\n",
              "      filter: drop-shadow(0px 1px 2px rgba(0, 0, 0, 0.3));\n",
              "      fill: #FFFFFF;\n",
              "    }\n",
              "  </style>\n",
              "\n",
              "      <script>\n",
              "        const buttonEl =\n",
              "          document.querySelector('#df-95da954e-e678-4d62-a409-da76097f0b60 button.colab-df-convert');\n",
              "        buttonEl.style.display =\n",
              "          google.colab.kernel.accessAllowed ? 'block' : 'none';\n",
              "\n",
              "        async function convertToInteractive(key) {\n",
              "          const element = document.querySelector('#df-95da954e-e678-4d62-a409-da76097f0b60');\n",
              "          const dataTable =\n",
              "            await google.colab.kernel.invokeFunction('convertToInteractive',\n",
              "                                                     [key], {});\n",
              "          if (!dataTable) return;\n",
              "\n",
              "          const docLinkHtml = 'Like what you see? Visit the ' +\n",
              "            '<a target=\"_blank\" href=https://colab.research.google.com/notebooks/data_table.ipynb>data table notebook</a>'\n",
              "            + ' to learn more about interactive tables.';\n",
              "          element.innerHTML = '';\n",
              "          dataTable['output_type'] = 'display_data';\n",
              "          await google.colab.output.renderOutput(dataTable, element);\n",
              "          const docLink = document.createElement('div');\n",
              "          docLink.innerHTML = docLinkHtml;\n",
              "          element.appendChild(docLink);\n",
              "        }\n",
              "      </script>\n",
              "    </div>\n",
              "  </div>\n",
              "  "
            ]
          },
          "metadata": {},
          "execution_count": 7
        }
      ]
    },
    {
      "cell_type": "markdown",
      "metadata": {
        "id": "YQGe1DIKdiUM"
      },
      "source": [
        "### Find and Remove NaN values in Ratings\n",
        "\n",
        "**Challenge**: How may rows have a NaN value (not-a-number) in the Ratings column? Create DataFrame called `df_apps_clean` that does not include these rows. "
      ]
    },
    {
      "cell_type": "code",
      "metadata": {
        "id": "grcP1IOZn1Wv",
        "colab": {
          "base_uri": "https://localhost:8080/"
        },
        "outputId": "27254b23-dd9b-4e0c-f156-c83615d43ab8"
      },
      "source": [
        "df_apps.Rating.isna().values.sum()"
      ],
      "execution_count": 8,
      "outputs": [
        {
          "output_type": "execute_result",
          "data": {
            "text/plain": [
              "1474"
            ]
          },
          "metadata": {},
          "execution_count": 8
        }
      ]
    },
    {
      "cell_type": "code",
      "source": [
        "nan_rows = df_apps[df_apps.Rating.isna()]"
      ],
      "metadata": {
        "id": "250DKsPDqEBu"
      },
      "execution_count": 9,
      "outputs": []
    },
    {
      "cell_type": "code",
      "source": [
        "nan_rows.shape"
      ],
      "metadata": {
        "colab": {
          "base_uri": "https://localhost:8080/"
        },
        "id": "9wwDrZ73qLlO",
        "outputId": "dfd4078d-27a1-4a32-aae2-78857db46dde"
      },
      "execution_count": 10,
      "outputs": [
        {
          "output_type": "execute_result",
          "data": {
            "text/plain": [
              "(1474, 10)"
            ]
          },
          "metadata": {},
          "execution_count": 10
        }
      ]
    },
    {
      "cell_type": "code",
      "metadata": {
        "id": "IbQnnPaUn1Pw"
      },
      "source": [
        "df_apps_clean = df_apps.dropna()"
      ],
      "execution_count": 11,
      "outputs": []
    },
    {
      "cell_type": "code",
      "source": [
        "df_apps_clean.head()"
      ],
      "metadata": {
        "colab": {
          "base_uri": "https://localhost:8080/",
          "height": 285
        },
        "id": "xHRUwXzOnU1Z",
        "outputId": "7d0f5b98-c6b1-4f74-a853-20aedafe2a0f"
      },
      "execution_count": 12,
      "outputs": [
        {
          "output_type": "execute_result",
          "data": {
            "text/plain": [
              "                                                App Category  Rating  Reviews  \\\n",
              "21                              KBA-EZ Health Guide  MEDICAL    5.00        4   \n",
              "28                                         Ra Ga Ba     GAME    5.00        2   \n",
              "47                                          Mu.F.O.     GAME    5.00        2   \n",
              "82                                 Brick Breaker BR     GAME    5.00        7   \n",
              "99  Anatomy & Physiology Vocabulary Exam Review App  MEDICAL    5.00        1   \n",
              "\n",
              "    Size_MBs Installs  Type  Price Content_Rating   Genres  \n",
              "21     25.00        1  Free      0       Everyone  Medical  \n",
              "28     20.00        1  Paid  $1.49       Everyone   Arcade  \n",
              "47     16.00        1  Paid  $0.99       Everyone   Arcade  \n",
              "82     19.00        5  Free      0       Everyone   Arcade  \n",
              "99      4.60        5  Free      0       Everyone  Medical  "
            ],
            "text/html": [
              "\n",
              "  <div id=\"df-9f1d2cc0-1910-44fc-b9aa-07ddcf15906d\">\n",
              "    <div class=\"colab-df-container\">\n",
              "      <div>\n",
              "<style scoped>\n",
              "    .dataframe tbody tr th:only-of-type {\n",
              "        vertical-align: middle;\n",
              "    }\n",
              "\n",
              "    .dataframe tbody tr th {\n",
              "        vertical-align: top;\n",
              "    }\n",
              "\n",
              "    .dataframe thead th {\n",
              "        text-align: right;\n",
              "    }\n",
              "</style>\n",
              "<table border=\"1\" class=\"dataframe\">\n",
              "  <thead>\n",
              "    <tr style=\"text-align: right;\">\n",
              "      <th></th>\n",
              "      <th>App</th>\n",
              "      <th>Category</th>\n",
              "      <th>Rating</th>\n",
              "      <th>Reviews</th>\n",
              "      <th>Size_MBs</th>\n",
              "      <th>Installs</th>\n",
              "      <th>Type</th>\n",
              "      <th>Price</th>\n",
              "      <th>Content_Rating</th>\n",
              "      <th>Genres</th>\n",
              "    </tr>\n",
              "  </thead>\n",
              "  <tbody>\n",
              "    <tr>\n",
              "      <th>21</th>\n",
              "      <td>KBA-EZ Health Guide</td>\n",
              "      <td>MEDICAL</td>\n",
              "      <td>5.00</td>\n",
              "      <td>4</td>\n",
              "      <td>25.00</td>\n",
              "      <td>1</td>\n",
              "      <td>Free</td>\n",
              "      <td>0</td>\n",
              "      <td>Everyone</td>\n",
              "      <td>Medical</td>\n",
              "    </tr>\n",
              "    <tr>\n",
              "      <th>28</th>\n",
              "      <td>Ra Ga Ba</td>\n",
              "      <td>GAME</td>\n",
              "      <td>5.00</td>\n",
              "      <td>2</td>\n",
              "      <td>20.00</td>\n",
              "      <td>1</td>\n",
              "      <td>Paid</td>\n",
              "      <td>$1.49</td>\n",
              "      <td>Everyone</td>\n",
              "      <td>Arcade</td>\n",
              "    </tr>\n",
              "    <tr>\n",
              "      <th>47</th>\n",
              "      <td>Mu.F.O.</td>\n",
              "      <td>GAME</td>\n",
              "      <td>5.00</td>\n",
              "      <td>2</td>\n",
              "      <td>16.00</td>\n",
              "      <td>1</td>\n",
              "      <td>Paid</td>\n",
              "      <td>$0.99</td>\n",
              "      <td>Everyone</td>\n",
              "      <td>Arcade</td>\n",
              "    </tr>\n",
              "    <tr>\n",
              "      <th>82</th>\n",
              "      <td>Brick Breaker BR</td>\n",
              "      <td>GAME</td>\n",
              "      <td>5.00</td>\n",
              "      <td>7</td>\n",
              "      <td>19.00</td>\n",
              "      <td>5</td>\n",
              "      <td>Free</td>\n",
              "      <td>0</td>\n",
              "      <td>Everyone</td>\n",
              "      <td>Arcade</td>\n",
              "    </tr>\n",
              "    <tr>\n",
              "      <th>99</th>\n",
              "      <td>Anatomy &amp; Physiology Vocabulary Exam Review App</td>\n",
              "      <td>MEDICAL</td>\n",
              "      <td>5.00</td>\n",
              "      <td>1</td>\n",
              "      <td>4.60</td>\n",
              "      <td>5</td>\n",
              "      <td>Free</td>\n",
              "      <td>0</td>\n",
              "      <td>Everyone</td>\n",
              "      <td>Medical</td>\n",
              "    </tr>\n",
              "  </tbody>\n",
              "</table>\n",
              "</div>\n",
              "      <button class=\"colab-df-convert\" onclick=\"convertToInteractive('df-9f1d2cc0-1910-44fc-b9aa-07ddcf15906d')\"\n",
              "              title=\"Convert this dataframe to an interactive table.\"\n",
              "              style=\"display:none;\">\n",
              "        \n",
              "  <svg xmlns=\"http://www.w3.org/2000/svg\" height=\"24px\"viewBox=\"0 0 24 24\"\n",
              "       width=\"24px\">\n",
              "    <path d=\"M0 0h24v24H0V0z\" fill=\"none\"/>\n",
              "    <path d=\"M18.56 5.44l.94 2.06.94-2.06 2.06-.94-2.06-.94-.94-2.06-.94 2.06-2.06.94zm-11 1L8.5 8.5l.94-2.06 2.06-.94-2.06-.94L8.5 2.5l-.94 2.06-2.06.94zm10 10l.94 2.06.94-2.06 2.06-.94-2.06-.94-.94-2.06-.94 2.06-2.06.94z\"/><path d=\"M17.41 7.96l-1.37-1.37c-.4-.4-.92-.59-1.43-.59-.52 0-1.04.2-1.43.59L10.3 9.45l-7.72 7.72c-.78.78-.78 2.05 0 2.83L4 21.41c.39.39.9.59 1.41.59.51 0 1.02-.2 1.41-.59l7.78-7.78 2.81-2.81c.8-.78.8-2.07 0-2.86zM5.41 20L4 18.59l7.72-7.72 1.47 1.35L5.41 20z\"/>\n",
              "  </svg>\n",
              "      </button>\n",
              "      \n",
              "  <style>\n",
              "    .colab-df-container {\n",
              "      display:flex;\n",
              "      flex-wrap:wrap;\n",
              "      gap: 12px;\n",
              "    }\n",
              "\n",
              "    .colab-df-convert {\n",
              "      background-color: #E8F0FE;\n",
              "      border: none;\n",
              "      border-radius: 50%;\n",
              "      cursor: pointer;\n",
              "      display: none;\n",
              "      fill: #1967D2;\n",
              "      height: 32px;\n",
              "      padding: 0 0 0 0;\n",
              "      width: 32px;\n",
              "    }\n",
              "\n",
              "    .colab-df-convert:hover {\n",
              "      background-color: #E2EBFA;\n",
              "      box-shadow: 0px 1px 2px rgba(60, 64, 67, 0.3), 0px 1px 3px 1px rgba(60, 64, 67, 0.15);\n",
              "      fill: #174EA6;\n",
              "    }\n",
              "\n",
              "    [theme=dark] .colab-df-convert {\n",
              "      background-color: #3B4455;\n",
              "      fill: #D2E3FC;\n",
              "    }\n",
              "\n",
              "    [theme=dark] .colab-df-convert:hover {\n",
              "      background-color: #434B5C;\n",
              "      box-shadow: 0px 1px 3px 1px rgba(0, 0, 0, 0.15);\n",
              "      filter: drop-shadow(0px 1px 2px rgba(0, 0, 0, 0.3));\n",
              "      fill: #FFFFFF;\n",
              "    }\n",
              "  </style>\n",
              "\n",
              "      <script>\n",
              "        const buttonEl =\n",
              "          document.querySelector('#df-9f1d2cc0-1910-44fc-b9aa-07ddcf15906d button.colab-df-convert');\n",
              "        buttonEl.style.display =\n",
              "          google.colab.kernel.accessAllowed ? 'block' : 'none';\n",
              "\n",
              "        async function convertToInteractive(key) {\n",
              "          const element = document.querySelector('#df-9f1d2cc0-1910-44fc-b9aa-07ddcf15906d');\n",
              "          const dataTable =\n",
              "            await google.colab.kernel.invokeFunction('convertToInteractive',\n",
              "                                                     [key], {});\n",
              "          if (!dataTable) return;\n",
              "\n",
              "          const docLinkHtml = 'Like what you see? Visit the ' +\n",
              "            '<a target=\"_blank\" href=https://colab.research.google.com/notebooks/data_table.ipynb>data table notebook</a>'\n",
              "            + ' to learn more about interactive tables.';\n",
              "          element.innerHTML = '';\n",
              "          dataTable['output_type'] = 'display_data';\n",
              "          await google.colab.output.renderOutput(dataTable, element);\n",
              "          const docLink = document.createElement('div');\n",
              "          docLink.innerHTML = docLinkHtml;\n",
              "          element.appendChild(docLink);\n",
              "        }\n",
              "      </script>\n",
              "    </div>\n",
              "  </div>\n",
              "  "
            ]
          },
          "metadata": {},
          "execution_count": 12
        }
      ]
    },
    {
      "cell_type": "code",
      "source": [
        "df_apps_clean.shape"
      ],
      "metadata": {
        "colab": {
          "base_uri": "https://localhost:8080/"
        },
        "id": "itgzfKon2FQx",
        "outputId": "e86450cb-1f54-4af9-aed5-6026e166e52b"
      },
      "execution_count": 13,
      "outputs": [
        {
          "output_type": "execute_result",
          "data": {
            "text/plain": [
              "(9367, 10)"
            ]
          },
          "metadata": {},
          "execution_count": 13
        }
      ]
    },
    {
      "cell_type": "markdown",
      "metadata": {
        "id": "pD26SWlxdiUV"
      },
      "source": [
        "### Find and Remove Duplicates\n",
        "\n",
        "**Challenge**: Are there any duplicates in data? Check for duplicates using the [.duplicated()](https://pandas.pydata.org/pandas-docs/stable/reference/api/pandas.DataFrame.duplicated.html) function. How many entries can you find for the \"Instagram\" app? Use [.drop_duplicates()](https://pandas.pydata.org/pandas-docs/stable/reference/api/pandas.DataFrame.drop_duplicates.html) to remove any duplicates from `df_apps_clean`. \n"
      ]
    },
    {
      "cell_type": "code",
      "metadata": {
        "id": "lE7X6KG3n5pR"
      },
      "source": [
        "duplicated_rows = df_apps_clean[df_apps_clean.duplicated()]"
      ],
      "execution_count": 14,
      "outputs": []
    },
    {
      "cell_type": "code",
      "metadata": {
        "id": "GK2rP7wgn53-",
        "colab": {
          "base_uri": "https://localhost:8080/"
        },
        "outputId": "16aa4450-47c1-4aef-d11a-e7568c74d211"
      },
      "source": [
        "duplicated_rows.shape"
      ],
      "execution_count": 15,
      "outputs": [
        {
          "output_type": "execute_result",
          "data": {
            "text/plain": [
              "(476, 10)"
            ]
          },
          "metadata": {},
          "execution_count": 15
        }
      ]
    },
    {
      "cell_type": "code",
      "metadata": {
        "id": "Wtt09kiRn6GS",
        "colab": {
          "base_uri": "https://localhost:8080/",
          "height": 285
        },
        "outputId": "18d7e6c3-a237-49a4-9ed6-62d5a7d6cf65"
      },
      "source": [
        "duplicated_rows.head()"
      ],
      "execution_count": 16,
      "outputs": [
        {
          "output_type": "execute_result",
          "data": {
            "text/plain": [
              "                                             App Category  Rating  Reviews  \\\n",
              "946                       420 BZ Budeze Delivery  MEDICAL    5.00        2   \n",
              "1133                                 MouseMingle   DATING    2.70        3   \n",
              "1196  Cardiac diagnosis (heart rate, arrhythmia)  MEDICAL    4.40        8   \n",
              "1231                                Sway Medical  MEDICAL    5.00        3   \n",
              "1247              Chat Kids - Chat Room For Kids   DATING    4.70        6   \n",
              "\n",
              "      Size_MBs Installs  Type   Price Content_Rating   Genres  \n",
              "946      11.00      100  Free       0     Mature 17+  Medical  \n",
              "1133      3.90      100  Free       0     Mature 17+   Dating  \n",
              "1196      6.50      100  Paid  $12.99       Everyone  Medical  \n",
              "1231     22.00      100  Free       0       Everyone  Medical  \n",
              "1247      4.90      100  Free       0     Mature 17+   Dating  "
            ],
            "text/html": [
              "\n",
              "  <div id=\"df-6184bf36-ea83-47b1-8a61-629757819025\">\n",
              "    <div class=\"colab-df-container\">\n",
              "      <div>\n",
              "<style scoped>\n",
              "    .dataframe tbody tr th:only-of-type {\n",
              "        vertical-align: middle;\n",
              "    }\n",
              "\n",
              "    .dataframe tbody tr th {\n",
              "        vertical-align: top;\n",
              "    }\n",
              "\n",
              "    .dataframe thead th {\n",
              "        text-align: right;\n",
              "    }\n",
              "</style>\n",
              "<table border=\"1\" class=\"dataframe\">\n",
              "  <thead>\n",
              "    <tr style=\"text-align: right;\">\n",
              "      <th></th>\n",
              "      <th>App</th>\n",
              "      <th>Category</th>\n",
              "      <th>Rating</th>\n",
              "      <th>Reviews</th>\n",
              "      <th>Size_MBs</th>\n",
              "      <th>Installs</th>\n",
              "      <th>Type</th>\n",
              "      <th>Price</th>\n",
              "      <th>Content_Rating</th>\n",
              "      <th>Genres</th>\n",
              "    </tr>\n",
              "  </thead>\n",
              "  <tbody>\n",
              "    <tr>\n",
              "      <th>946</th>\n",
              "      <td>420 BZ Budeze Delivery</td>\n",
              "      <td>MEDICAL</td>\n",
              "      <td>5.00</td>\n",
              "      <td>2</td>\n",
              "      <td>11.00</td>\n",
              "      <td>100</td>\n",
              "      <td>Free</td>\n",
              "      <td>0</td>\n",
              "      <td>Mature 17+</td>\n",
              "      <td>Medical</td>\n",
              "    </tr>\n",
              "    <tr>\n",
              "      <th>1133</th>\n",
              "      <td>MouseMingle</td>\n",
              "      <td>DATING</td>\n",
              "      <td>2.70</td>\n",
              "      <td>3</td>\n",
              "      <td>3.90</td>\n",
              "      <td>100</td>\n",
              "      <td>Free</td>\n",
              "      <td>0</td>\n",
              "      <td>Mature 17+</td>\n",
              "      <td>Dating</td>\n",
              "    </tr>\n",
              "    <tr>\n",
              "      <th>1196</th>\n",
              "      <td>Cardiac diagnosis (heart rate, arrhythmia)</td>\n",
              "      <td>MEDICAL</td>\n",
              "      <td>4.40</td>\n",
              "      <td>8</td>\n",
              "      <td>6.50</td>\n",
              "      <td>100</td>\n",
              "      <td>Paid</td>\n",
              "      <td>$12.99</td>\n",
              "      <td>Everyone</td>\n",
              "      <td>Medical</td>\n",
              "    </tr>\n",
              "    <tr>\n",
              "      <th>1231</th>\n",
              "      <td>Sway Medical</td>\n",
              "      <td>MEDICAL</td>\n",
              "      <td>5.00</td>\n",
              "      <td>3</td>\n",
              "      <td>22.00</td>\n",
              "      <td>100</td>\n",
              "      <td>Free</td>\n",
              "      <td>0</td>\n",
              "      <td>Everyone</td>\n",
              "      <td>Medical</td>\n",
              "    </tr>\n",
              "    <tr>\n",
              "      <th>1247</th>\n",
              "      <td>Chat Kids - Chat Room For Kids</td>\n",
              "      <td>DATING</td>\n",
              "      <td>4.70</td>\n",
              "      <td>6</td>\n",
              "      <td>4.90</td>\n",
              "      <td>100</td>\n",
              "      <td>Free</td>\n",
              "      <td>0</td>\n",
              "      <td>Mature 17+</td>\n",
              "      <td>Dating</td>\n",
              "    </tr>\n",
              "  </tbody>\n",
              "</table>\n",
              "</div>\n",
              "      <button class=\"colab-df-convert\" onclick=\"convertToInteractive('df-6184bf36-ea83-47b1-8a61-629757819025')\"\n",
              "              title=\"Convert this dataframe to an interactive table.\"\n",
              "              style=\"display:none;\">\n",
              "        \n",
              "  <svg xmlns=\"http://www.w3.org/2000/svg\" height=\"24px\"viewBox=\"0 0 24 24\"\n",
              "       width=\"24px\">\n",
              "    <path d=\"M0 0h24v24H0V0z\" fill=\"none\"/>\n",
              "    <path d=\"M18.56 5.44l.94 2.06.94-2.06 2.06-.94-2.06-.94-.94-2.06-.94 2.06-2.06.94zm-11 1L8.5 8.5l.94-2.06 2.06-.94-2.06-.94L8.5 2.5l-.94 2.06-2.06.94zm10 10l.94 2.06.94-2.06 2.06-.94-2.06-.94-.94-2.06-.94 2.06-2.06.94z\"/><path d=\"M17.41 7.96l-1.37-1.37c-.4-.4-.92-.59-1.43-.59-.52 0-1.04.2-1.43.59L10.3 9.45l-7.72 7.72c-.78.78-.78 2.05 0 2.83L4 21.41c.39.39.9.59 1.41.59.51 0 1.02-.2 1.41-.59l7.78-7.78 2.81-2.81c.8-.78.8-2.07 0-2.86zM5.41 20L4 18.59l7.72-7.72 1.47 1.35L5.41 20z\"/>\n",
              "  </svg>\n",
              "      </button>\n",
              "      \n",
              "  <style>\n",
              "    .colab-df-container {\n",
              "      display:flex;\n",
              "      flex-wrap:wrap;\n",
              "      gap: 12px;\n",
              "    }\n",
              "\n",
              "    .colab-df-convert {\n",
              "      background-color: #E8F0FE;\n",
              "      border: none;\n",
              "      border-radius: 50%;\n",
              "      cursor: pointer;\n",
              "      display: none;\n",
              "      fill: #1967D2;\n",
              "      height: 32px;\n",
              "      padding: 0 0 0 0;\n",
              "      width: 32px;\n",
              "    }\n",
              "\n",
              "    .colab-df-convert:hover {\n",
              "      background-color: #E2EBFA;\n",
              "      box-shadow: 0px 1px 2px rgba(60, 64, 67, 0.3), 0px 1px 3px 1px rgba(60, 64, 67, 0.15);\n",
              "      fill: #174EA6;\n",
              "    }\n",
              "\n",
              "    [theme=dark] .colab-df-convert {\n",
              "      background-color: #3B4455;\n",
              "      fill: #D2E3FC;\n",
              "    }\n",
              "\n",
              "    [theme=dark] .colab-df-convert:hover {\n",
              "      background-color: #434B5C;\n",
              "      box-shadow: 0px 1px 3px 1px rgba(0, 0, 0, 0.15);\n",
              "      filter: drop-shadow(0px 1px 2px rgba(0, 0, 0, 0.3));\n",
              "      fill: #FFFFFF;\n",
              "    }\n",
              "  </style>\n",
              "\n",
              "      <script>\n",
              "        const buttonEl =\n",
              "          document.querySelector('#df-6184bf36-ea83-47b1-8a61-629757819025 button.colab-df-convert');\n",
              "        buttonEl.style.display =\n",
              "          google.colab.kernel.accessAllowed ? 'block' : 'none';\n",
              "\n",
              "        async function convertToInteractive(key) {\n",
              "          const element = document.querySelector('#df-6184bf36-ea83-47b1-8a61-629757819025');\n",
              "          const dataTable =\n",
              "            await google.colab.kernel.invokeFunction('convertToInteractive',\n",
              "                                                     [key], {});\n",
              "          if (!dataTable) return;\n",
              "\n",
              "          const docLinkHtml = 'Like what you see? Visit the ' +\n",
              "            '<a target=\"_blank\" href=https://colab.research.google.com/notebooks/data_table.ipynb>data table notebook</a>'\n",
              "            + ' to learn more about interactive tables.';\n",
              "          element.innerHTML = '';\n",
              "          dataTable['output_type'] = 'display_data';\n",
              "          await google.colab.output.renderOutput(dataTable, element);\n",
              "          const docLink = document.createElement('div');\n",
              "          docLink.innerHTML = docLinkHtml;\n",
              "          element.appendChild(docLink);\n",
              "        }\n",
              "      </script>\n",
              "    </div>\n",
              "  </div>\n",
              "  "
            ]
          },
          "metadata": {},
          "execution_count": 16
        }
      ]
    },
    {
      "cell_type": "code",
      "metadata": {
        "id": "30yZCwtKn5xC",
        "colab": {
          "base_uri": "https://localhost:8080/",
          "height": 112
        },
        "outputId": "1873befa-9017-4e27-d685-e068b2d4e70b"
      },
      "source": [
        "df_apps_clean[df_apps_clean.App == 'MouseMingle']"
      ],
      "execution_count": 17,
      "outputs": [
        {
          "output_type": "execute_result",
          "data": {
            "text/plain": [
              "              App Category  Rating  Reviews  Size_MBs Installs  Type Price  \\\n",
              "1132  MouseMingle   DATING    2.70        3      3.90      100  Free     0   \n",
              "1133  MouseMingle   DATING    2.70        3      3.90      100  Free     0   \n",
              "\n",
              "     Content_Rating  Genres  \n",
              "1132     Mature 17+  Dating  \n",
              "1133     Mature 17+  Dating  "
            ],
            "text/html": [
              "\n",
              "  <div id=\"df-55a05309-4ce9-4f4f-9f7c-69d9b2f3433f\">\n",
              "    <div class=\"colab-df-container\">\n",
              "      <div>\n",
              "<style scoped>\n",
              "    .dataframe tbody tr th:only-of-type {\n",
              "        vertical-align: middle;\n",
              "    }\n",
              "\n",
              "    .dataframe tbody tr th {\n",
              "        vertical-align: top;\n",
              "    }\n",
              "\n",
              "    .dataframe thead th {\n",
              "        text-align: right;\n",
              "    }\n",
              "</style>\n",
              "<table border=\"1\" class=\"dataframe\">\n",
              "  <thead>\n",
              "    <tr style=\"text-align: right;\">\n",
              "      <th></th>\n",
              "      <th>App</th>\n",
              "      <th>Category</th>\n",
              "      <th>Rating</th>\n",
              "      <th>Reviews</th>\n",
              "      <th>Size_MBs</th>\n",
              "      <th>Installs</th>\n",
              "      <th>Type</th>\n",
              "      <th>Price</th>\n",
              "      <th>Content_Rating</th>\n",
              "      <th>Genres</th>\n",
              "    </tr>\n",
              "  </thead>\n",
              "  <tbody>\n",
              "    <tr>\n",
              "      <th>1132</th>\n",
              "      <td>MouseMingle</td>\n",
              "      <td>DATING</td>\n",
              "      <td>2.70</td>\n",
              "      <td>3</td>\n",
              "      <td>3.90</td>\n",
              "      <td>100</td>\n",
              "      <td>Free</td>\n",
              "      <td>0</td>\n",
              "      <td>Mature 17+</td>\n",
              "      <td>Dating</td>\n",
              "    </tr>\n",
              "    <tr>\n",
              "      <th>1133</th>\n",
              "      <td>MouseMingle</td>\n",
              "      <td>DATING</td>\n",
              "      <td>2.70</td>\n",
              "      <td>3</td>\n",
              "      <td>3.90</td>\n",
              "      <td>100</td>\n",
              "      <td>Free</td>\n",
              "      <td>0</td>\n",
              "      <td>Mature 17+</td>\n",
              "      <td>Dating</td>\n",
              "    </tr>\n",
              "  </tbody>\n",
              "</table>\n",
              "</div>\n",
              "      <button class=\"colab-df-convert\" onclick=\"convertToInteractive('df-55a05309-4ce9-4f4f-9f7c-69d9b2f3433f')\"\n",
              "              title=\"Convert this dataframe to an interactive table.\"\n",
              "              style=\"display:none;\">\n",
              "        \n",
              "  <svg xmlns=\"http://www.w3.org/2000/svg\" height=\"24px\"viewBox=\"0 0 24 24\"\n",
              "       width=\"24px\">\n",
              "    <path d=\"M0 0h24v24H0V0z\" fill=\"none\"/>\n",
              "    <path d=\"M18.56 5.44l.94 2.06.94-2.06 2.06-.94-2.06-.94-.94-2.06-.94 2.06-2.06.94zm-11 1L8.5 8.5l.94-2.06 2.06-.94-2.06-.94L8.5 2.5l-.94 2.06-2.06.94zm10 10l.94 2.06.94-2.06 2.06-.94-2.06-.94-.94-2.06-.94 2.06-2.06.94z\"/><path d=\"M17.41 7.96l-1.37-1.37c-.4-.4-.92-.59-1.43-.59-.52 0-1.04.2-1.43.59L10.3 9.45l-7.72 7.72c-.78.78-.78 2.05 0 2.83L4 21.41c.39.39.9.59 1.41.59.51 0 1.02-.2 1.41-.59l7.78-7.78 2.81-2.81c.8-.78.8-2.07 0-2.86zM5.41 20L4 18.59l7.72-7.72 1.47 1.35L5.41 20z\"/>\n",
              "  </svg>\n",
              "      </button>\n",
              "      \n",
              "  <style>\n",
              "    .colab-df-container {\n",
              "      display:flex;\n",
              "      flex-wrap:wrap;\n",
              "      gap: 12px;\n",
              "    }\n",
              "\n",
              "    .colab-df-convert {\n",
              "      background-color: #E8F0FE;\n",
              "      border: none;\n",
              "      border-radius: 50%;\n",
              "      cursor: pointer;\n",
              "      display: none;\n",
              "      fill: #1967D2;\n",
              "      height: 32px;\n",
              "      padding: 0 0 0 0;\n",
              "      width: 32px;\n",
              "    }\n",
              "\n",
              "    .colab-df-convert:hover {\n",
              "      background-color: #E2EBFA;\n",
              "      box-shadow: 0px 1px 2px rgba(60, 64, 67, 0.3), 0px 1px 3px 1px rgba(60, 64, 67, 0.15);\n",
              "      fill: #174EA6;\n",
              "    }\n",
              "\n",
              "    [theme=dark] .colab-df-convert {\n",
              "      background-color: #3B4455;\n",
              "      fill: #D2E3FC;\n",
              "    }\n",
              "\n",
              "    [theme=dark] .colab-df-convert:hover {\n",
              "      background-color: #434B5C;\n",
              "      box-shadow: 0px 1px 3px 1px rgba(0, 0, 0, 0.15);\n",
              "      filter: drop-shadow(0px 1px 2px rgba(0, 0, 0, 0.3));\n",
              "      fill: #FFFFFF;\n",
              "    }\n",
              "  </style>\n",
              "\n",
              "      <script>\n",
              "        const buttonEl =\n",
              "          document.querySelector('#df-55a05309-4ce9-4f4f-9f7c-69d9b2f3433f button.colab-df-convert');\n",
              "        buttonEl.style.display =\n",
              "          google.colab.kernel.accessAllowed ? 'block' : 'none';\n",
              "\n",
              "        async function convertToInteractive(key) {\n",
              "          const element = document.querySelector('#df-55a05309-4ce9-4f4f-9f7c-69d9b2f3433f');\n",
              "          const dataTable =\n",
              "            await google.colab.kernel.invokeFunction('convertToInteractive',\n",
              "                                                     [key], {});\n",
              "          if (!dataTable) return;\n",
              "\n",
              "          const docLinkHtml = 'Like what you see? Visit the ' +\n",
              "            '<a target=\"_blank\" href=https://colab.research.google.com/notebooks/data_table.ipynb>data table notebook</a>'\n",
              "            + ' to learn more about interactive tables.';\n",
              "          element.innerHTML = '';\n",
              "          dataTable['output_type'] = 'display_data';\n",
              "          await google.colab.output.renderOutput(dataTable, element);\n",
              "          const docLink = document.createElement('div');\n",
              "          docLink.innerHTML = docLinkHtml;\n",
              "          element.appendChild(docLink);\n",
              "        }\n",
              "      </script>\n",
              "    </div>\n",
              "  </div>\n",
              "  "
            ]
          },
          "metadata": {},
          "execution_count": 17
        }
      ]
    },
    {
      "cell_type": "code",
      "metadata": {
        "id": "AagS_wgWn5ib"
      },
      "source": [
        "df_apps_clean = df_apps_clean.drop_duplicates(subset=['App','Type','Price'])"
      ],
      "execution_count": 18,
      "outputs": []
    },
    {
      "cell_type": "code",
      "source": [
        "df_apps_clean.shape"
      ],
      "metadata": {
        "colab": {
          "base_uri": "https://localhost:8080/"
        },
        "id": "f4cysHGy3CQd",
        "outputId": "2154bf19-1408-40f6-9f2b-613a8330048c"
      },
      "execution_count": 19,
      "outputs": [
        {
          "output_type": "execute_result",
          "data": {
            "text/plain": [
              "(8199, 10)"
            ]
          },
          "metadata": {},
          "execution_count": 19
        }
      ]
    },
    {
      "cell_type": "markdown",
      "metadata": {
        "id": "GJrM69CfdiUh"
      },
      "source": [
        "# Find Highest Rated Apps\n",
        "\n",
        "**Challenge**: Identify which apps are the highest rated. What problem might you encounter if you rely exclusively on ratings alone to determine the quality of an app?"
      ]
    },
    {
      "cell_type": "code",
      "metadata": {
        "id": "rp7vFHBMn7st",
        "colab": {
          "base_uri": "https://localhost:8080/",
          "height": 337
        },
        "outputId": "fcfc01e9-6721-43b3-b91f-674a7b44493c"
      },
      "source": [
        "df_apps_clean.sort_values('Rating', ascending=False).head()"
      ],
      "execution_count": 20,
      "outputs": [
        {
          "output_type": "execute_result",
          "data": {
            "text/plain": [
              "                      App     Category  Rating  Reviews  Size_MBs Installs  \\\n",
              "21    KBA-EZ Health Guide      MEDICAL    5.00        4     25.00        1   \n",
              "1230         Sway Medical      MEDICAL    5.00        3     22.00      100   \n",
              "1227    AJ Men's Grooming    LIFESTYLE    5.00        2     22.00      100   \n",
              "1224       FK Dedinje BGD       SPORTS    5.00       36      2.60      100   \n",
              "1223      CB VIDEO VISION  PHOTOGRAPHY    5.00       13      2.60      100   \n",
              "\n",
              "      Type Price Content_Rating       Genres  \n",
              "21    Free     0       Everyone      Medical  \n",
              "1230  Free     0       Everyone      Medical  \n",
              "1227  Free     0       Everyone    Lifestyle  \n",
              "1224  Free     0       Everyone       Sports  \n",
              "1223  Free     0       Everyone  Photography  "
            ],
            "text/html": [
              "\n",
              "  <div id=\"df-2c693af1-7f7e-457e-9325-314e40f0adc8\">\n",
              "    <div class=\"colab-df-container\">\n",
              "      <div>\n",
              "<style scoped>\n",
              "    .dataframe tbody tr th:only-of-type {\n",
              "        vertical-align: middle;\n",
              "    }\n",
              "\n",
              "    .dataframe tbody tr th {\n",
              "        vertical-align: top;\n",
              "    }\n",
              "\n",
              "    .dataframe thead th {\n",
              "        text-align: right;\n",
              "    }\n",
              "</style>\n",
              "<table border=\"1\" class=\"dataframe\">\n",
              "  <thead>\n",
              "    <tr style=\"text-align: right;\">\n",
              "      <th></th>\n",
              "      <th>App</th>\n",
              "      <th>Category</th>\n",
              "      <th>Rating</th>\n",
              "      <th>Reviews</th>\n",
              "      <th>Size_MBs</th>\n",
              "      <th>Installs</th>\n",
              "      <th>Type</th>\n",
              "      <th>Price</th>\n",
              "      <th>Content_Rating</th>\n",
              "      <th>Genres</th>\n",
              "    </tr>\n",
              "  </thead>\n",
              "  <tbody>\n",
              "    <tr>\n",
              "      <th>21</th>\n",
              "      <td>KBA-EZ Health Guide</td>\n",
              "      <td>MEDICAL</td>\n",
              "      <td>5.00</td>\n",
              "      <td>4</td>\n",
              "      <td>25.00</td>\n",
              "      <td>1</td>\n",
              "      <td>Free</td>\n",
              "      <td>0</td>\n",
              "      <td>Everyone</td>\n",
              "      <td>Medical</td>\n",
              "    </tr>\n",
              "    <tr>\n",
              "      <th>1230</th>\n",
              "      <td>Sway Medical</td>\n",
              "      <td>MEDICAL</td>\n",
              "      <td>5.00</td>\n",
              "      <td>3</td>\n",
              "      <td>22.00</td>\n",
              "      <td>100</td>\n",
              "      <td>Free</td>\n",
              "      <td>0</td>\n",
              "      <td>Everyone</td>\n",
              "      <td>Medical</td>\n",
              "    </tr>\n",
              "    <tr>\n",
              "      <th>1227</th>\n",
              "      <td>AJ Men's Grooming</td>\n",
              "      <td>LIFESTYLE</td>\n",
              "      <td>5.00</td>\n",
              "      <td>2</td>\n",
              "      <td>22.00</td>\n",
              "      <td>100</td>\n",
              "      <td>Free</td>\n",
              "      <td>0</td>\n",
              "      <td>Everyone</td>\n",
              "      <td>Lifestyle</td>\n",
              "    </tr>\n",
              "    <tr>\n",
              "      <th>1224</th>\n",
              "      <td>FK Dedinje BGD</td>\n",
              "      <td>SPORTS</td>\n",
              "      <td>5.00</td>\n",
              "      <td>36</td>\n",
              "      <td>2.60</td>\n",
              "      <td>100</td>\n",
              "      <td>Free</td>\n",
              "      <td>0</td>\n",
              "      <td>Everyone</td>\n",
              "      <td>Sports</td>\n",
              "    </tr>\n",
              "    <tr>\n",
              "      <th>1223</th>\n",
              "      <td>CB VIDEO VISION</td>\n",
              "      <td>PHOTOGRAPHY</td>\n",
              "      <td>5.00</td>\n",
              "      <td>13</td>\n",
              "      <td>2.60</td>\n",
              "      <td>100</td>\n",
              "      <td>Free</td>\n",
              "      <td>0</td>\n",
              "      <td>Everyone</td>\n",
              "      <td>Photography</td>\n",
              "    </tr>\n",
              "  </tbody>\n",
              "</table>\n",
              "</div>\n",
              "      <button class=\"colab-df-convert\" onclick=\"convertToInteractive('df-2c693af1-7f7e-457e-9325-314e40f0adc8')\"\n",
              "              title=\"Convert this dataframe to an interactive table.\"\n",
              "              style=\"display:none;\">\n",
              "        \n",
              "  <svg xmlns=\"http://www.w3.org/2000/svg\" height=\"24px\"viewBox=\"0 0 24 24\"\n",
              "       width=\"24px\">\n",
              "    <path d=\"M0 0h24v24H0V0z\" fill=\"none\"/>\n",
              "    <path d=\"M18.56 5.44l.94 2.06.94-2.06 2.06-.94-2.06-.94-.94-2.06-.94 2.06-2.06.94zm-11 1L8.5 8.5l.94-2.06 2.06-.94-2.06-.94L8.5 2.5l-.94 2.06-2.06.94zm10 10l.94 2.06.94-2.06 2.06-.94-2.06-.94-.94-2.06-.94 2.06-2.06.94z\"/><path d=\"M17.41 7.96l-1.37-1.37c-.4-.4-.92-.59-1.43-.59-.52 0-1.04.2-1.43.59L10.3 9.45l-7.72 7.72c-.78.78-.78 2.05 0 2.83L4 21.41c.39.39.9.59 1.41.59.51 0 1.02-.2 1.41-.59l7.78-7.78 2.81-2.81c.8-.78.8-2.07 0-2.86zM5.41 20L4 18.59l7.72-7.72 1.47 1.35L5.41 20z\"/>\n",
              "  </svg>\n",
              "      </button>\n",
              "      \n",
              "  <style>\n",
              "    .colab-df-container {\n",
              "      display:flex;\n",
              "      flex-wrap:wrap;\n",
              "      gap: 12px;\n",
              "    }\n",
              "\n",
              "    .colab-df-convert {\n",
              "      background-color: #E8F0FE;\n",
              "      border: none;\n",
              "      border-radius: 50%;\n",
              "      cursor: pointer;\n",
              "      display: none;\n",
              "      fill: #1967D2;\n",
              "      height: 32px;\n",
              "      padding: 0 0 0 0;\n",
              "      width: 32px;\n",
              "    }\n",
              "\n",
              "    .colab-df-convert:hover {\n",
              "      background-color: #E2EBFA;\n",
              "      box-shadow: 0px 1px 2px rgba(60, 64, 67, 0.3), 0px 1px 3px 1px rgba(60, 64, 67, 0.15);\n",
              "      fill: #174EA6;\n",
              "    }\n",
              "\n",
              "    [theme=dark] .colab-df-convert {\n",
              "      background-color: #3B4455;\n",
              "      fill: #D2E3FC;\n",
              "    }\n",
              "\n",
              "    [theme=dark] .colab-df-convert:hover {\n",
              "      background-color: #434B5C;\n",
              "      box-shadow: 0px 1px 3px 1px rgba(0, 0, 0, 0.15);\n",
              "      filter: drop-shadow(0px 1px 2px rgba(0, 0, 0, 0.3));\n",
              "      fill: #FFFFFF;\n",
              "    }\n",
              "  </style>\n",
              "\n",
              "      <script>\n",
              "        const buttonEl =\n",
              "          document.querySelector('#df-2c693af1-7f7e-457e-9325-314e40f0adc8 button.colab-df-convert');\n",
              "        buttonEl.style.display =\n",
              "          google.colab.kernel.accessAllowed ? 'block' : 'none';\n",
              "\n",
              "        async function convertToInteractive(key) {\n",
              "          const element = document.querySelector('#df-2c693af1-7f7e-457e-9325-314e40f0adc8');\n",
              "          const dataTable =\n",
              "            await google.colab.kernel.invokeFunction('convertToInteractive',\n",
              "                                                     [key], {});\n",
              "          if (!dataTable) return;\n",
              "\n",
              "          const docLinkHtml = 'Like what you see? Visit the ' +\n",
              "            '<a target=\"_blank\" href=https://colab.research.google.com/notebooks/data_table.ipynb>data table notebook</a>'\n",
              "            + ' to learn more about interactive tables.';\n",
              "          element.innerHTML = '';\n",
              "          dataTable['output_type'] = 'display_data';\n",
              "          await google.colab.output.renderOutput(dataTable, element);\n",
              "          const docLink = document.createElement('div');\n",
              "          docLink.innerHTML = docLinkHtml;\n",
              "          element.appendChild(docLink);\n",
              "        }\n",
              "      </script>\n",
              "    </div>\n",
              "  </div>\n",
              "  "
            ]
          },
          "metadata": {},
          "execution_count": 20
        }
      ]
    },
    {
      "cell_type": "markdown",
      "metadata": {
        "id": "28o1Tro4diUi"
      },
      "source": [
        "# Find 5 Largest Apps in terms of Size (MBs)\n",
        "\n",
        "**Challenge**: What's the size in megabytes (MB) of the largest Android apps in the Google Play Store. Based on the data, do you think there could be limit in place or can developers make apps as large as they please? "
      ]
    },
    {
      "cell_type": "code",
      "metadata": {
        "id": "n5r0pJCOn9Vu",
        "colab": {
          "base_uri": "https://localhost:8080/",
          "height": 478
        },
        "outputId": "64600bb7-f678-42a6-9ad0-f76992633c26"
      },
      "source": [
        "df_apps_clean.sort_values('Size_MBs', ascending=False).head()"
      ],
      "execution_count": 21,
      "outputs": [
        {
          "output_type": "execute_result",
          "data": {
            "text/plain": [
              "                                  App            Category  Rating  Reviews  \\\n",
              "9942   Talking Babsy Baby: Baby Games           LIFESTYLE    4.00   140995   \n",
              "10687          Hungry Shark Evolution                GAME    4.50  6074334   \n",
              "9943            Miami crime simulator                GAME    4.00   254518   \n",
              "9944     Gangster Town: Vice District              FAMILY    4.30    65146   \n",
              "3144                       Vi Trainer  HEALTH_AND_FITNESS    3.60      124   \n",
              "\n",
              "       Size_MBs     Installs  Type Price Content_Rating  \\\n",
              "9942     100.00   10,000,000  Free     0       Everyone   \n",
              "10687    100.00  100,000,000  Free     0           Teen   \n",
              "9943     100.00   10,000,000  Free     0     Mature 17+   \n",
              "9944     100.00   10,000,000  Free     0     Mature 17+   \n",
              "3144     100.00        5,000  Free     0       Everyone   \n",
              "\n",
              "                       Genres  \n",
              "9942   Lifestyle;Pretend Play  \n",
              "10687                  Arcade  \n",
              "9943                   Action  \n",
              "9944               Simulation  \n",
              "3144         Health & Fitness  "
            ],
            "text/html": [
              "\n",
              "  <div id=\"df-11924431-7b35-4b45-a9a3-c96f4edd8965\">\n",
              "    <div class=\"colab-df-container\">\n",
              "      <div>\n",
              "<style scoped>\n",
              "    .dataframe tbody tr th:only-of-type {\n",
              "        vertical-align: middle;\n",
              "    }\n",
              "\n",
              "    .dataframe tbody tr th {\n",
              "        vertical-align: top;\n",
              "    }\n",
              "\n",
              "    .dataframe thead th {\n",
              "        text-align: right;\n",
              "    }\n",
              "</style>\n",
              "<table border=\"1\" class=\"dataframe\">\n",
              "  <thead>\n",
              "    <tr style=\"text-align: right;\">\n",
              "      <th></th>\n",
              "      <th>App</th>\n",
              "      <th>Category</th>\n",
              "      <th>Rating</th>\n",
              "      <th>Reviews</th>\n",
              "      <th>Size_MBs</th>\n",
              "      <th>Installs</th>\n",
              "      <th>Type</th>\n",
              "      <th>Price</th>\n",
              "      <th>Content_Rating</th>\n",
              "      <th>Genres</th>\n",
              "    </tr>\n",
              "  </thead>\n",
              "  <tbody>\n",
              "    <tr>\n",
              "      <th>9942</th>\n",
              "      <td>Talking Babsy Baby: Baby Games</td>\n",
              "      <td>LIFESTYLE</td>\n",
              "      <td>4.00</td>\n",
              "      <td>140995</td>\n",
              "      <td>100.00</td>\n",
              "      <td>10,000,000</td>\n",
              "      <td>Free</td>\n",
              "      <td>0</td>\n",
              "      <td>Everyone</td>\n",
              "      <td>Lifestyle;Pretend Play</td>\n",
              "    </tr>\n",
              "    <tr>\n",
              "      <th>10687</th>\n",
              "      <td>Hungry Shark Evolution</td>\n",
              "      <td>GAME</td>\n",
              "      <td>4.50</td>\n",
              "      <td>6074334</td>\n",
              "      <td>100.00</td>\n",
              "      <td>100,000,000</td>\n",
              "      <td>Free</td>\n",
              "      <td>0</td>\n",
              "      <td>Teen</td>\n",
              "      <td>Arcade</td>\n",
              "    </tr>\n",
              "    <tr>\n",
              "      <th>9943</th>\n",
              "      <td>Miami crime simulator</td>\n",
              "      <td>GAME</td>\n",
              "      <td>4.00</td>\n",
              "      <td>254518</td>\n",
              "      <td>100.00</td>\n",
              "      <td>10,000,000</td>\n",
              "      <td>Free</td>\n",
              "      <td>0</td>\n",
              "      <td>Mature 17+</td>\n",
              "      <td>Action</td>\n",
              "    </tr>\n",
              "    <tr>\n",
              "      <th>9944</th>\n",
              "      <td>Gangster Town: Vice District</td>\n",
              "      <td>FAMILY</td>\n",
              "      <td>4.30</td>\n",
              "      <td>65146</td>\n",
              "      <td>100.00</td>\n",
              "      <td>10,000,000</td>\n",
              "      <td>Free</td>\n",
              "      <td>0</td>\n",
              "      <td>Mature 17+</td>\n",
              "      <td>Simulation</td>\n",
              "    </tr>\n",
              "    <tr>\n",
              "      <th>3144</th>\n",
              "      <td>Vi Trainer</td>\n",
              "      <td>HEALTH_AND_FITNESS</td>\n",
              "      <td>3.60</td>\n",
              "      <td>124</td>\n",
              "      <td>100.00</td>\n",
              "      <td>5,000</td>\n",
              "      <td>Free</td>\n",
              "      <td>0</td>\n",
              "      <td>Everyone</td>\n",
              "      <td>Health &amp; Fitness</td>\n",
              "    </tr>\n",
              "  </tbody>\n",
              "</table>\n",
              "</div>\n",
              "      <button class=\"colab-df-convert\" onclick=\"convertToInteractive('df-11924431-7b35-4b45-a9a3-c96f4edd8965')\"\n",
              "              title=\"Convert this dataframe to an interactive table.\"\n",
              "              style=\"display:none;\">\n",
              "        \n",
              "  <svg xmlns=\"http://www.w3.org/2000/svg\" height=\"24px\"viewBox=\"0 0 24 24\"\n",
              "       width=\"24px\">\n",
              "    <path d=\"M0 0h24v24H0V0z\" fill=\"none\"/>\n",
              "    <path d=\"M18.56 5.44l.94 2.06.94-2.06 2.06-.94-2.06-.94-.94-2.06-.94 2.06-2.06.94zm-11 1L8.5 8.5l.94-2.06 2.06-.94-2.06-.94L8.5 2.5l-.94 2.06-2.06.94zm10 10l.94 2.06.94-2.06 2.06-.94-2.06-.94-.94-2.06-.94 2.06-2.06.94z\"/><path d=\"M17.41 7.96l-1.37-1.37c-.4-.4-.92-.59-1.43-.59-.52 0-1.04.2-1.43.59L10.3 9.45l-7.72 7.72c-.78.78-.78 2.05 0 2.83L4 21.41c.39.39.9.59 1.41.59.51 0 1.02-.2 1.41-.59l7.78-7.78 2.81-2.81c.8-.78.8-2.07 0-2.86zM5.41 20L4 18.59l7.72-7.72 1.47 1.35L5.41 20z\"/>\n",
              "  </svg>\n",
              "      </button>\n",
              "      \n",
              "  <style>\n",
              "    .colab-df-container {\n",
              "      display:flex;\n",
              "      flex-wrap:wrap;\n",
              "      gap: 12px;\n",
              "    }\n",
              "\n",
              "    .colab-df-convert {\n",
              "      background-color: #E8F0FE;\n",
              "      border: none;\n",
              "      border-radius: 50%;\n",
              "      cursor: pointer;\n",
              "      display: none;\n",
              "      fill: #1967D2;\n",
              "      height: 32px;\n",
              "      padding: 0 0 0 0;\n",
              "      width: 32px;\n",
              "    }\n",
              "\n",
              "    .colab-df-convert:hover {\n",
              "      background-color: #E2EBFA;\n",
              "      box-shadow: 0px 1px 2px rgba(60, 64, 67, 0.3), 0px 1px 3px 1px rgba(60, 64, 67, 0.15);\n",
              "      fill: #174EA6;\n",
              "    }\n",
              "\n",
              "    [theme=dark] .colab-df-convert {\n",
              "      background-color: #3B4455;\n",
              "      fill: #D2E3FC;\n",
              "    }\n",
              "\n",
              "    [theme=dark] .colab-df-convert:hover {\n",
              "      background-color: #434B5C;\n",
              "      box-shadow: 0px 1px 3px 1px rgba(0, 0, 0, 0.15);\n",
              "      filter: drop-shadow(0px 1px 2px rgba(0, 0, 0, 0.3));\n",
              "      fill: #FFFFFF;\n",
              "    }\n",
              "  </style>\n",
              "\n",
              "      <script>\n",
              "        const buttonEl =\n",
              "          document.querySelector('#df-11924431-7b35-4b45-a9a3-c96f4edd8965 button.colab-df-convert');\n",
              "        buttonEl.style.display =\n",
              "          google.colab.kernel.accessAllowed ? 'block' : 'none';\n",
              "\n",
              "        async function convertToInteractive(key) {\n",
              "          const element = document.querySelector('#df-11924431-7b35-4b45-a9a3-c96f4edd8965');\n",
              "          const dataTable =\n",
              "            await google.colab.kernel.invokeFunction('convertToInteractive',\n",
              "                                                     [key], {});\n",
              "          if (!dataTable) return;\n",
              "\n",
              "          const docLinkHtml = 'Like what you see? Visit the ' +\n",
              "            '<a target=\"_blank\" href=https://colab.research.google.com/notebooks/data_table.ipynb>data table notebook</a>'\n",
              "            + ' to learn more about interactive tables.';\n",
              "          element.innerHTML = '';\n",
              "          dataTable['output_type'] = 'display_data';\n",
              "          await google.colab.output.renderOutput(dataTable, element);\n",
              "          const docLink = document.createElement('div');\n",
              "          docLink.innerHTML = docLinkHtml;\n",
              "          element.appendChild(docLink);\n",
              "        }\n",
              "      </script>\n",
              "    </div>\n",
              "  </div>\n",
              "  "
            ]
          },
          "metadata": {},
          "execution_count": 21
        }
      ]
    },
    {
      "cell_type": "markdown",
      "metadata": {
        "id": "C3gTckh7diUk"
      },
      "source": [
        "# Find the 5 App with Most Reviews\n",
        "\n",
        "**Challenge**: Which apps have the highest number of reviews? Are there any paid apps among the top 50?"
      ]
    },
    {
      "cell_type": "code",
      "metadata": {
        "id": "TLt98G0Sn_De",
        "colab": {
          "base_uri": "https://localhost:8080/",
          "height": 357
        },
        "outputId": "aa4f5915-524d-4bca-f0fe-e9154b59a201"
      },
      "source": [
        "df_apps_clean.sort_values('Reviews', ascending=False).head()"
      ],
      "execution_count": 22,
      "outputs": [
        {
          "output_type": "execute_result",
          "data": {
            "text/plain": [
              "                                            App       Category  Rating  \\\n",
              "10805                                  Facebook         SOCIAL    4.10   \n",
              "10785                        WhatsApp Messenger  COMMUNICATION    4.40   \n",
              "10806                                 Instagram         SOCIAL    4.50   \n",
              "10784  Messenger – Text and Video Chat for Free  COMMUNICATION    4.00   \n",
              "10650                            Clash of Clans           GAME    4.60   \n",
              "\n",
              "        Reviews  Size_MBs       Installs  Type Price Content_Rating  \\\n",
              "10805  78158306      5.30  1,000,000,000  Free     0           Teen   \n",
              "10785  69119316      3.50  1,000,000,000  Free     0       Everyone   \n",
              "10806  66577313      5.30  1,000,000,000  Free     0           Teen   \n",
              "10784  56642847      3.50  1,000,000,000  Free     0       Everyone   \n",
              "10650  44891723     98.00    100,000,000  Free     0   Everyone 10+   \n",
              "\n",
              "              Genres  \n",
              "10805         Social  \n",
              "10785  Communication  \n",
              "10806         Social  \n",
              "10784  Communication  \n",
              "10650       Strategy  "
            ],
            "text/html": [
              "\n",
              "  <div id=\"df-19fd22ec-b750-4079-a314-fc90515eec85\">\n",
              "    <div class=\"colab-df-container\">\n",
              "      <div>\n",
              "<style scoped>\n",
              "    .dataframe tbody tr th:only-of-type {\n",
              "        vertical-align: middle;\n",
              "    }\n",
              "\n",
              "    .dataframe tbody tr th {\n",
              "        vertical-align: top;\n",
              "    }\n",
              "\n",
              "    .dataframe thead th {\n",
              "        text-align: right;\n",
              "    }\n",
              "</style>\n",
              "<table border=\"1\" class=\"dataframe\">\n",
              "  <thead>\n",
              "    <tr style=\"text-align: right;\">\n",
              "      <th></th>\n",
              "      <th>App</th>\n",
              "      <th>Category</th>\n",
              "      <th>Rating</th>\n",
              "      <th>Reviews</th>\n",
              "      <th>Size_MBs</th>\n",
              "      <th>Installs</th>\n",
              "      <th>Type</th>\n",
              "      <th>Price</th>\n",
              "      <th>Content_Rating</th>\n",
              "      <th>Genres</th>\n",
              "    </tr>\n",
              "  </thead>\n",
              "  <tbody>\n",
              "    <tr>\n",
              "      <th>10805</th>\n",
              "      <td>Facebook</td>\n",
              "      <td>SOCIAL</td>\n",
              "      <td>4.10</td>\n",
              "      <td>78158306</td>\n",
              "      <td>5.30</td>\n",
              "      <td>1,000,000,000</td>\n",
              "      <td>Free</td>\n",
              "      <td>0</td>\n",
              "      <td>Teen</td>\n",
              "      <td>Social</td>\n",
              "    </tr>\n",
              "    <tr>\n",
              "      <th>10785</th>\n",
              "      <td>WhatsApp Messenger</td>\n",
              "      <td>COMMUNICATION</td>\n",
              "      <td>4.40</td>\n",
              "      <td>69119316</td>\n",
              "      <td>3.50</td>\n",
              "      <td>1,000,000,000</td>\n",
              "      <td>Free</td>\n",
              "      <td>0</td>\n",
              "      <td>Everyone</td>\n",
              "      <td>Communication</td>\n",
              "    </tr>\n",
              "    <tr>\n",
              "      <th>10806</th>\n",
              "      <td>Instagram</td>\n",
              "      <td>SOCIAL</td>\n",
              "      <td>4.50</td>\n",
              "      <td>66577313</td>\n",
              "      <td>5.30</td>\n",
              "      <td>1,000,000,000</td>\n",
              "      <td>Free</td>\n",
              "      <td>0</td>\n",
              "      <td>Teen</td>\n",
              "      <td>Social</td>\n",
              "    </tr>\n",
              "    <tr>\n",
              "      <th>10784</th>\n",
              "      <td>Messenger – Text and Video Chat for Free</td>\n",
              "      <td>COMMUNICATION</td>\n",
              "      <td>4.00</td>\n",
              "      <td>56642847</td>\n",
              "      <td>3.50</td>\n",
              "      <td>1,000,000,000</td>\n",
              "      <td>Free</td>\n",
              "      <td>0</td>\n",
              "      <td>Everyone</td>\n",
              "      <td>Communication</td>\n",
              "    </tr>\n",
              "    <tr>\n",
              "      <th>10650</th>\n",
              "      <td>Clash of Clans</td>\n",
              "      <td>GAME</td>\n",
              "      <td>4.60</td>\n",
              "      <td>44891723</td>\n",
              "      <td>98.00</td>\n",
              "      <td>100,000,000</td>\n",
              "      <td>Free</td>\n",
              "      <td>0</td>\n",
              "      <td>Everyone 10+</td>\n",
              "      <td>Strategy</td>\n",
              "    </tr>\n",
              "  </tbody>\n",
              "</table>\n",
              "</div>\n",
              "      <button class=\"colab-df-convert\" onclick=\"convertToInteractive('df-19fd22ec-b750-4079-a314-fc90515eec85')\"\n",
              "              title=\"Convert this dataframe to an interactive table.\"\n",
              "              style=\"display:none;\">\n",
              "        \n",
              "  <svg xmlns=\"http://www.w3.org/2000/svg\" height=\"24px\"viewBox=\"0 0 24 24\"\n",
              "       width=\"24px\">\n",
              "    <path d=\"M0 0h24v24H0V0z\" fill=\"none\"/>\n",
              "    <path d=\"M18.56 5.44l.94 2.06.94-2.06 2.06-.94-2.06-.94-.94-2.06-.94 2.06-2.06.94zm-11 1L8.5 8.5l.94-2.06 2.06-.94-2.06-.94L8.5 2.5l-.94 2.06-2.06.94zm10 10l.94 2.06.94-2.06 2.06-.94-2.06-.94-.94-2.06-.94 2.06-2.06.94z\"/><path d=\"M17.41 7.96l-1.37-1.37c-.4-.4-.92-.59-1.43-.59-.52 0-1.04.2-1.43.59L10.3 9.45l-7.72 7.72c-.78.78-.78 2.05 0 2.83L4 21.41c.39.39.9.59 1.41.59.51 0 1.02-.2 1.41-.59l7.78-7.78 2.81-2.81c.8-.78.8-2.07 0-2.86zM5.41 20L4 18.59l7.72-7.72 1.47 1.35L5.41 20z\"/>\n",
              "  </svg>\n",
              "      </button>\n",
              "      \n",
              "  <style>\n",
              "    .colab-df-container {\n",
              "      display:flex;\n",
              "      flex-wrap:wrap;\n",
              "      gap: 12px;\n",
              "    }\n",
              "\n",
              "    .colab-df-convert {\n",
              "      background-color: #E8F0FE;\n",
              "      border: none;\n",
              "      border-radius: 50%;\n",
              "      cursor: pointer;\n",
              "      display: none;\n",
              "      fill: #1967D2;\n",
              "      height: 32px;\n",
              "      padding: 0 0 0 0;\n",
              "      width: 32px;\n",
              "    }\n",
              "\n",
              "    .colab-df-convert:hover {\n",
              "      background-color: #E2EBFA;\n",
              "      box-shadow: 0px 1px 2px rgba(60, 64, 67, 0.3), 0px 1px 3px 1px rgba(60, 64, 67, 0.15);\n",
              "      fill: #174EA6;\n",
              "    }\n",
              "\n",
              "    [theme=dark] .colab-df-convert {\n",
              "      background-color: #3B4455;\n",
              "      fill: #D2E3FC;\n",
              "    }\n",
              "\n",
              "    [theme=dark] .colab-df-convert:hover {\n",
              "      background-color: #434B5C;\n",
              "      box-shadow: 0px 1px 3px 1px rgba(0, 0, 0, 0.15);\n",
              "      filter: drop-shadow(0px 1px 2px rgba(0, 0, 0, 0.3));\n",
              "      fill: #FFFFFF;\n",
              "    }\n",
              "  </style>\n",
              "\n",
              "      <script>\n",
              "        const buttonEl =\n",
              "          document.querySelector('#df-19fd22ec-b750-4079-a314-fc90515eec85 button.colab-df-convert');\n",
              "        buttonEl.style.display =\n",
              "          google.colab.kernel.accessAllowed ? 'block' : 'none';\n",
              "\n",
              "        async function convertToInteractive(key) {\n",
              "          const element = document.querySelector('#df-19fd22ec-b750-4079-a314-fc90515eec85');\n",
              "          const dataTable =\n",
              "            await google.colab.kernel.invokeFunction('convertToInteractive',\n",
              "                                                     [key], {});\n",
              "          if (!dataTable) return;\n",
              "\n",
              "          const docLinkHtml = 'Like what you see? Visit the ' +\n",
              "            '<a target=\"_blank\" href=https://colab.research.google.com/notebooks/data_table.ipynb>data table notebook</a>'\n",
              "            + ' to learn more about interactive tables.';\n",
              "          element.innerHTML = '';\n",
              "          dataTable['output_type'] = 'display_data';\n",
              "          await google.colab.output.renderOutput(dataTable, element);\n",
              "          const docLink = document.createElement('div');\n",
              "          docLink.innerHTML = docLinkHtml;\n",
              "          element.appendChild(docLink);\n",
              "        }\n",
              "      </script>\n",
              "    </div>\n",
              "  </div>\n",
              "  "
            ]
          },
          "metadata": {},
          "execution_count": 22
        }
      ]
    },
    {
      "cell_type": "markdown",
      "metadata": {
        "id": "BFoRqpezjebe"
      },
      "source": [
        "# Plotly Pie and Donut Charts - Visualise Categorical Data: Content Ratings"
      ]
    },
    {
      "cell_type": "code",
      "metadata": {
        "id": "c0IIxNGnoFKM"
      },
      "source": [
        "ratings = df_apps_clean['Content_Rating'].value_counts()"
      ],
      "execution_count": 23,
      "outputs": []
    },
    {
      "cell_type": "code",
      "metadata": {
        "id": "TSiV6ZkjoFVg",
        "colab": {
          "base_uri": "https://localhost:8080/"
        },
        "outputId": "08b335e4-270b-435f-bed4-d08683f1d166"
      },
      "source": [
        "ratings"
      ],
      "execution_count": 24,
      "outputs": [
        {
          "output_type": "execute_result",
          "data": {
            "text/plain": [
              "Everyone           6621\n",
              "Teen                912\n",
              "Mature 17+          357\n",
              "Everyone 10+        305\n",
              "Adults only 18+       3\n",
              "Unrated               1\n",
              "Name: Content_Rating, dtype: int64"
            ]
          },
          "metadata": {},
          "execution_count": 24
        }
      ]
    },
    {
      "cell_type": "code",
      "metadata": {
        "id": "7kil2mdfoFOr"
      },
      "source": [
        "import matplotlib.pyplot as plt\n",
        "import plotly.express as px"
      ],
      "execution_count": 25,
      "outputs": []
    },
    {
      "cell_type": "code",
      "metadata": {
        "id": "6ZaHYNy2oFEE",
        "colab": {
          "base_uri": "https://localhost:8080/",
          "height": 456
        },
        "outputId": "3dc51b4b-cd8e-43d5-be02-5fad4957b4e1"
      },
      "source": [
        "plt.pie(ratings.values, labels=ratings.index)"
      ],
      "execution_count": 26,
      "outputs": [
        {
          "output_type": "execute_result",
          "data": {
            "text/plain": [
              "([<matplotlib.patches.Wedge at 0x7fdc1a4a7510>,\n",
              "  <matplotlib.patches.Wedge at 0x7fdc1a4383d0>,\n",
              "  <matplotlib.patches.Wedge at 0x7fdc1a438390>,\n",
              "  <matplotlib.patches.Wedge at 0x7fdc1a438a90>,\n",
              "  <matplotlib.patches.Wedge at 0x7fdc1a449910>,\n",
              "  <matplotlib.patches.Wedge at 0x7fdc1a449f50>],\n",
              " [Text(-0.9049782361884129, 0.6253114360263287, 'Everyone'),\n",
              "  Text(0.7178241245422002, -0.8335037649736347, 'Teen'),\n",
              "  Text(1.0241260044397809, -0.40145476336719416, 'Mature 17+'),\n",
              "  Text(1.0920985096538078, -0.1316086821297591, 'Everyone 10+'),\n",
              "  Text(1.0999979811653307, -0.0021074705685210065, 'Adults only 18+'),\n",
              "  Text(1.0999999192315435, -0.0004215336259657009, 'Unrated')])"
            ]
          },
          "metadata": {},
          "execution_count": 26
        },
        {
          "output_type": "display_data",
          "data": {
            "text/plain": [
              "<Figure size 432x288 with 1 Axes>"
            ],
            "image/png": "[encoded data removed]"
          },
          "metadata": {}
        }
      ]
    },
    {
      "cell_type": "code",
      "source": [
        "fig = px.pie(values=ratings.values, names=ratings.index, labels=ratings.index, title='Content Rating', hole=0.5)\n",
        "fig.update_traces(textposition='outside', textinfo='percent+label')\n",
        "fig.show()"
      ],
      "metadata": {
        "colab": {
          "base_uri": "https://localhost:8080/",
          "height": 542
        },
        "id": "0aAq9Nm961pw",
        "outputId": "236ca747-909b-498d-a330-f5f3971810b6"
      },
      "execution_count": 27,
      "outputs": [
        {
          "output_type": "display_data",
          "data": {
            "text/html": [
              "<html>\n",
              "<head><meta charset=\"utf-8\" /></head>\n",
              "<body>\n",
              "    <div>            <script src=\"https://cdnjs.cloudflare.com/ajax/libs/mathjax/2.7.5/MathJax.js?config=TeX-AMS-MML_SVG\"></script><script type=\"text/javascript\">if (window.MathJax) {MathJax.Hub.Config({SVG: {font: \"STIX-Web\"}});}</script>                <script type=\"text/javascript\">window.PlotlyConfig = {MathJaxConfig: 'local'};</script>\n",
              "        <script src=\"https://cdn.plot.ly/plotly-2.8.3.min.js\"></script>                <div id=\"5e665fa6-a70f-49c8-a6a9-582fd3ca808d\" class=\"plotly-graph-div\" style=\"height:525px; width:100%;\"></div>            <script type=\"text/javascript\">                                    window.PLOTLYENV=window.PLOTLYENV || {};                                    if (document.getElementById(\"5e665fa6-a70f-49c8-a6a9-582fd3ca808d\")) {                    Plotly.newPlot(                        \"5e665fa6-a70f-49c8-a6a9-582fd3ca808d\",                        [{\"domain\":{\"x\":[0.0,1.0],\"y\":[0.0,1.0]},\"hole\":0.5,\"hovertemplate\":\"label=%{label}<br>value=%{value}<extra></extra>\",\"labels\":[\"Everyone\",\"Teen\",\"Mature 17+\",\"Everyone 10+\",\"Adults only 18+\",\"Unrated\"],\"legendgroup\":\"\",\"name\":\"\",\"showlegend\":true,\"values\":[6621,912,357,305,3,1],\"type\":\"pie\",\"textinfo\":\"percent+label\",\"textposition\":\"outside\"}],                        {\"template\":{\"data\":{\"bar\":[{\"error_x\":{\"color\":\"#2a3f5f\"},\"error_y\":{\"color\":\"#2a3f5f\"},\"marker\":{\"line\":{\"color\":\"#E5ECF6\",\"width\":0.5},\"pattern\":{\"fillmode\":\"overlay\",\"size\":10,\"solidity\":0.2}},\"type\":\"bar\"}],\"barpolar\":[{\"marker\":{\"line\":{\"color\":\"#E5ECF6\",\"width\":0.5},\"pattern\":{\"fillmode\":\"overlay\",\"size\":10,\"solidity\":0.2}},\"type\":\"barpolar\"}],\"carpet\":[{\"aaxis\":{\"endlinecolor\":\"#2a3f5f\",\"gridcolor\":\"white\",\"linecolor\":\"white\",\"minorgridcolor\":\"white\",\"startlinecolor\":\"#2a3f5f\"},\"baxis\":{\"endlinecolor\":\"#2a3f5f\",\"gridcolor\":\"white\",\"linecolor\":\"white\",\"minorgridcolor\":\"white\",\"startlinecolor\":\"#2a3f5f\"},\"type\":\"carpet\"}],\"choropleth\":[{\"colorbar\":{\"outlinewidth\":0,\"ticks\":\"\"},\"type\":\"choropleth\"}],\"contour\":[{\"colorbar\":{\"outlinewidth\":0,\"ticks\":\"\"},\"colorscale\":[[0.0,\"#0d0887\"],[0.1111111111111111,\"#46039f\"],[0.2222222222222222,\"#7201a8\"],[0.3333333333333333,\"#9c179e\"],[0.4444444444444444,\"#bd3786\"],[0.5555555555555556,\"#d8576b\"],[0.6666666666666666,\"#ed7953\"],[0.7777777777777778,\"#fb9f3a\"],[0.8888888888888888,\"#fdca26\"],[1.0,\"#f0f921\"]],\"type\":\"contour\"}],\"contourcarpet\":[{\"colorbar\":{\"outlinewidth\":0,\"ticks\":\"\"},\"type\":\"contourcarpet\"}],\"heatmap\":[{\"colorbar\":{\"outlinewidth\":0,\"ticks\":\"\"},\"colorscale\":[[0.0,\"#0d0887\"],[0.1111111111111111,\"#46039f\"],[0.2222222222222222,\"#7201a8\"],[0.3333333333333333,\"#9c179e\"],[0.4444444444444444,\"#bd3786\"],[0.5555555555555556,\"#d8576b\"],[0.6666666666666666,\"#ed7953\"],[0.7777777777777778,\"#fb9f3a\"],[0.8888888888888888,\"#fdca26\"],[1.0,\"#f0f921\"]],\"type\":\"heatmap\"}],\"heatmapgl\":[{\"colorbar\":{\"outlinewidth\":0,\"ticks\":\"\"},\"colorscale\":[[0.0,\"#0d0887\"],[0.1111111111111111,\"#46039f\"],[0.2222222222222222,\"#7201a8\"],[0.3333333333333333,\"#9c179e\"],[0.4444444444444444,\"#bd3786\"],[0.5555555555555556,\"#d8576b\"],[0.6666666666666666,\"#ed7953\"],[0.7777777777777778,\"#fb9f3a\"],[0.8888888888888888,\"#fdca26\"],[1.0,\"#f0f921\"]],\"type\":\"heatmapgl\"}],\"histogram\":[{\"marker\":{\"pattern\":{\"fillmode\":\"overlay\",\"size\":10,\"solidity\":0.2}},\"type\":\"histogram\"}],\"histogram2d\":[{\"colorbar\":{\"outlinewidth\":0,\"ticks\":\"\"},\"colorscale\":[[0.0,\"#0d0887\"],[0.1111111111111111,\"#46039f\"],[0.2222222222222222,\"#7201a8\"],[0.3333333333333333,\"#9c179e\"],[0.4444444444444444,\"#bd3786\"],[0.5555555555555556,\"#d8576b\"],[0.6666666666666666,\"#ed7953\"],[0.7777777777777778,\"#fb9f3a\"],[0.8888888888888888,\"#fdca26\"],[1.0,\"#f0f921\"]],\"type\":\"histogram2d\"}],\"histogram2dcontour\":[{\"colorbar\":{\"outlinewidth\":0,\"ticks\":\"\"},\"colorscale\":[[0.0,\"#0d0887\"],[0.1111111111111111,\"#46039f\"],[0.2222222222222222,\"#7201a8\"],[0.3333333333333333,\"#9c179e\"],[0.4444444444444444,\"#bd3786\"],[0.5555555555555556,\"#d8576b\"],[0.6666666666666666,\"#ed7953\"],[0.7777777777777778,\"#fb9f3a\"],[0.8888888888888888,\"#fdca26\"],[1.0,\"#f0f921\"]],\"type\":\"histogram2dcontour\"}],\"mesh3d\":[{\"colorbar\":{\"outlinewidth\":0,\"ticks\":\"\"},\"type\":\"mesh3d\"}],\"parcoords\":[{\"line\":{\"colorbar\":{\"outlinewidth\":0,\"ticks\":\"\"}},\"type\":\"parcoords\"}],\"pie\":[{\"automargin\":true,\"type\":\"pie\"}],\"scatter\":[{\"marker\":{\"colorbar\":{\"outlinewidth\":0,\"ticks\":\"\"}},\"type\":\"scatter\"}],\"scatter3d\":[{\"line\":{\"colorbar\":{\"outlinewidth\":0,\"ticks\":\"\"}},\"marker\":{\"colorbar\":{\"outlinewidth\":0,\"ticks\":\"\"}},\"type\":\"scatter3d\"}],\"scattercarpet\":[{\"marker\":{\"colorbar\":{\"outlinewidth\":0,\"ticks\":\"\"}},\"type\":\"scattercarpet\"}],\"scattergeo\":[{\"marker\":{\"colorbar\":{\"outlinewidth\":0,\"ticks\":\"\"}},\"type\":\"scattergeo\"}],\"scattergl\":[{\"marker\":{\"colorbar\":{\"outlinewidth\":0,\"ticks\":\"\"}},\"type\":\"scattergl\"}],\"scattermapbox\":[{\"marker\":{\"colorbar\":{\"outlinewidth\":0,\"ticks\":\"\"}},\"type\":\"scattermapbox\"}],\"scatterpolar\":[{\"marker\":{\"colorbar\":{\"outlinewidth\":0,\"ticks\":\"\"}},\"type\":\"scatterpolar\"}],\"scatterpolargl\":[{\"marker\":{\"colorbar\":{\"outlinewidth\":0,\"ticks\":\"\"}},\"type\":\"scatterpolargl\"}],\"scatterternary\":[{\"marker\":{\"colorbar\":{\"outlinewidth\":0,\"ticks\":\"\"}},\"type\":\"scatterternary\"}],\"surface\":[{\"colorbar\":{\"outlinewidth\":0,\"ticks\":\"\"},\"colorscale\":[[0.0,\"#0d0887\"],[0.1111111111111111,\"#46039f\"],[0.2222222222222222,\"#7201a8\"],[0.3333333333333333,\"#9c179e\"],[0.4444444444444444,\"#bd3786\"],[0.5555555555555556,\"#d8576b\"],[0.6666666666666666,\"#ed7953\"],[0.7777777777777778,\"#fb9f3a\"],[0.8888888888888888,\"#fdca26\"],[1.0,\"#f0f921\"]],\"type\":\"surface\"}],\"table\":[{\"cells\":{\"fill\":{\"color\":\"#EBF0F8\"},\"line\":{\"color\":\"white\"}},\"header\":{\"fill\":{\"color\":\"#C8D4E3\"},\"line\":{\"color\":\"white\"}},\"type\":\"table\"}]},\"layout\":{\"annotationdefaults\":{\"arrowcolor\":\"#2a3f5f\",\"arrowhead\":0,\"arrowwidth\":1},\"autotypenumbers\":\"strict\",\"coloraxis\":{\"colorbar\":{\"outlinewidth\":0,\"ticks\":\"\"}},\"colorscale\":{\"diverging\":[[0,\"#8e0152\"],[0.1,\"#c51b7d\"],[0.2,\"#de77ae\"],[0.3,\"#f1b6da\"],[0.4,\"#fde0ef\"],[0.5,\"#f7f7f7\"],[0.6,\"#e6f5d0\"],[0.7,\"#b8e186\"],[0.8,\"#7fbc41\"],[0.9,\"#4d9221\"],[1,\"#276419\"]],\"sequential\":[[0.0,\"#0d0887\"],[0.1111111111111111,\"#46039f\"],[0.2222222222222222,\"#7201a8\"],[0.3333333333333333,\"#9c179e\"],[0.4444444444444444,\"#bd3786\"],[0.5555555555555556,\"#d8576b\"],[0.6666666666666666,\"#ed7953\"],[0.7777777777777778,\"#fb9f3a\"],[0.8888888888888888,\"#fdca26\"],[1.0,\"#f0f921\"]],\"sequentialminus\":[[0.0,\"#0d0887\"],[0.1111111111111111,\"#46039f\"],[0.2222222222222222,\"#7201a8\"],[0.3333333333333333,\"#9c179e\"],[0.4444444444444444,\"#bd3786\"],[0.5555555555555556,\"#d8576b\"],[0.6666666666666666,\"#ed7953\"],[0.7777777777777778,\"#fb9f3a\"],[0.8888888888888888,\"#fdca26\"],[1.0,\"#f0f921\"]]},\"colorway\":[\"#636efa\",\"#EF553B\",\"#00cc96\",\"#ab63fa\",\"#FFA15A\",\"#19d3f3\",\"#FF6692\",\"#B6E880\",\"#FF97FF\",\"#FECB52\"],\"font\":{\"color\":\"#2a3f5f\"},\"geo\":{\"bgcolor\":\"white\",\"lakecolor\":\"white\",\"landcolor\":\"#E5ECF6\",\"showlakes\":true,\"showland\":true,\"subunitcolor\":\"white\"},\"hoverlabel\":{\"align\":\"left\"},\"hovermode\":\"closest\",\"mapbox\":{\"style\":\"light\"},\"paper_bgcolor\":\"white\",\"plot_bgcolor\":\"#E5ECF6\",\"polar\":{\"angularaxis\":{\"gridcolor\":\"white\",\"linecolor\":\"white\",\"ticks\":\"\"},\"bgcolor\":\"#E5ECF6\",\"radialaxis\":{\"gridcolor\":\"white\",\"linecolor\":\"white\",\"ticks\":\"\"}},\"scene\":{\"xaxis\":{\"backgroundcolor\":\"#E5ECF6\",\"gridcolor\":\"white\",\"gridwidth\":2,\"linecolor\":\"white\",\"showbackground\":true,\"ticks\":\"\",\"zerolinecolor\":\"white\"},\"yaxis\":{\"backgroundcolor\":\"#E5ECF6\",\"gridcolor\":\"white\",\"gridwidth\":2,\"linecolor\":\"white\",\"showbackground\":true,\"ticks\":\"\",\"zerolinecolor\":\"white\"},\"zaxis\":{\"backgroundcolor\":\"#E5ECF6\",\"gridcolor\":\"white\",\"gridwidth\":2,\"linecolor\":\"white\",\"showbackground\":true,\"ticks\":\"\",\"zerolinecolor\":\"white\"}},\"shapedefaults\":{\"line\":{\"color\":\"#2a3f5f\"}},\"ternary\":{\"aaxis\":{\"gridcolor\":\"white\",\"linecolor\":\"white\",\"ticks\":\"\"},\"baxis\":{\"gridcolor\":\"white\",\"linecolor\":\"white\",\"ticks\":\"\"},\"bgcolor\":\"#E5ECF6\",\"caxis\":{\"gridcolor\":\"white\",\"linecolor\":\"white\",\"ticks\":\"\"}},\"title\":{\"x\":0.05},\"xaxis\":{\"automargin\":true,\"gridcolor\":\"white\",\"linecolor\":\"white\",\"ticks\":\"\",\"title\":{\"standoff\":15},\"zerolinecolor\":\"white\",\"zerolinewidth\":2},\"yaxis\":{\"automargin\":true,\"gridcolor\":\"white\",\"linecolor\":\"white\",\"ticks\":\"\",\"title\":{\"standoff\":15},\"zerolinecolor\":\"white\",\"zerolinewidth\":2}}},\"legend\":{\"tracegroupgap\":0},\"title\":{\"text\":\"Content Rating\"}},                        {\"responsive\": true}                    ).then(function(){\n",
              "                            \n",
              "var gd = document.getElementById('5e665fa6-a70f-49c8-a6a9-582fd3ca808d');\n",
              "var x = new MutationObserver(function (mutations, observer) {{\n",
              "        var display = window.getComputedStyle(gd).display;\n",
              "        if (!display || display === 'none') {{\n",
              "            console.log([gd, 'removed!']);\n",
              "            Plotly.purge(gd);\n",
              "            observer.disconnect();\n",
              "        }}\n",
              "}});\n",
              "\n",
              "// Listen for the removal of the full notebook cells\n",
              "var notebookContainer = gd.closest('#notebook-container');\n",
              "if (notebookContainer) {{\n",
              "    x.observe(notebookContainer, {childList: true});\n",
              "}}\n",
              "\n",
              "// Listen for the clearing of the current output cell\n",
              "var outputEl = gd.closest('.output');\n",
              "if (outputEl) {{\n",
              "    x.observe(outputEl, {childList: true});\n",
              "}}\n",
              "\n",
              "                        })                };                            </script>        </div>\n",
              "</body>\n",
              "</html>"
            ]
          },
          "metadata": {}
        }
      ]
    },
    {
      "cell_type": "markdown",
      "metadata": {
        "id": "RoPpW37xdiUm"
      },
      "source": [
        "# Numeric Type Conversion: Examine the Number of Installs\n",
        "\n",
        "**Challenge**: How many apps had over 1 billion (that's right - BILLION) installations? How many apps just had a single install? \n",
        "\n",
        "Check the datatype of the Installs column.\n",
        "\n",
        "Count the number of apps at each level of installations. \n",
        "\n",
        "Convert the number of installations (the Installs column) to a numeric data type. Hint: this is a 2-step process. You'll have make sure you remove non-numeric characters first. "
      ]
    },
    {
      "cell_type": "code",
      "metadata": {
        "id": "uTNyWsPboJLq",
        "colab": {
          "base_uri": "https://localhost:8080/"
        },
        "outputId": "b8c9449d-e755-4841-dbf4-281733a48dac"
      },
      "source": [
        "df_apps_clean['Installs'].describe()"
      ],
      "execution_count": 28,
      "outputs": [
        {
          "output_type": "execute_result",
          "data": {
            "text/plain": [
              "count          8199\n",
              "unique           19\n",
              "top       1,000,000\n",
              "freq           1417\n",
              "Name: Installs, dtype: object"
            ]
          },
          "metadata": {},
          "execution_count": 28
        }
      ]
    },
    {
      "cell_type": "code",
      "metadata": {
        "id": "yzR49fYcoJRI",
        "colab": {
          "base_uri": "https://localhost:8080/"
        },
        "outputId": "b3fa7c03-fe96-4550-adfe-a301fd58af24"
      },
      "source": [
        "df_apps_clean.info()"
      ],
      "execution_count": 29,
      "outputs": [
        {
          "output_type": "stream",
          "name": "stdout",
          "text": [
            "<class 'pandas.core.frame.DataFrame'>\n",
            "Int64Index: 8199 entries, 21 to 10835\n",
            "Data columns (total 10 columns):\n",
            " #   Column          Non-Null Count  Dtype  \n",
            "---  ------          --------------  -----  \n",
            " 0   App             8199 non-null   object \n",
            " 1   Category        8199 non-null   object \n",
            " 2   Rating          8199 non-null   float64\n",
            " 3   Reviews         8199 non-null   int64  \n",
            " 4   Size_MBs        8199 non-null   float64\n",
            " 5   Installs        8199 non-null   object \n",
            " 6   Type            8199 non-null   object \n",
            " 7   Price           8199 non-null   object \n",
            " 8   Content_Rating  8199 non-null   object \n",
            " 9   Genres          8199 non-null   object \n",
            "dtypes: float64(2), int64(1), object(7)\n",
            "memory usage: 704.6+ KB\n"
          ]
        }
      ]
    },
    {
      "cell_type": "code",
      "metadata": {
        "id": "cFjptR-JoJOE",
        "colab": {
          "base_uri": "https://localhost:8080/",
          "height": 676
        },
        "outputId": "889f9e21-016b-4c4f-a490-d3bf9e538d28"
      },
      "source": [
        "df_apps_clean[['App','Installs']].groupby('Installs').count()"
      ],
      "execution_count": 30,
      "outputs": [
        {
          "output_type": "execute_result",
          "data": {
            "text/plain": [
              "                App\n",
              "Installs           \n",
              "1                 3\n",
              "1,000           698\n",
              "1,000,000      1417\n",
              "1,000,000,000    20\n",
              "10               69\n",
              "10,000          988\n",
              "10,000,000      933\n",
              "100             303\n",
              "100,000        1096\n",
              "100,000,000     189\n",
              "5                 9\n",
              "5,000           425\n",
              "5,000,000       607\n",
              "50               56\n",
              "50,000          457\n",
              "50,000,000      202\n",
              "500             199\n",
              "500,000         504\n",
              "500,000,000      24"
            ],
            "text/html": [
              "\n",
              "  <div id=\"df-3b0e1749-d3a3-46d6-8414-1febeb137689\">\n",
              "    <div class=\"colab-df-container\">\n",
              "      <div>\n",
              "<style scoped>\n",
              "    .dataframe tbody tr th:only-of-type {\n",
              "        vertical-align: middle;\n",
              "    }\n",
              "\n",
              "    .dataframe tbody tr th {\n",
              "        vertical-align: top;\n",
              "    }\n",
              "\n",
              "    .dataframe thead th {\n",
              "        text-align: right;\n",
              "    }\n",
              "</style>\n",
              "<table border=\"1\" class=\"dataframe\">\n",
              "  <thead>\n",
              "    <tr style=\"text-align: right;\">\n",
              "      <th></th>\n",
              "      <th>App</th>\n",
              "    </tr>\n",
              "    <tr>\n",
              "      <th>Installs</th>\n",
              "      <th></th>\n",
              "    </tr>\n",
              "  </thead>\n",
              "  <tbody>\n",
              "    <tr>\n",
              "      <th>1</th>\n",
              "      <td>3</td>\n",
              "    </tr>\n",
              "    <tr>\n",
              "      <th>1,000</th>\n",
              "      <td>698</td>\n",
              "    </tr>\n",
              "    <tr>\n",
              "      <th>1,000,000</th>\n",
              "      <td>1417</td>\n",
              "    </tr>\n",
              "    <tr>\n",
              "      <th>1,000,000,000</th>\n",
              "      <td>20</td>\n",
              "    </tr>\n",
              "    <tr>\n",
              "      <th>10</th>\n",
              "      <td>69</td>\n",
              "    </tr>\n",
              "    <tr>\n",
              "      <th>10,000</th>\n",
              "      <td>988</td>\n",
              "    </tr>\n",
              "    <tr>\n",
              "      <th>10,000,000</th>\n",
              "      <td>933</td>\n",
              "    </tr>\n",
              "    <tr>\n",
              "      <th>100</th>\n",
              "      <td>303</td>\n",
              "    </tr>\n",
              "    <tr>\n",
              "      <th>100,000</th>\n",
              "      <td>1096</td>\n",
              "    </tr>\n",
              "    <tr>\n",
              "      <th>100,000,000</th>\n",
              "      <td>189</td>\n",
              "    </tr>\n",
              "    <tr>\n",
              "      <th>5</th>\n",
              "      <td>9</td>\n",
              "    </tr>\n",
              "    <tr>\n",
              "      <th>5,000</th>\n",
              "      <td>425</td>\n",
              "    </tr>\n",
              "    <tr>\n",
              "      <th>5,000,000</th>\n",
              "      <td>607</td>\n",
              "    </tr>\n",
              "    <tr>\n",
              "      <th>50</th>\n",
              "      <td>56</td>\n",
              "    </tr>\n",
              "    <tr>\n",
              "      <th>50,000</th>\n",
              "      <td>457</td>\n",
              "    </tr>\n",
              "    <tr>\n",
              "      <th>50,000,000</th>\n",
              "      <td>202</td>\n",
              "    </tr>\n",
              "    <tr>\n",
              "      <th>500</th>\n",
              "      <td>199</td>\n",
              "    </tr>\n",
              "    <tr>\n",
              "      <th>500,000</th>\n",
              "      <td>504</td>\n",
              "    </tr>\n",
              "    <tr>\n",
              "      <th>500,000,000</th>\n",
              "      <td>24</td>\n",
              "    </tr>\n",
              "  </tbody>\n",
              "</table>\n",
              "</div>\n",
              "      <button class=\"colab-df-convert\" onclick=\"convertToInteractive('df-3b0e1749-d3a3-46d6-8414-1febeb137689')\"\n",
              "              title=\"Convert this dataframe to an interactive table.\"\n",
              "              style=\"display:none;\">\n",
              "        \n",
              "  <svg xmlns=\"http://www.w3.org/2000/svg\" height=\"24px\"viewBox=\"0 0 24 24\"\n",
              "       width=\"24px\">\n",
              "    <path d=\"M0 0h24v24H0V0z\" fill=\"none\"/>\n",
              "    <path d=\"M18.56 5.44l.94 2.06.94-2.06 2.06-.94-2.06-.94-.94-2.06-.94 2.06-2.06.94zm-11 1L8.5 8.5l.94-2.06 2.06-.94-2.06-.94L8.5 2.5l-.94 2.06-2.06.94zm10 10l.94 2.06.94-2.06 2.06-.94-2.06-.94-.94-2.06-.94 2.06-2.06.94z\"/><path d=\"M17.41 7.96l-1.37-1.37c-.4-.4-.92-.59-1.43-.59-.52 0-1.04.2-1.43.59L10.3 9.45l-7.72 7.72c-.78.78-.78 2.05 0 2.83L4 21.41c.39.39.9.59 1.41.59.51 0 1.02-.2 1.41-.59l7.78-7.78 2.81-2.81c.8-.78.8-2.07 0-2.86zM5.41 20L4 18.59l7.72-7.72 1.47 1.35L5.41 20z\"/>\n",
              "  </svg>\n",
              "      </button>\n",
              "      \n",
              "  <style>\n",
              "    .colab-df-container {\n",
              "      display:flex;\n",
              "      flex-wrap:wrap;\n",
              "      gap: 12px;\n",
              "    }\n",
              "\n",
              "    .colab-df-convert {\n",
              "      background-color: #E8F0FE;\n",
              "      border: none;\n",
              "      border-radius: 50%;\n",
              "      cursor: pointer;\n",
              "      display: none;\n",
              "      fill: #1967D2;\n",
              "      height: 32px;\n",
              "      padding: 0 0 0 0;\n",
              "      width: 32px;\n",
              "    }\n",
              "\n",
              "    .colab-df-convert:hover {\n",
              "      background-color: #E2EBFA;\n",
              "      box-shadow: 0px 1px 2px rgba(60, 64, 67, 0.3), 0px 1px 3px 1px rgba(60, 64, 67, 0.15);\n",
              "      fill: #174EA6;\n",
              "    }\n",
              "\n",
              "    [theme=dark] .colab-df-convert {\n",
              "      background-color: #3B4455;\n",
              "      fill: #D2E3FC;\n",
              "    }\n",
              "\n",
              "    [theme=dark] .colab-df-convert:hover {\n",
              "      background-color: #434B5C;\n",
              "      box-shadow: 0px 1px 3px 1px rgba(0, 0, 0, 0.15);\n",
              "      filter: drop-shadow(0px 1px 2px rgba(0, 0, 0, 0.3));\n",
              "      fill: #FFFFFF;\n",
              "    }\n",
              "  </style>\n",
              "\n",
              "      <script>\n",
              "        const buttonEl =\n",
              "          document.querySelector('#df-3b0e1749-d3a3-46d6-8414-1febeb137689 button.colab-df-convert');\n",
              "        buttonEl.style.display =\n",
              "          google.colab.kernel.accessAllowed ? 'block' : 'none';\n",
              "\n",
              "        async function convertToInteractive(key) {\n",
              "          const element = document.querySelector('#df-3b0e1749-d3a3-46d6-8414-1febeb137689');\n",
              "          const dataTable =\n",
              "            await google.colab.kernel.invokeFunction('convertToInteractive',\n",
              "                                                     [key], {});\n",
              "          if (!dataTable) return;\n",
              "\n",
              "          const docLinkHtml = 'Like what you see? Visit the ' +\n",
              "            '<a target=\"_blank\" href=https://colab.research.google.com/notebooks/data_table.ipynb>data table notebook</a>'\n",
              "            + ' to learn more about interactive tables.';\n",
              "          element.innerHTML = '';\n",
              "          dataTable['output_type'] = 'display_data';\n",
              "          await google.colab.output.renderOutput(dataTable, element);\n",
              "          const docLink = document.createElement('div');\n",
              "          docLink.innerHTML = docLinkHtml;\n",
              "          element.appendChild(docLink);\n",
              "        }\n",
              "      </script>\n",
              "    </div>\n",
              "  </div>\n",
              "  "
            ]
          },
          "metadata": {},
          "execution_count": 30
        }
      ]
    },
    {
      "cell_type": "code",
      "metadata": {
        "id": "8AMmxKHgoJGT"
      },
      "source": [
        "df_apps_clean.Installs = df_apps_clean.Installs.astype(str).str.replace(',','')"
      ],
      "execution_count": 31,
      "outputs": []
    },
    {
      "cell_type": "code",
      "source": [
        "df_apps_clean.Installs = pd.to_numeric(df_apps_clean.Installs)"
      ],
      "metadata": {
        "id": "VxGL5-eX6PDC"
      },
      "execution_count": 32,
      "outputs": []
    },
    {
      "cell_type": "code",
      "source": [
        "df_apps_clean[['App','Installs']].groupby('Installs').count()"
      ],
      "metadata": {
        "colab": {
          "base_uri": "https://localhost:8080/",
          "height": 676
        },
        "id": "gym5VRjR6cRs",
        "outputId": "f7e7bde2-7a33-4203-c254-8826ba11aa1c"
      },
      "execution_count": 33,
      "outputs": [
        {
          "output_type": "execute_result",
          "data": {
            "text/plain": [
              "             App\n",
              "Installs        \n",
              "1              3\n",
              "5              9\n",
              "10            69\n",
              "50            56\n",
              "100          303\n",
              "500          199\n",
              "1000         698\n",
              "5000         425\n",
              "10000        988\n",
              "50000        457\n",
              "100000      1096\n",
              "500000       504\n",
              "1000000     1417\n",
              "5000000      607\n",
              "10000000     933\n",
              "50000000     202\n",
              "100000000    189\n",
              "500000000     24\n",
              "1000000000    20"
            ],
            "text/html": [
              "\n",
              "  <div id=\"df-914ddef3-cc42-49ea-931c-ea66a9cf028d\">\n",
              "    <div class=\"colab-df-container\">\n",
              "      <div>\n",
              "<style scoped>\n",
              "    .dataframe tbody tr th:only-of-type {\n",
              "        vertical-align: middle;\n",
              "    }\n",
              "\n",
              "    .dataframe tbody tr th {\n",
              "        vertical-align: top;\n",
              "    }\n",
              "\n",
              "    .dataframe thead th {\n",
              "        text-align: right;\n",
              "    }\n",
              "</style>\n",
              "<table border=\"1\" class=\"dataframe\">\n",
              "  <thead>\n",
              "    <tr style=\"text-align: right;\">\n",
              "      <th></th>\n",
              "      <th>App</th>\n",
              "    </tr>\n",
              "    <tr>\n",
              "      <th>Installs</th>\n",
              "      <th></th>\n",
              "    </tr>\n",
              "  </thead>\n",
              "  <tbody>\n",
              "    <tr>\n",
              "      <th>1</th>\n",
              "      <td>3</td>\n",
              "    </tr>\n",
              "    <tr>\n",
              "      <th>5</th>\n",
              "      <td>9</td>\n",
              "    </tr>\n",
              "    <tr>\n",
              "      <th>10</th>\n",
              "      <td>69</td>\n",
              "    </tr>\n",
              "    <tr>\n",
              "      <th>50</th>\n",
              "      <td>56</td>\n",
              "    </tr>\n",
              "    <tr>\n",
              "      <th>100</th>\n",
              "      <td>303</td>\n",
              "    </tr>\n",
              "    <tr>\n",
              "      <th>500</th>\n",
              "      <td>199</td>\n",
              "    </tr>\n",
              "    <tr>\n",
              "      <th>1000</th>\n",
              "      <td>698</td>\n",
              "    </tr>\n",
              "    <tr>\n",
              "      <th>5000</th>\n",
              "      <td>425</td>\n",
              "    </tr>\n",
              "    <tr>\n",
              "      <th>10000</th>\n",
              "      <td>988</td>\n",
              "    </tr>\n",
              "    <tr>\n",
              "      <th>50000</th>\n",
              "      <td>457</td>\n",
              "    </tr>\n",
              "    <tr>\n",
              "      <th>100000</th>\n",
              "      <td>1096</td>\n",
              "    </tr>\n",
              "    <tr>\n",
              "      <th>500000</th>\n",
              "      <td>504</td>\n",
              "    </tr>\n",
              "    <tr>\n",
              "      <th>1000000</th>\n",
              "      <td>1417</td>\n",
              "    </tr>\n",
              "    <tr>\n",
              "      <th>5000000</th>\n",
              "      <td>607</td>\n",
              "    </tr>\n",
              "    <tr>\n",
              "      <th>10000000</th>\n",
              "      <td>933</td>\n",
              "    </tr>\n",
              "    <tr>\n",
              "      <th>50000000</th>\n",
              "      <td>202</td>\n",
              "    </tr>\n",
              "    <tr>\n",
              "      <th>100000000</th>\n",
              "      <td>189</td>\n",
              "    </tr>\n",
              "    <tr>\n",
              "      <th>500000000</th>\n",
              "      <td>24</td>\n",
              "    </tr>\n",
              "    <tr>\n",
              "      <th>1000000000</th>\n",
              "      <td>20</td>\n",
              "    </tr>\n",
              "  </tbody>\n",
              "</table>\n",
              "</div>\n",
              "      <button class=\"colab-df-convert\" onclick=\"convertToInteractive('df-914ddef3-cc42-49ea-931c-ea66a9cf028d')\"\n",
              "              title=\"Convert this dataframe to an interactive table.\"\n",
              "              style=\"display:none;\">\n",
              "        \n",
              "  <svg xmlns=\"http://www.w3.org/2000/svg\" height=\"24px\"viewBox=\"0 0 24 24\"\n",
              "       width=\"24px\">\n",
              "    <path d=\"M0 0h24v24H0V0z\" fill=\"none\"/>\n",
              "    <path d=\"M18.56 5.44l.94 2.06.94-2.06 2.06-.94-2.06-.94-.94-2.06-.94 2.06-2.06.94zm-11 1L8.5 8.5l.94-2.06 2.06-.94-2.06-.94L8.5 2.5l-.94 2.06-2.06.94zm10 10l.94 2.06.94-2.06 2.06-.94-2.06-.94-.94-2.06-.94 2.06-2.06.94z\"/><path d=\"M17.41 7.96l-1.37-1.37c-.4-.4-.92-.59-1.43-.59-.52 0-1.04.2-1.43.59L10.3 9.45l-7.72 7.72c-.78.78-.78 2.05 0 2.83L4 21.41c.39.39.9.59 1.41.59.51 0 1.02-.2 1.41-.59l7.78-7.78 2.81-2.81c.8-.78.8-2.07 0-2.86zM5.41 20L4 18.59l7.72-7.72 1.47 1.35L5.41 20z\"/>\n",
              "  </svg>\n",
              "      </button>\n",
              "      \n",
              "  <style>\n",
              "    .colab-df-container {\n",
              "      display:flex;\n",
              "      flex-wrap:wrap;\n",
              "      gap: 12px;\n",
              "    }\n",
              "\n",
              "    .colab-df-convert {\n",
              "      background-color: #E8F0FE;\n",
              "      border: none;\n",
              "      border-radius: 50%;\n",
              "      cursor: pointer;\n",
              "      display: none;\n",
              "      fill: #1967D2;\n",
              "      height: 32px;\n",
              "      padding: 0 0 0 0;\n",
              "      width: 32px;\n",
              "    }\n",
              "\n",
              "    .colab-df-convert:hover {\n",
              "      background-color: #E2EBFA;\n",
              "      box-shadow: 0px 1px 2px rgba(60, 64, 67, 0.3), 0px 1px 3px 1px rgba(60, 64, 67, 0.15);\n",
              "      fill: #174EA6;\n",
              "    }\n",
              "\n",
              "    [theme=dark] .colab-df-convert {\n",
              "      background-color: #3B4455;\n",
              "      fill: #D2E3FC;\n",
              "    }\n",
              "\n",
              "    [theme=dark] .colab-df-convert:hover {\n",
              "      background-color: #434B5C;\n",
              "      box-shadow: 0px 1px 3px 1px rgba(0, 0, 0, 0.15);\n",
              "      filter: drop-shadow(0px 1px 2px rgba(0, 0, 0, 0.3));\n",
              "      fill: #FFFFFF;\n",
              "    }\n",
              "  </style>\n",
              "\n",
              "      <script>\n",
              "        const buttonEl =\n",
              "          document.querySelector('#df-914ddef3-cc42-49ea-931c-ea66a9cf028d button.colab-df-convert');\n",
              "        buttonEl.style.display =\n",
              "          google.colab.kernel.accessAllowed ? 'block' : 'none';\n",
              "\n",
              "        async function convertToInteractive(key) {\n",
              "          const element = document.querySelector('#df-914ddef3-cc42-49ea-931c-ea66a9cf028d');\n",
              "          const dataTable =\n",
              "            await google.colab.kernel.invokeFunction('convertToInteractive',\n",
              "                                                     [key], {});\n",
              "          if (!dataTable) return;\n",
              "\n",
              "          const docLinkHtml = 'Like what you see? Visit the ' +\n",
              "            '<a target=\"_blank\" href=https://colab.research.google.com/notebooks/data_table.ipynb>data table notebook</a>'\n",
              "            + ' to learn more about interactive tables.';\n",
              "          element.innerHTML = '';\n",
              "          dataTable['output_type'] = 'display_data';\n",
              "          await google.colab.output.renderOutput(dataTable, element);\n",
              "          const docLink = document.createElement('div');\n",
              "          docLink.innerHTML = docLinkHtml;\n",
              "          element.appendChild(docLink);\n",
              "        }\n",
              "      </script>\n",
              "    </div>\n",
              "  </div>\n",
              "  "
            ]
          },
          "metadata": {},
          "execution_count": 33
        }
      ]
    },
    {
      "cell_type": "markdown",
      "metadata": {
        "id": "7T4sfNpFdiUv"
      },
      "source": [
        "# Find the Most Expensive Apps, Filter out the Junk, and Calculate a (ballpark) Sales Revenue Estimate\n",
        "\n",
        "Let's examine the Price column more closely.\n",
        "\n",
        "**Challenge**: Convert the price column to numeric data. Then investigate the top 20 most expensive apps in the dataset.\n",
        "\n",
        "Remove all apps that cost more than $250 from the `df_apps_clean` DataFrame.\n",
        "\n",
        "Add a column called 'Revenue_Estimate' to the DataFrame. This column should hold the price of the app times the number of installs. What are the top 10 highest grossing paid apps according to this estimate? Out of the top 10 highest grossing paid apps, how many are games?\n"
      ]
    },
    {
      "cell_type": "code",
      "metadata": {
        "id": "CqhX2WCJoQEp",
        "colab": {
          "base_uri": "https://localhost:8080/"
        },
        "outputId": "ea8386a6-e3d8-4570-bec8-d8056d460eef"
      },
      "source": [
        "df_apps_clean['Price'].describe()"
      ],
      "execution_count": 34,
      "outputs": [
        {
          "output_type": "execute_result",
          "data": {
            "text/plain": [
              "count     8199\n",
              "unique      73\n",
              "top          0\n",
              "freq      7595\n",
              "Name: Price, dtype: object"
            ]
          },
          "metadata": {},
          "execution_count": 34
        }
      ]
    },
    {
      "cell_type": "code",
      "source": [
        "df_apps_clean['Price'] = df_apps_clean['Price'].astype('str').str.replace('$','')"
      ],
      "metadata": {
        "colab": {
          "base_uri": "https://localhost:8080/"
        },
        "id": "1sAa3os38lJQ",
        "outputId": "6be74649-aa16-419f-f8ab-cb02bb81bf1e"
      },
      "execution_count": 35,
      "outputs": [
        {
          "output_type": "stream",
          "name": "stderr",
          "text": [
            "/usr/local/lib/python3.7/dist-packages/ipykernel_launcher.py:1: FutureWarning:\n",
            "\n",
            "The default value of regex will change from True to False in a future version. In addition, single character regular expressions will *not* be treated as literal strings when regex=True.\n",
            "\n"
          ]
        }
      ]
    },
    {
      "cell_type": "code",
      "source": [
        "df_apps_clean['Price'] = pd.to_numeric(df_apps_clean['Price'])"
      ],
      "metadata": {
        "id": "DLqI6EBf8PZ-"
      },
      "execution_count": 36,
      "outputs": []
    },
    {
      "cell_type": "markdown",
      "metadata": {
        "id": "Rgposh-CdiU4"
      },
      "source": [
        "### The most expensive apps sub $250"
      ]
    },
    {
      "cell_type": "code",
      "metadata": {
        "id": "c8_n8z8XoUML",
        "colab": {
          "base_uri": "https://localhost:8080/",
          "height": 267
        },
        "outputId": "bfa26c8e-70ca-4271-ee19-0da119e7f7aa"
      },
      "source": [
        "df_apps_clean.sort_values('Price', ascending=False).head()"
      ],
      "execution_count": 37,
      "outputs": [
        {
          "output_type": "execute_result",
          "data": {
            "text/plain": [
              "                           App   Category  Rating  Reviews  Size_MBs  \\\n",
              "3946  I'm Rich - Trump Edition  LIFESTYLE    3.60      275      7.30   \n",
              "2461        I AM RICH PRO PLUS    FINANCE    4.00       36     41.00   \n",
              "4606         I Am Rich Premium    FINANCE    4.10     1867      4.70   \n",
              "3145        I am rich(premium)    FINANCE    3.50      472      0.94   \n",
              "3554                💎 I'm rich  LIFESTYLE    3.80      718     26.00   \n",
              "\n",
              "      Installs  Type  Price Content_Rating     Genres  \n",
              "3946     10000  Paid 400.00       Everyone  Lifestyle  \n",
              "2461      1000  Paid 399.99       Everyone    Finance  \n",
              "4606     50000  Paid 399.99       Everyone    Finance  \n",
              "3145      5000  Paid 399.99       Everyone    Finance  \n",
              "3554     10000  Paid 399.99       Everyone  Lifestyle  "
            ],
            "text/html": [
              "\n",
              "  <div id=\"df-eba5f751-9709-4344-95c2-3421ecc37f76\">\n",
              "    <div class=\"colab-df-container\">\n",
              "      <div>\n",
              "<style scoped>\n",
              "    .dataframe tbody tr th:only-of-type {\n",
              "        vertical-align: middle;\n",
              "    }\n",
              "\n",
              "    .dataframe tbody tr th {\n",
              "        vertical-align: top;\n",
              "    }\n",
              "\n",
              "    .dataframe thead th {\n",
              "        text-align: right;\n",
              "    }\n",
              "</style>\n",
              "<table border=\"1\" class=\"dataframe\">\n",
              "  <thead>\n",
              "    <tr style=\"text-align: right;\">\n",
              "      <th></th>\n",
              "      <th>App</th>\n",
              "      <th>Category</th>\n",
              "      <th>Rating</th>\n",
              "      <th>Reviews</th>\n",
              "      <th>Size_MBs</th>\n",
              "      <th>Installs</th>\n",
              "      <th>Type</th>\n",
              "      <th>Price</th>\n",
              "      <th>Content_Rating</th>\n",
              "      <th>Genres</th>\n",
              "    </tr>\n",
              "  </thead>\n",
              "  <tbody>\n",
              "    <tr>\n",
              "      <th>3946</th>\n",
              "      <td>I'm Rich - Trump Edition</td>\n",
              "      <td>LIFESTYLE</td>\n",
              "      <td>3.60</td>\n",
              "      <td>275</td>\n",
              "      <td>7.30</td>\n",
              "      <td>10000</td>\n",
              "      <td>Paid</td>\n",
              "      <td>400.00</td>\n",
              "      <td>Everyone</td>\n",
              "      <td>Lifestyle</td>\n",
              "    </tr>\n",
              "    <tr>\n",
              "      <th>2461</th>\n",
              "      <td>I AM RICH PRO PLUS</td>\n",
              "      <td>FINANCE</td>\n",
              "      <td>4.00</td>\n",
              "      <td>36</td>\n",
              "      <td>41.00</td>\n",
              "      <td>1000</td>\n",
              "      <td>Paid</td>\n",
              "      <td>399.99</td>\n",
              "      <td>Everyone</td>\n",
              "      <td>Finance</td>\n",
              "    </tr>\n",
              "    <tr>\n",
              "      <th>4606</th>\n",
              "      <td>I Am Rich Premium</td>\n",
              "      <td>FINANCE</td>\n",
              "      <td>4.10</td>\n",
              "      <td>1867</td>\n",
              "      <td>4.70</td>\n",
              "      <td>50000</td>\n",
              "      <td>Paid</td>\n",
              "      <td>399.99</td>\n",
              "      <td>Everyone</td>\n",
              "      <td>Finance</td>\n",
              "    </tr>\n",
              "    <tr>\n",
              "      <th>3145</th>\n",
              "      <td>I am rich(premium)</td>\n",
              "      <td>FINANCE</td>\n",
              "      <td>3.50</td>\n",
              "      <td>472</td>\n",
              "      <td>0.94</td>\n",
              "      <td>5000</td>\n",
              "      <td>Paid</td>\n",
              "      <td>399.99</td>\n",
              "      <td>Everyone</td>\n",
              "      <td>Finance</td>\n",
              "    </tr>\n",
              "    <tr>\n",
              "      <th>3554</th>\n",
              "      <td>💎 I'm rich</td>\n",
              "      <td>LIFESTYLE</td>\n",
              "      <td>3.80</td>\n",
              "      <td>718</td>\n",
              "      <td>26.00</td>\n",
              "      <td>10000</td>\n",
              "      <td>Paid</td>\n",
              "      <td>399.99</td>\n",
              "      <td>Everyone</td>\n",
              "      <td>Lifestyle</td>\n",
              "    </tr>\n",
              "  </tbody>\n",
              "</table>\n",
              "</div>\n",
              "      <button class=\"colab-df-convert\" onclick=\"convertToInteractive('df-eba5f751-9709-4344-95c2-3421ecc37f76')\"\n",
              "              title=\"Convert this dataframe to an interactive table.\"\n",
              "              style=\"display:none;\">\n",
              "        \n",
              "  <svg xmlns=\"http://www.w3.org/2000/svg\" height=\"24px\"viewBox=\"0 0 24 24\"\n",
              "       width=\"24px\">\n",
              "    <path d=\"M0 0h24v24H0V0z\" fill=\"none\"/>\n",
              "    <path d=\"M18.56 5.44l.94 2.06.94-2.06 2.06-.94-2.06-.94-.94-2.06-.94 2.06-2.06.94zm-11 1L8.5 8.5l.94-2.06 2.06-.94-2.06-.94L8.5 2.5l-.94 2.06-2.06.94zm10 10l.94 2.06.94-2.06 2.06-.94-2.06-.94-.94-2.06-.94 2.06-2.06.94z\"/><path d=\"M17.41 7.96l-1.37-1.37c-.4-.4-.92-.59-1.43-.59-.52 0-1.04.2-1.43.59L10.3 9.45l-7.72 7.72c-.78.78-.78 2.05 0 2.83L4 21.41c.39.39.9.59 1.41.59.51 0 1.02-.2 1.41-.59l7.78-7.78 2.81-2.81c.8-.78.8-2.07 0-2.86zM5.41 20L4 18.59l7.72-7.72 1.47 1.35L5.41 20z\"/>\n",
              "  </svg>\n",
              "      </button>\n",
              "      \n",
              "  <style>\n",
              "    .colab-df-container {\n",
              "      display:flex;\n",
              "      flex-wrap:wrap;\n",
              "      gap: 12px;\n",
              "    }\n",
              "\n",
              "    .colab-df-convert {\n",
              "      background-color: #E8F0FE;\n",
              "      border: none;\n",
              "      border-radius: 50%;\n",
              "      cursor: pointer;\n",
              "      display: none;\n",
              "      fill: #1967D2;\n",
              "      height: 32px;\n",
              "      padding: 0 0 0 0;\n",
              "      width: 32px;\n",
              "    }\n",
              "\n",
              "    .colab-df-convert:hover {\n",
              "      background-color: #E2EBFA;\n",
              "      box-shadow: 0px 1px 2px rgba(60, 64, 67, 0.3), 0px 1px 3px 1px rgba(60, 64, 67, 0.15);\n",
              "      fill: #174EA6;\n",
              "    }\n",
              "\n",
              "    [theme=dark] .colab-df-convert {\n",
              "      background-color: #3B4455;\n",
              "      fill: #D2E3FC;\n",
              "    }\n",
              "\n",
              "    [theme=dark] .colab-df-convert:hover {\n",
              "      background-color: #434B5C;\n",
              "      box-shadow: 0px 1px 3px 1px rgba(0, 0, 0, 0.15);\n",
              "      filter: drop-shadow(0px 1px 2px rgba(0, 0, 0, 0.3));\n",
              "      fill: #FFFFFF;\n",
              "    }\n",
              "  </style>\n",
              "\n",
              "      <script>\n",
              "        const buttonEl =\n",
              "          document.querySelector('#df-eba5f751-9709-4344-95c2-3421ecc37f76 button.colab-df-convert');\n",
              "        buttonEl.style.display =\n",
              "          google.colab.kernel.accessAllowed ? 'block' : 'none';\n",
              "\n",
              "        async function convertToInteractive(key) {\n",
              "          const element = document.querySelector('#df-eba5f751-9709-4344-95c2-3421ecc37f76');\n",
              "          const dataTable =\n",
              "            await google.colab.kernel.invokeFunction('convertToInteractive',\n",
              "                                                     [key], {});\n",
              "          if (!dataTable) return;\n",
              "\n",
              "          const docLinkHtml = 'Like what you see? Visit the ' +\n",
              "            '<a target=\"_blank\" href=https://colab.research.google.com/notebooks/data_table.ipynb>data table notebook</a>'\n",
              "            + ' to learn more about interactive tables.';\n",
              "          element.innerHTML = '';\n",
              "          dataTable['output_type'] = 'display_data';\n",
              "          await google.colab.output.renderOutput(dataTable, element);\n",
              "          const docLink = document.createElement('div');\n",
              "          docLink.innerHTML = docLinkHtml;\n",
              "          element.appendChild(docLink);\n",
              "        }\n",
              "      </script>\n",
              "    </div>\n",
              "  </div>\n",
              "  "
            ]
          },
          "metadata": {},
          "execution_count": 37
        }
      ]
    },
    {
      "cell_type": "code",
      "source": [
        "df_apps_clean = df_apps_clean[df_apps_clean['Price']<250]"
      ],
      "metadata": {
        "id": "BjZm8Tyb90Zh"
      },
      "execution_count": 38,
      "outputs": []
    },
    {
      "cell_type": "code",
      "source": [
        "df_apps_clean.sort_values('Price', ascending=False).head()"
      ],
      "metadata": {
        "colab": {
          "base_uri": "https://localhost:8080/",
          "height": 285
        },
        "id": "rbYYAeMT97fS",
        "outputId": "206a2eb5-3473-4ab8-9ecd-ada7369ac2a0"
      },
      "execution_count": 39,
      "outputs": [
        {
          "output_type": "execute_result",
          "data": {
            "text/plain": [
              "                            App   Category  Rating  Reviews  Size_MBs  \\\n",
              "2281  Vargo Anesthesia Mega App    MEDICAL    4.60       92     32.00   \n",
              "1407               LTC AS Legal    MEDICAL    4.00        6      1.30   \n",
              "2629           I am Rich Person  LIFESTYLE    4.20      134      1.80   \n",
              "2481    A Manual of Acupuncture    MEDICAL    3.50      214     68.00   \n",
              "2463         PTA Content Master    MEDICAL    4.20       64     41.00   \n",
              "\n",
              "      Installs  Type  Price Content_Rating     Genres  \n",
              "2281      1000  Paid  79.99       Everyone    Medical  \n",
              "1407       100  Paid  39.99       Everyone    Medical  \n",
              "2629      1000  Paid  37.99       Everyone  Lifestyle  \n",
              "2481      1000  Paid  33.99       Everyone    Medical  \n",
              "2463      1000  Paid  29.99       Everyone    Medical  "
            ],
            "text/html": [
              "\n",
              "  <div id=\"df-dc7de77c-25fd-4f31-aec2-41255d0c0e2f\">\n",
              "    <div class=\"colab-df-container\">\n",
              "      <div>\n",
              "<style scoped>\n",
              "    .dataframe tbody tr th:only-of-type {\n",
              "        vertical-align: middle;\n",
              "    }\n",
              "\n",
              "    .dataframe tbody tr th {\n",
              "        vertical-align: top;\n",
              "    }\n",
              "\n",
              "    .dataframe thead th {\n",
              "        text-align: right;\n",
              "    }\n",
              "</style>\n",
              "<table border=\"1\" class=\"dataframe\">\n",
              "  <thead>\n",
              "    <tr style=\"text-align: right;\">\n",
              "      <th></th>\n",
              "      <th>App</th>\n",
              "      <th>Category</th>\n",
              "      <th>Rating</th>\n",
              "      <th>Reviews</th>\n",
              "      <th>Size_MBs</th>\n",
              "      <th>Installs</th>\n",
              "      <th>Type</th>\n",
              "      <th>Price</th>\n",
              "      <th>Content_Rating</th>\n",
              "      <th>Genres</th>\n",
              "    </tr>\n",
              "  </thead>\n",
              "  <tbody>\n",
              "    <tr>\n",
              "      <th>2281</th>\n",
              "      <td>Vargo Anesthesia Mega App</td>\n",
              "      <td>MEDICAL</td>\n",
              "      <td>4.60</td>\n",
              "      <td>92</td>\n",
              "      <td>32.00</td>\n",
              "      <td>1000</td>\n",
              "      <td>Paid</td>\n",
              "      <td>79.99</td>\n",
              "      <td>Everyone</td>\n",
              "      <td>Medical</td>\n",
              "    </tr>\n",
              "    <tr>\n",
              "      <th>1407</th>\n",
              "      <td>LTC AS Legal</td>\n",
              "      <td>MEDICAL</td>\n",
              "      <td>4.00</td>\n",
              "      <td>6</td>\n",
              "      <td>1.30</td>\n",
              "      <td>100</td>\n",
              "      <td>Paid</td>\n",
              "      <td>39.99</td>\n",
              "      <td>Everyone</td>\n",
              "      <td>Medical</td>\n",
              "    </tr>\n",
              "    <tr>\n",
              "      <th>2629</th>\n",
              "      <td>I am Rich Person</td>\n",
              "      <td>LIFESTYLE</td>\n",
              "      <td>4.20</td>\n",
              "      <td>134</td>\n",
              "      <td>1.80</td>\n",
              "      <td>1000</td>\n",
              "      <td>Paid</td>\n",
              "      <td>37.99</td>\n",
              "      <td>Everyone</td>\n",
              "      <td>Lifestyle</td>\n",
              "    </tr>\n",
              "    <tr>\n",
              "      <th>2481</th>\n",
              "      <td>A Manual of Acupuncture</td>\n",
              "      <td>MEDICAL</td>\n",
              "      <td>3.50</td>\n",
              "      <td>214</td>\n",
              "      <td>68.00</td>\n",
              "      <td>1000</td>\n",
              "      <td>Paid</td>\n",
              "      <td>33.99</td>\n",
              "      <td>Everyone</td>\n",
              "      <td>Medical</td>\n",
              "    </tr>\n",
              "    <tr>\n",
              "      <th>2463</th>\n",
              "      <td>PTA Content Master</td>\n",
              "      <td>MEDICAL</td>\n",
              "      <td>4.20</td>\n",
              "      <td>64</td>\n",
              "      <td>41.00</td>\n",
              "      <td>1000</td>\n",
              "      <td>Paid</td>\n",
              "      <td>29.99</td>\n",
              "      <td>Everyone</td>\n",
              "      <td>Medical</td>\n",
              "    </tr>\n",
              "  </tbody>\n",
              "</table>\n",
              "</div>\n",
              "      <button class=\"colab-df-convert\" onclick=\"convertToInteractive('df-dc7de77c-25fd-4f31-aec2-41255d0c0e2f')\"\n",
              "              title=\"Convert this dataframe to an interactive table.\"\n",
              "              style=\"display:none;\">\n",
              "        \n",
              "  <svg xmlns=\"http://www.w3.org/2000/svg\" height=\"24px\"viewBox=\"0 0 24 24\"\n",
              "       width=\"24px\">\n",
              "    <path d=\"M0 0h24v24H0V0z\" fill=\"none\"/>\n",
              "    <path d=\"M18.56 5.44l.94 2.06.94-2.06 2.06-.94-2.06-.94-.94-2.06-.94 2.06-2.06.94zm-11 1L8.5 8.5l.94-2.06 2.06-.94-2.06-.94L8.5 2.5l-.94 2.06-2.06.94zm10 10l.94 2.06.94-2.06 2.06-.94-2.06-.94-.94-2.06-.94 2.06-2.06.94z\"/><path d=\"M17.41 7.96l-1.37-1.37c-.4-.4-.92-.59-1.43-.59-.52 0-1.04.2-1.43.59L10.3 9.45l-7.72 7.72c-.78.78-.78 2.05 0 2.83L4 21.41c.39.39.9.59 1.41.59.51 0 1.02-.2 1.41-.59l7.78-7.78 2.81-2.81c.8-.78.8-2.07 0-2.86zM5.41 20L4 18.59l7.72-7.72 1.47 1.35L5.41 20z\"/>\n",
              "  </svg>\n",
              "      </button>\n",
              "      \n",
              "  <style>\n",
              "    .colab-df-container {\n",
              "      display:flex;\n",
              "      flex-wrap:wrap;\n",
              "      gap: 12px;\n",
              "    }\n",
              "\n",
              "    .colab-df-convert {\n",
              "      background-color: #E8F0FE;\n",
              "      border: none;\n",
              "      border-radius: 50%;\n",
              "      cursor: pointer;\n",
              "      display: none;\n",
              "      fill: #1967D2;\n",
              "      height: 32px;\n",
              "      padding: 0 0 0 0;\n",
              "      width: 32px;\n",
              "    }\n",
              "\n",
              "    .colab-df-convert:hover {\n",
              "      background-color: #E2EBFA;\n",
              "      box-shadow: 0px 1px 2px rgba(60, 64, 67, 0.3), 0px 1px 3px 1px rgba(60, 64, 67, 0.15);\n",
              "      fill: #174EA6;\n",
              "    }\n",
              "\n",
              "    [theme=dark] .colab-df-convert {\n",
              "      background-color: #3B4455;\n",
              "      fill: #D2E3FC;\n",
              "    }\n",
              "\n",
              "    [theme=dark] .colab-df-convert:hover {\n",
              "      background-color: #434B5C;\n",
              "      box-shadow: 0px 1px 3px 1px rgba(0, 0, 0, 0.15);\n",
              "      filter: drop-shadow(0px 1px 2px rgba(0, 0, 0, 0.3));\n",
              "      fill: #FFFFFF;\n",
              "    }\n",
              "  </style>\n",
              "\n",
              "      <script>\n",
              "        const buttonEl =\n",
              "          document.querySelector('#df-dc7de77c-25fd-4f31-aec2-41255d0c0e2f button.colab-df-convert');\n",
              "        buttonEl.style.display =\n",
              "          google.colab.kernel.accessAllowed ? 'block' : 'none';\n",
              "\n",
              "        async function convertToInteractive(key) {\n",
              "          const element = document.querySelector('#df-dc7de77c-25fd-4f31-aec2-41255d0c0e2f');\n",
              "          const dataTable =\n",
              "            await google.colab.kernel.invokeFunction('convertToInteractive',\n",
              "                                                     [key], {});\n",
              "          if (!dataTable) return;\n",
              "\n",
              "          const docLinkHtml = 'Like what you see? Visit the ' +\n",
              "            '<a target=\"_blank\" href=https://colab.research.google.com/notebooks/data_table.ipynb>data table notebook</a>'\n",
              "            + ' to learn more about interactive tables.';\n",
              "          element.innerHTML = '';\n",
              "          dataTable['output_type'] = 'display_data';\n",
              "          await google.colab.output.renderOutput(dataTable, element);\n",
              "          const docLink = document.createElement('div');\n",
              "          docLink.innerHTML = docLinkHtml;\n",
              "          element.appendChild(docLink);\n",
              "        }\n",
              "      </script>\n",
              "    </div>\n",
              "  </div>\n",
              "  "
            ]
          },
          "metadata": {},
          "execution_count": 39
        }
      ]
    },
    {
      "cell_type": "markdown",
      "metadata": {
        "id": "VGu85CLb4OOH"
      },
      "source": [
        "### Highest Grossing Paid Apps (ballpark estimate)"
      ]
    },
    {
      "cell_type": "code",
      "metadata": {
        "id": "3mDi45iIoVzE"
      },
      "source": [
        "df_apps_clean['Revenue Estimate'] = df_apps_clean['Price'].mul(df_apps_clean['Installs'])"
      ],
      "execution_count": 40,
      "outputs": []
    },
    {
      "cell_type": "code",
      "source": [
        "df_apps_clean.sort_values('Revenue Estimate', ascending=False).head()"
      ],
      "metadata": {
        "colab": {
          "base_uri": "https://localhost:8080/",
          "height": 461
        },
        "id": "2xDC-_3L6N5p",
        "outputId": "a23bcb5c-3d7c-4f30-d710-6949447af4ae"
      },
      "execution_count": 41,
      "outputs": [
        {
          "output_type": "execute_result",
          "data": {
            "text/plain": [
              "                                App     Category  Rating  Reviews  Size_MBs  \\\n",
              "9220                      Minecraft       FAMILY    4.50  2376564     19.00   \n",
              "8825                  Hitman Sniper         GAME    4.60   408292     29.00   \n",
              "7151  Grand Theft Auto: San Andreas         GAME    4.40   348962     26.00   \n",
              "7477            Facetune - For Free  PHOTOGRAPHY    4.40    49553     48.00   \n",
              "7977        Sleep as Android Unlock    LIFESTYLE    4.50    23966      0.85   \n",
              "\n",
              "      Installs  Type  Price Content_Rating                     Genres  \\\n",
              "9220  10000000  Paid   6.99   Everyone 10+  Arcade;Action & Adventure   \n",
              "8825  10000000  Paid   0.99     Mature 17+                     Action   \n",
              "7151   1000000  Paid   6.99     Mature 17+                     Action   \n",
              "7477   1000000  Paid   5.99       Everyone                Photography   \n",
              "7977   1000000  Paid   5.99       Everyone                  Lifestyle   \n",
              "\n",
              "      Revenue Estimate  \n",
              "9220     69,900,000.00  \n",
              "8825      9,900,000.00  \n",
              "7151      6,990,000.00  \n",
              "7477      5,990,000.00  \n",
              "7977      5,990,000.00  "
            ],
            "text/html": [
              "\n",
              "  <div id=\"df-2db3a002-4af9-49d8-a1c1-323921b52f64\">\n",
              "    <div class=\"colab-df-container\">\n",
              "      <div>\n",
              "<style scoped>\n",
              "    .dataframe tbody tr th:only-of-type {\n",
              "        vertical-align: middle;\n",
              "    }\n",
              "\n",
              "    .dataframe tbody tr th {\n",
              "        vertical-align: top;\n",
              "    }\n",
              "\n",
              "    .dataframe thead th {\n",
              "        text-align: right;\n",
              "    }\n",
              "</style>\n",
              "<table border=\"1\" class=\"dataframe\">\n",
              "  <thead>\n",
              "    <tr style=\"text-align: right;\">\n",
              "      <th></th>\n",
              "      <th>App</th>\n",
              "      <th>Category</th>\n",
              "      <th>Rating</th>\n",
              "      <th>Reviews</th>\n",
              "      <th>Size_MBs</th>\n",
              "      <th>Installs</th>\n",
              "      <th>Type</th>\n",
              "      <th>Price</th>\n",
              "      <th>Content_Rating</th>\n",
              "      <th>Genres</th>\n",
              "      <th>Revenue Estimate</th>\n",
              "    </tr>\n",
              "  </thead>\n",
              "  <tbody>\n",
              "    <tr>\n",
              "      <th>9220</th>\n",
              "      <td>Minecraft</td>\n",
              "      <td>FAMILY</td>\n",
              "      <td>4.50</td>\n",
              "      <td>2376564</td>\n",
              "      <td>19.00</td>\n",
              "      <td>10000000</td>\n",
              "      <td>Paid</td>\n",
              "      <td>6.99</td>\n",
              "      <td>Everyone 10+</td>\n",
              "      <td>Arcade;Action &amp; Adventure</td>\n",
              "      <td>69,900,000.00</td>\n",
              "    </tr>\n",
              "    <tr>\n",
              "      <th>8825</th>\n",
              "      <td>Hitman Sniper</td>\n",
              "      <td>GAME</td>\n",
              "      <td>4.60</td>\n",
              "      <td>408292</td>\n",
              "      <td>29.00</td>\n",
              "      <td>10000000</td>\n",
              "      <td>Paid</td>\n",
              "      <td>0.99</td>\n",
              "      <td>Mature 17+</td>\n",
              "      <td>Action</td>\n",
              "      <td>9,900,000.00</td>\n",
              "    </tr>\n",
              "    <tr>\n",
              "      <th>7151</th>\n",
              "      <td>Grand Theft Auto: San Andreas</td>\n",
              "      <td>GAME</td>\n",
              "      <td>4.40</td>\n",
              "      <td>348962</td>\n",
              "      <td>26.00</td>\n",
              "      <td>1000000</td>\n",
              "      <td>Paid</td>\n",
              "      <td>6.99</td>\n",
              "      <td>Mature 17+</td>\n",
              "      <td>Action</td>\n",
              "      <td>6,990,000.00</td>\n",
              "    </tr>\n",
              "    <tr>\n",
              "      <th>7477</th>\n",
              "      <td>Facetune - For Free</td>\n",
              "      <td>PHOTOGRAPHY</td>\n",
              "      <td>4.40</td>\n",
              "      <td>49553</td>\n",
              "      <td>48.00</td>\n",
              "      <td>1000000</td>\n",
              "      <td>Paid</td>\n",
              "      <td>5.99</td>\n",
              "      <td>Everyone</td>\n",
              "      <td>Photography</td>\n",
              "      <td>5,990,000.00</td>\n",
              "    </tr>\n",
              "    <tr>\n",
              "      <th>7977</th>\n",
              "      <td>Sleep as Android Unlock</td>\n",
              "      <td>LIFESTYLE</td>\n",
              "      <td>4.50</td>\n",
              "      <td>23966</td>\n",
              "      <td>0.85</td>\n",
              "      <td>1000000</td>\n",
              "      <td>Paid</td>\n",
              "      <td>5.99</td>\n",
              "      <td>Everyone</td>\n",
              "      <td>Lifestyle</td>\n",
              "      <td>5,990,000.00</td>\n",
              "    </tr>\n",
              "  </tbody>\n",
              "</table>\n",
              "</div>\n",
              "      <button class=\"colab-df-convert\" onclick=\"convertToInteractive('df-2db3a002-4af9-49d8-a1c1-323921b52f64')\"\n",
              "              title=\"Convert this dataframe to an interactive table.\"\n",
              "              style=\"display:none;\">\n",
              "        \n",
              "  <svg xmlns=\"http://www.w3.org/2000/svg\" height=\"24px\"viewBox=\"0 0 24 24\"\n",
              "       width=\"24px\">\n",
              "    <path d=\"M0 0h24v24H0V0z\" fill=\"none\"/>\n",
              "    <path d=\"M18.56 5.44l.94 2.06.94-2.06 2.06-.94-2.06-.94-.94-2.06-.94 2.06-2.06.94zm-11 1L8.5 8.5l.94-2.06 2.06-.94-2.06-.94L8.5 2.5l-.94 2.06-2.06.94zm10 10l.94 2.06.94-2.06 2.06-.94-2.06-.94-.94-2.06-.94 2.06-2.06.94z\"/><path d=\"M17.41 7.96l-1.37-1.37c-.4-.4-.92-.59-1.43-.59-.52 0-1.04.2-1.43.59L10.3 9.45l-7.72 7.72c-.78.78-.78 2.05 0 2.83L4 21.41c.39.39.9.59 1.41.59.51 0 1.02-.2 1.41-.59l7.78-7.78 2.81-2.81c.8-.78.8-2.07 0-2.86zM5.41 20L4 18.59l7.72-7.72 1.47 1.35L5.41 20z\"/>\n",
              "  </svg>\n",
              "      </button>\n",
              "      \n",
              "  <style>\n",
              "    .colab-df-container {\n",
              "      display:flex;\n",
              "      flex-wrap:wrap;\n",
              "      gap: 12px;\n",
              "    }\n",
              "\n",
              "    .colab-df-convert {\n",
              "      background-color: #E8F0FE;\n",
              "      border: none;\n",
              "      border-radius: 50%;\n",
              "      cursor: pointer;\n",
              "      display: none;\n",
              "      fill: #1967D2;\n",
              "      height: 32px;\n",
              "      padding: 0 0 0 0;\n",
              "      width: 32px;\n",
              "    }\n",
              "\n",
              "    .colab-df-convert:hover {\n",
              "      background-color: #E2EBFA;\n",
              "      box-shadow: 0px 1px 2px rgba(60, 64, 67, 0.3), 0px 1px 3px 1px rgba(60, 64, 67, 0.15);\n",
              "      fill: #174EA6;\n",
              "    }\n",
              "\n",
              "    [theme=dark] .colab-df-convert {\n",
              "      background-color: #3B4455;\n",
              "      fill: #D2E3FC;\n",
              "    }\n",
              "\n",
              "    [theme=dark] .colab-df-convert:hover {\n",
              "      background-color: #434B5C;\n",
              "      box-shadow: 0px 1px 3px 1px rgba(0, 0, 0, 0.15);\n",
              "      filter: drop-shadow(0px 1px 2px rgba(0, 0, 0, 0.3));\n",
              "      fill: #FFFFFF;\n",
              "    }\n",
              "  </style>\n",
              "\n",
              "      <script>\n",
              "        const buttonEl =\n",
              "          document.querySelector('#df-2db3a002-4af9-49d8-a1c1-323921b52f64 button.colab-df-convert');\n",
              "        buttonEl.style.display =\n",
              "          google.colab.kernel.accessAllowed ? 'block' : 'none';\n",
              "\n",
              "        async function convertToInteractive(key) {\n",
              "          const element = document.querySelector('#df-2db3a002-4af9-49d8-a1c1-323921b52f64');\n",
              "          const dataTable =\n",
              "            await google.colab.kernel.invokeFunction('convertToInteractive',\n",
              "                                                     [key], {});\n",
              "          if (!dataTable) return;\n",
              "\n",
              "          const docLinkHtml = 'Like what you see? Visit the ' +\n",
              "            '<a target=\"_blank\" href=https://colab.research.google.com/notebooks/data_table.ipynb>data table notebook</a>'\n",
              "            + ' to learn more about interactive tables.';\n",
              "          element.innerHTML = '';\n",
              "          dataTable['output_type'] = 'display_data';\n",
              "          await google.colab.output.renderOutput(dataTable, element);\n",
              "          const docLink = document.createElement('div');\n",
              "          docLink.innerHTML = docLinkHtml;\n",
              "          element.appendChild(docLink);\n",
              "        }\n",
              "      </script>\n",
              "    </div>\n",
              "  </div>\n",
              "  "
            ]
          },
          "metadata": {},
          "execution_count": 41
        }
      ]
    },
    {
      "cell_type": "markdown",
      "metadata": {
        "dc": {
          "key": "18"
        },
        "run_control": {
          "frozen": true
        },
        "tags": [
          "context"
        ],
        "id": "lvpM2MyTdiU6"
      },
      "source": [
        "# Plotly Bar Charts & Scatter Plots: Analysing App Categories"
      ]
    },
    {
      "cell_type": "code",
      "metadata": {
        "id": "3L6hK0aLoYxY",
        "colab": {
          "base_uri": "https://localhost:8080/"
        },
        "outputId": "4c07a4e2-15d0-4a4b-ce43-1eca2170a8ca"
      },
      "source": [
        "df_apps_clean['Category'].value_counts()"
      ],
      "execution_count": 42,
      "outputs": [
        {
          "output_type": "execute_result",
          "data": {
            "text/plain": [
              "FAMILY                 1606\n",
              "GAME                    910\n",
              "TOOLS                   719\n",
              "PRODUCTIVITY            301\n",
              "PERSONALIZATION         298\n",
              "LIFESTYLE               297\n",
              "FINANCE                 296\n",
              "MEDICAL                 292\n",
              "PHOTOGRAPHY             263\n",
              "BUSINESS                262\n",
              "SPORTS                  260\n",
              "COMMUNICATION           257\n",
              "HEALTH_AND_FITNESS      243\n",
              "NEWS_AND_MAGAZINES      204\n",
              "SOCIAL                  203\n",
              "TRAVEL_AND_LOCAL        187\n",
              "SHOPPING                180\n",
              "BOOKS_AND_REFERENCE     169\n",
              "VIDEO_PLAYERS           148\n",
              "DATING                  134\n",
              "EDUCATION               118\n",
              "MAPS_AND_NAVIGATION     118\n",
              "ENTERTAINMENT           102\n",
              "FOOD_AND_DRINK           94\n",
              "AUTO_AND_VEHICLES        73\n",
              "WEATHER                  72\n",
              "LIBRARIES_AND_DEMO       64\n",
              "HOUSE_AND_HOME           62\n",
              "ART_AND_DESIGN           61\n",
              "COMICS                   54\n",
              "PARENTING                50\n",
              "EVENTS                   45\n",
              "BEAUTY                   42\n",
              "Name: Category, dtype: int64"
            ]
          },
          "metadata": {},
          "execution_count": 42
        }
      ]
    },
    {
      "cell_type": "code",
      "metadata": {
        "id": "mg50Ts9joYz1",
        "colab": {
          "base_uri": "https://localhost:8080/"
        },
        "outputId": "82f07cb9-b3cd-4521-e799-2201f1ca5f8f"
      },
      "source": [
        "df_apps_clean['Category'].nunique()"
      ],
      "execution_count": 43,
      "outputs": [
        {
          "output_type": "execute_result",
          "data": {
            "text/plain": [
              "33"
            ]
          },
          "metadata": {},
          "execution_count": 43
        }
      ]
    },
    {
      "cell_type": "code",
      "metadata": {
        "id": "WZZizlGjoYfn"
      },
      "source": [
        "top_10_category = df_apps_clean['Category'].value_counts()[0:10]"
      ],
      "execution_count": 44,
      "outputs": []
    },
    {
      "cell_type": "code",
      "source": [
        "bar = px.bar(x=top_10_category.index, y=top_10_category.values)\n",
        "bar.show()"
      ],
      "metadata": {
        "colab": {
          "base_uri": "https://localhost:8080/",
          "height": 542
        },
        "id": "yuhI30uy_cbS",
        "outputId": "e490fbb3-a2e1-4fe3-e82b-c9edb7233157"
      },
      "execution_count": 45,
      "outputs": [
        {
          "output_type": "display_data",
          "data": {
            "text/html": [
              "<html>\n",
              "<head><meta charset=\"utf-8\" /></head>\n",
              "<body>\n",
              "    <div>            <script src=\"https://cdnjs.cloudflare.com/ajax/libs/mathjax/2.7.5/MathJax.js?config=TeX-AMS-MML_SVG\"></script><script type=\"text/javascript\">if (window.MathJax) {MathJax.Hub.Config({SVG: {font: \"STIX-Web\"}});}</script>                <script type=\"text/javascript\">window.PlotlyConfig = {MathJaxConfig: 'local'};</script>\n",
              "        <script src=\"https://cdn.plot.ly/plotly-2.8.3.min.js\"></script>                <div id=\"b020a310-2e95-4bd1-8b4e-053fe766dc56\" class=\"plotly-graph-div\" style=\"height:525px; width:100%;\"></div>            <script type=\"text/javascript\">                                    window.PLOTLYENV=window.PLOTLYENV || {};                                    if (document.getElementById(\"b020a310-2e95-4bd1-8b4e-053fe766dc56\")) {                    Plotly.newPlot(                        \"b020a310-2e95-4bd1-8b4e-053fe766dc56\",                        [{\"alignmentgroup\":\"True\",\"hovertemplate\":\"x=%{x}<br>y=%{y}<extra></extra>\",\"legendgroup\":\"\",\"marker\":{\"color\":\"#636efa\",\"pattern\":{\"shape\":\"\"}},\"name\":\"\",\"offsetgroup\":\"\",\"orientation\":\"v\",\"showlegend\":false,\"textposition\":\"auto\",\"x\":[\"FAMILY\",\"GAME\",\"TOOLS\",\"PRODUCTIVITY\",\"PERSONALIZATION\",\"LIFESTYLE\",\"FINANCE\",\"MEDICAL\",\"PHOTOGRAPHY\",\"BUSINESS\"],\"xaxis\":\"x\",\"y\":[1606,910,719,301,298,297,296,292,263,262],\"yaxis\":\"y\",\"type\":\"bar\"}],                        {\"template\":{\"data\":{\"bar\":[{\"error_x\":{\"color\":\"#2a3f5f\"},\"error_y\":{\"color\":\"#2a3f5f\"},\"marker\":{\"line\":{\"color\":\"#E5ECF6\",\"width\":0.5},\"pattern\":{\"fillmode\":\"overlay\",\"size\":10,\"solidity\":0.2}},\"type\":\"bar\"}],\"barpolar\":[{\"marker\":{\"line\":{\"color\":\"#E5ECF6\",\"width\":0.5},\"pattern\":{\"fillmode\":\"overlay\",\"size\":10,\"solidity\":0.2}},\"type\":\"barpolar\"}],\"carpet\":[{\"aaxis\":{\"endlinecolor\":\"#2a3f5f\",\"gridcolor\":\"white\",\"linecolor\":\"white\",\"minorgridcolor\":\"white\",\"startlinecolor\":\"#2a3f5f\"},\"baxis\":{\"endlinecolor\":\"#2a3f5f\",\"gridcolor\":\"white\",\"linecolor\":\"white\",\"minorgridcolor\":\"white\",\"startlinecolor\":\"#2a3f5f\"},\"type\":\"carpet\"}],\"choropleth\":[{\"colorbar\":{\"outlinewidth\":0,\"ticks\":\"\"},\"type\":\"choropleth\"}],\"contour\":[{\"colorbar\":{\"outlinewidth\":0,\"ticks\":\"\"},\"colorscale\":[[0.0,\"#0d0887\"],[0.1111111111111111,\"#46039f\"],[0.2222222222222222,\"#7201a8\"],[0.3333333333333333,\"#9c179e\"],[0.4444444444444444,\"#bd3786\"],[0.5555555555555556,\"#d8576b\"],[0.6666666666666666,\"#ed7953\"],[0.7777777777777778,\"#fb9f3a\"],[0.8888888888888888,\"#fdca26\"],[1.0,\"#f0f921\"]],\"type\":\"contour\"}],\"contourcarpet\":[{\"colorbar\":{\"outlinewidth\":0,\"ticks\":\"\"},\"type\":\"contourcarpet\"}],\"heatmap\":[{\"colorbar\":{\"outlinewidth\":0,\"ticks\":\"\"},\"colorscale\":[[0.0,\"#0d0887\"],[0.1111111111111111,\"#46039f\"],[0.2222222222222222,\"#7201a8\"],[0.3333333333333333,\"#9c179e\"],[0.4444444444444444,\"#bd3786\"],[0.5555555555555556,\"#d8576b\"],[0.6666666666666666,\"#ed7953\"],[0.7777777777777778,\"#fb9f3a\"],[0.8888888888888888,\"#fdca26\"],[1.0,\"#f0f921\"]],\"type\":\"heatmap\"}],\"heatmapgl\":[{\"colorbar\":{\"outlinewidth\":0,\"ticks\":\"\"},\"colorscale\":[[0.0,\"#0d0887\"],[0.1111111111111111,\"#46039f\"],[0.2222222222222222,\"#7201a8\"],[0.3333333333333333,\"#9c179e\"],[0.4444444444444444,\"#bd3786\"],[0.5555555555555556,\"#d8576b\"],[0.6666666666666666,\"#ed7953\"],[0.7777777777777778,\"#fb9f3a\"],[0.8888888888888888,\"#fdca26\"],[1.0,\"#f0f921\"]],\"type\":\"heatmapgl\"}],\"histogram\":[{\"marker\":{\"pattern\":{\"fillmode\":\"overlay\",\"size\":10,\"solidity\":0.2}},\"type\":\"histogram\"}],\"histogram2d\":[{\"colorbar\":{\"outlinewidth\":0,\"ticks\":\"\"},\"colorscale\":[[0.0,\"#0d0887\"],[0.1111111111111111,\"#46039f\"],[0.2222222222222222,\"#7201a8\"],[0.3333333333333333,\"#9c179e\"],[0.4444444444444444,\"#bd3786\"],[0.5555555555555556,\"#d8576b\"],[0.6666666666666666,\"#ed7953\"],[0.7777777777777778,\"#fb9f3a\"],[0.8888888888888888,\"#fdca26\"],[1.0,\"#f0f921\"]],\"type\":\"histogram2d\"}],\"histogram2dcontour\":[{\"colorbar\":{\"outlinewidth\":0,\"ticks\":\"\"},\"colorscale\":[[0.0,\"#0d0887\"],[0.1111111111111111,\"#46039f\"],[0.2222222222222222,\"#7201a8\"],[0.3333333333333333,\"#9c179e\"],[0.4444444444444444,\"#bd3786\"],[0.5555555555555556,\"#d8576b\"],[0.6666666666666666,\"#ed7953\"],[0.7777777777777778,\"#fb9f3a\"],[0.8888888888888888,\"#fdca26\"],[1.0,\"#f0f921\"]],\"type\":\"histogram2dcontour\"}],\"mesh3d\":[{\"colorbar\":{\"outlinewidth\":0,\"ticks\":\"\"},\"type\":\"mesh3d\"}],\"parcoords\":[{\"line\":{\"colorbar\":{\"outlinewidth\":0,\"ticks\":\"\"}},\"type\":\"parcoords\"}],\"pie\":[{\"automargin\":true,\"type\":\"pie\"}],\"scatter\":[{\"marker\":{\"colorbar\":{\"outlinewidth\":0,\"ticks\":\"\"}},\"type\":\"scatter\"}],\"scatter3d\":[{\"line\":{\"colorbar\":{\"outlinewidth\":0,\"ticks\":\"\"}},\"marker\":{\"colorbar\":{\"outlinewidth\":0,\"ticks\":\"\"}},\"type\":\"scatter3d\"}],\"scattercarpet\":[{\"marker\":{\"colorbar\":{\"outlinewidth\":0,\"ticks\":\"\"}},\"type\":\"scattercarpet\"}],\"scattergeo\":[{\"marker\":{\"colorbar\":{\"outlinewidth\":0,\"ticks\":\"\"}},\"type\":\"scattergeo\"}],\"scattergl\":[{\"marker\":{\"colorbar\":{\"outlinewidth\":0,\"ticks\":\"\"}},\"type\":\"scattergl\"}],\"scattermapbox\":[{\"marker\":{\"colorbar\":{\"outlinewidth\":0,\"ticks\":\"\"}},\"type\":\"scattermapbox\"}],\"scatterpolar\":[{\"marker\":{\"colorbar\":{\"outlinewidth\":0,\"ticks\":\"\"}},\"type\":\"scatterpolar\"}],\"scatterpolargl\":[{\"marker\":{\"colorbar\":{\"outlinewidth\":0,\"ticks\":\"\"}},\"type\":\"scatterpolargl\"}],\"scatterternary\":[{\"marker\":{\"colorbar\":{\"outlinewidth\":0,\"ticks\":\"\"}},\"type\":\"scatterternary\"}],\"surface\":[{\"colorbar\":{\"outlinewidth\":0,\"ticks\":\"\"},\"colorscale\":[[0.0,\"#0d0887\"],[0.1111111111111111,\"#46039f\"],[0.2222222222222222,\"#7201a8\"],[0.3333333333333333,\"#9c179e\"],[0.4444444444444444,\"#bd3786\"],[0.5555555555555556,\"#d8576b\"],[0.6666666666666666,\"#ed7953\"],[0.7777777777777778,\"#fb9f3a\"],[0.8888888888888888,\"#fdca26\"],[1.0,\"#f0f921\"]],\"type\":\"surface\"}],\"table\":[{\"cells\":{\"fill\":{\"color\":\"#EBF0F8\"},\"line\":{\"color\":\"white\"}},\"header\":{\"fill\":{\"color\":\"#C8D4E3\"},\"line\":{\"color\":\"white\"}},\"type\":\"table\"}]},\"layout\":{\"annotationdefaults\":{\"arrowcolor\":\"#2a3f5f\",\"arrowhead\":0,\"arrowwidth\":1},\"autotypenumbers\":\"strict\",\"coloraxis\":{\"colorbar\":{\"outlinewidth\":0,\"ticks\":\"\"}},\"colorscale\":{\"diverging\":[[0,\"#8e0152\"],[0.1,\"#c51b7d\"],[0.2,\"#de77ae\"],[0.3,\"#f1b6da\"],[0.4,\"#fde0ef\"],[0.5,\"#f7f7f7\"],[0.6,\"#e6f5d0\"],[0.7,\"#b8e186\"],[0.8,\"#7fbc41\"],[0.9,\"#4d9221\"],[1,\"#276419\"]],\"sequential\":[[0.0,\"#0d0887\"],[0.1111111111111111,\"#46039f\"],[0.2222222222222222,\"#7201a8\"],[0.3333333333333333,\"#9c179e\"],[0.4444444444444444,\"#bd3786\"],[0.5555555555555556,\"#d8576b\"],[0.6666666666666666,\"#ed7953\"],[0.7777777777777778,\"#fb9f3a\"],[0.8888888888888888,\"#fdca26\"],[1.0,\"#f0f921\"]],\"sequentialminus\":[[0.0,\"#0d0887\"],[0.1111111111111111,\"#46039f\"],[0.2222222222222222,\"#7201a8\"],[0.3333333333333333,\"#9c179e\"],[0.4444444444444444,\"#bd3786\"],[0.5555555555555556,\"#d8576b\"],[0.6666666666666666,\"#ed7953\"],[0.7777777777777778,\"#fb9f3a\"],[0.8888888888888888,\"#fdca26\"],[1.0,\"#f0f921\"]]},\"colorway\":[\"#636efa\",\"#EF553B\",\"#00cc96\",\"#ab63fa\",\"#FFA15A\",\"#19d3f3\",\"#FF6692\",\"#B6E880\",\"#FF97FF\",\"#FECB52\"],\"font\":{\"color\":\"#2a3f5f\"},\"geo\":{\"bgcolor\":\"white\",\"lakecolor\":\"white\",\"landcolor\":\"#E5ECF6\",\"showlakes\":true,\"showland\":true,\"subunitcolor\":\"white\"},\"hoverlabel\":{\"align\":\"left\"},\"hovermode\":\"closest\",\"mapbox\":{\"style\":\"light\"},\"paper_bgcolor\":\"white\",\"plot_bgcolor\":\"#E5ECF6\",\"polar\":{\"angularaxis\":{\"gridcolor\":\"white\",\"linecolor\":\"white\",\"ticks\":\"\"},\"bgcolor\":\"#E5ECF6\",\"radialaxis\":{\"gridcolor\":\"white\",\"linecolor\":\"white\",\"ticks\":\"\"}},\"scene\":{\"xaxis\":{\"backgroundcolor\":\"#E5ECF6\",\"gridcolor\":\"white\",\"gridwidth\":2,\"linecolor\":\"white\",\"showbackground\":true,\"ticks\":\"\",\"zerolinecolor\":\"white\"},\"yaxis\":{\"backgroundcolor\":\"#E5ECF6\",\"gridcolor\":\"white\",\"gridwidth\":2,\"linecolor\":\"white\",\"showbackground\":true,\"ticks\":\"\",\"zerolinecolor\":\"white\"},\"zaxis\":{\"backgroundcolor\":\"#E5ECF6\",\"gridcolor\":\"white\",\"gridwidth\":2,\"linecolor\":\"white\",\"showbackground\":true,\"ticks\":\"\",\"zerolinecolor\":\"white\"}},\"shapedefaults\":{\"line\":{\"color\":\"#2a3f5f\"}},\"ternary\":{\"aaxis\":{\"gridcolor\":\"white\",\"linecolor\":\"white\",\"ticks\":\"\"},\"baxis\":{\"gridcolor\":\"white\",\"linecolor\":\"white\",\"ticks\":\"\"},\"bgcolor\":\"#E5ECF6\",\"caxis\":{\"gridcolor\":\"white\",\"linecolor\":\"white\",\"ticks\":\"\"}},\"title\":{\"x\":0.05},\"xaxis\":{\"automargin\":true,\"gridcolor\":\"white\",\"linecolor\":\"white\",\"ticks\":\"\",\"title\":{\"standoff\":15},\"zerolinecolor\":\"white\",\"zerolinewidth\":2},\"yaxis\":{\"automargin\":true,\"gridcolor\":\"white\",\"linecolor\":\"white\",\"ticks\":\"\",\"title\":{\"standoff\":15},\"zerolinecolor\":\"white\",\"zerolinewidth\":2}}},\"xaxis\":{\"anchor\":\"y\",\"domain\":[0.0,1.0],\"title\":{\"text\":\"x\"}},\"yaxis\":{\"anchor\":\"x\",\"domain\":[0.0,1.0],\"title\":{\"text\":\"y\"}},\"legend\":{\"tracegroupgap\":0},\"margin\":{\"t\":60},\"barmode\":\"relative\"},                        {\"responsive\": true}                    ).then(function(){\n",
              "                            \n",
              "var gd = document.getElementById('b020a310-2e95-4bd1-8b4e-053fe766dc56');\n",
              "var x = new MutationObserver(function (mutations, observer) {{\n",
              "        var display = window.getComputedStyle(gd).display;\n",
              "        if (!display || display === 'none') {{\n",
              "            console.log([gd, 'removed!']);\n",
              "            Plotly.purge(gd);\n",
              "            observer.disconnect();\n",
              "        }}\n",
              "}});\n",
              "\n",
              "// Listen for the removal of the full notebook cells\n",
              "var notebookContainer = gd.closest('#notebook-container');\n",
              "if (notebookContainer) {{\n",
              "    x.observe(notebookContainer, {childList: true});\n",
              "}}\n",
              "\n",
              "// Listen for the clearing of the current output cell\n",
              "var outputEl = gd.closest('.output');\n",
              "if (outputEl) {{\n",
              "    x.observe(outputEl, {childList: true});\n",
              "}}\n",
              "\n",
              "                        })                };                            </script>        </div>\n",
              "</body>\n",
              "</html>"
            ]
          },
          "metadata": {}
        }
      ]
    },
    {
      "cell_type": "markdown",
      "metadata": {
        "id": "0tTurR7qdiU9"
      },
      "source": [
        "### Vertical Bar Chart - Highest Competition (Number of Apps)"
      ]
    },
    {
      "cell_type": "code",
      "metadata": {
        "id": "SFSMH00AoaMB"
      },
      "source": [
        ""
      ],
      "execution_count": null,
      "outputs": []
    },
    {
      "cell_type": "markdown",
      "metadata": {
        "id": "57mowetLdiU_"
      },
      "source": [
        "### Horizontal Bar Chart - Most Popular Categories (Highest Downloads)"
      ]
    },
    {
      "cell_type": "code",
      "metadata": {
        "id": "zHO7eTJmocLm",
        "colab": {
          "base_uri": "https://localhost:8080/",
          "height": 1000
        },
        "outputId": "9dcd5e03-97df-4f18-a0fc-2d5fff097c7b"
      },
      "source": [
        "category_installs = df_apps_clean.groupby('Category').agg({'Installs':pd.Series.sum})\n",
        "category_installs"
      ],
      "execution_count": 46,
      "outputs": [
        {
          "output_type": "execute_result",
          "data": {
            "text/plain": [
              "                        Installs\n",
              "Category                        \n",
              "ART_AND_DESIGN         114233100\n",
              "AUTO_AND_VEHICLES       53129800\n",
              "BEAUTY                  26916200\n",
              "BOOKS_AND_REFERENCE   1665791655\n",
              "BUSINESS               692018120\n",
              "COMICS                  44931100\n",
              "COMMUNICATION        11039241530\n",
              "DATING                 140912410\n",
              "EDUCATION              352852000\n",
              "ENTERTAINMENT         2113660000\n",
              "EVENTS                  15949410\n",
              "FAMILY                4437554490\n",
              "FINANCE                455249400\n",
              "FOOD_AND_DRINK         211677750\n",
              "GAME                 13858762717\n",
              "HEALTH_AND_FITNESS    1134006220\n",
              "HOUSE_AND_HOME          97082000\n",
              "LIBRARIES_AND_DEMO      52083000\n",
              "LIFESTYLE              503611120\n",
              "MAPS_AND_NAVIGATION    503267560\n",
              "MEDICAL                 39162676\n",
              "NEWS_AND_MAGAZINES    2369110650\n",
              "PARENTING               31116110\n",
              "PERSONALIZATION       1532352930\n",
              "PHOTOGRAPHY           4649143130\n",
              "PRODUCTIVITY          5788070180\n",
              "SHOPPING              1400331540\n",
              "SOCIAL                5487841475\n",
              "SPORTS                1096431465\n",
              "TOOLS                 8099724500\n",
              "TRAVEL_AND_LOCAL      2894859300\n",
              "VIDEO_PLAYERS         3916897200\n",
              "WEATHER                361096500"
            ],
            "text/html": [
              "\n",
              "  <div id=\"df-49d604e2-c523-47f9-bac4-ca8dbbf81f28\">\n",
              "    <div class=\"colab-df-container\">\n",
              "      <div>\n",
              "<style scoped>\n",
              "    .dataframe tbody tr th:only-of-type {\n",
              "        vertical-align: middle;\n",
              "    }\n",
              "\n",
              "    .dataframe tbody tr th {\n",
              "        vertical-align: top;\n",
              "    }\n",
              "\n",
              "    .dataframe thead th {\n",
              "        text-align: right;\n",
              "    }\n",
              "</style>\n",
              "<table border=\"1\" class=\"dataframe\">\n",
              "  <thead>\n",
              "    <tr style=\"text-align: right;\">\n",
              "      <th></th>\n",
              "      <th>Installs</th>\n",
              "    </tr>\n",
              "    <tr>\n",
              "      <th>Category</th>\n",
              "      <th></th>\n",
              "    </tr>\n",
              "  </thead>\n",
              "  <tbody>\n",
              "    <tr>\n",
              "      <th>ART_AND_DESIGN</th>\n",
              "      <td>114233100</td>\n",
              "    </tr>\n",
              "    <tr>\n",
              "      <th>AUTO_AND_VEHICLES</th>\n",
              "      <td>53129800</td>\n",
              "    </tr>\n",
              "    <tr>\n",
              "      <th>BEAUTY</th>\n",
              "      <td>26916200</td>\n",
              "    </tr>\n",
              "    <tr>\n",
              "      <th>BOOKS_AND_REFERENCE</th>\n",
              "      <td>1665791655</td>\n",
              "    </tr>\n",
              "    <tr>\n",
              "      <th>BUSINESS</th>\n",
              "      <td>692018120</td>\n",
              "    </tr>\n",
              "    <tr>\n",
              "      <th>COMICS</th>\n",
              "      <td>44931100</td>\n",
              "    </tr>\n",
              "    <tr>\n",
              "      <th>COMMUNICATION</th>\n",
              "      <td>11039241530</td>\n",
              "    </tr>\n",
              "    <tr>\n",
              "      <th>DATING</th>\n",
              "      <td>140912410</td>\n",
              "    </tr>\n",
              "    <tr>\n",
              "      <th>EDUCATION</th>\n",
              "      <td>352852000</td>\n",
              "    </tr>\n",
              "    <tr>\n",
              "      <th>ENTERTAINMENT</th>\n",
              "      <td>2113660000</td>\n",
              "    </tr>\n",
              "    <tr>\n",
              "      <th>EVENTS</th>\n",
              "      <td>15949410</td>\n",
              "    </tr>\n",
              "    <tr>\n",
              "      <th>FAMILY</th>\n",
              "      <td>4437554490</td>\n",
              "    </tr>\n",
              "    <tr>\n",
              "      <th>FINANCE</th>\n",
              "      <td>455249400</td>\n",
              "    </tr>\n",
              "    <tr>\n",
              "      <th>FOOD_AND_DRINK</th>\n",
              "      <td>211677750</td>\n",
              "    </tr>\n",
              "    <tr>\n",
              "      <th>GAME</th>\n",
              "      <td>13858762717</td>\n",
              "    </tr>\n",
              "    <tr>\n",
              "      <th>HEALTH_AND_FITNESS</th>\n",
              "      <td>1134006220</td>\n",
              "    </tr>\n",
              "    <tr>\n",
              "      <th>HOUSE_AND_HOME</th>\n",
              "      <td>97082000</td>\n",
              "    </tr>\n",
              "    <tr>\n",
              "      <th>LIBRARIES_AND_DEMO</th>\n",
              "      <td>52083000</td>\n",
              "    </tr>\n",
              "    <tr>\n",
              "      <th>LIFESTYLE</th>\n",
              "      <td>503611120</td>\n",
              "    </tr>\n",
              "    <tr>\n",
              "      <th>MAPS_AND_NAVIGATION</th>\n",
              "      <td>503267560</td>\n",
              "    </tr>\n",
              "    <tr>\n",
              "      <th>MEDICAL</th>\n",
              "      <td>39162676</td>\n",
              "    </tr>\n",
              "    <tr>\n",
              "      <th>NEWS_AND_MAGAZINES</th>\n",
              "      <td>2369110650</td>\n",
              "    </tr>\n",
              "    <tr>\n",
              "      <th>PARENTING</th>\n",
              "      <td>31116110</td>\n",
              "    </tr>\n",
              "    <tr>\n",
              "      <th>PERSONALIZATION</th>\n",
              "      <td>1532352930</td>\n",
              "    </tr>\n",
              "    <tr>\n",
              "      <th>PHOTOGRAPHY</th>\n",
              "      <td>4649143130</td>\n",
              "    </tr>\n",
              "    <tr>\n",
              "      <th>PRODUCTIVITY</th>\n",
              "      <td>5788070180</td>\n",
              "    </tr>\n",
              "    <tr>\n",
              "      <th>SHOPPING</th>\n",
              "      <td>1400331540</td>\n",
              "    </tr>\n",
              "    <tr>\n",
              "      <th>SOCIAL</th>\n",
              "      <td>5487841475</td>\n",
              "    </tr>\n",
              "    <tr>\n",
              "      <th>SPORTS</th>\n",
              "      <td>1096431465</td>\n",
              "    </tr>\n",
              "    <tr>\n",
              "      <th>TOOLS</th>\n",
              "      <td>8099724500</td>\n",
              "    </tr>\n",
              "    <tr>\n",
              "      <th>TRAVEL_AND_LOCAL</th>\n",
              "      <td>2894859300</td>\n",
              "    </tr>\n",
              "    <tr>\n",
              "      <th>VIDEO_PLAYERS</th>\n",
              "      <td>3916897200</td>\n",
              "    </tr>\n",
              "    <tr>\n",
              "      <th>WEATHER</th>\n",
              "      <td>361096500</td>\n",
              "    </tr>\n",
              "  </tbody>\n",
              "</table>\n",
              "</div>\n",
              "      <button class=\"colab-df-convert\" onclick=\"convertToInteractive('df-49d604e2-c523-47f9-bac4-ca8dbbf81f28')\"\n",
              "              title=\"Convert this dataframe to an interactive table.\"\n",
              "              style=\"display:none;\">\n",
              "        \n",
              "  <svg xmlns=\"http://www.w3.org/2000/svg\" height=\"24px\"viewBox=\"0 0 24 24\"\n",
              "       width=\"24px\">\n",
              "    <path d=\"M0 0h24v24H0V0z\" fill=\"none\"/>\n",
              "    <path d=\"M18.56 5.44l.94 2.06.94-2.06 2.06-.94-2.06-.94-.94-2.06-.94 2.06-2.06.94zm-11 1L8.5 8.5l.94-2.06 2.06-.94-2.06-.94L8.5 2.5l-.94 2.06-2.06.94zm10 10l.94 2.06.94-2.06 2.06-.94-2.06-.94-.94-2.06-.94 2.06-2.06.94z\"/><path d=\"M17.41 7.96l-1.37-1.37c-.4-.4-.92-.59-1.43-.59-.52 0-1.04.2-1.43.59L10.3 9.45l-7.72 7.72c-.78.78-.78 2.05 0 2.83L4 21.41c.39.39.9.59 1.41.59.51 0 1.02-.2 1.41-.59l7.78-7.78 2.81-2.81c.8-.78.8-2.07 0-2.86zM5.41 20L4 18.59l7.72-7.72 1.47 1.35L5.41 20z\"/>\n",
              "  </svg>\n",
              "      </button>\n",
              "      \n",
              "  <style>\n",
              "    .colab-df-container {\n",
              "      display:flex;\n",
              "      flex-wrap:wrap;\n",
              "      gap: 12px;\n",
              "    }\n",
              "\n",
              "    .colab-df-convert {\n",
              "      background-color: #E8F0FE;\n",
              "      border: none;\n",
              "      border-radius: 50%;\n",
              "      cursor: pointer;\n",
              "      display: none;\n",
              "      fill: #1967D2;\n",
              "      height: 32px;\n",
              "      padding: 0 0 0 0;\n",
              "      width: 32px;\n",
              "    }\n",
              "\n",
              "    .colab-df-convert:hover {\n",
              "      background-color: #E2EBFA;\n",
              "      box-shadow: 0px 1px 2px rgba(60, 64, 67, 0.3), 0px 1px 3px 1px rgba(60, 64, 67, 0.15);\n",
              "      fill: #174EA6;\n",
              "    }\n",
              "\n",
              "    [theme=dark] .colab-df-convert {\n",
              "      background-color: #3B4455;\n",
              "      fill: #D2E3FC;\n",
              "    }\n",
              "\n",
              "    [theme=dark] .colab-df-convert:hover {\n",
              "      background-color: #434B5C;\n",
              "      box-shadow: 0px 1px 3px 1px rgba(0, 0, 0, 0.15);\n",
              "      filter: drop-shadow(0px 1px 2px rgba(0, 0, 0, 0.3));\n",
              "      fill: #FFFFFF;\n",
              "    }\n",
              "  </style>\n",
              "\n",
              "      <script>\n",
              "        const buttonEl =\n",
              "          document.querySelector('#df-49d604e2-c523-47f9-bac4-ca8dbbf81f28 button.colab-df-convert');\n",
              "        buttonEl.style.display =\n",
              "          google.colab.kernel.accessAllowed ? 'block' : 'none';\n",
              "\n",
              "        async function convertToInteractive(key) {\n",
              "          const element = document.querySelector('#df-49d604e2-c523-47f9-bac4-ca8dbbf81f28');\n",
              "          const dataTable =\n",
              "            await google.colab.kernel.invokeFunction('convertToInteractive',\n",
              "                                                     [key], {});\n",
              "          if (!dataTable) return;\n",
              "\n",
              "          const docLinkHtml = 'Like what you see? Visit the ' +\n",
              "            '<a target=\"_blank\" href=https://colab.research.google.com/notebooks/data_table.ipynb>data table notebook</a>'\n",
              "            + ' to learn more about interactive tables.';\n",
              "          element.innerHTML = '';\n",
              "          dataTable['output_type'] = 'display_data';\n",
              "          await google.colab.output.renderOutput(dataTable, element);\n",
              "          const docLink = document.createElement('div');\n",
              "          docLink.innerHTML = docLinkHtml;\n",
              "          element.appendChild(docLink);\n",
              "        }\n",
              "      </script>\n",
              "    </div>\n",
              "  </div>\n",
              "  "
            ]
          },
          "metadata": {},
          "execution_count": 46
        }
      ]
    },
    {
      "cell_type": "code",
      "source": [
        "type(df_apps_clean['Category'].value_counts())"
      ],
      "metadata": {
        "colab": {
          "base_uri": "https://localhost:8080/"
        },
        "id": "ydBOc7nrHTNX",
        "outputId": "7def36ed-a5da-4711-d29d-f3b0a57a4d2e"
      },
      "execution_count": 47,
      "outputs": [
        {
          "output_type": "execute_result",
          "data": {
            "text/plain": [
              "pandas.core.series.Series"
            ]
          },
          "metadata": {},
          "execution_count": 47
        }
      ]
    },
    {
      "cell_type": "code",
      "metadata": {
        "id": "h7aUARLtocCy"
      },
      "source": [
        "category_installs.sort_values('Installs', ascending=False, inplace=True)"
      ],
      "execution_count": 48,
      "outputs": []
    },
    {
      "cell_type": "markdown",
      "source": [
        ""
      ],
      "metadata": {
        "id": "SsygxqtrDJfH"
      }
    },
    {
      "cell_type": "code",
      "source": [
        "category_installs.info()"
      ],
      "metadata": {
        "colab": {
          "base_uri": "https://localhost:8080/"
        },
        "id": "Nfayx23SCyno",
        "outputId": "2e2950ed-b564-4dcc-e475-51756fc0c2d6"
      },
      "execution_count": 49,
      "outputs": [
        {
          "output_type": "stream",
          "name": "stdout",
          "text": [
            "<class 'pandas.core.frame.DataFrame'>\n",
            "Index: 33 entries, GAME to EVENTS\n",
            "Data columns (total 1 columns):\n",
            " #   Column    Non-Null Count  Dtype\n",
            "---  ------    --------------  -----\n",
            " 0   Installs  33 non-null     int64\n",
            "dtypes: int64(1)\n",
            "memory usage: 528.0+ bytes\n"
          ]
        }
      ]
    },
    {
      "cell_type": "code",
      "source": [
        "h_bar = px.bar(x=category_installs.Installs, y=category_installs.index, orientation='h')\n",
        "h_bar.update_layout(xaxis_title='Number of Installs', yaxis_title='Category')\n",
        "h_bar.show()"
      ],
      "metadata": {
        "colab": {
          "base_uri": "https://localhost:8080/",
          "height": 542
        },
        "id": "zEJYFxM5BRKV",
        "outputId": "811f6d17-aa14-4cdc-c57b-8034fd45557d"
      },
      "execution_count": 50,
      "outputs": [
        {
          "output_type": "display_data",
          "data": {
            "text/html": [
              "<html>\n",
              "<head><meta charset=\"utf-8\" /></head>\n",
              "<body>\n",
              "    <div>            <script src=\"https://cdnjs.cloudflare.com/ajax/libs/mathjax/2.7.5/MathJax.js?config=TeX-AMS-MML_SVG\"></script><script type=\"text/javascript\">if (window.MathJax) {MathJax.Hub.Config({SVG: {font: \"STIX-Web\"}});}</script>                <script type=\"text/javascript\">window.PlotlyConfig = {MathJaxConfig: 'local'};</script>\n",
              "        <script src=\"https://cdn.plot.ly/plotly-2.8.3.min.js\"></script>                <div id=\"aa4fa551-0305-498e-b2f5-4bf3062f21b5\" class=\"plotly-graph-div\" style=\"height:525px; width:100%;\"></div>            <script type=\"text/javascript\">                                    window.PLOTLYENV=window.PLOTLYENV || {};                                    if (document.getElementById(\"aa4fa551-0305-498e-b2f5-4bf3062f21b5\")) {                    Plotly.newPlot(                        \"aa4fa551-0305-498e-b2f5-4bf3062f21b5\",                        [{\"alignmentgroup\":\"True\",\"hovertemplate\":\"x=%{x}<br>y=%{y}<extra></extra>\",\"legendgroup\":\"\",\"marker\":{\"color\":\"#636efa\",\"pattern\":{\"shape\":\"\"}},\"name\":\"\",\"offsetgroup\":\"\",\"orientation\":\"h\",\"showlegend\":false,\"textposition\":\"auto\",\"x\":[13858762717,11039241530,8099724500,5788070180,5487841475,4649143130,4437554490,3916897200,2894859300,2369110650,2113660000,1665791655,1532352930,1400331540,1134006220,1096431465,692018120,503611120,503267560,455249400,361096500,352852000,211677750,140912410,114233100,97082000,53129800,52083000,44931100,39162676,31116110,26916200,15949410],\"xaxis\":\"x\",\"y\":[\"GAME\",\"COMMUNICATION\",\"TOOLS\",\"PRODUCTIVITY\",\"SOCIAL\",\"PHOTOGRAPHY\",\"FAMILY\",\"VIDEO_PLAYERS\",\"TRAVEL_AND_LOCAL\",\"NEWS_AND_MAGAZINES\",\"ENTERTAINMENT\",\"BOOKS_AND_REFERENCE\",\"PERSONALIZATION\",\"SHOPPING\",\"HEALTH_AND_FITNESS\",\"SPORTS\",\"BUSINESS\",\"LIFESTYLE\",\"MAPS_AND_NAVIGATION\",\"FINANCE\",\"WEATHER\",\"EDUCATION\",\"FOOD_AND_DRINK\",\"DATING\",\"ART_AND_DESIGN\",\"HOUSE_AND_HOME\",\"AUTO_AND_VEHICLES\",\"LIBRARIES_AND_DEMO\",\"COMICS\",\"MEDICAL\",\"PARENTING\",\"BEAUTY\",\"EVENTS\"],\"yaxis\":\"y\",\"type\":\"bar\"}],                        {\"template\":{\"data\":{\"bar\":[{\"error_x\":{\"color\":\"#2a3f5f\"},\"error_y\":{\"color\":\"#2a3f5f\"},\"marker\":{\"line\":{\"color\":\"#E5ECF6\",\"width\":0.5},\"pattern\":{\"fillmode\":\"overlay\",\"size\":10,\"solidity\":0.2}},\"type\":\"bar\"}],\"barpolar\":[{\"marker\":{\"line\":{\"color\":\"#E5ECF6\",\"width\":0.5},\"pattern\":{\"fillmode\":\"overlay\",\"size\":10,\"solidity\":0.2}},\"type\":\"barpolar\"}],\"carpet\":[{\"aaxis\":{\"endlinecolor\":\"#2a3f5f\",\"gridcolor\":\"white\",\"linecolor\":\"white\",\"minorgridcolor\":\"white\",\"startlinecolor\":\"#2a3f5f\"},\"baxis\":{\"endlinecolor\":\"#2a3f5f\",\"gridcolor\":\"white\",\"linecolor\":\"white\",\"minorgridcolor\":\"white\",\"startlinecolor\":\"#2a3f5f\"},\"type\":\"carpet\"}],\"choropleth\":[{\"colorbar\":{\"outlinewidth\":0,\"ticks\":\"\"},\"type\":\"choropleth\"}],\"contour\":[{\"colorbar\":{\"outlinewidth\":0,\"ticks\":\"\"},\"colorscale\":[[0.0,\"#0d0887\"],[0.1111111111111111,\"#46039f\"],[0.2222222222222222,\"#7201a8\"],[0.3333333333333333,\"#9c179e\"],[0.4444444444444444,\"#bd3786\"],[0.5555555555555556,\"#d8576b\"],[0.6666666666666666,\"#ed7953\"],[0.7777777777777778,\"#fb9f3a\"],[0.8888888888888888,\"#fdca26\"],[1.0,\"#f0f921\"]],\"type\":\"contour\"}],\"contourcarpet\":[{\"colorbar\":{\"outlinewidth\":0,\"ticks\":\"\"},\"type\":\"contourcarpet\"}],\"heatmap\":[{\"colorbar\":{\"outlinewidth\":0,\"ticks\":\"\"},\"colorscale\":[[0.0,\"#0d0887\"],[0.1111111111111111,\"#46039f\"],[0.2222222222222222,\"#7201a8\"],[0.3333333333333333,\"#9c179e\"],[0.4444444444444444,\"#bd3786\"],[0.5555555555555556,\"#d8576b\"],[0.6666666666666666,\"#ed7953\"],[0.7777777777777778,\"#fb9f3a\"],[0.8888888888888888,\"#fdca26\"],[1.0,\"#f0f921\"]],\"type\":\"heatmap\"}],\"heatmapgl\":[{\"colorbar\":{\"outlinewidth\":0,\"ticks\":\"\"},\"colorscale\":[[0.0,\"#0d0887\"],[0.1111111111111111,\"#46039f\"],[0.2222222222222222,\"#7201a8\"],[0.3333333333333333,\"#9c179e\"],[0.4444444444444444,\"#bd3786\"],[0.5555555555555556,\"#d8576b\"],[0.6666666666666666,\"#ed7953\"],[0.7777777777777778,\"#fb9f3a\"],[0.8888888888888888,\"#fdca26\"],[1.0,\"#f0f921\"]],\"type\":\"heatmapgl\"}],\"histogram\":[{\"marker\":{\"pattern\":{\"fillmode\":\"overlay\",\"size\":10,\"solidity\":0.2}},\"type\":\"histogram\"}],\"histogram2d\":[{\"colorbar\":{\"outlinewidth\":0,\"ticks\":\"\"},\"colorscale\":[[0.0,\"#0d0887\"],[0.1111111111111111,\"#46039f\"],[0.2222222222222222,\"#7201a8\"],[0.3333333333333333,\"#9c179e\"],[0.4444444444444444,\"#bd3786\"],[0.5555555555555556,\"#d8576b\"],[0.6666666666666666,\"#ed7953\"],[0.7777777777777778,\"#fb9f3a\"],[0.8888888888888888,\"#fdca26\"],[1.0,\"#f0f921\"]],\"type\":\"histogram2d\"}],\"histogram2dcontour\":[{\"colorbar\":{\"outlinewidth\":0,\"ticks\":\"\"},\"colorscale\":[[0.0,\"#0d0887\"],[0.1111111111111111,\"#46039f\"],[0.2222222222222222,\"#7201a8\"],[0.3333333333333333,\"#9c179e\"],[0.4444444444444444,\"#bd3786\"],[0.5555555555555556,\"#d8576b\"],[0.6666666666666666,\"#ed7953\"],[0.7777777777777778,\"#fb9f3a\"],[0.8888888888888888,\"#fdca26\"],[1.0,\"#f0f921\"]],\"type\":\"histogram2dcontour\"}],\"mesh3d\":[{\"colorbar\":{\"outlinewidth\":0,\"ticks\":\"\"},\"type\":\"mesh3d\"}],\"parcoords\":[{\"line\":{\"colorbar\":{\"outlinewidth\":0,\"ticks\":\"\"}},\"type\":\"parcoords\"}],\"pie\":[{\"automargin\":true,\"type\":\"pie\"}],\"scatter\":[{\"marker\":{\"colorbar\":{\"outlinewidth\":0,\"ticks\":\"\"}},\"type\":\"scatter\"}],\"scatter3d\":[{\"line\":{\"colorbar\":{\"outlinewidth\":0,\"ticks\":\"\"}},\"marker\":{\"colorbar\":{\"outlinewidth\":0,\"ticks\":\"\"}},\"type\":\"scatter3d\"}],\"scattercarpet\":[{\"marker\":{\"colorbar\":{\"outlinewidth\":0,\"ticks\":\"\"}},\"type\":\"scattercarpet\"}],\"scattergeo\":[{\"marker\":{\"colorbar\":{\"outlinewidth\":0,\"ticks\":\"\"}},\"type\":\"scattergeo\"}],\"scattergl\":[{\"marker\":{\"colorbar\":{\"outlinewidth\":0,\"ticks\":\"\"}},\"type\":\"scattergl\"}],\"scattermapbox\":[{\"marker\":{\"colorbar\":{\"outlinewidth\":0,\"ticks\":\"\"}},\"type\":\"scattermapbox\"}],\"scatterpolar\":[{\"marker\":{\"colorbar\":{\"outlinewidth\":0,\"ticks\":\"\"}},\"type\":\"scatterpolar\"}],\"scatterpolargl\":[{\"marker\":{\"colorbar\":{\"outlinewidth\":0,\"ticks\":\"\"}},\"type\":\"scatterpolargl\"}],\"scatterternary\":[{\"marker\":{\"colorbar\":{\"outlinewidth\":0,\"ticks\":\"\"}},\"type\":\"scatterternary\"}],\"surface\":[{\"colorbar\":{\"outlinewidth\":0,\"ticks\":\"\"},\"colorscale\":[[0.0,\"#0d0887\"],[0.1111111111111111,\"#46039f\"],[0.2222222222222222,\"#7201a8\"],[0.3333333333333333,\"#9c179e\"],[0.4444444444444444,\"#bd3786\"],[0.5555555555555556,\"#d8576b\"],[0.6666666666666666,\"#ed7953\"],[0.7777777777777778,\"#fb9f3a\"],[0.8888888888888888,\"#fdca26\"],[1.0,\"#f0f921\"]],\"type\":\"surface\"}],\"table\":[{\"cells\":{\"fill\":{\"color\":\"#EBF0F8\"},\"line\":{\"color\":\"white\"}},\"header\":{\"fill\":{\"color\":\"#C8D4E3\"},\"line\":{\"color\":\"white\"}},\"type\":\"table\"}]},\"layout\":{\"annotationdefaults\":{\"arrowcolor\":\"#2a3f5f\",\"arrowhead\":0,\"arrowwidth\":1},\"autotypenumbers\":\"strict\",\"coloraxis\":{\"colorbar\":{\"outlinewidth\":0,\"ticks\":\"\"}},\"colorscale\":{\"diverging\":[[0,\"#8e0152\"],[0.1,\"#c51b7d\"],[0.2,\"#de77ae\"],[0.3,\"#f1b6da\"],[0.4,\"#fde0ef\"],[0.5,\"#f7f7f7\"],[0.6,\"#e6f5d0\"],[0.7,\"#b8e186\"],[0.8,\"#7fbc41\"],[0.9,\"#4d9221\"],[1,\"#276419\"]],\"sequential\":[[0.0,\"#0d0887\"],[0.1111111111111111,\"#46039f\"],[0.2222222222222222,\"#7201a8\"],[0.3333333333333333,\"#9c179e\"],[0.4444444444444444,\"#bd3786\"],[0.5555555555555556,\"#d8576b\"],[0.6666666666666666,\"#ed7953\"],[0.7777777777777778,\"#fb9f3a\"],[0.8888888888888888,\"#fdca26\"],[1.0,\"#f0f921\"]],\"sequentialminus\":[[0.0,\"#0d0887\"],[0.1111111111111111,\"#46039f\"],[0.2222222222222222,\"#7201a8\"],[0.3333333333333333,\"#9c179e\"],[0.4444444444444444,\"#bd3786\"],[0.5555555555555556,\"#d8576b\"],[0.6666666666666666,\"#ed7953\"],[0.7777777777777778,\"#fb9f3a\"],[0.8888888888888888,\"#fdca26\"],[1.0,\"#f0f921\"]]},\"colorway\":[\"#636efa\",\"#EF553B\",\"#00cc96\",\"#ab63fa\",\"#FFA15A\",\"#19d3f3\",\"#FF6692\",\"#B6E880\",\"#FF97FF\",\"#FECB52\"],\"font\":{\"color\":\"#2a3f5f\"},\"geo\":{\"bgcolor\":\"white\",\"lakecolor\":\"white\",\"landcolor\":\"#E5ECF6\",\"showlakes\":true,\"showland\":true,\"subunitcolor\":\"white\"},\"hoverlabel\":{\"align\":\"left\"},\"hovermode\":\"closest\",\"mapbox\":{\"style\":\"light\"},\"paper_bgcolor\":\"white\",\"plot_bgcolor\":\"#E5ECF6\",\"polar\":{\"angularaxis\":{\"gridcolor\":\"white\",\"linecolor\":\"white\",\"ticks\":\"\"},\"bgcolor\":\"#E5ECF6\",\"radialaxis\":{\"gridcolor\":\"white\",\"linecolor\":\"white\",\"ticks\":\"\"}},\"scene\":{\"xaxis\":{\"backgroundcolor\":\"#E5ECF6\",\"gridcolor\":\"white\",\"gridwidth\":2,\"linecolor\":\"white\",\"showbackground\":true,\"ticks\":\"\",\"zerolinecolor\":\"white\"},\"yaxis\":{\"backgroundcolor\":\"#E5ECF6\",\"gridcolor\":\"white\",\"gridwidth\":2,\"linecolor\":\"white\",\"showbackground\":true,\"ticks\":\"\",\"zerolinecolor\":\"white\"},\"zaxis\":{\"backgroundcolor\":\"#E5ECF6\",\"gridcolor\":\"white\",\"gridwidth\":2,\"linecolor\":\"white\",\"showbackground\":true,\"ticks\":\"\",\"zerolinecolor\":\"white\"}},\"shapedefaults\":{\"line\":{\"color\":\"#2a3f5f\"}},\"ternary\":{\"aaxis\":{\"gridcolor\":\"white\",\"linecolor\":\"white\",\"ticks\":\"\"},\"baxis\":{\"gridcolor\":\"white\",\"linecolor\":\"white\",\"ticks\":\"\"},\"bgcolor\":\"#E5ECF6\",\"caxis\":{\"gridcolor\":\"white\",\"linecolor\":\"white\",\"ticks\":\"\"}},\"title\":{\"x\":0.05},\"xaxis\":{\"automargin\":true,\"gridcolor\":\"white\",\"linecolor\":\"white\",\"ticks\":\"\",\"title\":{\"standoff\":15},\"zerolinecolor\":\"white\",\"zerolinewidth\":2},\"yaxis\":{\"automargin\":true,\"gridcolor\":\"white\",\"linecolor\":\"white\",\"ticks\":\"\",\"title\":{\"standoff\":15},\"zerolinecolor\":\"white\",\"zerolinewidth\":2}}},\"xaxis\":{\"anchor\":\"y\",\"domain\":[0.0,1.0],\"title\":{\"text\":\"Number of Installs\"}},\"yaxis\":{\"anchor\":\"x\",\"domain\":[0.0,1.0],\"title\":{\"text\":\"Category\"}},\"legend\":{\"tracegroupgap\":0},\"margin\":{\"t\":60},\"barmode\":\"relative\"},                        {\"responsive\": true}                    ).then(function(){\n",
              "                            \n",
              "var gd = document.getElementById('aa4fa551-0305-498e-b2f5-4bf3062f21b5');\n",
              "var x = new MutationObserver(function (mutations, observer) {{\n",
              "        var display = window.getComputedStyle(gd).display;\n",
              "        if (!display || display === 'none') {{\n",
              "            console.log([gd, 'removed!']);\n",
              "            Plotly.purge(gd);\n",
              "            observer.disconnect();\n",
              "        }}\n",
              "}});\n",
              "\n",
              "// Listen for the removal of the full notebook cells\n",
              "var notebookContainer = gd.closest('#notebook-container');\n",
              "if (notebookContainer) {{\n",
              "    x.observe(notebookContainer, {childList: true});\n",
              "}}\n",
              "\n",
              "// Listen for the clearing of the current output cell\n",
              "var outputEl = gd.closest('.output');\n",
              "if (outputEl) {{\n",
              "    x.observe(outputEl, {childList: true});\n",
              "}}\n",
              "\n",
              "                        })                };                            </script>        </div>\n",
              "</body>\n",
              "</html>"
            ]
          },
          "metadata": {}
        }
      ]
    },
    {
      "cell_type": "markdown",
      "metadata": {
        "id": "Uxk24qMk8vrz"
      },
      "source": [
        "### Category Concentration - Downloads vs. Competition\n",
        "\n",
        "**Challenge**: \n",
        "* First, create a DataFrame that has the number of apps in one column and the number of installs in another:\n",
        "\n",
        "<img src=https://imgur.com/uQRSlXi.png width=\"350\">\n",
        "\n",
        "* Then use the [plotly express examples from the documentation](https://plotly.com/python/line-and-scatter/) alongside the [.scatter() API reference](https://plotly.com/python-api-reference/generated/plotly.express.scatter.html)to create scatter plot that looks like this. \n",
        "\n",
        "<img src=https://imgur.com/cHsqh6a.png>\n",
        "\n",
        "*Hint*: Use the size, hover_name and color parameters in .scatter(). To scale the yaxis, call .update_layout() and specify that the yaxis should be on a log-scale like so: yaxis=dict(type='log') "
      ]
    },
    {
      "cell_type": "code",
      "metadata": {
        "id": "tVvGPDY7oe5A"
      },
      "source": [
        "cat_number = df_apps_clean.groupby('Category').agg({'App': pd.Series.count})"
      ],
      "execution_count": 51,
      "outputs": []
    },
    {
      "cell_type": "code",
      "source": [
        "cat_number"
      ],
      "metadata": {
        "colab": {
          "base_uri": "https://localhost:8080/",
          "height": 1000
        },
        "id": "U3GqhU4EqurU",
        "outputId": "001cd63f-e845-46dd-b0cc-fade078fc924"
      },
      "execution_count": 52,
      "outputs": [
        {
          "output_type": "execute_result",
          "data": {
            "text/plain": [
              "                      App\n",
              "Category                 \n",
              "ART_AND_DESIGN         61\n",
              "AUTO_AND_VEHICLES      73\n",
              "BEAUTY                 42\n",
              "BOOKS_AND_REFERENCE   169\n",
              "BUSINESS              262\n",
              "COMICS                 54\n",
              "COMMUNICATION         257\n",
              "DATING                134\n",
              "EDUCATION             118\n",
              "ENTERTAINMENT         102\n",
              "EVENTS                 45\n",
              "FAMILY               1606\n",
              "FINANCE               296\n",
              "FOOD_AND_DRINK         94\n",
              "GAME                  910\n",
              "HEALTH_AND_FITNESS    243\n",
              "HOUSE_AND_HOME         62\n",
              "LIBRARIES_AND_DEMO     64\n",
              "LIFESTYLE             297\n",
              "MAPS_AND_NAVIGATION   118\n",
              "MEDICAL               292\n",
              "NEWS_AND_MAGAZINES    204\n",
              "PARENTING              50\n",
              "PERSONALIZATION       298\n",
              "PHOTOGRAPHY           263\n",
              "PRODUCTIVITY          301\n",
              "SHOPPING              180\n",
              "SOCIAL                203\n",
              "SPORTS                260\n",
              "TOOLS                 719\n",
              "TRAVEL_AND_LOCAL      187\n",
              "VIDEO_PLAYERS         148\n",
              "WEATHER                72"
            ],
            "text/html": [
              "\n",
              "  <div id=\"df-ec8e7b22-7e70-4353-a3a2-cea909e0b9d7\">\n",
              "    <div class=\"colab-df-container\">\n",
              "      <div>\n",
              "<style scoped>\n",
              "    .dataframe tbody tr th:only-of-type {\n",
              "        vertical-align: middle;\n",
              "    }\n",
              "\n",
              "    .dataframe tbody tr th {\n",
              "        vertical-align: top;\n",
              "    }\n",
              "\n",
              "    .dataframe thead th {\n",
              "        text-align: right;\n",
              "    }\n",
              "</style>\n",
              "<table border=\"1\" class=\"dataframe\">\n",
              "  <thead>\n",
              "    <tr style=\"text-align: right;\">\n",
              "      <th></th>\n",
              "      <th>App</th>\n",
              "    </tr>\n",
              "    <tr>\n",
              "      <th>Category</th>\n",
              "      <th></th>\n",
              "    </tr>\n",
              "  </thead>\n",
              "  <tbody>\n",
              "    <tr>\n",
              "      <th>ART_AND_DESIGN</th>\n",
              "      <td>61</td>\n",
              "    </tr>\n",
              "    <tr>\n",
              "      <th>AUTO_AND_VEHICLES</th>\n",
              "      <td>73</td>\n",
              "    </tr>\n",
              "    <tr>\n",
              "      <th>BEAUTY</th>\n",
              "      <td>42</td>\n",
              "    </tr>\n",
              "    <tr>\n",
              "      <th>BOOKS_AND_REFERENCE</th>\n",
              "      <td>169</td>\n",
              "    </tr>\n",
              "    <tr>\n",
              "      <th>BUSINESS</th>\n",
              "      <td>262</td>\n",
              "    </tr>\n",
              "    <tr>\n",
              "      <th>COMICS</th>\n",
              "      <td>54</td>\n",
              "    </tr>\n",
              "    <tr>\n",
              "      <th>COMMUNICATION</th>\n",
              "      <td>257</td>\n",
              "    </tr>\n",
              "    <tr>\n",
              "      <th>DATING</th>\n",
              "      <td>134</td>\n",
              "    </tr>\n",
              "    <tr>\n",
              "      <th>EDUCATION</th>\n",
              "      <td>118</td>\n",
              "    </tr>\n",
              "    <tr>\n",
              "      <th>ENTERTAINMENT</th>\n",
              "      <td>102</td>\n",
              "    </tr>\n",
              "    <tr>\n",
              "      <th>EVENTS</th>\n",
              "      <td>45</td>\n",
              "    </tr>\n",
              "    <tr>\n",
              "      <th>FAMILY</th>\n",
              "      <td>1606</td>\n",
              "    </tr>\n",
              "    <tr>\n",
              "      <th>FINANCE</th>\n",
              "      <td>296</td>\n",
              "    </tr>\n",
              "    <tr>\n",
              "      <th>FOOD_AND_DRINK</th>\n",
              "      <td>94</td>\n",
              "    </tr>\n",
              "    <tr>\n",
              "      <th>GAME</th>\n",
              "      <td>910</td>\n",
              "    </tr>\n",
              "    <tr>\n",
              "      <th>HEALTH_AND_FITNESS</th>\n",
              "      <td>243</td>\n",
              "    </tr>\n",
              "    <tr>\n",
              "      <th>HOUSE_AND_HOME</th>\n",
              "      <td>62</td>\n",
              "    </tr>\n",
              "    <tr>\n",
              "      <th>LIBRARIES_AND_DEMO</th>\n",
              "      <td>64</td>\n",
              "    </tr>\n",
              "    <tr>\n",
              "      <th>LIFESTYLE</th>\n",
              "      <td>297</td>\n",
              "    </tr>\n",
              "    <tr>\n",
              "      <th>MAPS_AND_NAVIGATION</th>\n",
              "      <td>118</td>\n",
              "    </tr>\n",
              "    <tr>\n",
              "      <th>MEDICAL</th>\n",
              "      <td>292</td>\n",
              "    </tr>\n",
              "    <tr>\n",
              "      <th>NEWS_AND_MAGAZINES</th>\n",
              "      <td>204</td>\n",
              "    </tr>\n",
              "    <tr>\n",
              "      <th>PARENTING</th>\n",
              "      <td>50</td>\n",
              "    </tr>\n",
              "    <tr>\n",
              "      <th>PERSONALIZATION</th>\n",
              "      <td>298</td>\n",
              "    </tr>\n",
              "    <tr>\n",
              "      <th>PHOTOGRAPHY</th>\n",
              "      <td>263</td>\n",
              "    </tr>\n",
              "    <tr>\n",
              "      <th>PRODUCTIVITY</th>\n",
              "      <td>301</td>\n",
              "    </tr>\n",
              "    <tr>\n",
              "      <th>SHOPPING</th>\n",
              "      <td>180</td>\n",
              "    </tr>\n",
              "    <tr>\n",
              "      <th>SOCIAL</th>\n",
              "      <td>203</td>\n",
              "    </tr>\n",
              "    <tr>\n",
              "      <th>SPORTS</th>\n",
              "      <td>260</td>\n",
              "    </tr>\n",
              "    <tr>\n",
              "      <th>TOOLS</th>\n",
              "      <td>719</td>\n",
              "    </tr>\n",
              "    <tr>\n",
              "      <th>TRAVEL_AND_LOCAL</th>\n",
              "      <td>187</td>\n",
              "    </tr>\n",
              "    <tr>\n",
              "      <th>VIDEO_PLAYERS</th>\n",
              "      <td>148</td>\n",
              "    </tr>\n",
              "    <tr>\n",
              "      <th>WEATHER</th>\n",
              "      <td>72</td>\n",
              "    </tr>\n",
              "  </tbody>\n",
              "</table>\n",
              "</div>\n",
              "      <button class=\"colab-df-convert\" onclick=\"convertToInteractive('df-ec8e7b22-7e70-4353-a3a2-cea909e0b9d7')\"\n",
              "              title=\"Convert this dataframe to an interactive table.\"\n",
              "              style=\"display:none;\">\n",
              "        \n",
              "  <svg xmlns=\"http://www.w3.org/2000/svg\" height=\"24px\"viewBox=\"0 0 24 24\"\n",
              "       width=\"24px\">\n",
              "    <path d=\"M0 0h24v24H0V0z\" fill=\"none\"/>\n",
              "    <path d=\"M18.56 5.44l.94 2.06.94-2.06 2.06-.94-2.06-.94-.94-2.06-.94 2.06-2.06.94zm-11 1L8.5 8.5l.94-2.06 2.06-.94-2.06-.94L8.5 2.5l-.94 2.06-2.06.94zm10 10l.94 2.06.94-2.06 2.06-.94-2.06-.94-.94-2.06-.94 2.06-2.06.94z\"/><path d=\"M17.41 7.96l-1.37-1.37c-.4-.4-.92-.59-1.43-.59-.52 0-1.04.2-1.43.59L10.3 9.45l-7.72 7.72c-.78.78-.78 2.05 0 2.83L4 21.41c.39.39.9.59 1.41.59.51 0 1.02-.2 1.41-.59l7.78-7.78 2.81-2.81c.8-.78.8-2.07 0-2.86zM5.41 20L4 18.59l7.72-7.72 1.47 1.35L5.41 20z\"/>\n",
              "  </svg>\n",
              "      </button>\n",
              "      \n",
              "  <style>\n",
              "    .colab-df-container {\n",
              "      display:flex;\n",
              "      flex-wrap:wrap;\n",
              "      gap: 12px;\n",
              "    }\n",
              "\n",
              "    .colab-df-convert {\n",
              "      background-color: #E8F0FE;\n",
              "      border: none;\n",
              "      border-radius: 50%;\n",
              "      cursor: pointer;\n",
              "      display: none;\n",
              "      fill: #1967D2;\n",
              "      height: 32px;\n",
              "      padding: 0 0 0 0;\n",
              "      width: 32px;\n",
              "    }\n",
              "\n",
              "    .colab-df-convert:hover {\n",
              "      background-color: #E2EBFA;\n",
              "      box-shadow: 0px 1px 2px rgba(60, 64, 67, 0.3), 0px 1px 3px 1px rgba(60, 64, 67, 0.15);\n",
              "      fill: #174EA6;\n",
              "    }\n",
              "\n",
              "    [theme=dark] .colab-df-convert {\n",
              "      background-color: #3B4455;\n",
              "      fill: #D2E3FC;\n",
              "    }\n",
              "\n",
              "    [theme=dark] .colab-df-convert:hover {\n",
              "      background-color: #434B5C;\n",
              "      box-shadow: 0px 1px 3px 1px rgba(0, 0, 0, 0.15);\n",
              "      filter: drop-shadow(0px 1px 2px rgba(0, 0, 0, 0.3));\n",
              "      fill: #FFFFFF;\n",
              "    }\n",
              "  </style>\n",
              "\n",
              "      <script>\n",
              "        const buttonEl =\n",
              "          document.querySelector('#df-ec8e7b22-7e70-4353-a3a2-cea909e0b9d7 button.colab-df-convert');\n",
              "        buttonEl.style.display =\n",
              "          google.colab.kernel.accessAllowed ? 'block' : 'none';\n",
              "\n",
              "        async function convertToInteractive(key) {\n",
              "          const element = document.querySelector('#df-ec8e7b22-7e70-4353-a3a2-cea909e0b9d7');\n",
              "          const dataTable =\n",
              "            await google.colab.kernel.invokeFunction('convertToInteractive',\n",
              "                                                     [key], {});\n",
              "          if (!dataTable) return;\n",
              "\n",
              "          const docLinkHtml = 'Like what you see? Visit the ' +\n",
              "            '<a target=\"_blank\" href=https://colab.research.google.com/notebooks/data_table.ipynb>data table notebook</a>'\n",
              "            + ' to learn more about interactive tables.';\n",
              "          element.innerHTML = '';\n",
              "          dataTable['output_type'] = 'display_data';\n",
              "          await google.colab.output.renderOutput(dataTable, element);\n",
              "          const docLink = document.createElement('div');\n",
              "          docLink.innerHTML = docLinkHtml;\n",
              "          element.appendChild(docLink);\n",
              "        }\n",
              "      </script>\n",
              "    </div>\n",
              "  </div>\n",
              "  "
            ]
          },
          "metadata": {},
          "execution_count": 52
        }
      ]
    },
    {
      "cell_type": "code",
      "source": [
        "merged_df = pd.merge(cat_number, category_installs, on='Category', how='inner')"
      ],
      "metadata": {
        "id": "uTGe_fDZq0OM"
      },
      "execution_count": 53,
      "outputs": []
    },
    {
      "cell_type": "code",
      "source": [
        "merged_df.head()"
      ],
      "metadata": {
        "colab": {
          "base_uri": "https://localhost:8080/",
          "height": 237
        },
        "id": "yX_9lC79q0RN",
        "outputId": "65385794-9595-45c7-da00-f769164d1431"
      },
      "execution_count": 54,
      "outputs": [
        {
          "output_type": "execute_result",
          "data": {
            "text/plain": [
              "                     App    Installs\n",
              "Category                            \n",
              "ART_AND_DESIGN        61   114233100\n",
              "AUTO_AND_VEHICLES     73    53129800\n",
              "BEAUTY                42    26916200\n",
              "BOOKS_AND_REFERENCE  169  1665791655\n",
              "BUSINESS             262   692018120"
            ],
            "text/html": [
              "\n",
              "  <div id=\"df-47e48da9-ade9-42b4-9041-8d70579d0e46\">\n",
              "    <div class=\"colab-df-container\">\n",
              "      <div>\n",
              "<style scoped>\n",
              "    .dataframe tbody tr th:only-of-type {\n",
              "        vertical-align: middle;\n",
              "    }\n",
              "\n",
              "    .dataframe tbody tr th {\n",
              "        vertical-align: top;\n",
              "    }\n",
              "\n",
              "    .dataframe thead th {\n",
              "        text-align: right;\n",
              "    }\n",
              "</style>\n",
              "<table border=\"1\" class=\"dataframe\">\n",
              "  <thead>\n",
              "    <tr style=\"text-align: right;\">\n",
              "      <th></th>\n",
              "      <th>App</th>\n",
              "      <th>Installs</th>\n",
              "    </tr>\n",
              "    <tr>\n",
              "      <th>Category</th>\n",
              "      <th></th>\n",
              "      <th></th>\n",
              "    </tr>\n",
              "  </thead>\n",
              "  <tbody>\n",
              "    <tr>\n",
              "      <th>ART_AND_DESIGN</th>\n",
              "      <td>61</td>\n",
              "      <td>114233100</td>\n",
              "    </tr>\n",
              "    <tr>\n",
              "      <th>AUTO_AND_VEHICLES</th>\n",
              "      <td>73</td>\n",
              "      <td>53129800</td>\n",
              "    </tr>\n",
              "    <tr>\n",
              "      <th>BEAUTY</th>\n",
              "      <td>42</td>\n",
              "      <td>26916200</td>\n",
              "    </tr>\n",
              "    <tr>\n",
              "      <th>BOOKS_AND_REFERENCE</th>\n",
              "      <td>169</td>\n",
              "      <td>1665791655</td>\n",
              "    </tr>\n",
              "    <tr>\n",
              "      <th>BUSINESS</th>\n",
              "      <td>262</td>\n",
              "      <td>692018120</td>\n",
              "    </tr>\n",
              "  </tbody>\n",
              "</table>\n",
              "</div>\n",
              "      <button class=\"colab-df-convert\" onclick=\"convertToInteractive('df-47e48da9-ade9-42b4-9041-8d70579d0e46')\"\n",
              "              title=\"Convert this dataframe to an interactive table.\"\n",
              "              style=\"display:none;\">\n",
              "        \n",
              "  <svg xmlns=\"http://www.w3.org/2000/svg\" height=\"24px\"viewBox=\"0 0 24 24\"\n",
              "       width=\"24px\">\n",
              "    <path d=\"M0 0h24v24H0V0z\" fill=\"none\"/>\n",
              "    <path d=\"M18.56 5.44l.94 2.06.94-2.06 2.06-.94-2.06-.94-.94-2.06-.94 2.06-2.06.94zm-11 1L8.5 8.5l.94-2.06 2.06-.94-2.06-.94L8.5 2.5l-.94 2.06-2.06.94zm10 10l.94 2.06.94-2.06 2.06-.94-2.06-.94-.94-2.06-.94 2.06-2.06.94z\"/><path d=\"M17.41 7.96l-1.37-1.37c-.4-.4-.92-.59-1.43-.59-.52 0-1.04.2-1.43.59L10.3 9.45l-7.72 7.72c-.78.78-.78 2.05 0 2.83L4 21.41c.39.39.9.59 1.41.59.51 0 1.02-.2 1.41-.59l7.78-7.78 2.81-2.81c.8-.78.8-2.07 0-2.86zM5.41 20L4 18.59l7.72-7.72 1.47 1.35L5.41 20z\"/>\n",
              "  </svg>\n",
              "      </button>\n",
              "      \n",
              "  <style>\n",
              "    .colab-df-container {\n",
              "      display:flex;\n",
              "      flex-wrap:wrap;\n",
              "      gap: 12px;\n",
              "    }\n",
              "\n",
              "    .colab-df-convert {\n",
              "      background-color: #E8F0FE;\n",
              "      border: none;\n",
              "      border-radius: 50%;\n",
              "      cursor: pointer;\n",
              "      display: none;\n",
              "      fill: #1967D2;\n",
              "      height: 32px;\n",
              "      padding: 0 0 0 0;\n",
              "      width: 32px;\n",
              "    }\n",
              "\n",
              "    .colab-df-convert:hover {\n",
              "      background-color: #E2EBFA;\n",
              "      box-shadow: 0px 1px 2px rgba(60, 64, 67, 0.3), 0px 1px 3px 1px rgba(60, 64, 67, 0.15);\n",
              "      fill: #174EA6;\n",
              "    }\n",
              "\n",
              "    [theme=dark] .colab-df-convert {\n",
              "      background-color: #3B4455;\n",
              "      fill: #D2E3FC;\n",
              "    }\n",
              "\n",
              "    [theme=dark] .colab-df-convert:hover {\n",
              "      background-color: #434B5C;\n",
              "      box-shadow: 0px 1px 3px 1px rgba(0, 0, 0, 0.15);\n",
              "      filter: drop-shadow(0px 1px 2px rgba(0, 0, 0, 0.3));\n",
              "      fill: #FFFFFF;\n",
              "    }\n",
              "  </style>\n",
              "\n",
              "      <script>\n",
              "        const buttonEl =\n",
              "          document.querySelector('#df-47e48da9-ade9-42b4-9041-8d70579d0e46 button.colab-df-convert');\n",
              "        buttonEl.style.display =\n",
              "          google.colab.kernel.accessAllowed ? 'block' : 'none';\n",
              "\n",
              "        async function convertToInteractive(key) {\n",
              "          const element = document.querySelector('#df-47e48da9-ade9-42b4-9041-8d70579d0e46');\n",
              "          const dataTable =\n",
              "            await google.colab.kernel.invokeFunction('convertToInteractive',\n",
              "                                                     [key], {});\n",
              "          if (!dataTable) return;\n",
              "\n",
              "          const docLinkHtml = 'Like what you see? Visit the ' +\n",
              "            '<a target=\"_blank\" href=https://colab.research.google.com/notebooks/data_table.ipynb>data table notebook</a>'\n",
              "            + ' to learn more about interactive tables.';\n",
              "          element.innerHTML = '';\n",
              "          dataTable['output_type'] = 'display_data';\n",
              "          await google.colab.output.renderOutput(dataTable, element);\n",
              "          const docLink = document.createElement('div');\n",
              "          docLink.innerHTML = docLinkHtml;\n",
              "          element.appendChild(docLink);\n",
              "        }\n",
              "      </script>\n",
              "    </div>\n",
              "  </div>\n",
              "  "
            ]
          },
          "metadata": {},
          "execution_count": 54
        }
      ]
    },
    {
      "cell_type": "code",
      "source": [
        "scatter = px.scatter(merged_df,\n",
        "                     x='App',\n",
        "                     y='Installs',\n",
        "                     title=\"Category Concentration\",\n",
        "                     size='App',\n",
        "                     hover_name=merged_df.index,\n",
        "                     color='Installs')\n",
        "scatter.update_layout(xaxis_title = 'Number of Apps',\n",
        "                      yaxis_title = 'Number of Installs',\n",
        "                      yaxis=dict(type='log'))\n",
        "scatter.show()"
      ],
      "metadata": {
        "colab": {
          "base_uri": "https://localhost:8080/",
          "height": 542
        },
        "id": "hVsL9daAq0U2",
        "outputId": "15e20bae-fd86-4fb6-cd9c-7fd5d3fd7a40"
      },
      "execution_count": 55,
      "outputs": [
        {
          "output_type": "display_data",
          "data": {
            "text/html": [
              "<html>\n",
              "<head><meta charset=\"utf-8\" /></head>\n",
              "<body>\n",
              "    <div>            <script src=\"https://cdnjs.cloudflare.com/ajax/libs/mathjax/2.7.5/MathJax.js?config=TeX-AMS-MML_SVG\"></script><script type=\"text/javascript\">if (window.MathJax) {MathJax.Hub.Config({SVG: {font: \"STIX-Web\"}});}</script>                <script type=\"text/javascript\">window.PlotlyConfig = {MathJaxConfig: 'local'};</script>\n",
              "        <script src=\"https://cdn.plot.ly/plotly-2.8.3.min.js\"></script>                <div id=\"149846a2-7c35-4850-b901-9ed3677e0d41\" class=\"plotly-graph-div\" style=\"height:525px; width:100%;\"></div>            <script type=\"text/javascript\">                                    window.PLOTLYENV=window.PLOTLYENV || {};                                    if (document.getElementById(\"149846a2-7c35-4850-b901-9ed3677e0d41\")) {                    Plotly.newPlot(                        \"149846a2-7c35-4850-b901-9ed3677e0d41\",                        [{\"hovertemplate\":\"<b>%{hovertext}</b><br><br>App=%{marker.size}<br>Installs=%{marker.color}<extra></extra>\",\"hovertext\":[\"ART_AND_DESIGN\",\"AUTO_AND_VEHICLES\",\"BEAUTY\",\"BOOKS_AND_REFERENCE\",\"BUSINESS\",\"COMICS\",\"COMMUNICATION\",\"DATING\",\"EDUCATION\",\"ENTERTAINMENT\",\"EVENTS\",\"FAMILY\",\"FINANCE\",\"FOOD_AND_DRINK\",\"GAME\",\"HEALTH_AND_FITNESS\",\"HOUSE_AND_HOME\",\"LIBRARIES_AND_DEMO\",\"LIFESTYLE\",\"MAPS_AND_NAVIGATION\",\"MEDICAL\",\"NEWS_AND_MAGAZINES\",\"PARENTING\",\"PERSONALIZATION\",\"PHOTOGRAPHY\",\"PRODUCTIVITY\",\"SHOPPING\",\"SOCIAL\",\"SPORTS\",\"TOOLS\",\"TRAVEL_AND_LOCAL\",\"VIDEO_PLAYERS\",\"WEATHER\"],\"legendgroup\":\"\",\"marker\":{\"color\":[114233100,53129800,26916200,1665791655,692018120,44931100,11039241530,140912410,352852000,2113660000,15949410,4437554490,455249400,211677750,13858762717,1134006220,97082000,52083000,503611120,503267560,39162676,2369110650,31116110,1532352930,4649143130,5788070180,1400331540,5487841475,1096431465,8099724500,2894859300,3916897200,361096500],\"coloraxis\":\"coloraxis\",\"size\":[61,73,42,169,262,54,257,134,118,102,45,1606,296,94,910,243,62,64,297,118,292,204,50,298,263,301,180,203,260,719,187,148,72],\"sizemode\":\"area\",\"sizeref\":4.015,\"symbol\":\"circle\"},\"mode\":\"markers\",\"name\":\"\",\"orientation\":\"v\",\"showlegend\":false,\"x\":[61,73,42,169,262,54,257,134,118,102,45,1606,296,94,910,243,62,64,297,118,292,204,50,298,263,301,180,203,260,719,187,148,72],\"xaxis\":\"x\",\"y\":[114233100,53129800,26916200,1665791655,692018120,44931100,11039241530,140912410,352852000,2113660000,15949410,4437554490,455249400,211677750,13858762717,1134006220,97082000,52083000,503611120,503267560,39162676,2369110650,31116110,1532352930,4649143130,5788070180,1400331540,5487841475,1096431465,8099724500,2894859300,3916897200,361096500],\"yaxis\":\"y\",\"type\":\"scatter\"}],                        {\"template\":{\"data\":{\"bar\":[{\"error_x\":{\"color\":\"#2a3f5f\"},\"error_y\":{\"color\":\"#2a3f5f\"},\"marker\":{\"line\":{\"color\":\"#E5ECF6\",\"width\":0.5},\"pattern\":{\"fillmode\":\"overlay\",\"size\":10,\"solidity\":0.2}},\"type\":\"bar\"}],\"barpolar\":[{\"marker\":{\"line\":{\"color\":\"#E5ECF6\",\"width\":0.5},\"pattern\":{\"fillmode\":\"overlay\",\"size\":10,\"solidity\":0.2}},\"type\":\"barpolar\"}],\"carpet\":[{\"aaxis\":{\"endlinecolor\":\"#2a3f5f\",\"gridcolor\":\"white\",\"linecolor\":\"white\",\"minorgridcolor\":\"white\",\"startlinecolor\":\"#2a3f5f\"},\"baxis\":{\"endlinecolor\":\"#2a3f5f\",\"gridcolor\":\"white\",\"linecolor\":\"white\",\"minorgridcolor\":\"white\",\"startlinecolor\":\"#2a3f5f\"},\"type\":\"carpet\"}],\"choropleth\":[{\"colorbar\":{\"outlinewidth\":0,\"ticks\":\"\"},\"type\":\"choropleth\"}],\"contour\":[{\"colorbar\":{\"outlinewidth\":0,\"ticks\":\"\"},\"colorscale\":[[0.0,\"#0d0887\"],[0.1111111111111111,\"#46039f\"],[0.2222222222222222,\"#7201a8\"],[0.3333333333333333,\"#9c179e\"],[0.4444444444444444,\"#bd3786\"],[0.5555555555555556,\"#d8576b\"],[0.6666666666666666,\"#ed7953\"],[0.7777777777777778,\"#fb9f3a\"],[0.8888888888888888,\"#fdca26\"],[1.0,\"#f0f921\"]],\"type\":\"contour\"}],\"contourcarpet\":[{\"colorbar\":{\"outlinewidth\":0,\"ticks\":\"\"},\"type\":\"contourcarpet\"}],\"heatmap\":[{\"colorbar\":{\"outlinewidth\":0,\"ticks\":\"\"},\"colorscale\":[[0.0,\"#0d0887\"],[0.1111111111111111,\"#46039f\"],[0.2222222222222222,\"#7201a8\"],[0.3333333333333333,\"#9c179e\"],[0.4444444444444444,\"#bd3786\"],[0.5555555555555556,\"#d8576b\"],[0.6666666666666666,\"#ed7953\"],[0.7777777777777778,\"#fb9f3a\"],[0.8888888888888888,\"#fdca26\"],[1.0,\"#f0f921\"]],\"type\":\"heatmap\"}],\"heatmapgl\":[{\"colorbar\":{\"outlinewidth\":0,\"ticks\":\"\"},\"colorscale\":[[0.0,\"#0d0887\"],[0.1111111111111111,\"#46039f\"],[0.2222222222222222,\"#7201a8\"],[0.3333333333333333,\"#9c179e\"],[0.4444444444444444,\"#bd3786\"],[0.5555555555555556,\"#d8576b\"],[0.6666666666666666,\"#ed7953\"],[0.7777777777777778,\"#fb9f3a\"],[0.8888888888888888,\"#fdca26\"],[1.0,\"#f0f921\"]],\"type\":\"heatmapgl\"}],\"histogram\":[{\"marker\":{\"pattern\":{\"fillmode\":\"overlay\",\"size\":10,\"solidity\":0.2}},\"type\":\"histogram\"}],\"histogram2d\":[{\"colorbar\":{\"outlinewidth\":0,\"ticks\":\"\"},\"colorscale\":[[0.0,\"#0d0887\"],[0.1111111111111111,\"#46039f\"],[0.2222222222222222,\"#7201a8\"],[0.3333333333333333,\"#9c179e\"],[0.4444444444444444,\"#bd3786\"],[0.5555555555555556,\"#d8576b\"],[0.6666666666666666,\"#ed7953\"],[0.7777777777777778,\"#fb9f3a\"],[0.8888888888888888,\"#fdca26\"],[1.0,\"#f0f921\"]],\"type\":\"histogram2d\"}],\"histogram2dcontour\":[{\"colorbar\":{\"outlinewidth\":0,\"ticks\":\"\"},\"colorscale\":[[0.0,\"#0d0887\"],[0.1111111111111111,\"#46039f\"],[0.2222222222222222,\"#7201a8\"],[0.3333333333333333,\"#9c179e\"],[0.4444444444444444,\"#bd3786\"],[0.5555555555555556,\"#d8576b\"],[0.6666666666666666,\"#ed7953\"],[0.7777777777777778,\"#fb9f3a\"],[0.8888888888888888,\"#fdca26\"],[1.0,\"#f0f921\"]],\"type\":\"histogram2dcontour\"}],\"mesh3d\":[{\"colorbar\":{\"outlinewidth\":0,\"ticks\":\"\"},\"type\":\"mesh3d\"}],\"parcoords\":[{\"line\":{\"colorbar\":{\"outlinewidth\":0,\"ticks\":\"\"}},\"type\":\"parcoords\"}],\"pie\":[{\"automargin\":true,\"type\":\"pie\"}],\"scatter\":[{\"marker\":{\"colorbar\":{\"outlinewidth\":0,\"ticks\":\"\"}},\"type\":\"scatter\"}],\"scatter3d\":[{\"line\":{\"colorbar\":{\"outlinewidth\":0,\"ticks\":\"\"}},\"marker\":{\"colorbar\":{\"outlinewidth\":0,\"ticks\":\"\"}},\"type\":\"scatter3d\"}],\"scattercarpet\":[{\"marker\":{\"colorbar\":{\"outlinewidth\":0,\"ticks\":\"\"}},\"type\":\"scattercarpet\"}],\"scattergeo\":[{\"marker\":{\"colorbar\":{\"outlinewidth\":0,\"ticks\":\"\"}},\"type\":\"scattergeo\"}],\"scattergl\":[{\"marker\":{\"colorbar\":{\"outlinewidth\":0,\"ticks\":\"\"}},\"type\":\"scattergl\"}],\"scattermapbox\":[{\"marker\":{\"colorbar\":{\"outlinewidth\":0,\"ticks\":\"\"}},\"type\":\"scattermapbox\"}],\"scatterpolar\":[{\"marker\":{\"colorbar\":{\"outlinewidth\":0,\"ticks\":\"\"}},\"type\":\"scatterpolar\"}],\"scatterpolargl\":[{\"marker\":{\"colorbar\":{\"outlinewidth\":0,\"ticks\":\"\"}},\"type\":\"scatterpolargl\"}],\"scatterternary\":[{\"marker\":{\"colorbar\":{\"outlinewidth\":0,\"ticks\":\"\"}},\"type\":\"scatterternary\"}],\"surface\":[{\"colorbar\":{\"outlinewidth\":0,\"ticks\":\"\"},\"colorscale\":[[0.0,\"#0d0887\"],[0.1111111111111111,\"#46039f\"],[0.2222222222222222,\"#7201a8\"],[0.3333333333333333,\"#9c179e\"],[0.4444444444444444,\"#bd3786\"],[0.5555555555555556,\"#d8576b\"],[0.6666666666666666,\"#ed7953\"],[0.7777777777777778,\"#fb9f3a\"],[0.8888888888888888,\"#fdca26\"],[1.0,\"#f0f921\"]],\"type\":\"surface\"}],\"table\":[{\"cells\":{\"fill\":{\"color\":\"#EBF0F8\"},\"line\":{\"color\":\"white\"}},\"header\":{\"fill\":{\"color\":\"#C8D4E3\"},\"line\":{\"color\":\"white\"}},\"type\":\"table\"}]},\"layout\":{\"annotationdefaults\":{\"arrowcolor\":\"#2a3f5f\",\"arrowhead\":0,\"arrowwidth\":1},\"autotypenumbers\":\"strict\",\"coloraxis\":{\"colorbar\":{\"outlinewidth\":0,\"ticks\":\"\"}},\"colorscale\":{\"diverging\":[[0,\"#8e0152\"],[0.1,\"#c51b7d\"],[0.2,\"#de77ae\"],[0.3,\"#f1b6da\"],[0.4,\"#fde0ef\"],[0.5,\"#f7f7f7\"],[0.6,\"#e6f5d0\"],[0.7,\"#b8e186\"],[0.8,\"#7fbc41\"],[0.9,\"#4d9221\"],[1,\"#276419\"]],\"sequential\":[[0.0,\"#0d0887\"],[0.1111111111111111,\"#46039f\"],[0.2222222222222222,\"#7201a8\"],[0.3333333333333333,\"#9c179e\"],[0.4444444444444444,\"#bd3786\"],[0.5555555555555556,\"#d8576b\"],[0.6666666666666666,\"#ed7953\"],[0.7777777777777778,\"#fb9f3a\"],[0.8888888888888888,\"#fdca26\"],[1.0,\"#f0f921\"]],\"sequentialminus\":[[0.0,\"#0d0887\"],[0.1111111111111111,\"#46039f\"],[0.2222222222222222,\"#7201a8\"],[0.3333333333333333,\"#9c179e\"],[0.4444444444444444,\"#bd3786\"],[0.5555555555555556,\"#d8576b\"],[0.6666666666666666,\"#ed7953\"],[0.7777777777777778,\"#fb9f3a\"],[0.8888888888888888,\"#fdca26\"],[1.0,\"#f0f921\"]]},\"colorway\":[\"#636efa\",\"#EF553B\",\"#00cc96\",\"#ab63fa\",\"#FFA15A\",\"#19d3f3\",\"#FF6692\",\"#B6E880\",\"#FF97FF\",\"#FECB52\"],\"font\":{\"color\":\"#2a3f5f\"},\"geo\":{\"bgcolor\":\"white\",\"lakecolor\":\"white\",\"landcolor\":\"#E5ECF6\",\"showlakes\":true,\"showland\":true,\"subunitcolor\":\"white\"},\"hoverlabel\":{\"align\":\"left\"},\"hovermode\":\"closest\",\"mapbox\":{\"style\":\"light\"},\"paper_bgcolor\":\"white\",\"plot_bgcolor\":\"#E5ECF6\",\"polar\":{\"angularaxis\":{\"gridcolor\":\"white\",\"linecolor\":\"white\",\"ticks\":\"\"},\"bgcolor\":\"#E5ECF6\",\"radialaxis\":{\"gridcolor\":\"white\",\"linecolor\":\"white\",\"ticks\":\"\"}},\"scene\":{\"xaxis\":{\"backgroundcolor\":\"#E5ECF6\",\"gridcolor\":\"white\",\"gridwidth\":2,\"linecolor\":\"white\",\"showbackground\":true,\"ticks\":\"\",\"zerolinecolor\":\"white\"},\"yaxis\":{\"backgroundcolor\":\"#E5ECF6\",\"gridcolor\":\"white\",\"gridwidth\":2,\"linecolor\":\"white\",\"showbackground\":true,\"ticks\":\"\",\"zerolinecolor\":\"white\"},\"zaxis\":{\"backgroundcolor\":\"#E5ECF6\",\"gridcolor\":\"white\",\"gridwidth\":2,\"linecolor\":\"white\",\"showbackground\":true,\"ticks\":\"\",\"zerolinecolor\":\"white\"}},\"shapedefaults\":{\"line\":{\"color\":\"#2a3f5f\"}},\"ternary\":{\"aaxis\":{\"gridcolor\":\"white\",\"linecolor\":\"white\",\"ticks\":\"\"},\"baxis\":{\"gridcolor\":\"white\",\"linecolor\":\"white\",\"ticks\":\"\"},\"bgcolor\":\"#E5ECF6\",\"caxis\":{\"gridcolor\":\"white\",\"linecolor\":\"white\",\"ticks\":\"\"}},\"title\":{\"x\":0.05},\"xaxis\":{\"automargin\":true,\"gridcolor\":\"white\",\"linecolor\":\"white\",\"ticks\":\"\",\"title\":{\"standoff\":15},\"zerolinecolor\":\"white\",\"zerolinewidth\":2},\"yaxis\":{\"automargin\":true,\"gridcolor\":\"white\",\"linecolor\":\"white\",\"ticks\":\"\",\"title\":{\"standoff\":15},\"zerolinecolor\":\"white\",\"zerolinewidth\":2}}},\"xaxis\":{\"anchor\":\"y\",\"domain\":[0.0,1.0],\"title\":{\"text\":\"Number of Apps\"}},\"yaxis\":{\"anchor\":\"x\",\"domain\":[0.0,1.0],\"title\":{\"text\":\"Number of Installs\"},\"type\":\"log\"},\"coloraxis\":{\"colorbar\":{\"title\":{\"text\":\"Installs\"}},\"colorscale\":[[0.0,\"#0d0887\"],[0.1111111111111111,\"#46039f\"],[0.2222222222222222,\"#7201a8\"],[0.3333333333333333,\"#9c179e\"],[0.4444444444444444,\"#bd3786\"],[0.5555555555555556,\"#d8576b\"],[0.6666666666666666,\"#ed7953\"],[0.7777777777777778,\"#fb9f3a\"],[0.8888888888888888,\"#fdca26\"],[1.0,\"#f0f921\"]]},\"legend\":{\"tracegroupgap\":0,\"itemsizing\":\"constant\"},\"title\":{\"text\":\"Category Concentration\"}},                        {\"responsive\": true}                    ).then(function(){\n",
              "                            \n",
              "var gd = document.getElementById('149846a2-7c35-4850-b901-9ed3677e0d41');\n",
              "var x = new MutationObserver(function (mutations, observer) {{\n",
              "        var display = window.getComputedStyle(gd).display;\n",
              "        if (!display || display === 'none') {{\n",
              "            console.log([gd, 'removed!']);\n",
              "            Plotly.purge(gd);\n",
              "            observer.disconnect();\n",
              "        }}\n",
              "}});\n",
              "\n",
              "// Listen for the removal of the full notebook cells\n",
              "var notebookContainer = gd.closest('#notebook-container');\n",
              "if (notebookContainer) {{\n",
              "    x.observe(notebookContainer, {childList: true});\n",
              "}}\n",
              "\n",
              "// Listen for the clearing of the current output cell\n",
              "var outputEl = gd.closest('.output');\n",
              "if (outputEl) {{\n",
              "    x.observe(outputEl, {childList: true});\n",
              "}}\n",
              "\n",
              "                        })                };                            </script>        </div>\n",
              "</body>\n",
              "</html>"
            ]
          },
          "metadata": {}
        }
      ]
    },
    {
      "cell_type": "markdown",
      "metadata": {
        "id": "dmXDF75WdiVC"
      },
      "source": [
        "# Extracting Nested Data from a Column\n",
        "\n",
        "**Challenge**: How many different types of genres are there? Can an app belong to more than one genre? Check what happens when you use .value_counts() on a column with nested values? See if you can work around this problem by using the .split() function and the DataFrame's [.stack() method](https://pandas.pydata.org/pandas-docs/stable/reference/api/pandas.DataFrame.stack.html). \n"
      ]
    },
    {
      "cell_type": "code",
      "metadata": {
        "id": "3Lo69kS6ogdm",
        "colab": {
          "base_uri": "https://localhost:8080/"
        },
        "outputId": "7b35ee65-08bc-4f54-fbd5-0221a9fa7b7f"
      },
      "source": [
        "df_apps_clean['Genres'].nunique()"
      ],
      "execution_count": 56,
      "outputs": [
        {
          "output_type": "execute_result",
          "data": {
            "text/plain": [
              "114"
            ]
          },
          "metadata": {},
          "execution_count": 56
        }
      ]
    },
    {
      "cell_type": "code",
      "source": [
        "len(df_apps_clean['Genres'].unique())"
      ],
      "metadata": {
        "id": "TQz_Psd0qyvg",
        "colab": {
          "base_uri": "https://localhost:8080/"
        },
        "outputId": "176d51d1-2dce-4780-d3c6-3e79bf9010f2"
      },
      "execution_count": 58,
      "outputs": [
        {
          "output_type": "execute_result",
          "data": {
            "text/plain": [
              "114"
            ]
          },
          "metadata": {},
          "execution_count": 58
        }
      ]
    },
    {
      "cell_type": "code",
      "source": [
        "stack = df_apps_clean['Genres'].str.split(';', expand=True).stack()"
      ],
      "metadata": {
        "id": "w9aVTeUbqy-Z"
      },
      "execution_count": 63,
      "outputs": []
    },
    {
      "cell_type": "code",
      "source": [
        "num_genres = stack.value_counts()\n",
        "len(num_genres)"
      ],
      "metadata": {
        "colab": {
          "base_uri": "https://localhost:8080/"
        },
        "id": "3DUywGxteRtb",
        "outputId": "9636b315-6e9e-4b2a-84ae-76a851fa57eb"
      },
      "execution_count": 68,
      "outputs": [
        {
          "output_type": "execute_result",
          "data": {
            "text/plain": [
              "53"
            ]
          },
          "metadata": {},
          "execution_count": 68
        }
      ]
    },
    {
      "cell_type": "code",
      "source": [
        ""
      ],
      "metadata": {
        "id": "fUphi21ieRw3"
      },
      "execution_count": null,
      "outputs": []
    },
    {
      "cell_type": "code",
      "source": [
        ""
      ],
      "metadata": {
        "id": "hFnO8wN-eSLp"
      },
      "execution_count": null,
      "outputs": []
    },
    {
      "cell_type": "markdown",
      "metadata": {
        "id": "F3zaKvfydiVI"
      },
      "source": [
        "# Colour Scales in Plotly Charts - Competition in Genres"
      ]
    },
    {
      "cell_type": "markdown",
      "metadata": {
        "id": "Ucw6RT59diVK"
      },
      "source": [
        "**Challenge**: Can you create this chart with the Series containing the genre data? \n",
        "\n",
        "<img src=https://imgur.com/DbcoQli.png width=400>\n",
        "\n",
        "Try experimenting with the built in colour scales in Plotly. You can find a full list [here](https://plotly.com/python/builtin-colorscales/). \n",
        "\n",
        "* Find a way to set the colour scale using the color_continuous_scale parameter. \n",
        "* Find a way to make the color axis disappear by using coloraxis_showscale. "
      ]
    },
    {
      "cell_type": "code",
      "metadata": {
        "id": "c5xbfMgxojoA",
        "colab": {
          "base_uri": "https://localhost:8080/",
          "height": 542
        },
        "outputId": "d5b13b61-570f-4092-9532-698d8be000b6"
      },
      "source": [
        "bar2 = px.bar(data_frame = num_genres,\n",
        "              x=num_genres.index[:15],\n",
        "              y=num_genres.values[:15],\n",
        "              title=\"Top Genres\",\n",
        "              hover_name=num_genres.index[:15],\n",
        "              color=num_genres.values[:15],\n",
        "              color_continuous_scale='Agsunset'\n",
        "              )\n",
        "bar2.update_layout(xaxis_title=\"Genre\",\n",
        "                   yaxis_title='Number of Apps',\n",
        "                   coloraxis_showscale=False)\n",
        "bar2.show()"
      ],
      "execution_count": 72,
      "outputs": [
        {
          "output_type": "display_data",
          "data": {
            "text/html": [
              "<html>\n",
              "<head><meta charset=\"utf-8\" /></head>\n",
              "<body>\n",
              "    <div>            <script src=\"https://cdnjs.cloudflare.com/ajax/libs/mathjax/2.7.5/MathJax.js?config=TeX-AMS-MML_SVG\"></script><script type=\"text/javascript\">if (window.MathJax) {MathJax.Hub.Config({SVG: {font: \"STIX-Web\"}});}</script>                <script type=\"text/javascript\">window.PlotlyConfig = {MathJaxConfig: 'local'};</script>\n",
              "        <script src=\"https://cdn.plot.ly/plotly-2.8.3.min.js\"></script>                <div id=\"517c3174-3060-40ee-96f7-9eada1db18c9\" class=\"plotly-graph-div\" style=\"height:525px; width:100%;\"></div>            <script type=\"text/javascript\">                                    window.PLOTLYENV=window.PLOTLYENV || {};                                    if (document.getElementById(\"517c3174-3060-40ee-96f7-9eada1db18c9\")) {                    Plotly.newPlot(                        \"517c3174-3060-40ee-96f7-9eada1db18c9\",                        [{\"alignmentgroup\":\"True\",\"hovertemplate\":\"<b>%{hovertext}</b><br><br>x=%{x}<br>y=%{y}<br>color=%{marker.color}<extra></extra>\",\"hovertext\":[\"Tools\",\"Education\",\"Entertainment\",\"Action\",\"Productivity\",\"Personalization\",\"Lifestyle\",\"Finance\",\"Medical\",\"Sports\",\"Photography\",\"Business\",\"Communication\",\"Health & Fitness\",\"Casual\"],\"legendgroup\":\"\",\"marker\":{\"color\":[719,587,498,304,301,298,298,296,292,270,263,262,258,245,216],\"coloraxis\":\"coloraxis\",\"pattern\":{\"shape\":\"\"}},\"name\":\"\",\"offsetgroup\":\"\",\"orientation\":\"v\",\"showlegend\":false,\"textposition\":\"auto\",\"x\":[\"Tools\",\"Education\",\"Entertainment\",\"Action\",\"Productivity\",\"Personalization\",\"Lifestyle\",\"Finance\",\"Medical\",\"Sports\",\"Photography\",\"Business\",\"Communication\",\"Health & Fitness\",\"Casual\"],\"xaxis\":\"x\",\"y\":[719,587,498,304,301,298,298,296,292,270,263,262,258,245,216],\"yaxis\":\"y\",\"type\":\"bar\"}],                        {\"template\":{\"data\":{\"bar\":[{\"error_x\":{\"color\":\"#2a3f5f\"},\"error_y\":{\"color\":\"#2a3f5f\"},\"marker\":{\"line\":{\"color\":\"#E5ECF6\",\"width\":0.5},\"pattern\":{\"fillmode\":\"overlay\",\"size\":10,\"solidity\":0.2}},\"type\":\"bar\"}],\"barpolar\":[{\"marker\":{\"line\":{\"color\":\"#E5ECF6\",\"width\":0.5},\"pattern\":{\"fillmode\":\"overlay\",\"size\":10,\"solidity\":0.2}},\"type\":\"barpolar\"}],\"carpet\":[{\"aaxis\":{\"endlinecolor\":\"#2a3f5f\",\"gridcolor\":\"white\",\"linecolor\":\"white\",\"minorgridcolor\":\"white\",\"startlinecolor\":\"#2a3f5f\"},\"baxis\":{\"endlinecolor\":\"#2a3f5f\",\"gridcolor\":\"white\",\"linecolor\":\"white\",\"minorgridcolor\":\"white\",\"startlinecolor\":\"#2a3f5f\"},\"type\":\"carpet\"}],\"choropleth\":[{\"colorbar\":{\"outlinewidth\":0,\"ticks\":\"\"},\"type\":\"choropleth\"}],\"contour\":[{\"colorbar\":{\"outlinewidth\":0,\"ticks\":\"\"},\"colorscale\":[[0.0,\"#0d0887\"],[0.1111111111111111,\"#46039f\"],[0.2222222222222222,\"#7201a8\"],[0.3333333333333333,\"#9c179e\"],[0.4444444444444444,\"#bd3786\"],[0.5555555555555556,\"#d8576b\"],[0.6666666666666666,\"#ed7953\"],[0.7777777777777778,\"#fb9f3a\"],[0.8888888888888888,\"#fdca26\"],[1.0,\"#f0f921\"]],\"type\":\"contour\"}],\"contourcarpet\":[{\"colorbar\":{\"outlinewidth\":0,\"ticks\":\"\"},\"type\":\"contourcarpet\"}],\"heatmap\":[{\"colorbar\":{\"outlinewidth\":0,\"ticks\":\"\"},\"colorscale\":[[0.0,\"#0d0887\"],[0.1111111111111111,\"#46039f\"],[0.2222222222222222,\"#7201a8\"],[0.3333333333333333,\"#9c179e\"],[0.4444444444444444,\"#bd3786\"],[0.5555555555555556,\"#d8576b\"],[0.6666666666666666,\"#ed7953\"],[0.7777777777777778,\"#fb9f3a\"],[0.8888888888888888,\"#fdca26\"],[1.0,\"#f0f921\"]],\"type\":\"heatmap\"}],\"heatmapgl\":[{\"colorbar\":{\"outlinewidth\":0,\"ticks\":\"\"},\"colorscale\":[[0.0,\"#0d0887\"],[0.1111111111111111,\"#46039f\"],[0.2222222222222222,\"#7201a8\"],[0.3333333333333333,\"#9c179e\"],[0.4444444444444444,\"#bd3786\"],[0.5555555555555556,\"#d8576b\"],[0.6666666666666666,\"#ed7953\"],[0.7777777777777778,\"#fb9f3a\"],[0.8888888888888888,\"#fdca26\"],[1.0,\"#f0f921\"]],\"type\":\"heatmapgl\"}],\"histogram\":[{\"marker\":{\"pattern\":{\"fillmode\":\"overlay\",\"size\":10,\"solidity\":0.2}},\"type\":\"histogram\"}],\"histogram2d\":[{\"colorbar\":{\"outlinewidth\":0,\"ticks\":\"\"},\"colorscale\":[[0.0,\"#0d0887\"],[0.1111111111111111,\"#46039f\"],[0.2222222222222222,\"#7201a8\"],[0.3333333333333333,\"#9c179e\"],[0.4444444444444444,\"#bd3786\"],[0.5555555555555556,\"#d8576b\"],[0.6666666666666666,\"#ed7953\"],[0.7777777777777778,\"#fb9f3a\"],[0.8888888888888888,\"#fdca26\"],[1.0,\"#f0f921\"]],\"type\":\"histogram2d\"}],\"histogram2dcontour\":[{\"colorbar\":{\"outlinewidth\":0,\"ticks\":\"\"},\"colorscale\":[[0.0,\"#0d0887\"],[0.1111111111111111,\"#46039f\"],[0.2222222222222222,\"#7201a8\"],[0.3333333333333333,\"#9c179e\"],[0.4444444444444444,\"#bd3786\"],[0.5555555555555556,\"#d8576b\"],[0.6666666666666666,\"#ed7953\"],[0.7777777777777778,\"#fb9f3a\"],[0.8888888888888888,\"#fdca26\"],[1.0,\"#f0f921\"]],\"type\":\"histogram2dcontour\"}],\"mesh3d\":[{\"colorbar\":{\"outlinewidth\":0,\"ticks\":\"\"},\"type\":\"mesh3d\"}],\"parcoords\":[{\"line\":{\"colorbar\":{\"outlinewidth\":0,\"ticks\":\"\"}},\"type\":\"parcoords\"}],\"pie\":[{\"automargin\":true,\"type\":\"pie\"}],\"scatter\":[{\"marker\":{\"colorbar\":{\"outlinewidth\":0,\"ticks\":\"\"}},\"type\":\"scatter\"}],\"scatter3d\":[{\"line\":{\"colorbar\":{\"outlinewidth\":0,\"ticks\":\"\"}},\"marker\":{\"colorbar\":{\"outlinewidth\":0,\"ticks\":\"\"}},\"type\":\"scatter3d\"}],\"scattercarpet\":[{\"marker\":{\"colorbar\":{\"outlinewidth\":0,\"ticks\":\"\"}},\"type\":\"scattercarpet\"}],\"scattergeo\":[{\"marker\":{\"colorbar\":{\"outlinewidth\":0,\"ticks\":\"\"}},\"type\":\"scattergeo\"}],\"scattergl\":[{\"marker\":{\"colorbar\":{\"outlinewidth\":0,\"ticks\":\"\"}},\"type\":\"scattergl\"}],\"scattermapbox\":[{\"marker\":{\"colorbar\":{\"outlinewidth\":0,\"ticks\":\"\"}},\"type\":\"scattermapbox\"}],\"scatterpolar\":[{\"marker\":{\"colorbar\":{\"outlinewidth\":0,\"ticks\":\"\"}},\"type\":\"scatterpolar\"}],\"scatterpolargl\":[{\"marker\":{\"colorbar\":{\"outlinewidth\":0,\"ticks\":\"\"}},\"type\":\"scatterpolargl\"}],\"scatterternary\":[{\"marker\":{\"colorbar\":{\"outlinewidth\":0,\"ticks\":\"\"}},\"type\":\"scatterternary\"}],\"surface\":[{\"colorbar\":{\"outlinewidth\":0,\"ticks\":\"\"},\"colorscale\":[[0.0,\"#0d0887\"],[0.1111111111111111,\"#46039f\"],[0.2222222222222222,\"#7201a8\"],[0.3333333333333333,\"#9c179e\"],[0.4444444444444444,\"#bd3786\"],[0.5555555555555556,\"#d8576b\"],[0.6666666666666666,\"#ed7953\"],[0.7777777777777778,\"#fb9f3a\"],[0.8888888888888888,\"#fdca26\"],[1.0,\"#f0f921\"]],\"type\":\"surface\"}],\"table\":[{\"cells\":{\"fill\":{\"color\":\"#EBF0F8\"},\"line\":{\"color\":\"white\"}},\"header\":{\"fill\":{\"color\":\"#C8D4E3\"},\"line\":{\"color\":\"white\"}},\"type\":\"table\"}]},\"layout\":{\"annotationdefaults\":{\"arrowcolor\":\"#2a3f5f\",\"arrowhead\":0,\"arrowwidth\":1},\"autotypenumbers\":\"strict\",\"coloraxis\":{\"colorbar\":{\"outlinewidth\":0,\"ticks\":\"\"}},\"colorscale\":{\"diverging\":[[0,\"#8e0152\"],[0.1,\"#c51b7d\"],[0.2,\"#de77ae\"],[0.3,\"#f1b6da\"],[0.4,\"#fde0ef\"],[0.5,\"#f7f7f7\"],[0.6,\"#e6f5d0\"],[0.7,\"#b8e186\"],[0.8,\"#7fbc41\"],[0.9,\"#4d9221\"],[1,\"#276419\"]],\"sequential\":[[0.0,\"#0d0887\"],[0.1111111111111111,\"#46039f\"],[0.2222222222222222,\"#7201a8\"],[0.3333333333333333,\"#9c179e\"],[0.4444444444444444,\"#bd3786\"],[0.5555555555555556,\"#d8576b\"],[0.6666666666666666,\"#ed7953\"],[0.7777777777777778,\"#fb9f3a\"],[0.8888888888888888,\"#fdca26\"],[1.0,\"#f0f921\"]],\"sequentialminus\":[[0.0,\"#0d0887\"],[0.1111111111111111,\"#46039f\"],[0.2222222222222222,\"#7201a8\"],[0.3333333333333333,\"#9c179e\"],[0.4444444444444444,\"#bd3786\"],[0.5555555555555556,\"#d8576b\"],[0.6666666666666666,\"#ed7953\"],[0.7777777777777778,\"#fb9f3a\"],[0.8888888888888888,\"#fdca26\"],[1.0,\"#f0f921\"]]},\"colorway\":[\"#636efa\",\"#EF553B\",\"#00cc96\",\"#ab63fa\",\"#FFA15A\",\"#19d3f3\",\"#FF6692\",\"#B6E880\",\"#FF97FF\",\"#FECB52\"],\"font\":{\"color\":\"#2a3f5f\"},\"geo\":{\"bgcolor\":\"white\",\"lakecolor\":\"white\",\"landcolor\":\"#E5ECF6\",\"showlakes\":true,\"showland\":true,\"subunitcolor\":\"white\"},\"hoverlabel\":{\"align\":\"left\"},\"hovermode\":\"closest\",\"mapbox\":{\"style\":\"light\"},\"paper_bgcolor\":\"white\",\"plot_bgcolor\":\"#E5ECF6\",\"polar\":{\"angularaxis\":{\"gridcolor\":\"white\",\"linecolor\":\"white\",\"ticks\":\"\"},\"bgcolor\":\"#E5ECF6\",\"radialaxis\":{\"gridcolor\":\"white\",\"linecolor\":\"white\",\"ticks\":\"\"}},\"scene\":{\"xaxis\":{\"backgroundcolor\":\"#E5ECF6\",\"gridcolor\":\"white\",\"gridwidth\":2,\"linecolor\":\"white\",\"showbackground\":true,\"ticks\":\"\",\"zerolinecolor\":\"white\"},\"yaxis\":{\"backgroundcolor\":\"#E5ECF6\",\"gridcolor\":\"white\",\"gridwidth\":2,\"linecolor\":\"white\",\"showbackground\":true,\"ticks\":\"\",\"zerolinecolor\":\"white\"},\"zaxis\":{\"backgroundcolor\":\"#E5ECF6\",\"gridcolor\":\"white\",\"gridwidth\":2,\"linecolor\":\"white\",\"showbackground\":true,\"ticks\":\"\",\"zerolinecolor\":\"white\"}},\"shapedefaults\":{\"line\":{\"color\":\"#2a3f5f\"}},\"ternary\":{\"aaxis\":{\"gridcolor\":\"white\",\"linecolor\":\"white\",\"ticks\":\"\"},\"baxis\":{\"gridcolor\":\"white\",\"linecolor\":\"white\",\"ticks\":\"\"},\"bgcolor\":\"#E5ECF6\",\"caxis\":{\"gridcolor\":\"white\",\"linecolor\":\"white\",\"ticks\":\"\"}},\"title\":{\"x\":0.05},\"xaxis\":{\"automargin\":true,\"gridcolor\":\"white\",\"linecolor\":\"white\",\"ticks\":\"\",\"title\":{\"standoff\":15},\"zerolinecolor\":\"white\",\"zerolinewidth\":2},\"yaxis\":{\"automargin\":true,\"gridcolor\":\"white\",\"linecolor\":\"white\",\"ticks\":\"\",\"title\":{\"standoff\":15},\"zerolinecolor\":\"white\",\"zerolinewidth\":2}}},\"xaxis\":{\"anchor\":\"y\",\"domain\":[0.0,1.0],\"title\":{\"text\":\"Genre\"}},\"yaxis\":{\"anchor\":\"x\",\"domain\":[0.0,1.0],\"title\":{\"text\":\"Number of Apps\"}},\"coloraxis\":{\"colorbar\":{\"title\":{\"text\":\"color\"}},\"colorscale\":[[0.0,\"rgb(75, 41, 145)\"],[0.16666666666666666,\"rgb(135, 44, 162)\"],[0.3333333333333333,\"rgb(192, 54, 157)\"],[0.5,\"rgb(234, 79, 136)\"],[0.6666666666666666,\"rgb(250, 120, 118)\"],[0.8333333333333334,\"rgb(246, 169, 122)\"],[1.0,\"rgb(237, 217, 163)\"]],\"showscale\":false},\"legend\":{\"tracegroupgap\":0},\"title\":{\"text\":\"Top Genres\"},\"barmode\":\"relative\"},                        {\"responsive\": true}                    ).then(function(){\n",
              "                            \n",
              "var gd = document.getElementById('517c3174-3060-40ee-96f7-9eada1db18c9');\n",
              "var x = new MutationObserver(function (mutations, observer) {{\n",
              "        var display = window.getComputedStyle(gd).display;\n",
              "        if (!display || display === 'none') {{\n",
              "            console.log([gd, 'removed!']);\n",
              "            Plotly.purge(gd);\n",
              "            observer.disconnect();\n",
              "        }}\n",
              "}});\n",
              "\n",
              "// Listen for the removal of the full notebook cells\n",
              "var notebookContainer = gd.closest('#notebook-container');\n",
              "if (notebookContainer) {{\n",
              "    x.observe(notebookContainer, {childList: true});\n",
              "}}\n",
              "\n",
              "// Listen for the clearing of the current output cell\n",
              "var outputEl = gd.closest('.output');\n",
              "if (outputEl) {{\n",
              "    x.observe(outputEl, {childList: true});\n",
              "}}\n",
              "\n",
              "                        })                };                            </script>        </div>\n",
              "</body>\n",
              "</html>"
            ]
          },
          "metadata": {}
        }
      ]
    },
    {
      "cell_type": "markdown",
      "metadata": {
        "id": "BIWG_10PyIzL"
      },
      "source": [
        "# Grouped Bar Charts: Free vs. Paid Apps per Category"
      ]
    },
    {
      "cell_type": "code",
      "metadata": {
        "id": "ANMs7xywolDH",
        "colab": {
          "base_uri": "https://localhost:8080/"
        },
        "outputId": "49e5c71c-877f-4595-c38a-4403e48ba493"
      },
      "source": [
        "df_apps_clean['Type'].value_counts()"
      ],
      "execution_count": 73,
      "outputs": [
        {
          "output_type": "execute_result",
          "data": {
            "text/plain": [
              "Free    7595\n",
              "Paid     589\n",
              "Name: Type, dtype: int64"
            ]
          },
          "metadata": {},
          "execution_count": 73
        }
      ]
    },
    {
      "cell_type": "markdown",
      "metadata": {
        "id": "wmRXm0TW1e_Z"
      },
      "source": [
        "**Challenge**: Use the plotly express bar [chart examples](https://plotly.com/python/bar-charts/#bar-chart-with-sorted-or-ordered-categories) and the [.bar() API reference](https://plotly.com/python-api-reference/generated/plotly.express.bar.html#plotly.express.bar) to create this bar chart: \n",
        "\n",
        "<img src=https://imgur.com/LE0XCxA.png>\n",
        "\n",
        "You'll want to use the `df_free_vs_paid` DataFrame that you created above that has the total number of free and paid apps per category. \n",
        "\n",
        "See if you can figure out how to get the look above by changing the `categoryorder` to 'total descending' as outlined in the documentation here [here](https://plotly.com/python/categorical-axes/#automatically-sorting-categories-by-name-or-total-value). "
      ]
    },
    {
      "cell_type": "code",
      "metadata": {
        "id": "tqOntrS7onGt"
      },
      "source": [
        "df_free_paid = df_apps_clean.groupby(['Category','Type'], as_index=False).agg({'App':pd.Series.count})"
      ],
      "execution_count": 76,
      "outputs": []
    },
    {
      "cell_type": "code",
      "source": [
        "df_free_paid"
      ],
      "metadata": {
        "colab": {
          "base_uri": "https://localhost:8080/",
          "height": 423
        },
        "id": "J8TdiWhLgz04",
        "outputId": "644e7adc-550e-475b-cb4d-76f04b6873cd"
      },
      "execution_count": 77,
      "outputs": [
        {
          "output_type": "execute_result",
          "data": {
            "text/plain": [
              "             Category  Type  App\n",
              "0      ART_AND_DESIGN  Free   58\n",
              "1      ART_AND_DESIGN  Paid    3\n",
              "2   AUTO_AND_VEHICLES  Free   72\n",
              "3   AUTO_AND_VEHICLES  Paid    1\n",
              "4              BEAUTY  Free   42\n",
              "..                ...   ...  ...\n",
              "56   TRAVEL_AND_LOCAL  Paid    8\n",
              "57      VIDEO_PLAYERS  Free  144\n",
              "58      VIDEO_PLAYERS  Paid    4\n",
              "59            WEATHER  Free   65\n",
              "60            WEATHER  Paid    7\n",
              "\n",
              "[61 rows x 3 columns]"
            ],
            "text/html": [
              "\n",
              "  <div id=\"df-228f7a5b-68aa-4b8d-9006-c16271a45881\">\n",
              "    <div class=\"colab-df-container\">\n",
              "      <div>\n",
              "<style scoped>\n",
              "    .dataframe tbody tr th:only-of-type {\n",
              "        vertical-align: middle;\n",
              "    }\n",
              "\n",
              "    .dataframe tbody tr th {\n",
              "        vertical-align: top;\n",
              "    }\n",
              "\n",
              "    .dataframe thead th {\n",
              "        text-align: right;\n",
              "    }\n",
              "</style>\n",
              "<table border=\"1\" class=\"dataframe\">\n",
              "  <thead>\n",
              "    <tr style=\"text-align: right;\">\n",
              "      <th></th>\n",
              "      <th>Category</th>\n",
              "      <th>Type</th>\n",
              "      <th>App</th>\n",
              "    </tr>\n",
              "  </thead>\n",
              "  <tbody>\n",
              "    <tr>\n",
              "      <th>0</th>\n",
              "      <td>ART_AND_DESIGN</td>\n",
              "      <td>Free</td>\n",
              "      <td>58</td>\n",
              "    </tr>\n",
              "    <tr>\n",
              "      <th>1</th>\n",
              "      <td>ART_AND_DESIGN</td>\n",
              "      <td>Paid</td>\n",
              "      <td>3</td>\n",
              "    </tr>\n",
              "    <tr>\n",
              "      <th>2</th>\n",
              "      <td>AUTO_AND_VEHICLES</td>\n",
              "      <td>Free</td>\n",
              "      <td>72</td>\n",
              "    </tr>\n",
              "    <tr>\n",
              "      <th>3</th>\n",
              "      <td>AUTO_AND_VEHICLES</td>\n",
              "      <td>Paid</td>\n",
              "      <td>1</td>\n",
              "    </tr>\n",
              "    <tr>\n",
              "      <th>4</th>\n",
              "      <td>BEAUTY</td>\n",
              "      <td>Free</td>\n",
              "      <td>42</td>\n",
              "    </tr>\n",
              "    <tr>\n",
              "      <th>...</th>\n",
              "      <td>...</td>\n",
              "      <td>...</td>\n",
              "      <td>...</td>\n",
              "    </tr>\n",
              "    <tr>\n",
              "      <th>56</th>\n",
              "      <td>TRAVEL_AND_LOCAL</td>\n",
              "      <td>Paid</td>\n",
              "      <td>8</td>\n",
              "    </tr>\n",
              "    <tr>\n",
              "      <th>57</th>\n",
              "      <td>VIDEO_PLAYERS</td>\n",
              "      <td>Free</td>\n",
              "      <td>144</td>\n",
              "    </tr>\n",
              "    <tr>\n",
              "      <th>58</th>\n",
              "      <td>VIDEO_PLAYERS</td>\n",
              "      <td>Paid</td>\n",
              "      <td>4</td>\n",
              "    </tr>\n",
              "    <tr>\n",
              "      <th>59</th>\n",
              "      <td>WEATHER</td>\n",
              "      <td>Free</td>\n",
              "      <td>65</td>\n",
              "    </tr>\n",
              "    <tr>\n",
              "      <th>60</th>\n",
              "      <td>WEATHER</td>\n",
              "      <td>Paid</td>\n",
              "      <td>7</td>\n",
              "    </tr>\n",
              "  </tbody>\n",
              "</table>\n",
              "<p>61 rows × 3 columns</p>\n",
              "</div>\n",
              "      <button class=\"colab-df-convert\" onclick=\"convertToInteractive('df-228f7a5b-68aa-4b8d-9006-c16271a45881')\"\n",
              "              title=\"Convert this dataframe to an interactive table.\"\n",
              "              style=\"display:none;\">\n",
              "        \n",
              "  <svg xmlns=\"http://www.w3.org/2000/svg\" height=\"24px\"viewBox=\"0 0 24 24\"\n",
              "       width=\"24px\">\n",
              "    <path d=\"M0 0h24v24H0V0z\" fill=\"none\"/>\n",
              "    <path d=\"M18.56 5.44l.94 2.06.94-2.06 2.06-.94-2.06-.94-.94-2.06-.94 2.06-2.06.94zm-11 1L8.5 8.5l.94-2.06 2.06-.94-2.06-.94L8.5 2.5l-.94 2.06-2.06.94zm10 10l.94 2.06.94-2.06 2.06-.94-2.06-.94-.94-2.06-.94 2.06-2.06.94z\"/><path d=\"M17.41 7.96l-1.37-1.37c-.4-.4-.92-.59-1.43-.59-.52 0-1.04.2-1.43.59L10.3 9.45l-7.72 7.72c-.78.78-.78 2.05 0 2.83L4 21.41c.39.39.9.59 1.41.59.51 0 1.02-.2 1.41-.59l7.78-7.78 2.81-2.81c.8-.78.8-2.07 0-2.86zM5.41 20L4 18.59l7.72-7.72 1.47 1.35L5.41 20z\"/>\n",
              "  </svg>\n",
              "      </button>\n",
              "      \n",
              "  <style>\n",
              "    .colab-df-container {\n",
              "      display:flex;\n",
              "      flex-wrap:wrap;\n",
              "      gap: 12px;\n",
              "    }\n",
              "\n",
              "    .colab-df-convert {\n",
              "      background-color: #E8F0FE;\n",
              "      border: none;\n",
              "      border-radius: 50%;\n",
              "      cursor: pointer;\n",
              "      display: none;\n",
              "      fill: #1967D2;\n",
              "      height: 32px;\n",
              "      padding: 0 0 0 0;\n",
              "      width: 32px;\n",
              "    }\n",
              "\n",
              "    .colab-df-convert:hover {\n",
              "      background-color: #E2EBFA;\n",
              "      box-shadow: 0px 1px 2px rgba(60, 64, 67, 0.3), 0px 1px 3px 1px rgba(60, 64, 67, 0.15);\n",
              "      fill: #174EA6;\n",
              "    }\n",
              "\n",
              "    [theme=dark] .colab-df-convert {\n",
              "      background-color: #3B4455;\n",
              "      fill: #D2E3FC;\n",
              "    }\n",
              "\n",
              "    [theme=dark] .colab-df-convert:hover {\n",
              "      background-color: #434B5C;\n",
              "      box-shadow: 0px 1px 3px 1px rgba(0, 0, 0, 0.15);\n",
              "      filter: drop-shadow(0px 1px 2px rgba(0, 0, 0, 0.3));\n",
              "      fill: #FFFFFF;\n",
              "    }\n",
              "  </style>\n",
              "\n",
              "      <script>\n",
              "        const buttonEl =\n",
              "          document.querySelector('#df-228f7a5b-68aa-4b8d-9006-c16271a45881 button.colab-df-convert');\n",
              "        buttonEl.style.display =\n",
              "          google.colab.kernel.accessAllowed ? 'block' : 'none';\n",
              "\n",
              "        async function convertToInteractive(key) {\n",
              "          const element = document.querySelector('#df-228f7a5b-68aa-4b8d-9006-c16271a45881');\n",
              "          const dataTable =\n",
              "            await google.colab.kernel.invokeFunction('convertToInteractive',\n",
              "                                                     [key], {});\n",
              "          if (!dataTable) return;\n",
              "\n",
              "          const docLinkHtml = 'Like what you see? Visit the ' +\n",
              "            '<a target=\"_blank\" href=https://colab.research.google.com/notebooks/data_table.ipynb>data table notebook</a>'\n",
              "            + ' to learn more about interactive tables.';\n",
              "          element.innerHTML = '';\n",
              "          dataTable['output_type'] = 'display_data';\n",
              "          await google.colab.output.renderOutput(dataTable, element);\n",
              "          const docLink = document.createElement('div');\n",
              "          docLink.innerHTML = docLinkHtml;\n",
              "          element.appendChild(docLink);\n",
              "        }\n",
              "      </script>\n",
              "    </div>\n",
              "  </div>\n",
              "  "
            ]
          },
          "metadata": {},
          "execution_count": 77
        }
      ]
    },
    {
      "cell_type": "code",
      "source": [
        "bar3 = px.bar(data_frame = df_free_paid,\n",
        "              x = df_free_paid.Category,\n",
        "              y = df_free_paid.App,\n",
        "              color = df_free_paid.Type,\n",
        "              barmode = 'group',\n",
        "              title = 'Free vs Paid')\n",
        "bar3.update_layout(xaxis_title = 'Category',\n",
        "                   yaxis_title = 'Number of Apps',\n",
        "                   xaxis = {'categoryorder':'total descending'},\n",
        "                   yaxis = {'type':'log'})\n",
        "bar3.show()"
      ],
      "metadata": {
        "colab": {
          "base_uri": "https://localhost:8080/",
          "height": 542
        },
        "id": "MY57pzAJg0BF",
        "outputId": "49276e1e-e126-4403-8a39-f5a09c907221"
      },
      "execution_count": 82,
      "outputs": [
        {
          "output_type": "display_data",
          "data": {
            "text/html": [
              "<html>\n",
              "<head><meta charset=\"utf-8\" /></head>\n",
              "<body>\n",
              "    <div>            <script src=\"https://cdnjs.cloudflare.com/ajax/libs/mathjax/2.7.5/MathJax.js?config=TeX-AMS-MML_SVG\"></script><script type=\"text/javascript\">if (window.MathJax) {MathJax.Hub.Config({SVG: {font: \"STIX-Web\"}});}</script>                <script type=\"text/javascript\">window.PlotlyConfig = {MathJaxConfig: 'local'};</script>\n",
              "        <script src=\"https://cdn.plot.ly/plotly-2.8.3.min.js\"></script>                <div id=\"e077a52c-636e-4ce9-912f-7c0f86333ce9\" class=\"plotly-graph-div\" style=\"height:525px; width:100%;\"></div>            <script type=\"text/javascript\">                                    window.PLOTLYENV=window.PLOTLYENV || {};                                    if (document.getElementById(\"e077a52c-636e-4ce9-912f-7c0f86333ce9\")) {                    Plotly.newPlot(                        \"e077a52c-636e-4ce9-912f-7c0f86333ce9\",                        [{\"alignmentgroup\":\"True\",\"hovertemplate\":\"Type=Free<br>Category=%{x}<br>App=%{y}<extra></extra>\",\"legendgroup\":\"Free\",\"marker\":{\"color\":\"#636efa\",\"pattern\":{\"shape\":\"\"}},\"name\":\"Free\",\"offsetgroup\":\"Free\",\"orientation\":\"v\",\"showlegend\":true,\"textposition\":\"auto\",\"x\":[\"ART_AND_DESIGN\",\"AUTO_AND_VEHICLES\",\"BEAUTY\",\"BOOKS_AND_REFERENCE\",\"BUSINESS\",\"COMICS\",\"COMMUNICATION\",\"DATING\",\"EDUCATION\",\"ENTERTAINMENT\",\"EVENTS\",\"FAMILY\",\"FINANCE\",\"FOOD_AND_DRINK\",\"GAME\",\"HEALTH_AND_FITNESS\",\"HOUSE_AND_HOME\",\"LIBRARIES_AND_DEMO\",\"LIFESTYLE\",\"MAPS_AND_NAVIGATION\",\"MEDICAL\",\"NEWS_AND_MAGAZINES\",\"PARENTING\",\"PERSONALIZATION\",\"PHOTOGRAPHY\",\"PRODUCTIVITY\",\"SHOPPING\",\"SOCIAL\",\"SPORTS\",\"TOOLS\",\"TRAVEL_AND_LOCAL\",\"VIDEO_PLAYERS\",\"WEATHER\"],\"xaxis\":\"x\",\"y\":[58,72,42,161,253,54,235,131,114,100,45,1456,289,92,834,232,62,64,284,113,229,202,48,233,248,283,178,201,238,656,179,144,65],\"yaxis\":\"y\",\"type\":\"bar\"},{\"alignmentgroup\":\"True\",\"hovertemplate\":\"Type=Paid<br>Category=%{x}<br>App=%{y}<extra></extra>\",\"legendgroup\":\"Paid\",\"marker\":{\"color\":\"#EF553B\",\"pattern\":{\"shape\":\"\"}},\"name\":\"Paid\",\"offsetgroup\":\"Paid\",\"orientation\":\"v\",\"showlegend\":true,\"textposition\":\"auto\",\"x\":[\"ART_AND_DESIGN\",\"AUTO_AND_VEHICLES\",\"BOOKS_AND_REFERENCE\",\"BUSINESS\",\"COMMUNICATION\",\"DATING\",\"EDUCATION\",\"ENTERTAINMENT\",\"FAMILY\",\"FINANCE\",\"FOOD_AND_DRINK\",\"GAME\",\"HEALTH_AND_FITNESS\",\"LIFESTYLE\",\"MAPS_AND_NAVIGATION\",\"MEDICAL\",\"NEWS_AND_MAGAZINES\",\"PARENTING\",\"PERSONALIZATION\",\"PHOTOGRAPHY\",\"PRODUCTIVITY\",\"SHOPPING\",\"SOCIAL\",\"SPORTS\",\"TOOLS\",\"TRAVEL_AND_LOCAL\",\"VIDEO_PLAYERS\",\"WEATHER\"],\"xaxis\":\"x\",\"y\":[3,1,8,9,22,3,4,2,150,7,2,76,11,13,5,63,2,2,65,15,18,2,2,22,63,8,4,7],\"yaxis\":\"y\",\"type\":\"bar\"}],                        {\"template\":{\"data\":{\"bar\":[{\"error_x\":{\"color\":\"#2a3f5f\"},\"error_y\":{\"color\":\"#2a3f5f\"},\"marker\":{\"line\":{\"color\":\"#E5ECF6\",\"width\":0.5},\"pattern\":{\"fillmode\":\"overlay\",\"size\":10,\"solidity\":0.2}},\"type\":\"bar\"}],\"barpolar\":[{\"marker\":{\"line\":{\"color\":\"#E5ECF6\",\"width\":0.5},\"pattern\":{\"fillmode\":\"overlay\",\"size\":10,\"solidity\":0.2}},\"type\":\"barpolar\"}],\"carpet\":[{\"aaxis\":{\"endlinecolor\":\"#2a3f5f\",\"gridcolor\":\"white\",\"linecolor\":\"white\",\"minorgridcolor\":\"white\",\"startlinecolor\":\"#2a3f5f\"},\"baxis\":{\"endlinecolor\":\"#2a3f5f\",\"gridcolor\":\"white\",\"linecolor\":\"white\",\"minorgridcolor\":\"white\",\"startlinecolor\":\"#2a3f5f\"},\"type\":\"carpet\"}],\"choropleth\":[{\"colorbar\":{\"outlinewidth\":0,\"ticks\":\"\"},\"type\":\"choropleth\"}],\"contour\":[{\"colorbar\":{\"outlinewidth\":0,\"ticks\":\"\"},\"colorscale\":[[0.0,\"#0d0887\"],[0.1111111111111111,\"#46039f\"],[0.2222222222222222,\"#7201a8\"],[0.3333333333333333,\"#9c179e\"],[0.4444444444444444,\"#bd3786\"],[0.5555555555555556,\"#d8576b\"],[0.6666666666666666,\"#ed7953\"],[0.7777777777777778,\"#fb9f3a\"],[0.8888888888888888,\"#fdca26\"],[1.0,\"#f0f921\"]],\"type\":\"contour\"}],\"contourcarpet\":[{\"colorbar\":{\"outlinewidth\":0,\"ticks\":\"\"},\"type\":\"contourcarpet\"}],\"heatmap\":[{\"colorbar\":{\"outlinewidth\":0,\"ticks\":\"\"},\"colorscale\":[[0.0,\"#0d0887\"],[0.1111111111111111,\"#46039f\"],[0.2222222222222222,\"#7201a8\"],[0.3333333333333333,\"#9c179e\"],[0.4444444444444444,\"#bd3786\"],[0.5555555555555556,\"#d8576b\"],[0.6666666666666666,\"#ed7953\"],[0.7777777777777778,\"#fb9f3a\"],[0.8888888888888888,\"#fdca26\"],[1.0,\"#f0f921\"]],\"type\":\"heatmap\"}],\"heatmapgl\":[{\"colorbar\":{\"outlinewidth\":0,\"ticks\":\"\"},\"colorscale\":[[0.0,\"#0d0887\"],[0.1111111111111111,\"#46039f\"],[0.2222222222222222,\"#7201a8\"],[0.3333333333333333,\"#9c179e\"],[0.4444444444444444,\"#bd3786\"],[0.5555555555555556,\"#d8576b\"],[0.6666666666666666,\"#ed7953\"],[0.7777777777777778,\"#fb9f3a\"],[0.8888888888888888,\"#fdca26\"],[1.0,\"#f0f921\"]],\"type\":\"heatmapgl\"}],\"histogram\":[{\"marker\":{\"pattern\":{\"fillmode\":\"overlay\",\"size\":10,\"solidity\":0.2}},\"type\":\"histogram\"}],\"histogram2d\":[{\"colorbar\":{\"outlinewidth\":0,\"ticks\":\"\"},\"colorscale\":[[0.0,\"#0d0887\"],[0.1111111111111111,\"#46039f\"],[0.2222222222222222,\"#7201a8\"],[0.3333333333333333,\"#9c179e\"],[0.4444444444444444,\"#bd3786\"],[0.5555555555555556,\"#d8576b\"],[0.6666666666666666,\"#ed7953\"],[0.7777777777777778,\"#fb9f3a\"],[0.8888888888888888,\"#fdca26\"],[1.0,\"#f0f921\"]],\"type\":\"histogram2d\"}],\"histogram2dcontour\":[{\"colorbar\":{\"outlinewidth\":0,\"ticks\":\"\"},\"colorscale\":[[0.0,\"#0d0887\"],[0.1111111111111111,\"#46039f\"],[0.2222222222222222,\"#7201a8\"],[0.3333333333333333,\"#9c179e\"],[0.4444444444444444,\"#bd3786\"],[0.5555555555555556,\"#d8576b\"],[0.6666666666666666,\"#ed7953\"],[0.7777777777777778,\"#fb9f3a\"],[0.8888888888888888,\"#fdca26\"],[1.0,\"#f0f921\"]],\"type\":\"histogram2dcontour\"}],\"mesh3d\":[{\"colorbar\":{\"outlinewidth\":0,\"ticks\":\"\"},\"type\":\"mesh3d\"}],\"parcoords\":[{\"line\":{\"colorbar\":{\"outlinewidth\":0,\"ticks\":\"\"}},\"type\":\"parcoords\"}],\"pie\":[{\"automargin\":true,\"type\":\"pie\"}],\"scatter\":[{\"marker\":{\"colorbar\":{\"outlinewidth\":0,\"ticks\":\"\"}},\"type\":\"scatter\"}],\"scatter3d\":[{\"line\":{\"colorbar\":{\"outlinewidth\":0,\"ticks\":\"\"}},\"marker\":{\"colorbar\":{\"outlinewidth\":0,\"ticks\":\"\"}},\"type\":\"scatter3d\"}],\"scattercarpet\":[{\"marker\":{\"colorbar\":{\"outlinewidth\":0,\"ticks\":\"\"}},\"type\":\"scattercarpet\"}],\"scattergeo\":[{\"marker\":{\"colorbar\":{\"outlinewidth\":0,\"ticks\":\"\"}},\"type\":\"scattergeo\"}],\"scattergl\":[{\"marker\":{\"colorbar\":{\"outlinewidth\":0,\"ticks\":\"\"}},\"type\":\"scattergl\"}],\"scattermapbox\":[{\"marker\":{\"colorbar\":{\"outlinewidth\":0,\"ticks\":\"\"}},\"type\":\"scattermapbox\"}],\"scatterpolar\":[{\"marker\":{\"colorbar\":{\"outlinewidth\":0,\"ticks\":\"\"}},\"type\":\"scatterpolar\"}],\"scatterpolargl\":[{\"marker\":{\"colorbar\":{\"outlinewidth\":0,\"ticks\":\"\"}},\"type\":\"scatterpolargl\"}],\"scatterternary\":[{\"marker\":{\"colorbar\":{\"outlinewidth\":0,\"ticks\":\"\"}},\"type\":\"scatterternary\"}],\"surface\":[{\"colorbar\":{\"outlinewidth\":0,\"ticks\":\"\"},\"colorscale\":[[0.0,\"#0d0887\"],[0.1111111111111111,\"#46039f\"],[0.2222222222222222,\"#7201a8\"],[0.3333333333333333,\"#9c179e\"],[0.4444444444444444,\"#bd3786\"],[0.5555555555555556,\"#d8576b\"],[0.6666666666666666,\"#ed7953\"],[0.7777777777777778,\"#fb9f3a\"],[0.8888888888888888,\"#fdca26\"],[1.0,\"#f0f921\"]],\"type\":\"surface\"}],\"table\":[{\"cells\":{\"fill\":{\"color\":\"#EBF0F8\"},\"line\":{\"color\":\"white\"}},\"header\":{\"fill\":{\"color\":\"#C8D4E3\"},\"line\":{\"color\":\"white\"}},\"type\":\"table\"}]},\"layout\":{\"annotationdefaults\":{\"arrowcolor\":\"#2a3f5f\",\"arrowhead\":0,\"arrowwidth\":1},\"autotypenumbers\":\"strict\",\"coloraxis\":{\"colorbar\":{\"outlinewidth\":0,\"ticks\":\"\"}},\"colorscale\":{\"diverging\":[[0,\"#8e0152\"],[0.1,\"#c51b7d\"],[0.2,\"#de77ae\"],[0.3,\"#f1b6da\"],[0.4,\"#fde0ef\"],[0.5,\"#f7f7f7\"],[0.6,\"#e6f5d0\"],[0.7,\"#b8e186\"],[0.8,\"#7fbc41\"],[0.9,\"#4d9221\"],[1,\"#276419\"]],\"sequential\":[[0.0,\"#0d0887\"],[0.1111111111111111,\"#46039f\"],[0.2222222222222222,\"#7201a8\"],[0.3333333333333333,\"#9c179e\"],[0.4444444444444444,\"#bd3786\"],[0.5555555555555556,\"#d8576b\"],[0.6666666666666666,\"#ed7953\"],[0.7777777777777778,\"#fb9f3a\"],[0.8888888888888888,\"#fdca26\"],[1.0,\"#f0f921\"]],\"sequentialminus\":[[0.0,\"#0d0887\"],[0.1111111111111111,\"#46039f\"],[0.2222222222222222,\"#7201a8\"],[0.3333333333333333,\"#9c179e\"],[0.4444444444444444,\"#bd3786\"],[0.5555555555555556,\"#d8576b\"],[0.6666666666666666,\"#ed7953\"],[0.7777777777777778,\"#fb9f3a\"],[0.8888888888888888,\"#fdca26\"],[1.0,\"#f0f921\"]]},\"colorway\":[\"#636efa\",\"#EF553B\",\"#00cc96\",\"#ab63fa\",\"#FFA15A\",\"#19d3f3\",\"#FF6692\",\"#B6E880\",\"#FF97FF\",\"#FECB52\"],\"font\":{\"color\":\"#2a3f5f\"},\"geo\":{\"bgcolor\":\"white\",\"lakecolor\":\"white\",\"landcolor\":\"#E5ECF6\",\"showlakes\":true,\"showland\":true,\"subunitcolor\":\"white\"},\"hoverlabel\":{\"align\":\"left\"},\"hovermode\":\"closest\",\"mapbox\":{\"style\":\"light\"},\"paper_bgcolor\":\"white\",\"plot_bgcolor\":\"#E5ECF6\",\"polar\":{\"angularaxis\":{\"gridcolor\":\"white\",\"linecolor\":\"white\",\"ticks\":\"\"},\"bgcolor\":\"#E5ECF6\",\"radialaxis\":{\"gridcolor\":\"white\",\"linecolor\":\"white\",\"ticks\":\"\"}},\"scene\":{\"xaxis\":{\"backgroundcolor\":\"#E5ECF6\",\"gridcolor\":\"white\",\"gridwidth\":2,\"linecolor\":\"white\",\"showbackground\":true,\"ticks\":\"\",\"zerolinecolor\":\"white\"},\"yaxis\":{\"backgroundcolor\":\"#E5ECF6\",\"gridcolor\":\"white\",\"gridwidth\":2,\"linecolor\":\"white\",\"showbackground\":true,\"ticks\":\"\",\"zerolinecolor\":\"white\"},\"zaxis\":{\"backgroundcolor\":\"#E5ECF6\",\"gridcolor\":\"white\",\"gridwidth\":2,\"linecolor\":\"white\",\"showbackground\":true,\"ticks\":\"\",\"zerolinecolor\":\"white\"}},\"shapedefaults\":{\"line\":{\"color\":\"#2a3f5f\"}},\"ternary\":{\"aaxis\":{\"gridcolor\":\"white\",\"linecolor\":\"white\",\"ticks\":\"\"},\"baxis\":{\"gridcolor\":\"white\",\"linecolor\":\"white\",\"ticks\":\"\"},\"bgcolor\":\"#E5ECF6\",\"caxis\":{\"gridcolor\":\"white\",\"linecolor\":\"white\",\"ticks\":\"\"}},\"title\":{\"x\":0.05},\"xaxis\":{\"automargin\":true,\"gridcolor\":\"white\",\"linecolor\":\"white\",\"ticks\":\"\",\"title\":{\"standoff\":15},\"zerolinecolor\":\"white\",\"zerolinewidth\":2},\"yaxis\":{\"automargin\":true,\"gridcolor\":\"white\",\"linecolor\":\"white\",\"ticks\":\"\",\"title\":{\"standoff\":15},\"zerolinecolor\":\"white\",\"zerolinewidth\":2}}},\"xaxis\":{\"anchor\":\"y\",\"domain\":[0.0,1.0],\"title\":{\"text\":\"Category\"},\"categoryorder\":\"total descending\"},\"yaxis\":{\"anchor\":\"x\",\"domain\":[0.0,1.0],\"title\":{\"text\":\"Number of Apps\"},\"type\":\"log\"},\"legend\":{\"title\":{\"text\":\"Type\"},\"tracegroupgap\":0},\"title\":{\"text\":\"Free vs Paid\"},\"barmode\":\"group\"},                        {\"responsive\": true}                    ).then(function(){\n",
              "                            \n",
              "var gd = document.getElementById('e077a52c-636e-4ce9-912f-7c0f86333ce9');\n",
              "var x = new MutationObserver(function (mutations, observer) {{\n",
              "        var display = window.getComputedStyle(gd).display;\n",
              "        if (!display || display === 'none') {{\n",
              "            console.log([gd, 'removed!']);\n",
              "            Plotly.purge(gd);\n",
              "            observer.disconnect();\n",
              "        }}\n",
              "}});\n",
              "\n",
              "// Listen for the removal of the full notebook cells\n",
              "var notebookContainer = gd.closest('#notebook-container');\n",
              "if (notebookContainer) {{\n",
              "    x.observe(notebookContainer, {childList: true});\n",
              "}}\n",
              "\n",
              "// Listen for the clearing of the current output cell\n",
              "var outputEl = gd.closest('.output');\n",
              "if (outputEl) {{\n",
              "    x.observe(outputEl, {childList: true});\n",
              "}}\n",
              "\n",
              "                        })                };                            </script>        </div>\n",
              "</body>\n",
              "</html>"
            ]
          },
          "metadata": {}
        }
      ]
    },
    {
      "cell_type": "code",
      "source": [
        "bar4 = px.bar(data_frame = df_free_paid,\n",
        "              x = df_free_paid.Category,\n",
        "              y = df_free_paid.App,\n",
        "              color = df_free_paid.Type,\n",
        "              barmode = 'group',\n",
        "              title = 'Free vs Paid',\n",
        "              log_y = True)\n",
        "bar3.update_layout(xaxis_title = 'Category',\n",
        "                   yaxis_title = 'Number of Apps',\n",
        "                   xaxis = {'categoryorder':'total descending'},\n",
        "                   )\n",
        "bar3.show()"
      ],
      "metadata": {
        "colab": {
          "base_uri": "https://localhost:8080/",
          "height": 542
        },
        "id": "KATwqNnxg0EM",
        "outputId": "867974a4-8131-4750-e8d9-6b4ab09b8ca8"
      },
      "execution_count": 83,
      "outputs": [
        {
          "output_type": "display_data",
          "data": {
            "text/html": [
              "<html>\n",
              "<head><meta charset=\"utf-8\" /></head>\n",
              "<body>\n",
              "    <div>            <script src=\"https://cdnjs.cloudflare.com/ajax/libs/mathjax/2.7.5/MathJax.js?config=TeX-AMS-MML_SVG\"></script><script type=\"text/javascript\">if (window.MathJax) {MathJax.Hub.Config({SVG: {font: \"STIX-Web\"}});}</script>                <script type=\"text/javascript\">window.PlotlyConfig = {MathJaxConfig: 'local'};</script>\n",
              "        <script src=\"https://cdn.plot.ly/plotly-2.8.3.min.js\"></script>                <div id=\"88c0b50e-4c5e-44ca-8c00-df24ecb3b91a\" class=\"plotly-graph-div\" style=\"height:525px; width:100%;\"></div>            <script type=\"text/javascript\">                                    window.PLOTLYENV=window.PLOTLYENV || {};                                    if (document.getElementById(\"88c0b50e-4c5e-44ca-8c00-df24ecb3b91a\")) {                    Plotly.newPlot(                        \"88c0b50e-4c5e-44ca-8c00-df24ecb3b91a\",                        [{\"alignmentgroup\":\"True\",\"hovertemplate\":\"Type=Free<br>Category=%{x}<br>App=%{y}<extra></extra>\",\"legendgroup\":\"Free\",\"marker\":{\"color\":\"#636efa\",\"pattern\":{\"shape\":\"\"}},\"name\":\"Free\",\"offsetgroup\":\"Free\",\"orientation\":\"v\",\"showlegend\":true,\"textposition\":\"auto\",\"x\":[\"ART_AND_DESIGN\",\"AUTO_AND_VEHICLES\",\"BEAUTY\",\"BOOKS_AND_REFERENCE\",\"BUSINESS\",\"COMICS\",\"COMMUNICATION\",\"DATING\",\"EDUCATION\",\"ENTERTAINMENT\",\"EVENTS\",\"FAMILY\",\"FINANCE\",\"FOOD_AND_DRINK\",\"GAME\",\"HEALTH_AND_FITNESS\",\"HOUSE_AND_HOME\",\"LIBRARIES_AND_DEMO\",\"LIFESTYLE\",\"MAPS_AND_NAVIGATION\",\"MEDICAL\",\"NEWS_AND_MAGAZINES\",\"PARENTING\",\"PERSONALIZATION\",\"PHOTOGRAPHY\",\"PRODUCTIVITY\",\"SHOPPING\",\"SOCIAL\",\"SPORTS\",\"TOOLS\",\"TRAVEL_AND_LOCAL\",\"VIDEO_PLAYERS\",\"WEATHER\"],\"xaxis\":\"x\",\"y\":[58,72,42,161,253,54,235,131,114,100,45,1456,289,92,834,232,62,64,284,113,229,202,48,233,248,283,178,201,238,656,179,144,65],\"yaxis\":\"y\",\"type\":\"bar\"},{\"alignmentgroup\":\"True\",\"hovertemplate\":\"Type=Paid<br>Category=%{x}<br>App=%{y}<extra></extra>\",\"legendgroup\":\"Paid\",\"marker\":{\"color\":\"#EF553B\",\"pattern\":{\"shape\":\"\"}},\"name\":\"Paid\",\"offsetgroup\":\"Paid\",\"orientation\":\"v\",\"showlegend\":true,\"textposition\":\"auto\",\"x\":[\"ART_AND_DESIGN\",\"AUTO_AND_VEHICLES\",\"BOOKS_AND_REFERENCE\",\"BUSINESS\",\"COMMUNICATION\",\"DATING\",\"EDUCATION\",\"ENTERTAINMENT\",\"FAMILY\",\"FINANCE\",\"FOOD_AND_DRINK\",\"GAME\",\"HEALTH_AND_FITNESS\",\"LIFESTYLE\",\"MAPS_AND_NAVIGATION\",\"MEDICAL\",\"NEWS_AND_MAGAZINES\",\"PARENTING\",\"PERSONALIZATION\",\"PHOTOGRAPHY\",\"PRODUCTIVITY\",\"SHOPPING\",\"SOCIAL\",\"SPORTS\",\"TOOLS\",\"TRAVEL_AND_LOCAL\",\"VIDEO_PLAYERS\",\"WEATHER\"],\"xaxis\":\"x\",\"y\":[3,1,8,9,22,3,4,2,150,7,2,76,11,13,5,63,2,2,65,15,18,2,2,22,63,8,4,7],\"yaxis\":\"y\",\"type\":\"bar\"}],                        {\"template\":{\"data\":{\"bar\":[{\"error_x\":{\"color\":\"#2a3f5f\"},\"error_y\":{\"color\":\"#2a3f5f\"},\"marker\":{\"line\":{\"color\":\"#E5ECF6\",\"width\":0.5},\"pattern\":{\"fillmode\":\"overlay\",\"size\":10,\"solidity\":0.2}},\"type\":\"bar\"}],\"barpolar\":[{\"marker\":{\"line\":{\"color\":\"#E5ECF6\",\"width\":0.5},\"pattern\":{\"fillmode\":\"overlay\",\"size\":10,\"solidity\":0.2}},\"type\":\"barpolar\"}],\"carpet\":[{\"aaxis\":{\"endlinecolor\":\"#2a3f5f\",\"gridcolor\":\"white\",\"linecolor\":\"white\",\"minorgridcolor\":\"white\",\"startlinecolor\":\"#2a3f5f\"},\"baxis\":{\"endlinecolor\":\"#2a3f5f\",\"gridcolor\":\"white\",\"linecolor\":\"white\",\"minorgridcolor\":\"white\",\"startlinecolor\":\"#2a3f5f\"},\"type\":\"carpet\"}],\"choropleth\":[{\"colorbar\":{\"outlinewidth\":0,\"ticks\":\"\"},\"type\":\"choropleth\"}],\"contour\":[{\"colorbar\":{\"outlinewidth\":0,\"ticks\":\"\"},\"colorscale\":[[0.0,\"#0d0887\"],[0.1111111111111111,\"#46039f\"],[0.2222222222222222,\"#7201a8\"],[0.3333333333333333,\"#9c179e\"],[0.4444444444444444,\"#bd3786\"],[0.5555555555555556,\"#d8576b\"],[0.6666666666666666,\"#ed7953\"],[0.7777777777777778,\"#fb9f3a\"],[0.8888888888888888,\"#fdca26\"],[1.0,\"#f0f921\"]],\"type\":\"contour\"}],\"contourcarpet\":[{\"colorbar\":{\"outlinewidth\":0,\"ticks\":\"\"},\"type\":\"contourcarpet\"}],\"heatmap\":[{\"colorbar\":{\"outlinewidth\":0,\"ticks\":\"\"},\"colorscale\":[[0.0,\"#0d0887\"],[0.1111111111111111,\"#46039f\"],[0.2222222222222222,\"#7201a8\"],[0.3333333333333333,\"#9c179e\"],[0.4444444444444444,\"#bd3786\"],[0.5555555555555556,\"#d8576b\"],[0.6666666666666666,\"#ed7953\"],[0.7777777777777778,\"#fb9f3a\"],[0.8888888888888888,\"#fdca26\"],[1.0,\"#f0f921\"]],\"type\":\"heatmap\"}],\"heatmapgl\":[{\"colorbar\":{\"outlinewidth\":0,\"ticks\":\"\"},\"colorscale\":[[0.0,\"#0d0887\"],[0.1111111111111111,\"#46039f\"],[0.2222222222222222,\"#7201a8\"],[0.3333333333333333,\"#9c179e\"],[0.4444444444444444,\"#bd3786\"],[0.5555555555555556,\"#d8576b\"],[0.6666666666666666,\"#ed7953\"],[0.7777777777777778,\"#fb9f3a\"],[0.8888888888888888,\"#fdca26\"],[1.0,\"#f0f921\"]],\"type\":\"heatmapgl\"}],\"histogram\":[{\"marker\":{\"pattern\":{\"fillmode\":\"overlay\",\"size\":10,\"solidity\":0.2}},\"type\":\"histogram\"}],\"histogram2d\":[{\"colorbar\":{\"outlinewidth\":0,\"ticks\":\"\"},\"colorscale\":[[0.0,\"#0d0887\"],[0.1111111111111111,\"#46039f\"],[0.2222222222222222,\"#7201a8\"],[0.3333333333333333,\"#9c179e\"],[0.4444444444444444,\"#bd3786\"],[0.5555555555555556,\"#d8576b\"],[0.6666666666666666,\"#ed7953\"],[0.7777777777777778,\"#fb9f3a\"],[0.8888888888888888,\"#fdca26\"],[1.0,\"#f0f921\"]],\"type\":\"histogram2d\"}],\"histogram2dcontour\":[{\"colorbar\":{\"outlinewidth\":0,\"ticks\":\"\"},\"colorscale\":[[0.0,\"#0d0887\"],[0.1111111111111111,\"#46039f\"],[0.2222222222222222,\"#7201a8\"],[0.3333333333333333,\"#9c179e\"],[0.4444444444444444,\"#bd3786\"],[0.5555555555555556,\"#d8576b\"],[0.6666666666666666,\"#ed7953\"],[0.7777777777777778,\"#fb9f3a\"],[0.8888888888888888,\"#fdca26\"],[1.0,\"#f0f921\"]],\"type\":\"histogram2dcontour\"}],\"mesh3d\":[{\"colorbar\":{\"outlinewidth\":0,\"ticks\":\"\"},\"type\":\"mesh3d\"}],\"parcoords\":[{\"line\":{\"colorbar\":{\"outlinewidth\":0,\"ticks\":\"\"}},\"type\":\"parcoords\"}],\"pie\":[{\"automargin\":true,\"type\":\"pie\"}],\"scatter\":[{\"marker\":{\"colorbar\":{\"outlinewidth\":0,\"ticks\":\"\"}},\"type\":\"scatter\"}],\"scatter3d\":[{\"line\":{\"colorbar\":{\"outlinewidth\":0,\"ticks\":\"\"}},\"marker\":{\"colorbar\":{\"outlinewidth\":0,\"ticks\":\"\"}},\"type\":\"scatter3d\"}],\"scattercarpet\":[{\"marker\":{\"colorbar\":{\"outlinewidth\":0,\"ticks\":\"\"}},\"type\":\"scattercarpet\"}],\"scattergeo\":[{\"marker\":{\"colorbar\":{\"outlinewidth\":0,\"ticks\":\"\"}},\"type\":\"scattergeo\"}],\"scattergl\":[{\"marker\":{\"colorbar\":{\"outlinewidth\":0,\"ticks\":\"\"}},\"type\":\"scattergl\"}],\"scattermapbox\":[{\"marker\":{\"colorbar\":{\"outlinewidth\":0,\"ticks\":\"\"}},\"type\":\"scattermapbox\"}],\"scatterpolar\":[{\"marker\":{\"colorbar\":{\"outlinewidth\":0,\"ticks\":\"\"}},\"type\":\"scatterpolar\"}],\"scatterpolargl\":[{\"marker\":{\"colorbar\":{\"outlinewidth\":0,\"ticks\":\"\"}},\"type\":\"scatterpolargl\"}],\"scatterternary\":[{\"marker\":{\"colorbar\":{\"outlinewidth\":0,\"ticks\":\"\"}},\"type\":\"scatterternary\"}],\"surface\":[{\"colorbar\":{\"outlinewidth\":0,\"ticks\":\"\"},\"colorscale\":[[0.0,\"#0d0887\"],[0.1111111111111111,\"#46039f\"],[0.2222222222222222,\"#7201a8\"],[0.3333333333333333,\"#9c179e\"],[0.4444444444444444,\"#bd3786\"],[0.5555555555555556,\"#d8576b\"],[0.6666666666666666,\"#ed7953\"],[0.7777777777777778,\"#fb9f3a\"],[0.8888888888888888,\"#fdca26\"],[1.0,\"#f0f921\"]],\"type\":\"surface\"}],\"table\":[{\"cells\":{\"fill\":{\"color\":\"#EBF0F8\"},\"line\":{\"color\":\"white\"}},\"header\":{\"fill\":{\"color\":\"#C8D4E3\"},\"line\":{\"color\":\"white\"}},\"type\":\"table\"}]},\"layout\":{\"annotationdefaults\":{\"arrowcolor\":\"#2a3f5f\",\"arrowhead\":0,\"arrowwidth\":1},\"autotypenumbers\":\"strict\",\"coloraxis\":{\"colorbar\":{\"outlinewidth\":0,\"ticks\":\"\"}},\"colorscale\":{\"diverging\":[[0,\"#8e0152\"],[0.1,\"#c51b7d\"],[0.2,\"#de77ae\"],[0.3,\"#f1b6da\"],[0.4,\"#fde0ef\"],[0.5,\"#f7f7f7\"],[0.6,\"#e6f5d0\"],[0.7,\"#b8e186\"],[0.8,\"#7fbc41\"],[0.9,\"#4d9221\"],[1,\"#276419\"]],\"sequential\":[[0.0,\"#0d0887\"],[0.1111111111111111,\"#46039f\"],[0.2222222222222222,\"#7201a8\"],[0.3333333333333333,\"#9c179e\"],[0.4444444444444444,\"#bd3786\"],[0.5555555555555556,\"#d8576b\"],[0.6666666666666666,\"#ed7953\"],[0.7777777777777778,\"#fb9f3a\"],[0.8888888888888888,\"#fdca26\"],[1.0,\"#f0f921\"]],\"sequentialminus\":[[0.0,\"#0d0887\"],[0.1111111111111111,\"#46039f\"],[0.2222222222222222,\"#7201a8\"],[0.3333333333333333,\"#9c179e\"],[0.4444444444444444,\"#bd3786\"],[0.5555555555555556,\"#d8576b\"],[0.6666666666666666,\"#ed7953\"],[0.7777777777777778,\"#fb9f3a\"],[0.8888888888888888,\"#fdca26\"],[1.0,\"#f0f921\"]]},\"colorway\":[\"#636efa\",\"#EF553B\",\"#00cc96\",\"#ab63fa\",\"#FFA15A\",\"#19d3f3\",\"#FF6692\",\"#B6E880\",\"#FF97FF\",\"#FECB52\"],\"font\":{\"color\":\"#2a3f5f\"},\"geo\":{\"bgcolor\":\"white\",\"lakecolor\":\"white\",\"landcolor\":\"#E5ECF6\",\"showlakes\":true,\"showland\":true,\"subunitcolor\":\"white\"},\"hoverlabel\":{\"align\":\"left\"},\"hovermode\":\"closest\",\"mapbox\":{\"style\":\"light\"},\"paper_bgcolor\":\"white\",\"plot_bgcolor\":\"#E5ECF6\",\"polar\":{\"angularaxis\":{\"gridcolor\":\"white\",\"linecolor\":\"white\",\"ticks\":\"\"},\"bgcolor\":\"#E5ECF6\",\"radialaxis\":{\"gridcolor\":\"white\",\"linecolor\":\"white\",\"ticks\":\"\"}},\"scene\":{\"xaxis\":{\"backgroundcolor\":\"#E5ECF6\",\"gridcolor\":\"white\",\"gridwidth\":2,\"linecolor\":\"white\",\"showbackground\":true,\"ticks\":\"\",\"zerolinecolor\":\"white\"},\"yaxis\":{\"backgroundcolor\":\"#E5ECF6\",\"gridcolor\":\"white\",\"gridwidth\":2,\"linecolor\":\"white\",\"showbackground\":true,\"ticks\":\"\",\"zerolinecolor\":\"white\"},\"zaxis\":{\"backgroundcolor\":\"#E5ECF6\",\"gridcolor\":\"white\",\"gridwidth\":2,\"linecolor\":\"white\",\"showbackground\":true,\"ticks\":\"\",\"zerolinecolor\":\"white\"}},\"shapedefaults\":{\"line\":{\"color\":\"#2a3f5f\"}},\"ternary\":{\"aaxis\":{\"gridcolor\":\"white\",\"linecolor\":\"white\",\"ticks\":\"\"},\"baxis\":{\"gridcolor\":\"white\",\"linecolor\":\"white\",\"ticks\":\"\"},\"bgcolor\":\"#E5ECF6\",\"caxis\":{\"gridcolor\":\"white\",\"linecolor\":\"white\",\"ticks\":\"\"}},\"title\":{\"x\":0.05},\"xaxis\":{\"automargin\":true,\"gridcolor\":\"white\",\"linecolor\":\"white\",\"ticks\":\"\",\"title\":{\"standoff\":15},\"zerolinecolor\":\"white\",\"zerolinewidth\":2},\"yaxis\":{\"automargin\":true,\"gridcolor\":\"white\",\"linecolor\":\"white\",\"ticks\":\"\",\"title\":{\"standoff\":15},\"zerolinecolor\":\"white\",\"zerolinewidth\":2}}},\"xaxis\":{\"anchor\":\"y\",\"domain\":[0.0,1.0],\"title\":{\"text\":\"Category\"},\"categoryorder\":\"total descending\"},\"yaxis\":{\"anchor\":\"x\",\"domain\":[0.0,1.0],\"title\":{\"text\":\"Number of Apps\"},\"type\":\"log\"},\"legend\":{\"title\":{\"text\":\"Type\"},\"tracegroupgap\":0},\"title\":{\"text\":\"Free vs Paid\"},\"barmode\":\"group\"},                        {\"responsive\": true}                    ).then(function(){\n",
              "                            \n",
              "var gd = document.getElementById('88c0b50e-4c5e-44ca-8c00-df24ecb3b91a');\n",
              "var x = new MutationObserver(function (mutations, observer) {{\n",
              "        var display = window.getComputedStyle(gd).display;\n",
              "        if (!display || display === 'none') {{\n",
              "            console.log([gd, 'removed!']);\n",
              "            Plotly.purge(gd);\n",
              "            observer.disconnect();\n",
              "        }}\n",
              "}});\n",
              "\n",
              "// Listen for the removal of the full notebook cells\n",
              "var notebookContainer = gd.closest('#notebook-container');\n",
              "if (notebookContainer) {{\n",
              "    x.observe(notebookContainer, {childList: true});\n",
              "}}\n",
              "\n",
              "// Listen for the clearing of the current output cell\n",
              "var outputEl = gd.closest('.output');\n",
              "if (outputEl) {{\n",
              "    x.observe(outputEl, {childList: true});\n",
              "}}\n",
              "\n",
              "                        })                };                            </script>        </div>\n",
              "</body>\n",
              "</html>"
            ]
          },
          "metadata": {}
        }
      ]
    },
    {
      "cell_type": "code",
      "source": [
        ""
      ],
      "metadata": {
        "id": "DfLkGJhmg0H3"
      },
      "execution_count": null,
      "outputs": []
    },
    {
      "cell_type": "markdown",
      "metadata": {
        "id": "nbYh2tU-VZ-i"
      },
      "source": [
        "# Plotly Box Plots: Lost Downloads for Paid Apps\n",
        "\n",
        "**Challenge**: Create a box plot that shows the number of Installs for free versus paid apps. How does the median number of installations compare? Is the difference large or small?\n",
        "\n",
        "Use the [Box Plots Guide](https://plotly.com/python/box-plots/) and the [.box API reference](https://plotly.com/python-api-reference/generated/plotly.express.box.html) to create the following chart. \n",
        "\n",
        "<img src=https://imgur.com/uVsECT3.png>\n"
      ]
    },
    {
      "cell_type": "code",
      "metadata": {
        "id": "Jip3hMZ7oqLS",
        "colab": {
          "base_uri": "https://localhost:8080/",
          "height": 542
        },
        "outputId": "0a40ae9c-aa49-4f68-95ac-89a444206d04"
      },
      "source": [
        "box = px.box(data_frame = df_apps_clean,\n",
        "             x = df_apps_clean['Type'],\n",
        "             y = df_apps_clean['Installs'],\n",
        "             color = df_apps_clean['Type'],\n",
        "             log_y = True,\n",
        "             notched = True,\n",
        "             points = 'all')\n",
        "\n",
        "box.show()"
      ],
      "execution_count": 89,
      "outputs": [
        {
          "output_type": "display_data",
          "data": {
            "text/html": [
              "<html>\n",
              "<head><meta charset=\"utf-8\" /></head>\n",
              "<body>\n",
              "    <div>            <script src=\"https://cdnjs.cloudflare.com/ajax/libs/mathjax/2.7.5/MathJax.js?config=TeX-AMS-MML_SVG\"></script><script type=\"text/javascript\">if (window.MathJax) {MathJax.Hub.Config({SVG: {font: \"STIX-Web\"}});}</script>                <script type=\"text/javascript\">window.PlotlyConfig = {MathJaxConfig: 'local'};</script>\n",
              "        <script src=\"https://cdn.plot.ly/plotly-2.8.3.min.js\"></script>                <div id=\"f219378e-575c-48c4-ac47-a582c63b2e4f\" class=\"plotly-graph-div\" style=\"height:525px; width:100%;\"></div>            <script type=\"text/javascript\">                                    window.PLOTLYENV=window.PLOTLYENV || {};                                    if (document.getElementById(\"f219378e-575c-48c4-ac47-a582c63b2e4f\")) {                    Plotly.newPlot(                        \"f219378e-575c-48c4-ac47-a582c63b2e4f\",                        [{\"alignmentgroup\":\"True\",\"boxpoints\":\"all\",\"hovertemplate\":\"Type=%{x}<br>Installs=%{y}<extra></extra>\",\"legendgroup\":\"Free\",\"marker\":{\"color\":\"#636efa\"},\"name\":\"Free\",\"notched\":true,\"offsetgroup\":\"Free\",\"orientation\":\"v\",\"showlegend\":true,\"x\":[\"Free\",\"Free\",\"Free\",\"Free\",\"Free\",\"Free\",\"Free\",\"Free\",\"Free\",\"Free\",\"Free\",\"Free\",\"Free\",\"Free\",\"Free\",\"Free\",\"Free\",\"Free\",\"Free\",\"Free\",\"Free\",\"Free\",\"Free\",\"Free\",\"Free\",\"Free\",\"Free\",\"Free\",\"Free\",\"Free\",\"Free\",\"Free\",\"Free\",\"Free\",\"Free\",\"Free\",\"Free\",\"Free\",\"Free\",\"Free\",\"Free\",\"Free\",\"Free\",\"Free\",\"Free\",\"Free\",\"Free\",\"Free\",\"Free\",\"Free\",\"Free\",\"Free\",\"Free\",\"Free\",\"Free\",\"Free\",\"Free\",\"Free\",\"Free\",\"Free\",\"Free\",\"Free\",\"Free\",\"Free\",\"Free\",\"Free\",\"Free\",\"Free\",\"Free\",\"Free\",\"Free\",\"Free\",\"Free\",\"Free\",\"Free\",\"Free\",\"Free\",\"Free\",\"Free\",\"Free\",\"Free\",\"Free\",\"Free\",\"Free\",\"Free\",\"Free\",\"Free\",\"Free\",\"Free\",\"Free\",\"Free\",\"Free\",\"Free\",\"Free\",\"Free\",\"Free\",\"Free\",\"Free\",\"Free\",\"Free\",\"Free\",\"Free\",\"Free\",\"Free\",\"Free\",\"Free\",\"Free\",\"Free\",\"Free\",\"Free\",\"Free\",\"Free\",\"Free\",\"Free\",\"Free\",\"Free\",\"Free\",\"Free\",\"Free\",\"Free\",\"Free\",\"Free\",\"Free\",\"Free\",\"Free\",\"Free\",\"Free\",\"Free\",\"Free\",\"Free\",\"Free\",\"Free\",\"Free\",\"Free\",\"Free\",\"Free\",\"Free\",\"Free\",\"Free\",\"Free\",\"Free\",\"Free\",\"Free\",\"Free\",\"Free\",\"Free\",\"Free\",\"Free\",\"Free\",\"Free\",\"Free\",\"Free\",\"Free\",\"Free\",\"Free\",\"Free\",\"Free\",\"Free\",\"Free\",\"Free\",\"Free\",\"Free\",\"Free\",\"Free\",\"Free\",\"Free\",\"Free\",\"Free\",\"Free\",\"Free\",\"Free\",\"Free\",\"Free\",\"Free\",\"Free\",\"Free\",\"Free\",\"Free\",\"Free\",\"Free\",\"Free\",\"Free\",\"Free\",\"Free\",\"Free\",\"Free\",\"Free\",\"Free\",\"Free\",\"Free\",\"Free\",\"Free\",\"Free\",\"Free\",\"Free\",\"Free\",\"Free\",\"Free\",\"Free\",\"Free\",\"Free\",\"Free\",\"Free\",\"Free\",\"Free\",\"Free\",\"Free\",\"Free\",\"Free\",\"Free\",\"Free\",\"Free\",\"Free\",\"Free\",\"Free\",\"Free\",\"Free\",\"Free\",\"Free\",\"Free\",\"Free\",\"Free\",\"Free\",\"Free\",\"Free\",\"Free\",\"Free\",\"Free\",\"Free\",\"Free\",\"Free\",\"Free\",\"Free\",\"Free\",\"Free\",\"Free\",\"Free\",\"Free\",\"Free\",\"Free\",\"Free\",\"Free\",\"Free\",\"Free\",\"Free\",\"Free\",\"Free\",\"Free\",\"Free\",\"Free\",\"Free\",\"Free\",\"Free\",\"Free\",\"Free\",\"Free\",\"Free\",\"Free\",\"Free\",\"Free\",\"Free\",\"Free\",\"Free\",\"Free\",\"Free\",\"Free\",\"Free\",\"Free\",\"Free\",\"Free\",\"Free\",\"Free\",\"Free\",\"Free\",\"Free\",\"Free\",\"Free\",\"Free\",\"Free\",\"Free\",\"Free\",\"Free\",\"Free\",\"Free\",\"Free\",\"Free\",\"Free\",\"Free\",\"Free\",\"Free\",\"Free\",\"Free\",\"Free\",\"Free\",\"Free\",\"Free\",\"Free\",\"Free\",\"Free\",\"Free\",\"Free\",\"Free\",\"Free\",\"Free\",\"Free\",\"Free\",\"Free\",\"Free\",\"Free\",\"Free\",\"Free\",\"Free\",\"Free\",\"Free\",\"Free\",\"Free\",\"Free\",\"Free\",\"Free\",\"Free\",\"Free\",\"Free\",\"Free\",\"Free\",\"Free\",\"Free\",\"Free\",\"Free\",\"Free\",\"Free\",\"Free\",\"Free\",\"Free\",\"Free\",\"Free\",\"Free\",\"Free\",\"Free\",\"Free\",\"Free\",\"Free\",\"Free\",\"Free\",\"Free\",\"Free\",\"Free\",\"Free\",\"Free\",\"Free\",\"Free\",\"Free\",\"Free\",\"Free\",\"Free\",\"Free\",\"Free\",\"Free\",\"Free\",\"Free\",\"Free\",\"Free\",\"Free\",\"Free\",\"Free\",\"Free\",\"Free\",\"Free\",\"Free\",\"Free\",\"Free\",\"Free\",\"Free\",\"Free\",\"Free\",\"Free\",\"Free\",\"Free\",\"Free\",\"Free\",\"Free\",\"Free\",\"Free\",\"Free\",\"Free\",\"Free\",\"Free\",\"Free\",\"Free\",\"Free\",\"Free\",\"Free\",\"Free\",\"Free\",\"Free\",\"Free\",\"Free\",\"Free\",\"Free\",\"Free\",\"Free\",\"Free\",\"Free\",\"Free\",\"Free\",\"Free\",\"Free\",\"Free\",\"Free\",\"Free\",\"Free\",\"Free\",\"Free\",\"Free\",\"Free\",\"Free\",\"Free\",\"Free\",\"Free\",\"Free\",\"Free\",\"Free\",\"Free\",\"Free\",\"Free\",\"Free\",\"Free\",\"Free\",\"Free\",\"Free\",\"Free\",\"Free\",\"Free\",\"Free\",\"Free\",\"Free\",\"Free\",\"Free\",\"Free\",\"Free\",\"Free\",\"Free\",\"Free\",\"Free\",\"Free\",\"Free\",\"Free\",\"Free\",\"Free\",\"Free\",\"Free\",\"Free\",\"Free\",\"Free\",\"Free\",\"Free\",\"Free\",\"Free\",\"Free\",\"Free\",\"Free\",\"Free\",\"Free\",\"Free\",\"Free\",\"Free\",\"Free\",\"Free\",\"Free\",\"Free\",\"Free\",\"Free\",\"Free\",\"Free\",\"Free\",\"Free\",\"Free\",\"Free\",\"Free\",\"Free\",\"Free\",\"Free\",\"Free\",\"Free\",\"Free\",\"Free\",\"Free\",\"Free\",\"Free\",\"Free\",\"Free\",\"Free\",\"Free\",\"Free\",\"Free\",\"Free\",\"Free\",\"Free\",\"Free\",\"Free\",\"Free\",\"Free\",\"Free\",\"Free\",\"Free\",\"Free\",\"Free\",\"Free\",\"Free\",\"Free\",\"Free\",\"Free\",\"Free\",\"Free\",\"Free\",\"Free\",\"Free\",\"Free\",\"Free\",\"Free\",\"Free\",\"Free\",\"Free\",\"Free\",\"Free\",\"Free\",\"Free\",\"Free\",\"Free\",\"Free\",\"Free\",\"Free\",\"Free\",\"Free\",\"Free\",\"Free\",\"Free\",\"Free\",\"Free\",\"Free\",\"Free\",\"Free\",\"Free\",\"Free\",\"Free\",\"Free\",\"Free\",\"Free\",\"Free\",\"Free\",\"Free\",\"Free\",\"Free\",\"Free\",\"Free\",\"Free\",\"Free\",\"Free\",\"Free\",\"Free\",\"Free\",\"Free\",\"Free\",\"Free\",\"Free\",\"Free\",\"Free\",\"Free\",\"Free\",\"Free\",\"Free\",\"Free\",\"Free\",\"Free\",\"Free\",\"Free\",\"Free\",\"Free\",\"Free\",\"Free\",\"Free\",\"Free\",\"Free\",\"Free\",\"Free\",\"Free\",\"Free\",\"Free\",\"Free\",\"Free\",\"Free\",\"Free\",\"Free\",\"Free\",\"Free\",\"Free\",\"Free\",\"Free\",\"Free\",\"Free\",\"Free\",\"Free\",\"Free\",\"Free\",\"Free\",\"Free\",\"Free\",\"Free\",\"Free\",\"Free\",\"Free\",\"Free\",\"Free\",\"Free\",\"Free\",\"Free\",\"Free\",\"Free\",\"Free\",\"Free\",\"Free\",\"Free\",\"Free\",\"Free\",\"Free\",\"Free\",\"Free\",\"Free\",\"Free\",\"Free\",\"Free\",\"Free\",\"Free\",\"Free\",\"Free\",\"Free\",\"Free\",\"Free\",\"Free\",\"Free\",\"Free\",\"Free\",\"Free\",\"Free\",\"Free\",\"Free\",\"Free\",\"Free\",\"Free\",\"Free\",\"Free\",\"Free\",\"Free\",\"Free\",\"Free\",\"Free\",\"Free\",\"Free\",\"Free\",\"Free\",\"Free\",\"Free\",\"Free\",\"Free\",\"Free\",\"Free\",\"Free\",\"Free\",\"Free\",\"Free\",\"Free\",\"Free\",\"Free\",\"Free\",\"Free\",\"Free\",\"Free\",\"Free\",\"Free\",\"Free\",\"Free\",\"Free\",\"Free\",\"Free\",\"Free\",\"Free\",\"Free\",\"Free\",\"Free\",\"Free\",\"Free\",\"Free\",\"Free\",\"Free\",\"Free\",\"Free\",\"Free\",\"Free\",\"Free\",\"Free\",\"Free\",\"Free\",\"Free\",\"Free\",\"Free\",\"Free\",\"Free\",\"Free\",\"Free\",\"Free\",\"Free\",\"Free\",\"Free\",\"Free\",\"Free\",\"Free\",\"Free\",\"Free\",\"Free\",\"Free\",\"Free\",\"Free\",\"Free\",\"Free\",\"Free\",\"Free\",\"Free\",\"Free\",\"Free\",\"Free\",\"Free\",\"Free\",\"Free\",\"Free\",\"Free\",\"Free\",\"Free\",\"Free\",\"Free\",\"Free\",\"Free\",\"Free\",\"Free\",\"Free\",\"Free\",\"Free\",\"Free\",\"Free\",\"Free\",\"Free\",\"Free\",\"Free\",\"Free\",\"Free\",\"Free\",\"Free\",\"Free\",\"Free\",\"Free\",\"Free\",\"Free\",\"Free\",\"Free\",\"Free\",\"Free\",\"Free\",\"Free\",\"Free\",\"Free\",\"Free\",\"Free\",\"Free\",\"Free\",\"Free\",\"Free\",\"Free\",\"Free\",\"Free\",\"Free\",\"Free\",\"Free\",\"Free\",\"Free\",\"Free\",\"Free\",\"Free\",\"Free\",\"Free\",\"Free\",\"Free\",\"Free\",\"Free\",\"Free\",\"Free\",\"Free\",\"Free\",\"Free\",\"Free\",\"Free\",\"Free\",\"Free\",\"Free\",\"Free\",\"Free\",\"Free\",\"Free\",\"Free\",\"Free\",\"Free\",\"Free\",\"Free\",\"Free\",\"Free\",\"Free\",\"Free\",\"Free\",\"Free\",\"Free\",\"Free\",\"Free\",\"Free\",\"Free\",\"Free\",\"Free\",\"Free\",\"Free\",\"Free\",\"Free\",\"Free\",\"Free\",\"Free\",\"Free\",\"Free\",\"Free\",\"Free\",\"Free\",\"Free\",\"Free\",\"Free\",\"Free\",\"Free\",\"Free\",\"Free\",\"Free\",\"Free\",\"Free\",\"Free\",\"Free\",\"Free\",\"Free\",\"Free\",\"Free\",\"Free\",\"Free\",\"Free\",\"Free\",\"Free\",\"Free\",\"Free\",\"Free\",\"Free\",\"Free\",\"Free\",\"Free\",\"Free\",\"Free\",\"Free\",\"Free\",\"Free\",\"Free\",\"Free\",\"Free\",\"Free\",\"Free\",\"Free\",\"Free\",\"Free\",\"Free\",\"Free\",\"Free\",\"Free\",\"Free\",\"Free\",\"Free\",\"Free\",\"Free\",\"Free\",\"Free\",\"Free\",\"Free\",\"Free\",\"Free\",\"Free\",\"Free\",\"Free\",\"Free\",\"Free\",\"Free\",\"Free\",\"Free\",\"Free\",\"Free\",\"Free\",\"Free\",\"Free\",\"Free\",\"Free\",\"Free\",\"Free\",\"Free\",\"Free\",\"Free\",\"Free\",\"Free\",\"Free\",\"Free\",\"Free\",\"Free\",\"Free\",\"Free\",\"Free\",\"Free\",\"Free\",\"Free\",\"Free\",\"Free\",\"Free\",\"Free\",\"Free\",\"Free\",\"Free\",\"Free\",\"Free\",\"Free\",\"Free\",\"Free\",\"Free\",\"Free\",\"Free\",\"Free\",\"Free\",\"Free\",\"Free\",\"Free\",\"Free\",\"Free\",\"Free\",\"Free\",\"Free\",\"Free\",\"Free\",\"Free\",\"Free\",\"Free\",\"Free\",\"Free\",\"Free\",\"Free\",\"Free\",\"Free\",\"Free\",\"Free\",\"Free\",\"Free\",\"Free\",\"Free\",\"Free\",\"Free\",\"Free\",\"Free\",\"Free\",\"Free\",\"Free\",\"Free\",\"Free\",\"Free\",\"Free\",\"Free\",\"Free\",\"Free\",\"Free\",\"Free\",\"Free\",\"Free\",\"Free\",\"Free\",\"Free\",\"Free\",\"Free\",\"Free\",\"Free\",\"Free\",\"Free\",\"Free\",\"Free\",\"Free\",\"Free\",\"Free\",\"Free\",\"Free\",\"Free\",\"Free\",\"Free\",\"Free\",\"Free\",\"Free\",\"Free\",\"Free\",\"Free\",\"Free\",\"Free\",\"Free\",\"Free\",\"Free\",\"Free\",\"Free\",\"Free\",\"Free\",\"Free\",\"Free\",\"Free\",\"Free\",\"Free\",\"Free\",\"Free\",\"Free\",\"Free\",\"Free\",\"Free\",\"Free\",\"Free\",\"Free\",\"Free\",\"Free\",\"Free\",\"Free\",\"Free\",\"Free\",\"Free\",\"Free\",\"Free\",\"Free\",\"Free\",\"Free\",\"Free\",\"Free\",\"Free\",\"Free\",\"Free\",\"Free\",\"Free\",\"Free\",\"Free\",\"Free\",\"Free\",\"Free\",\"Free\",\"Free\",\"Free\",\"Free\",\"Free\",\"Free\",\"Free\",\"Free\",\"Free\",\"Free\",\"Free\",\"Free\",\"Free\",\"Free\",\"Free\",\"Free\",\"Free\",\"Free\",\"Free\",\"Free\",\"Free\",\"Free\",\"Free\",\"Free\",\"Free\",\"Free\",\"Free\",\"Free\",\"Free\",\"Free\",\"Free\",\"Free\",\"Free\",\"Free\",\"Free\",\"Free\",\"Free\",\"Free\",\"Free\",\"Free\",\"Free\",\"Free\",\"Free\",\"Free\",\"Free\",\"Free\",\"Free\",\"Free\",\"Free\",\"Free\",\"Free\",\"Free\",\"Free\",\"Free\",\"Free\",\"Free\",\"Free\",\"Free\",\"Free\",\"Free\",\"Free\",\"Free\",\"Free\",\"Free\",\"Free\",\"Free\",\"Free\",\"Free\",\"Free\",\"Free\",\"Free\",\"Free\",\"Free\",\"Free\",\"Free\",\"Free\",\"Free\",\"Free\",\"Free\",\"Free\",\"Free\",\"Free\",\"Free\",\"Free\",\"Free\",\"Free\",\"Free\",\"Free\",\"Free\",\"Free\",\"Free\",\"Free\",\"Free\",\"Free\",\"Free\",\"Free\",\"Free\",\"Free\",\"Free\",\"Free\",\"Free\",\"Free\",\"Free\",\"Free\",\"Free\",\"Free\",\"Free\",\"Free\",\"Free\",\"Free\",\"Free\",\"Free\",\"Free\",\"Free\",\"Free\",\"Free\",\"Free\",\"Free\",\"Free\",\"Free\",\"Free\",\"Free\",\"Free\",\"Free\",\"Free\",\"Free\",\"Free\",\"Free\",\"Free\",\"Free\",\"Free\",\"Free\",\"Free\",\"Free\",\"Free\",\"Free\",\"Free\",\"Free\",\"Free\",\"Free\",\"Free\",\"Free\",\"Free\",\"Free\",\"Free\",\"Free\",\"Free\",\"Free\",\"Free\",\"Free\",\"Free\",\"Free\",\"Free\",\"Free\",\"Free\",\"Free\",\"Free\",\"Free\",\"Free\",\"Free\",\"Free\",\"Free\",\"Free\",\"Free\",\"Free\",\"Free\",\"Free\",\"Free\",\"Free\",\"Free\",\"Free\",\"Free\",\"Free\",\"Free\",\"Free\",\"Free\",\"Free\",\"Free\",\"Free\",\"Free\",\"Free\",\"Free\",\"Free\",\"Free\",\"Free\",\"Free\",\"Free\",\"Free\",\"Free\",\"Free\",\"Free\",\"Free\",\"Free\",\"Free\",\"Free\",\"Free\",\"Free\",\"Free\",\"Free\",\"Free\",\"Free\",\"Free\",\"Free\",\"Free\",\"Free\",\"Free\",\"Free\",\"Free\",\"Free\",\"Free\",\"Free\",\"Free\",\"Free\",\"Free\",\"Free\",\"Free\",\"Free\",\"Free\",\"Free\",\"Free\",\"Free\",\"Free\",\"Free\",\"Free\",\"Free\",\"Free\",\"Free\",\"Free\",\"Free\",\"Free\",\"Free\",\"Free\",\"Free\",\"Free\",\"Free\",\"Free\",\"Free\",\"Free\",\"Free\",\"Free\",\"Free\",\"Free\",\"Free\",\"Free\",\"Free\",\"Free\",\"Free\",\"Free\",\"Free\",\"Free\",\"Free\",\"Free\",\"Free\",\"Free\",\"Free\",\"Free\",\"Free\",\"Free\",\"Free\",\"Free\",\"Free\",\"Free\",\"Free\",\"Free\",\"Free\",\"Free\",\"Free\",\"Free\",\"Free\",\"Free\",\"Free\",\"Free\",\"Free\",\"Free\",\"Free\",\"Free\",\"Free\",\"Free\",\"Free\",\"Free\",\"Free\",\"Free\",\"Free\",\"Free\",\"Free\",\"Free\",\"Free\",\"Free\",\"Free\",\"Free\",\"Free\",\"Free\",\"Free\",\"Free\",\"Free\",\"Free\",\"Free\",\"Free\",\"Free\",\"Free\",\"Free\",\"Free\",\"Free\",\"Free\",\"Free\",\"Free\",\"Free\",\"Free\",\"Free\",\"Free\",\"Free\",\"Free\",\"Free\",\"Free\",\"Free\",\"Free\",\"Free\",\"Free\",\"Free\",\"Free\",\"Free\",\"Free\",\"Free\",\"Free\",\"Free\",\"Free\",\"Free\",\"Free\",\"Free\",\"Free\",\"Free\",\"Free\",\"Free\",\"Free\",\"Free\",\"Free\",\"Free\",\"Free\",\"Free\",\"Free\",\"Free\",\"Free\",\"Free\",\"Free\",\"Free\",\"Free\",\"Free\",\"Free\",\"Free\",\"Free\",\"Free\",\"Free\",\"Free\",\"Free\",\"Free\",\"Free\",\"Free\",\"Free\",\"Free\",\"Free\",\"Free\",\"Free\",\"Free\",\"Free\",\"Free\",\"Free\",\"Free\",\"Free\",\"Free\",\"Free\",\"Free\",\"Free\",\"Free\",\"Free\",\"Free\",\"Free\",\"Free\",\"Free\",\"Free\",\"Free\",\"Free\",\"Free\",\"Free\",\"Free\",\"Free\",\"Free\",\"Free\",\"Free\",\"Free\",\"Free\",\"Free\",\"Free\",\"Free\",\"Free\",\"Free\",\"Free\",\"Free\",\"Free\",\"Free\",\"Free\",\"Free\",\"Free\",\"Free\",\"Free\",\"Free\",\"Free\",\"Free\",\"Free\",\"Free\",\"Free\",\"Free\",\"Free\",\"Free\",\"Free\",\"Free\",\"Free\",\"Free\",\"Free\",\"Free\",\"Free\",\"Free\",\"Free\",\"Free\",\"Free\",\"Free\",\"Free\",\"Free\",\"Free\",\"Free\",\"Free\",\"Free\",\"Free\",\"Free\",\"Free\",\"Free\",\"Free\",\"Free\",\"Free\",\"Free\",\"Free\",\"Free\",\"Free\",\"Free\",\"Free\",\"Free\",\"Free\",\"Free\",\"Free\",\"Free\",\"Free\",\"Free\",\"Free\",\"Free\",\"Free\",\"Free\",\"Free\",\"Free\",\"Free\",\"Free\",\"Free\",\"Free\",\"Free\",\"Free\",\"Free\",\"Free\",\"Free\",\"Free\",\"Free\",\"Free\",\"Free\",\"Free\",\"Free\",\"Free\",\"Free\",\"Free\",\"Free\",\"Free\",\"Free\",\"Free\",\"Free\",\"Free\",\"Free\",\"Free\",\"Free\",\"Free\",\"Free\",\"Free\",\"Free\",\"Free\",\"Free\",\"Free\",\"Free\",\"Free\",\"Free\",\"Free\",\"Free\",\"Free\",\"Free\",\"Free\",\"Free\",\"Free\",\"Free\",\"Free\",\"Free\",\"Free\",\"Free\",\"Free\",\"Free\",\"Free\",\"Free\",\"Free\",\"Free\",\"Free\",\"Free\",\"Free\",\"Free\",\"Free\",\"Free\",\"Free\",\"Free\",\"Free\",\"Free\",\"Free\",\"Free\",\"Free\",\"Free\",\"Free\",\"Free\",\"Free\",\"Free\",\"Free\",\"Free\",\"Free\",\"Free\",\"Free\",\"Free\",\"Free\",\"Free\",\"Free\",\"Free\",\"Free\",\"Free\",\"Free\",\"Free\",\"Free\",\"Free\",\"Free\",\"Free\",\"Free\",\"Free\",\"Free\",\"Free\",\"Free\",\"Free\",\"Free\",\"Free\",\"Free\",\"Free\",\"Free\",\"Free\",\"Free\",\"Free\",\"Free\",\"Free\",\"Free\",\"Free\",\"Free\",\"Free\",\"Free\",\"Free\",\"Free\",\"Free\",\"Free\",\"Free\",\"Free\",\"Free\",\"Free\",\"Free\",\"Free\",\"Free\",\"Free\",\"Free\",\"Free\",\"Free\",\"Free\",\"Free\",\"Free\",\"Free\",\"Free\",\"Free\",\"Free\",\"Free\",\"Free\",\"Free\",\"Free\",\"Free\",\"Free\",\"Free\",\"Free\",\"Free\",\"Free\",\"Free\",\"Free\",\"Free\",\"Free\",\"Free\",\"Free\",\"Free\",\"Free\",\"Free\",\"Free\",\"Free\",\"Free\",\"Free\",\"Free\",\"Free\",\"Free\",\"Free\",\"Free\",\"Free\",\"Free\",\"Free\",\"Free\",\"Free\",\"Free\",\"Free\",\"Free\",\"Free\",\"Free\",\"Free\",\"Free\",\"Free\",\"Free\",\"Free\",\"Free\",\"Free\",\"Free\",\"Free\",\"Free\",\"Free\",\"Free\",\"Free\",\"Free\",\"Free\",\"Free\",\"Free\",\"Free\",\"Free\",\"Free\",\"Free\",\"Free\",\"Free\",\"Free\",\"Free\",\"Free\",\"Free\",\"Free\",\"Free\",\"Free\",\"Free\",\"Free\",\"Free\",\"Free\",\"Free\",\"Free\",\"Free\",\"Free\",\"Free\",\"Free\",\"Free\",\"Free\",\"Free\",\"Free\",\"Free\",\"Free\",\"Free\",\"Free\",\"Free\",\"Free\",\"Free\",\"Free\",\"Free\",\"Free\",\"Free\",\"Free\",\"Free\",\"Free\",\"Free\",\"Free\",\"Free\",\"Free\",\"Free\",\"Free\",\"Free\",\"Free\",\"Free\",\"Free\",\"Free\",\"Free\",\"Free\",\"Free\",\"Free\",\"Free\",\"Free\",\"Free\",\"Free\",\"Free\",\"Free\",\"Free\",\"Free\",\"Free\",\"Free\",\"Free\",\"Free\",\"Free\",\"Free\",\"Free\",\"Free\",\"Free\",\"Free\",\"Free\",\"Free\",\"Free\",\"Free\",\"Free\",\"Free\",\"Free\",\"Free\",\"Free\",\"Free\",\"Free\",\"Free\",\"Free\",\"Free\",\"Free\",\"Free\",\"Free\",\"Free\",\"Free\",\"Free\",\"Free\",\"Free\",\"Free\",\"Free\",\"Free\",\"Free\",\"Free\",\"Free\",\"Free\",\"Free\",\"Free\",\"Free\",\"Free\",\"Free\",\"Free\",\"Free\",\"Free\",\"Free\",\"Free\",\"Free\",\"Free\",\"Free\",\"Free\",\"Free\",\"Free\",\"Free\",\"Free\",\"Free\",\"Free\",\"Free\",\"Free\",\"Free\",\"Free\",\"Free\",\"Free\",\"Free\",\"Free\",\"Free\",\"Free\",\"Free\",\"Free\",\"Free\",\"Free\",\"Free\",\"Free\",\"Free\",\"Free\",\"Free\",\"Free\",\"Free\",\"Free\",\"Free\",\"Free\",\"Free\",\"Free\",\"Free\",\"Free\",\"Free\",\"Free\",\"Free\",\"Free\",\"Free\",\"Free\",\"Free\",\"Free\",\"Free\",\"Free\",\"Free\",\"Free\",\"Free\",\"Free\",\"Free\",\"Free\",\"Free\",\"Free\",\"Free\",\"Free\",\"Free\",\"Free\",\"Free\",\"Free\",\"Free\",\"Free\",\"Free\",\"Free\",\"Free\",\"Free\",\"Free\",\"Free\",\"Free\",\"Free\",\"Free\",\"Free\",\"Free\",\"Free\",\"Free\",\"Free\",\"Free\",\"Free\",\"Free\",\"Free\",\"Free\",\"Free\",\"Free\",\"Free\",\"Free\",\"Free\",\"Free\",\"Free\",\"Free\",\"Free\",\"Free\",\"Free\",\"Free\",\"Free\",\"Free\",\"Free\",\"Free\",\"Free\",\"Free\",\"Free\",\"Free\",\"Free\",\"Free\",\"Free\",\"Free\",\"Free\",\"Free\",\"Free\",\"Free\",\"Free\",\"Free\",\"Free\",\"Free\",\"Free\",\"Free\",\"Free\",\"Free\",\"Free\",\"Free\",\"Free\",\"Free\",\"Free\",\"Free\",\"Free\",\"Free\",\"Free\",\"Free\",\"Free\",\"Free\",\"Free\",\"Free\",\"Free\",\"Free\",\"Free\",\"Free\",\"Free\",\"Free\",\"Free\",\"Free\",\"Free\",\"Free\",\"Free\",\"Free\",\"Free\",\"Free\",\"Free\",\"Free\",\"Free\",\"Free\",\"Free\",\"Free\",\"Free\",\"Free\",\"Free\",\"Free\",\"Free\",\"Free\",\"Free\",\"Free\",\"Free\",\"Free\",\"Free\",\"Free\",\"Free\",\"Free\",\"Free\",\"Free\",\"Free\",\"Free\",\"Free\",\"Free\",\"Free\",\"Free\",\"Free\",\"Free\",\"Free\",\"Free\",\"Free\",\"Free\",\"Free\",\"Free\",\"Free\",\"Free\",\"Free\",\"Free\",\"Free\",\"Free\",\"Free\",\"Free\",\"Free\",\"Free\",\"Free\",\"Free\",\"Free\",\"Free\",\"Free\",\"Free\",\"Free\",\"Free\",\"Free\",\"Free\",\"Free\",\"Free\",\"Free\",\"Free\",\"Free\",\"Free\",\"Free\",\"Free\",\"Free\",\"Free\",\"Free\",\"Free\",\"Free\",\"Free\",\"Free\",\"Free\",\"Free\",\"Free\",\"Free\",\"Free\",\"Free\",\"Free\",\"Free\",\"Free\",\"Free\",\"Free\",\"Free\",\"Free\",\"Free\",\"Free\",\"Free\",\"Free\",\"Free\",\"Free\",\"Free\",\"Free\",\"Free\",\"Free\",\"Free\",\"Free\",\"Free\",\"Free\",\"Free\",\"Free\",\"Free\",\"Free\",\"Free\",\"Free\",\"Free\",\"Free\",\"Free\",\"Free\",\"Free\",\"Free\",\"Free\",\"Free\",\"Free\",\"Free\",\"Free\",\"Free\",\"Free\",\"Free\",\"Free\",\"Free\",\"Free\",\"Free\",\"Free\",\"Free\",\"Free\",\"Free\",\"Free\",\"Free\",\"Free\",\"Free\",\"Free\",\"Free\",\"Free\",\"Free\",\"Free\",\"Free\",\"Free\",\"Free\",\"Free\",\"Free\",\"Free\",\"Free\",\"Free\",\"Free\",\"Free\",\"Free\",\"Free\",\"Free\",\"Free\",\"Free\",\"Free\",\"Free\",\"Free\",\"Free\",\"Free\",\"Free\",\"Free\",\"Free\",\"Free\",\"Free\",\"Free\",\"Free\",\"Free\",\"Free\",\"Free\",\"Free\",\"Free\",\"Free\",\"Free\",\"Free\",\"Free\",\"Free\",\"Free\",\"Free\",\"Free\",\"Free\",\"Free\",\"Free\",\"Free\",\"Free\",\"Free\",\"Free\",\"Free\",\"Free\",\"Free\",\"Free\",\"Free\",\"Free\",\"Free\",\"Free\",\"Free\",\"Free\",\"Free\",\"Free\",\"Free\",\"Free\",\"Free\",\"Free\",\"Free\",\"Free\",\"Free\",\"Free\",\"Free\",\"Free\",\"Free\",\"Free\",\"Free\",\"Free\",\"Free\",\"Free\",\"Free\",\"Free\",\"Free\",\"Free\",\"Free\",\"Free\",\"Free\",\"Free\",\"Free\",\"Free\",\"Free\",\"Free\",\"Free\",\"Free\",\"Free\",\"Free\",\"Free\",\"Free\",\"Free\",\"Free\",\"Free\",\"Free\",\"Free\",\"Free\",\"Free\",\"Free\",\"Free\",\"Free\",\"Free\",\"Free\",\"Free\",\"Free\",\"Free\",\"Free\",\"Free\",\"Free\",\"Free\",\"Free\",\"Free\",\"Free\",\"Free\",\"Free\",\"Free\",\"Free\",\"Free\",\"Free\",\"Free\",\"Free\",\"Free\",\"Free\",\"Free\",\"Free\",\"Free\",\"Free\",\"Free\",\"Free\",\"Free\",\"Free\",\"Free\",\"Free\",\"Free\",\"Free\",\"Free\",\"Free\",\"Free\",\"Free\",\"Free\",\"Free\",\"Free\",\"Free\",\"Free\",\"Free\",\"Free\",\"Free\",\"Free\",\"Free\",\"Free\",\"Free\",\"Free\",\"Free\",\"Free\",\"Free\",\"Free\",\"Free\",\"Free\",\"Free\",\"Free\",\"Free\",\"Free\",\"Free\",\"Free\",\"Free\",\"Free\",\"Free\",\"Free\",\"Free\",\"Free\",\"Free\",\"Free\",\"Free\",\"Free\",\"Free\",\"Free\",\"Free\",\"Free\",\"Free\",\"Free\",\"Free\",\"Free\",\"Free\",\"Free\",\"Free\",\"Free\",\"Free\",\"Free\",\"Free\",\"Free\",\"Free\",\"Free\",\"Free\",\"Free\",\"Free\",\"Free\",\"Free\",\"Free\",\"Free\",\"Free\",\"Free\",\"Free\",\"Free\",\"Free\",\"Free\",\"Free\",\"Free\",\"Free\",\"Free\",\"Free\",\"Free\",\"Free\",\"Free\",\"Free\",\"Free\",\"Free\",\"Free\",\"Free\",\"Free\",\"Free\",\"Free\",\"Free\",\"Free\",\"Free\",\"Free\",\"Free\",\"Free\",\"Free\",\"Free\",\"Free\",\"Free\",\"Free\",\"Free\",\"Free\",\"Free\",\"Free\",\"Free\",\"Free\",\"Free\",\"Free\",\"Free\",\"Free\",\"Free\",\"Free\",\"Free\",\"Free\",\"Free\",\"Free\",\"Free\",\"Free\",\"Free\",\"Free\",\"Free\",\"Free\",\"Free\",\"Free\",\"Free\",\"Free\",\"Free\",\"Free\",\"Free\",\"Free\",\"Free\",\"Free\",\"Free\",\"Free\",\"Free\",\"Free\",\"Free\",\"Free\",\"Free\",\"Free\",\"Free\",\"Free\",\"Free\",\"Free\",\"Free\",\"Free\",\"Free\",\"Free\",\"Free\",\"Free\",\"Free\",\"Free\",\"Free\",\"Free\",\"Free\",\"Free\",\"Free\",\"Free\",\"Free\",\"Free\",\"Free\",\"Free\",\"Free\",\"Free\",\"Free\",\"Free\",\"Free\",\"Free\",\"Free\",\"Free\",\"Free\",\"Free\",\"Free\",\"Free\",\"Free\",\"Free\",\"Free\",\"Free\",\"Free\",\"Free\",\"Free\",\"Free\",\"Free\",\"Free\",\"Free\",\"Free\",\"Free\",\"Free\",\"Free\",\"Free\",\"Free\",\"Free\",\"Free\",\"Free\",\"Free\",\"Free\",\"Free\",\"Free\",\"Free\",\"Free\",\"Free\",\"Free\",\"Free\",\"Free\",\"Free\",\"Free\",\"Free\",\"Free\",\"Free\",\"Free\",\"Free\",\"Free\",\"Free\",\"Free\",\"Free\",\"Free\",\"Free\",\"Free\",\"Free\",\"Free\",\"Free\",\"Free\",\"Free\",\"Free\",\"Free\",\"Free\",\"Free\",\"Free\",\"Free\",\"Free\",\"Free\",\"Free\",\"Free\",\"Free\",\"Free\",\"Free\",\"Free\",\"Free\",\"Free\",\"Free\",\"Free\",\"Free\",\"Free\",\"Free\",\"Free\",\"Free\",\"Free\",\"Free\",\"Free\",\"Free\",\"Free\",\"Free\",\"Free\",\"Free\",\"Free\",\"Free\",\"Free\",\"Free\",\"Free\",\"Free\",\"Free\",\"Free\",\"Free\",\"Free\",\"Free\",\"Free\",\"Free\",\"Free\",\"Free\",\"Free\",\"Free\",\"Free\",\"Free\",\"Free\",\"Free\",\"Free\",\"Free\",\"Free\",\"Free\",\"Free\",\"Free\",\"Free\",\"Free\",\"Free\",\"Free\",\"Free\",\"Free\",\"Free\",\"Free\",\"Free\",\"Free\",\"Free\",\"Free\",\"Free\",\"Free\",\"Free\",\"Free\",\"Free\",\"Free\",\"Free\",\"Free\",\"Free\",\"Free\",\"Free\",\"Free\",\"Free\",\"Free\",\"Free\",\"Free\",\"Free\",\"Free\",\"Free\",\"Free\",\"Free\",\"Free\",\"Free\",\"Free\",\"Free\",\"Free\",\"Free\",\"Free\",\"Free\",\"Free\",\"Free\",\"Free\",\"Free\",\"Free\",\"Free\",\"Free\",\"Free\",\"Free\",\"Free\",\"Free\",\"Free\",\"Free\",\"Free\",\"Free\",\"Free\",\"Free\",\"Free\",\"Free\",\"Free\",\"Free\",\"Free\",\"Free\",\"Free\",\"Free\",\"Free\",\"Free\",\"Free\",\"Free\",\"Free\",\"Free\",\"Free\",\"Free\",\"Free\",\"Free\",\"Free\",\"Free\",\"Free\",\"Free\",\"Free\",\"Free\",\"Free\",\"Free\",\"Free\",\"Free\",\"Free\",\"Free\",\"Free\",\"Free\",\"Free\",\"Free\",\"Free\",\"Free\",\"Free\",\"Free\",\"Free\",\"Free\",\"Free\",\"Free\",\"Free\",\"Free\",\"Free\",\"Free\",\"Free\",\"Free\",\"Free\",\"Free\",\"Free\",\"Free\",\"Free\",\"Free\",\"Free\",\"Free\",\"Free\",\"Free\",\"Free\",\"Free\",\"Free\",\"Free\",\"Free\",\"Free\",\"Free\",\"Free\",\"Free\",\"Free\",\"Free\",\"Free\",\"Free\",\"Free\",\"Free\",\"Free\",\"Free\",\"Free\",\"Free\",\"Free\",\"Free\",\"Free\",\"Free\",\"Free\",\"Free\",\"Free\",\"Free\",\"Free\",\"Free\",\"Free\",\"Free\",\"Free\",\"Free\",\"Free\",\"Free\",\"Free\",\"Free\",\"Free\",\"Free\",\"Free\",\"Free\",\"Free\",\"Free\",\"Free\",\"Free\",\"Free\",\"Free\",\"Free\",\"Free\",\"Free\",\"Free\",\"Free\",\"Free\",\"Free\",\"Free\",\"Free\",\"Free\",\"Free\",\"Free\",\"Free\",\"Free\",\"Free\",\"Free\",\"Free\",\"Free\",\"Free\",\"Free\",\"Free\",\"Free\",\"Free\",\"Free\",\"Free\",\"Free\",\"Free\",\"Free\",\"Free\",\"Free\",\"Free\",\"Free\",\"Free\",\"Free\",\"Free\",\"Free\",\"Free\",\"Free\",\"Free\",\"Free\",\"Free\",\"Free\",\"Free\",\"Free\",\"Free\",\"Free\",\"Free\",\"Free\",\"Free\",\"Free\",\"Free\",\"Free\",\"Free\",\"Free\",\"Free\",\"Free\",\"Free\",\"Free\",\"Free\",\"Free\",\"Free\",\"Free\",\"Free\",\"Free\",\"Free\",\"Free\",\"Free\",\"Free\",\"Free\",\"Free\",\"Free\",\"Free\",\"Free\",\"Free\",\"Free\",\"Free\",\"Free\",\"Free\",\"Free\",\"Free\",\"Free\",\"Free\",\"Free\",\"Free\",\"Free\",\"Free\",\"Free\",\"Free\",\"Free\",\"Free\",\"Free\",\"Free\",\"Free\",\"Free\",\"Free\",\"Free\",\"Free\",\"Free\",\"Free\",\"Free\",\"Free\",\"Free\",\"Free\",\"Free\",\"Free\",\"Free\",\"Free\",\"Free\",\"Free\",\"Free\",\"Free\",\"Free\",\"Free\",\"Free\",\"Free\",\"Free\",\"Free\",\"Free\",\"Free\",\"Free\",\"Free\",\"Free\",\"Free\",\"Free\",\"Free\",\"Free\",\"Free\",\"Free\",\"Free\",\"Free\",\"Free\",\"Free\",\"Free\",\"Free\",\"Free\",\"Free\",\"Free\",\"Free\",\"Free\",\"Free\",\"Free\",\"Free\",\"Free\",\"Free\",\"Free\",\"Free\",\"Free\",\"Free\",\"Free\",\"Free\",\"Free\",\"Free\",\"Free\",\"Free\",\"Free\",\"Free\",\"Free\",\"Free\",\"Free\",\"Free\",\"Free\",\"Free\",\"Free\",\"Free\",\"Free\",\"Free\",\"Free\",\"Free\",\"Free\",\"Free\",\"Free\",\"Free\",\"Free\",\"Free\",\"Free\",\"Free\",\"Free\",\"Free\",\"Free\",\"Free\",\"Free\",\"Free\",\"Free\",\"Free\",\"Free\",\"Free\",\"Free\",\"Free\",\"Free\",\"Free\",\"Free\",\"Free\",\"Free\",\"Free\",\"Free\",\"Free\",\"Free\",\"Free\",\"Free\",\"Free\",\"Free\",\"Free\",\"Free\",\"Free\",\"Free\",\"Free\",\"Free\",\"Free\",\"Free\",\"Free\",\"Free\",\"Free\",\"Free\",\"Free\",\"Free\",\"Free\",\"Free\",\"Free\",\"Free\",\"Free\",\"Free\",\"Free\",\"Free\",\"Free\",\"Free\",\"Free\",\"Free\",\"Free\",\"Free\",\"Free\",\"Free\",\"Free\",\"Free\",\"Free\",\"Free\",\"Free\",\"Free\",\"Free\",\"Free\",\"Free\",\"Free\",\"Free\",\"Free\",\"Free\",\"Free\",\"Free\",\"Free\",\"Free\",\"Free\",\"Free\",\"Free\",\"Free\",\"Free\",\"Free\",\"Free\",\"Free\",\"Free\",\"Free\",\"Free\",\"Free\",\"Free\",\"Free\",\"Free\",\"Free\",\"Free\",\"Free\",\"Free\",\"Free\",\"Free\",\"Free\",\"Free\",\"Free\",\"Free\",\"Free\",\"Free\",\"Free\",\"Free\",\"Free\",\"Free\",\"Free\",\"Free\",\"Free\",\"Free\",\"Free\",\"Free\",\"Free\",\"Free\",\"Free\",\"Free\",\"Free\",\"Free\",\"Free\",\"Free\",\"Free\",\"Free\",\"Free\",\"Free\",\"Free\",\"Free\",\"Free\",\"Free\",\"Free\",\"Free\",\"Free\",\"Free\",\"Free\",\"Free\",\"Free\",\"Free\",\"Free\",\"Free\",\"Free\",\"Free\",\"Free\",\"Free\",\"Free\",\"Free\",\"Free\",\"Free\",\"Free\",\"Free\",\"Free\",\"Free\",\"Free\",\"Free\",\"Free\",\"Free\",\"Free\",\"Free\",\"Free\",\"Free\",\"Free\",\"Free\",\"Free\",\"Free\",\"Free\",\"Free\",\"Free\",\"Free\",\"Free\",\"Free\",\"Free\",\"Free\",\"Free\",\"Free\",\"Free\",\"Free\",\"Free\",\"Free\",\"Free\",\"Free\",\"Free\",\"Free\",\"Free\",\"Free\",\"Free\",\"Free\",\"Free\",\"Free\",\"Free\",\"Free\",\"Free\",\"Free\",\"Free\",\"Free\",\"Free\",\"Free\",\"Free\",\"Free\",\"Free\",\"Free\",\"Free\",\"Free\",\"Free\",\"Free\",\"Free\",\"Free\",\"Free\",\"Free\",\"Free\",\"Free\",\"Free\",\"Free\",\"Free\",\"Free\",\"Free\",\"Free\",\"Free\",\"Free\",\"Free\",\"Free\",\"Free\",\"Free\",\"Free\",\"Free\",\"Free\",\"Free\",\"Free\",\"Free\",\"Free\",\"Free\",\"Free\",\"Free\",\"Free\",\"Free\",\"Free\",\"Free\",\"Free\",\"Free\",\"Free\",\"Free\",\"Free\",\"Free\",\"Free\",\"Free\",\"Free\",\"Free\",\"Free\",\"Free\",\"Free\",\"Free\",\"Free\",\"Free\",\"Free\",\"Free\",\"Free\",\"Free\",\"Free\",\"Free\",\"Free\",\"Free\",\"Free\",\"Free\",\"Free\",\"Free\",\"Free\",\"Free\",\"Free\",\"Free\",\"Free\",\"Free\",\"Free\",\"Free\",\"Free\",\"Free\",\"Free\",\"Free\",\"Free\",\"Free\",\"Free\",\"Free\",\"Free\",\"Free\",\"Free\",\"Free\",\"Free\",\"Free\",\"Free\",\"Free\",\"Free\",\"Free\",\"Free\",\"Free\",\"Free\",\"Free\",\"Free\",\"Free\",\"Free\",\"Free\",\"Free\",\"Free\",\"Free\",\"Free\",\"Free\",\"Free\",\"Free\",\"Free\",\"Free\",\"Free\",\"Free\",\"Free\",\"Free\",\"Free\",\"Free\",\"Free\",\"Free\",\"Free\",\"Free\",\"Free\",\"Free\",\"Free\",\"Free\",\"Free\",\"Free\",\"Free\",\"Free\",\"Free\",\"Free\",\"Free\",\"Free\",\"Free\",\"Free\",\"Free\",\"Free\",\"Free\",\"Free\",\"Free\",\"Free\",\"Free\",\"Free\",\"Free\",\"Free\",\"Free\",\"Free\",\"Free\",\"Free\",\"Free\",\"Free\",\"Free\",\"Free\",\"Free\",\"Free\",\"Free\",\"Free\",\"Free\",\"Free\",\"Free\",\"Free\",\"Free\",\"Free\",\"Free\",\"Free\",\"Free\",\"Free\",\"Free\",\"Free\",\"Free\",\"Free\",\"Free\",\"Free\",\"Free\",\"Free\",\"Free\",\"Free\",\"Free\",\"Free\",\"Free\",\"Free\",\"Free\",\"Free\",\"Free\",\"Free\",\"Free\",\"Free\",\"Free\",\"Free\",\"Free\",\"Free\",\"Free\",\"Free\",\"Free\",\"Free\",\"Free\",\"Free\",\"Free\",\"Free\",\"Free\",\"Free\",\"Free\",\"Free\",\"Free\",\"Free\",\"Free\",\"Free\",\"Free\",\"Free\",\"Free\",\"Free\",\"Free\",\"Free\",\"Free\",\"Free\",\"Free\",\"Free\",\"Free\",\"Free\",\"Free\",\"Free\",\"Free\",\"Free\",\"Free\",\"Free\",\"Free\",\"Free\",\"Free\",\"Free\",\"Free\",\"Free\",\"Free\",\"Free\",\"Free\",\"Free\",\"Free\",\"Free\",\"Free\",\"Free\",\"Free\",\"Free\",\"Free\",\"Free\",\"Free\",\"Free\",\"Free\",\"Free\",\"Free\",\"Free\",\"Free\",\"Free\",\"Free\",\"Free\",\"Free\",\"Free\",\"Free\",\"Free\",\"Free\",\"Free\",\"Free\",\"Free\",\"Free\",\"Free\",\"Free\",\"Free\",\"Free\",\"Free\",\"Free\",\"Free\",\"Free\",\"Free\",\"Free\",\"Free\",\"Free\",\"Free\",\"Free\",\"Free\",\"Free\",\"Free\",\"Free\",\"Free\",\"Free\",\"Free\",\"Free\",\"Free\",\"Free\",\"Free\",\"Free\",\"Free\",\"Free\",\"Free\",\"Free\",\"Free\",\"Free\",\"Free\",\"Free\",\"Free\",\"Free\",\"Free\",\"Free\",\"Free\",\"Free\",\"Free\",\"Free\",\"Free\",\"Free\",\"Free\",\"Free\",\"Free\",\"Free\",\"Free\",\"Free\",\"Free\",\"Free\",\"Free\",\"Free\",\"Free\",\"Free\",\"Free\",\"Free\",\"Free\",\"Free\",\"Free\",\"Free\",\"Free\",\"Free\",\"Free\",\"Free\",\"Free\",\"Free\",\"Free\",\"Free\",\"Free\",\"Free\",\"Free\",\"Free\",\"Free\",\"Free\",\"Free\",\"Free\",\"Free\",\"Free\",\"Free\",\"Free\",\"Free\",\"Free\",\"Free\",\"Free\",\"Free\",\"Free\",\"Free\",\"Free\",\"Free\",\"Free\",\"Free\",\"Free\",\"Free\",\"Free\",\"Free\",\"Free\",\"Free\",\"Free\",\"Free\",\"Free\",\"Free\",\"Free\",\"Free\",\"Free\",\"Free\",\"Free\",\"Free\",\"Free\",\"Free\",\"Free\",\"Free\",\"Free\",\"Free\",\"Free\",\"Free\",\"Free\",\"Free\",\"Free\",\"Free\",\"Free\",\"Free\",\"Free\",\"Free\",\"Free\",\"Free\",\"Free\",\"Free\",\"Free\",\"Free\",\"Free\",\"Free\",\"Free\",\"Free\",\"Free\",\"Free\",\"Free\",\"Free\",\"Free\",\"Free\",\"Free\",\"Free\",\"Free\",\"Free\",\"Free\",\"Free\",\"Free\",\"Free\",\"Free\",\"Free\",\"Free\",\"Free\",\"Free\",\"Free\",\"Free\",\"Free\",\"Free\",\"Free\",\"Free\",\"Free\",\"Free\",\"Free\",\"Free\",\"Free\",\"Free\",\"Free\",\"Free\",\"Free\",\"Free\",\"Free\",\"Free\",\"Free\",\"Free\",\"Free\",\"Free\",\"Free\",\"Free\",\"Free\",\"Free\",\"Free\",\"Free\",\"Free\",\"Free\",\"Free\",\"Free\",\"Free\",\"Free\",\"Free\",\"Free\",\"Free\",\"Free\",\"Free\",\"Free\",\"Free\",\"Free\",\"Free\",\"Free\",\"Free\",\"Free\",\"Free\",\"Free\",\"Free\",\"Free\",\"Free\",\"Free\",\"Free\",\"Free\",\"Free\",\"Free\",\"Free\",\"Free\",\"Free\",\"Free\",\"Free\",\"Free\",\"Free\",\"Free\",\"Free\",\"Free\",\"Free\",\"Free\",\"Free\",\"Free\",\"Free\",\"Free\",\"Free\",\"Free\",\"Free\",\"Free\",\"Free\",\"Free\",\"Free\",\"Free\",\"Free\",\"Free\",\"Free\",\"Free\",\"Free\",\"Free\",\"Free\",\"Free\",\"Free\",\"Free\",\"Free\",\"Free\",\"Free\",\"Free\",\"Free\",\"Free\",\"Free\",\"Free\",\"Free\",\"Free\",\"Free\",\"Free\",\"Free\",\"Free\",\"Free\",\"Free\",\"Free\",\"Free\",\"Free\",\"Free\",\"Free\",\"Free\",\"Free\",\"Free\",\"Free\",\"Free\",\"Free\",\"Free\",\"Free\",\"Free\",\"Free\",\"Free\",\"Free\",\"Free\",\"Free\",\"Free\",\"Free\",\"Free\",\"Free\",\"Free\",\"Free\",\"Free\",\"Free\",\"Free\",\"Free\",\"Free\",\"Free\",\"Free\",\"Free\",\"Free\",\"Free\",\"Free\",\"Free\",\"Free\",\"Free\",\"Free\",\"Free\",\"Free\",\"Free\",\"Free\",\"Free\",\"Free\",\"Free\",\"Free\",\"Free\",\"Free\",\"Free\",\"Free\",\"Free\",\"Free\",\"Free\",\"Free\",\"Free\",\"Free\",\"Free\",\"Free\",\"Free\",\"Free\",\"Free\",\"Free\",\"Free\",\"Free\",\"Free\",\"Free\",\"Free\",\"Free\",\"Free\",\"Free\",\"Free\",\"Free\",\"Free\",\"Free\",\"Free\",\"Free\",\"Free\",\"Free\",\"Free\",\"Free\",\"Free\",\"Free\",\"Free\",\"Free\",\"Free\",\"Free\",\"Free\",\"Free\",\"Free\",\"Free\",\"Free\",\"Free\",\"Free\",\"Free\",\"Free\",\"Free\",\"Free\",\"Free\",\"Free\",\"Free\",\"Free\",\"Free\",\"Free\",\"Free\",\"Free\",\"Free\",\"Free\",\"Free\",\"Free\",\"Free\",\"Free\",\"Free\",\"Free\",\"Free\",\"Free\",\"Free\",\"Free\",\"Free\",\"Free\",\"Free\",\"Free\",\"Free\",\"Free\",\"Free\",\"Free\",\"Free\",\"Free\",\"Free\",\"Free\",\"Free\",\"Free\",\"Free\",\"Free\",\"Free\",\"Free\",\"Free\",\"Free\",\"Free\",\"Free\",\"Free\",\"Free\",\"Free\",\"Free\",\"Free\",\"Free\",\"Free\",\"Free\",\"Free\",\"Free\",\"Free\",\"Free\",\"Free\",\"Free\",\"Free\",\"Free\",\"Free\",\"Free\",\"Free\",\"Free\",\"Free\",\"Free\",\"Free\",\"Free\",\"Free\",\"Free\",\"Free\",\"Free\",\"Free\",\"Free\",\"Free\",\"Free\",\"Free\",\"Free\",\"Free\",\"Free\",\"Free\",\"Free\",\"Free\",\"Free\",\"Free\",\"Free\",\"Free\",\"Free\",\"Free\",\"Free\",\"Free\",\"Free\",\"Free\",\"Free\",\"Free\",\"Free\",\"Free\",\"Free\",\"Free\",\"Free\",\"Free\",\"Free\",\"Free\",\"Free\",\"Free\",\"Free\",\"Free\",\"Free\",\"Free\",\"Free\",\"Free\",\"Free\",\"Free\",\"Free\",\"Free\",\"Free\",\"Free\",\"Free\",\"Free\",\"Free\",\"Free\",\"Free\",\"Free\",\"Free\",\"Free\",\"Free\",\"Free\",\"Free\",\"Free\",\"Free\",\"Free\",\"Free\",\"Free\",\"Free\",\"Free\",\"Free\",\"Free\",\"Free\",\"Free\",\"Free\",\"Free\",\"Free\",\"Free\",\"Free\",\"Free\",\"Free\",\"Free\",\"Free\",\"Free\",\"Free\",\"Free\",\"Free\",\"Free\",\"Free\",\"Free\",\"Free\",\"Free\",\"Free\",\"Free\",\"Free\",\"Free\",\"Free\",\"Free\",\"Free\",\"Free\",\"Free\",\"Free\",\"Free\",\"Free\",\"Free\",\"Free\",\"Free\",\"Free\",\"Free\",\"Free\",\"Free\",\"Free\",\"Free\",\"Free\",\"Free\",\"Free\",\"Free\",\"Free\",\"Free\",\"Free\",\"Free\",\"Free\",\"Free\",\"Free\",\"Free\",\"Free\",\"Free\",\"Free\",\"Free\",\"Free\",\"Free\",\"Free\",\"Free\",\"Free\",\"Free\",\"Free\",\"Free\",\"Free\",\"Free\",\"Free\",\"Free\",\"Free\",\"Free\",\"Free\",\"Free\",\"Free\",\"Free\",\"Free\",\"Free\",\"Free\",\"Free\",\"Free\",\"Free\",\"Free\",\"Free\",\"Free\",\"Free\",\"Free\",\"Free\",\"Free\",\"Free\",\"Free\",\"Free\",\"Free\",\"Free\",\"Free\",\"Free\",\"Free\",\"Free\",\"Free\",\"Free\",\"Free\",\"Free\",\"Free\",\"Free\",\"Free\",\"Free\",\"Free\",\"Free\",\"Free\",\"Free\",\"Free\",\"Free\",\"Free\",\"Free\",\"Free\",\"Free\",\"Free\",\"Free\",\"Free\",\"Free\",\"Free\",\"Free\",\"Free\",\"Free\",\"Free\",\"Free\",\"Free\",\"Free\",\"Free\",\"Free\",\"Free\",\"Free\",\"Free\",\"Free\",\"Free\",\"Free\",\"Free\",\"Free\",\"Free\",\"Free\",\"Free\",\"Free\",\"Free\",\"Free\",\"Free\",\"Free\",\"Free\",\"Free\",\"Free\",\"Free\",\"Free\",\"Free\",\"Free\",\"Free\",\"Free\",\"Free\",\"Free\",\"Free\",\"Free\",\"Free\",\"Free\",\"Free\",\"Free\",\"Free\",\"Free\",\"Free\",\"Free\",\"Free\",\"Free\",\"Free\",\"Free\",\"Free\",\"Free\",\"Free\",\"Free\",\"Free\",\"Free\",\"Free\",\"Free\",\"Free\",\"Free\",\"Free\",\"Free\",\"Free\",\"Free\",\"Free\",\"Free\",\"Free\",\"Free\",\"Free\",\"Free\",\"Free\",\"Free\",\"Free\",\"Free\",\"Free\",\"Free\",\"Free\",\"Free\",\"Free\",\"Free\",\"Free\",\"Free\",\"Free\",\"Free\",\"Free\",\"Free\",\"Free\",\"Free\",\"Free\",\"Free\",\"Free\",\"Free\",\"Free\",\"Free\",\"Free\",\"Free\",\"Free\",\"Free\",\"Free\",\"Free\",\"Free\",\"Free\",\"Free\",\"Free\",\"Free\",\"Free\",\"Free\",\"Free\",\"Free\",\"Free\",\"Free\",\"Free\",\"Free\",\"Free\",\"Free\",\"Free\",\"Free\",\"Free\",\"Free\",\"Free\",\"Free\",\"Free\",\"Free\",\"Free\",\"Free\",\"Free\",\"Free\",\"Free\",\"Free\",\"Free\",\"Free\",\"Free\",\"Free\",\"Free\",\"Free\",\"Free\",\"Free\",\"Free\",\"Free\",\"Free\",\"Free\",\"Free\",\"Free\",\"Free\",\"Free\",\"Free\",\"Free\",\"Free\",\"Free\",\"Free\",\"Free\",\"Free\",\"Free\",\"Free\",\"Free\",\"Free\",\"Free\",\"Free\",\"Free\",\"Free\",\"Free\",\"Free\",\"Free\",\"Free\",\"Free\",\"Free\",\"Free\",\"Free\",\"Free\",\"Free\",\"Free\",\"Free\",\"Free\",\"Free\",\"Free\",\"Free\",\"Free\",\"Free\",\"Free\",\"Free\",\"Free\",\"Free\",\"Free\",\"Free\",\"Free\",\"Free\",\"Free\",\"Free\",\"Free\",\"Free\",\"Free\",\"Free\",\"Free\",\"Free\",\"Free\",\"Free\",\"Free\",\"Free\",\"Free\",\"Free\",\"Free\",\"Free\",\"Free\",\"Free\",\"Free\",\"Free\",\"Free\",\"Free\",\"Free\",\"Free\",\"Free\",\"Free\",\"Free\",\"Free\",\"Free\",\"Free\",\"Free\",\"Free\",\"Free\",\"Free\",\"Free\",\"Free\",\"Free\",\"Free\",\"Free\",\"Free\",\"Free\",\"Free\",\"Free\",\"Free\",\"Free\",\"Free\",\"Free\",\"Free\",\"Free\",\"Free\",\"Free\",\"Free\",\"Free\",\"Free\",\"Free\",\"Free\",\"Free\",\"Free\",\"Free\",\"Free\",\"Free\",\"Free\",\"Free\",\"Free\",\"Free\",\"Free\",\"Free\",\"Free\",\"Free\",\"Free\",\"Free\",\"Free\",\"Free\",\"Free\",\"Free\",\"Free\",\"Free\",\"Free\",\"Free\",\"Free\",\"Free\",\"Free\",\"Free\",\"Free\",\"Free\",\"Free\",\"Free\",\"Free\",\"Free\",\"Free\",\"Free\",\"Free\",\"Free\",\"Free\",\"Free\",\"Free\",\"Free\",\"Free\",\"Free\",\"Free\",\"Free\",\"Free\",\"Free\",\"Free\",\"Free\",\"Free\",\"Free\",\"Free\",\"Free\",\"Free\",\"Free\",\"Free\",\"Free\",\"Free\",\"Free\",\"Free\",\"Free\",\"Free\",\"Free\",\"Free\",\"Free\",\"Free\",\"Free\",\"Free\",\"Free\",\"Free\",\"Free\",\"Free\",\"Free\",\"Free\",\"Free\",\"Free\",\"Free\",\"Free\",\"Free\",\"Free\",\"Free\",\"Free\",\"Free\",\"Free\",\"Free\",\"Free\",\"Free\",\"Free\",\"Free\",\"Free\",\"Free\",\"Free\",\"Free\",\"Free\",\"Free\",\"Free\",\"Free\",\"Free\",\"Free\",\"Free\",\"Free\",\"Free\",\"Free\",\"Free\",\"Free\",\"Free\",\"Free\",\"Free\",\"Free\",\"Free\",\"Free\",\"Free\",\"Free\",\"Free\",\"Free\",\"Free\",\"Free\",\"Free\",\"Free\",\"Free\",\"Free\",\"Free\",\"Free\",\"Free\",\"Free\",\"Free\",\"Free\",\"Free\",\"Free\",\"Free\",\"Free\",\"Free\",\"Free\",\"Free\",\"Free\",\"Free\",\"Free\",\"Free\",\"Free\",\"Free\",\"Free\",\"Free\",\"Free\",\"Free\",\"Free\",\"Free\",\"Free\",\"Free\",\"Free\",\"Free\",\"Free\",\"Free\",\"Free\",\"Free\",\"Free\",\"Free\",\"Free\",\"Free\",\"Free\",\"Free\",\"Free\",\"Free\",\"Free\",\"Free\",\"Free\",\"Free\",\"Free\",\"Free\",\"Free\",\"Free\",\"Free\",\"Free\",\"Free\",\"Free\",\"Free\",\"Free\",\"Free\",\"Free\",\"Free\",\"Free\",\"Free\",\"Free\",\"Free\",\"Free\",\"Free\",\"Free\",\"Free\",\"Free\",\"Free\",\"Free\",\"Free\",\"Free\",\"Free\",\"Free\",\"Free\",\"Free\",\"Free\",\"Free\",\"Free\",\"Free\",\"Free\",\"Free\",\"Free\",\"Free\",\"Free\",\"Free\",\"Free\",\"Free\",\"Free\",\"Free\",\"Free\",\"Free\",\"Free\",\"Free\",\"Free\",\"Free\",\"Free\",\"Free\",\"Free\",\"Free\",\"Free\",\"Free\",\"Free\",\"Free\",\"Free\",\"Free\",\"Free\",\"Free\",\"Free\",\"Free\",\"Free\",\"Free\",\"Free\",\"Free\",\"Free\",\"Free\",\"Free\",\"Free\",\"Free\",\"Free\",\"Free\",\"Free\",\"Free\",\"Free\",\"Free\",\"Free\",\"Free\",\"Free\",\"Free\",\"Free\",\"Free\",\"Free\",\"Free\",\"Free\",\"Free\",\"Free\",\"Free\",\"Free\",\"Free\",\"Free\",\"Free\",\"Free\",\"Free\",\"Free\",\"Free\",\"Free\",\"Free\",\"Free\",\"Free\",\"Free\",\"Free\",\"Free\",\"Free\",\"Free\",\"Free\",\"Free\",\"Free\",\"Free\",\"Free\",\"Free\",\"Free\",\"Free\",\"Free\",\"Free\",\"Free\",\"Free\",\"Free\",\"Free\",\"Free\",\"Free\",\"Free\",\"Free\",\"Free\",\"Free\",\"Free\",\"Free\",\"Free\",\"Free\",\"Free\",\"Free\",\"Free\",\"Free\",\"Free\",\"Free\",\"Free\",\"Free\",\"Free\",\"Free\",\"Free\",\"Free\",\"Free\",\"Free\",\"Free\",\"Free\",\"Free\",\"Free\",\"Free\",\"Free\",\"Free\",\"Free\",\"Free\",\"Free\",\"Free\",\"Free\",\"Free\",\"Free\",\"Free\",\"Free\",\"Free\",\"Free\",\"Free\",\"Free\",\"Free\",\"Free\",\"Free\",\"Free\",\"Free\",\"Free\",\"Free\",\"Free\",\"Free\",\"Free\",\"Free\",\"Free\",\"Free\",\"Free\",\"Free\",\"Free\",\"Free\",\"Free\",\"Free\",\"Free\",\"Free\",\"Free\",\"Free\",\"Free\",\"Free\",\"Free\",\"Free\",\"Free\",\"Free\",\"Free\",\"Free\",\"Free\",\"Free\",\"Free\",\"Free\",\"Free\",\"Free\",\"Free\",\"Free\",\"Free\",\"Free\",\"Free\",\"Free\",\"Free\",\"Free\",\"Free\",\"Free\",\"Free\",\"Free\",\"Free\",\"Free\",\"Free\",\"Free\",\"Free\",\"Free\",\"Free\",\"Free\",\"Free\",\"Free\",\"Free\",\"Free\",\"Free\",\"Free\",\"Free\",\"Free\",\"Free\",\"Free\",\"Free\",\"Free\",\"Free\",\"Free\",\"Free\",\"Free\",\"Free\",\"Free\",\"Free\",\"Free\",\"Free\",\"Free\",\"Free\",\"Free\",\"Free\",\"Free\",\"Free\",\"Free\",\"Free\",\"Free\",\"Free\",\"Free\",\"Free\",\"Free\",\"Free\",\"Free\",\"Free\",\"Free\",\"Free\",\"Free\",\"Free\",\"Free\",\"Free\",\"Free\",\"Free\",\"Free\",\"Free\",\"Free\",\"Free\",\"Free\",\"Free\",\"Free\",\"Free\",\"Free\",\"Free\",\"Free\",\"Free\",\"Free\",\"Free\",\"Free\",\"Free\",\"Free\",\"Free\",\"Free\",\"Free\",\"Free\",\"Free\",\"Free\",\"Free\",\"Free\",\"Free\",\"Free\",\"Free\",\"Free\",\"Free\",\"Free\",\"Free\",\"Free\",\"Free\",\"Free\",\"Free\",\"Free\",\"Free\",\"Free\",\"Free\",\"Free\",\"Free\",\"Free\",\"Free\",\"Free\",\"Free\",\"Free\",\"Free\",\"Free\",\"Free\",\"Free\",\"Free\",\"Free\",\"Free\",\"Free\",\"Free\",\"Free\",\"Free\",\"Free\",\"Free\",\"Free\",\"Free\",\"Free\",\"Free\",\"Free\",\"Free\",\"Free\",\"Free\",\"Free\",\"Free\",\"Free\",\"Free\",\"Free\",\"Free\",\"Free\",\"Free\",\"Free\",\"Free\",\"Free\",\"Free\",\"Free\",\"Free\",\"Free\",\"Free\",\"Free\",\"Free\",\"Free\",\"Free\",\"Free\",\"Free\",\"Free\",\"Free\",\"Free\",\"Free\",\"Free\",\"Free\",\"Free\",\"Free\",\"Free\",\"Free\",\"Free\",\"Free\",\"Free\",\"Free\",\"Free\",\"Free\",\"Free\",\"Free\",\"Free\",\"Free\",\"Free\",\"Free\",\"Free\",\"Free\",\"Free\",\"Free\",\"Free\",\"Free\",\"Free\",\"Free\",\"Free\",\"Free\",\"Free\",\"Free\",\"Free\",\"Free\",\"Free\",\"Free\",\"Free\",\"Free\",\"Free\",\"Free\",\"Free\",\"Free\",\"Free\",\"Free\",\"Free\",\"Free\",\"Free\",\"Free\",\"Free\",\"Free\",\"Free\",\"Free\",\"Free\",\"Free\",\"Free\",\"Free\",\"Free\",\"Free\",\"Free\",\"Free\",\"Free\",\"Free\",\"Free\",\"Free\",\"Free\",\"Free\",\"Free\",\"Free\",\"Free\",\"Free\",\"Free\",\"Free\",\"Free\",\"Free\",\"Free\",\"Free\",\"Free\",\"Free\",\"Free\",\"Free\",\"Free\",\"Free\",\"Free\",\"Free\",\"Free\",\"Free\",\"Free\",\"Free\",\"Free\",\"Free\",\"Free\",\"Free\",\"Free\",\"Free\",\"Free\",\"Free\",\"Free\",\"Free\",\"Free\",\"Free\",\"Free\",\"Free\",\"Free\",\"Free\",\"Free\",\"Free\",\"Free\",\"Free\",\"Free\",\"Free\",\"Free\",\"Free\",\"Free\",\"Free\",\"Free\",\"Free\",\"Free\",\"Free\",\"Free\",\"Free\",\"Free\",\"Free\",\"Free\",\"Free\",\"Free\",\"Free\",\"Free\",\"Free\",\"Free\",\"Free\",\"Free\",\"Free\",\"Free\",\"Free\",\"Free\",\"Free\",\"Free\",\"Free\",\"Free\",\"Free\",\"Free\",\"Free\",\"Free\",\"Free\",\"Free\",\"Free\",\"Free\",\"Free\",\"Free\",\"Free\",\"Free\",\"Free\",\"Free\",\"Free\",\"Free\",\"Free\",\"Free\",\"Free\",\"Free\",\"Free\",\"Free\",\"Free\",\"Free\",\"Free\",\"Free\",\"Free\",\"Free\",\"Free\",\"Free\",\"Free\",\"Free\",\"Free\",\"Free\",\"Free\",\"Free\",\"Free\",\"Free\",\"Free\",\"Free\",\"Free\",\"Free\",\"Free\",\"Free\",\"Free\",\"Free\",\"Free\",\"Free\",\"Free\",\"Free\",\"Free\",\"Free\",\"Free\",\"Free\",\"Free\",\"Free\",\"Free\",\"Free\",\"Free\",\"Free\",\"Free\",\"Free\",\"Free\",\"Free\",\"Free\",\"Free\",\"Free\",\"Free\",\"Free\",\"Free\",\"Free\",\"Free\",\"Free\",\"Free\",\"Free\",\"Free\",\"Free\",\"Free\",\"Free\",\"Free\",\"Free\",\"Free\",\"Free\",\"Free\",\"Free\",\"Free\",\"Free\",\"Free\",\"Free\",\"Free\",\"Free\",\"Free\",\"Free\",\"Free\",\"Free\",\"Free\",\"Free\",\"Free\",\"Free\",\"Free\",\"Free\",\"Free\",\"Free\",\"Free\",\"Free\",\"Free\",\"Free\",\"Free\",\"Free\",\"Free\",\"Free\",\"Free\",\"Free\",\"Free\",\"Free\",\"Free\",\"Free\",\"Free\",\"Free\",\"Free\",\"Free\",\"Free\",\"Free\",\"Free\",\"Free\",\"Free\",\"Free\",\"Free\",\"Free\",\"Free\",\"Free\",\"Free\",\"Free\",\"Free\",\"Free\",\"Free\",\"Free\",\"Free\",\"Free\",\"Free\",\"Free\",\"Free\",\"Free\",\"Free\",\"Free\",\"Free\",\"Free\",\"Free\",\"Free\",\"Free\",\"Free\",\"Free\",\"Free\",\"Free\",\"Free\",\"Free\",\"Free\",\"Free\",\"Free\",\"Free\",\"Free\",\"Free\",\"Free\",\"Free\",\"Free\",\"Free\",\"Free\",\"Free\",\"Free\",\"Free\",\"Free\",\"Free\",\"Free\",\"Free\",\"Free\",\"Free\",\"Free\",\"Free\",\"Free\",\"Free\",\"Free\",\"Free\",\"Free\",\"Free\",\"Free\",\"Free\",\"Free\",\"Free\",\"Free\",\"Free\",\"Free\",\"Free\",\"Free\",\"Free\",\"Free\",\"Free\",\"Free\",\"Free\",\"Free\",\"Free\",\"Free\",\"Free\",\"Free\",\"Free\",\"Free\",\"Free\",\"Free\",\"Free\",\"Free\",\"Free\",\"Free\",\"Free\",\"Free\",\"Free\",\"Free\",\"Free\",\"Free\",\"Free\",\"Free\",\"Free\",\"Free\",\"Free\",\"Free\",\"Free\",\"Free\",\"Free\",\"Free\",\"Free\",\"Free\",\"Free\",\"Free\",\"Free\",\"Free\",\"Free\",\"Free\",\"Free\",\"Free\",\"Free\",\"Free\",\"Free\",\"Free\",\"Free\",\"Free\",\"Free\",\"Free\",\"Free\",\"Free\",\"Free\",\"Free\",\"Free\",\"Free\",\"Free\",\"Free\",\"Free\",\"Free\",\"Free\",\"Free\",\"Free\",\"Free\",\"Free\",\"Free\",\"Free\",\"Free\",\"Free\",\"Free\",\"Free\",\"Free\",\"Free\",\"Free\",\"Free\",\"Free\",\"Free\",\"Free\",\"Free\",\"Free\",\"Free\",\"Free\",\"Free\",\"Free\",\"Free\",\"Free\",\"Free\",\"Free\",\"Free\",\"Free\",\"Free\",\"Free\",\"Free\",\"Free\",\"Free\",\"Free\",\"Free\",\"Free\",\"Free\",\"Free\",\"Free\",\"Free\",\"Free\",\"Free\",\"Free\",\"Free\",\"Free\",\"Free\",\"Free\",\"Free\",\"Free\",\"Free\",\"Free\",\"Free\",\"Free\",\"Free\",\"Free\",\"Free\",\"Free\",\"Free\",\"Free\",\"Free\",\"Free\",\"Free\",\"Free\",\"Free\",\"Free\",\"Free\",\"Free\",\"Free\",\"Free\",\"Free\",\"Free\",\"Free\",\"Free\",\"Free\",\"Free\",\"Free\",\"Free\",\"Free\",\"Free\",\"Free\",\"Free\",\"Free\",\"Free\",\"Free\",\"Free\",\"Free\",\"Free\",\"Free\",\"Free\",\"Free\",\"Free\",\"Free\",\"Free\",\"Free\",\"Free\",\"Free\",\"Free\",\"Free\",\"Free\",\"Free\",\"Free\",\"Free\",\"Free\",\"Free\",\"Free\",\"Free\",\"Free\",\"Free\",\"Free\",\"Free\",\"Free\",\"Free\",\"Free\",\"Free\",\"Free\",\"Free\",\"Free\",\"Free\",\"Free\",\"Free\",\"Free\",\"Free\",\"Free\",\"Free\",\"Free\",\"Free\",\"Free\",\"Free\",\"Free\",\"Free\",\"Free\",\"Free\",\"Free\",\"Free\",\"Free\",\"Free\",\"Free\",\"Free\",\"Free\",\"Free\",\"Free\",\"Free\",\"Free\",\"Free\",\"Free\",\"Free\",\"Free\",\"Free\",\"Free\",\"Free\",\"Free\",\"Free\",\"Free\",\"Free\",\"Free\",\"Free\",\"Free\",\"Free\",\"Free\",\"Free\",\"Free\",\"Free\",\"Free\",\"Free\",\"Free\",\"Free\",\"Free\",\"Free\",\"Free\",\"Free\",\"Free\",\"Free\",\"Free\",\"Free\",\"Free\",\"Free\",\"Free\",\"Free\",\"Free\",\"Free\",\"Free\",\"Free\",\"Free\",\"Free\",\"Free\",\"Free\",\"Free\",\"Free\",\"Free\",\"Free\",\"Free\",\"Free\",\"Free\",\"Free\",\"Free\",\"Free\",\"Free\",\"Free\",\"Free\",\"Free\",\"Free\",\"Free\",\"Free\",\"Free\",\"Free\",\"Free\",\"Free\",\"Free\",\"Free\",\"Free\",\"Free\",\"Free\",\"Free\",\"Free\",\"Free\",\"Free\",\"Free\",\"Free\",\"Free\",\"Free\",\"Free\",\"Free\",\"Free\",\"Free\",\"Free\",\"Free\",\"Free\",\"Free\",\"Free\",\"Free\",\"Free\",\"Free\",\"Free\",\"Free\",\"Free\",\"Free\",\"Free\",\"Free\",\"Free\",\"Free\",\"Free\",\"Free\",\"Free\",\"Free\",\"Free\",\"Free\",\"Free\",\"Free\",\"Free\",\"Free\",\"Free\",\"Free\",\"Free\",\"Free\",\"Free\",\"Free\",\"Free\",\"Free\",\"Free\",\"Free\",\"Free\",\"Free\",\"Free\",\"Free\",\"Free\",\"Free\",\"Free\",\"Free\",\"Free\",\"Free\",\"Free\",\"Free\",\"Free\",\"Free\",\"Free\",\"Free\",\"Free\",\"Free\",\"Free\",\"Free\",\"Free\",\"Free\",\"Free\",\"Free\",\"Free\",\"Free\",\"Free\",\"Free\",\"Free\",\"Free\",\"Free\",\"Free\",\"Free\",\"Free\",\"Free\",\"Free\",\"Free\",\"Free\",\"Free\",\"Free\",\"Free\",\"Free\",\"Free\",\"Free\",\"Free\",\"Free\",\"Free\",\"Free\",\"Free\",\"Free\",\"Free\",\"Free\",\"Free\",\"Free\",\"Free\",\"Free\",\"Free\",\"Free\",\"Free\",\"Free\",\"Free\",\"Free\",\"Free\",\"Free\",\"Free\",\"Free\",\"Free\",\"Free\",\"Free\",\"Free\",\"Free\",\"Free\",\"Free\",\"Free\",\"Free\",\"Free\",\"Free\",\"Free\",\"Free\",\"Free\",\"Free\",\"Free\",\"Free\",\"Free\",\"Free\",\"Free\",\"Free\",\"Free\",\"Free\",\"Free\",\"Free\",\"Free\",\"Free\",\"Free\",\"Free\",\"Free\",\"Free\",\"Free\",\"Free\",\"Free\",\"Free\",\"Free\",\"Free\",\"Free\",\"Free\",\"Free\",\"Free\",\"Free\",\"Free\",\"Free\",\"Free\",\"Free\",\"Free\",\"Free\",\"Free\",\"Free\",\"Free\",\"Free\",\"Free\",\"Free\",\"Free\",\"Free\",\"Free\",\"Free\",\"Free\",\"Free\",\"Free\",\"Free\",\"Free\",\"Free\",\"Free\",\"Free\",\"Free\",\"Free\",\"Free\",\"Free\",\"Free\",\"Free\",\"Free\",\"Free\",\"Free\",\"Free\",\"Free\",\"Free\",\"Free\",\"Free\",\"Free\",\"Free\",\"Free\",\"Free\",\"Free\",\"Free\",\"Free\",\"Free\",\"Free\",\"Free\",\"Free\",\"Free\",\"Free\",\"Free\",\"Free\",\"Free\",\"Free\",\"Free\",\"Free\",\"Free\",\"Free\",\"Free\",\"Free\",\"Free\",\"Free\",\"Free\",\"Free\",\"Free\",\"Free\",\"Free\",\"Free\",\"Free\",\"Free\",\"Free\",\"Free\",\"Free\",\"Free\",\"Free\",\"Free\",\"Free\",\"Free\",\"Free\",\"Free\",\"Free\",\"Free\",\"Free\",\"Free\",\"Free\",\"Free\",\"Free\",\"Free\",\"Free\",\"Free\",\"Free\",\"Free\",\"Free\",\"Free\",\"Free\",\"Free\",\"Free\",\"Free\",\"Free\",\"Free\",\"Free\",\"Free\",\"Free\",\"Free\",\"Free\",\"Free\",\"Free\",\"Free\",\"Free\",\"Free\",\"Free\",\"Free\",\"Free\",\"Free\",\"Free\",\"Free\",\"Free\",\"Free\",\"Free\",\"Free\",\"Free\",\"Free\",\"Free\",\"Free\",\"Free\",\"Free\",\"Free\",\"Free\",\"Free\",\"Free\",\"Free\",\"Free\",\"Free\",\"Free\",\"Free\",\"Free\",\"Free\",\"Free\",\"Free\",\"Free\",\"Free\",\"Free\",\"Free\",\"Free\",\"Free\",\"Free\",\"Free\",\"Free\",\"Free\",\"Free\",\"Free\",\"Free\",\"Free\",\"Free\",\"Free\",\"Free\",\"Free\",\"Free\",\"Free\",\"Free\",\"Free\",\"Free\",\"Free\",\"Free\",\"Free\",\"Free\",\"Free\",\"Free\",\"Free\",\"Free\",\"Free\",\"Free\",\"Free\",\"Free\",\"Free\",\"Free\",\"Free\",\"Free\",\"Free\",\"Free\",\"Free\",\"Free\",\"Free\",\"Free\",\"Free\",\"Free\",\"Free\",\"Free\",\"Free\",\"Free\",\"Free\",\"Free\",\"Free\",\"Free\",\"Free\",\"Free\",\"Free\",\"Free\",\"Free\",\"Free\",\"Free\",\"Free\",\"Free\",\"Free\",\"Free\",\"Free\",\"Free\",\"Free\",\"Free\",\"Free\",\"Free\",\"Free\",\"Free\",\"Free\",\"Free\",\"Free\",\"Free\",\"Free\",\"Free\",\"Free\",\"Free\",\"Free\",\"Free\",\"Free\",\"Free\",\"Free\",\"Free\",\"Free\",\"Free\",\"Free\",\"Free\",\"Free\",\"Free\",\"Free\",\"Free\",\"Free\",\"Free\",\"Free\",\"Free\",\"Free\",\"Free\",\"Free\",\"Free\",\"Free\",\"Free\",\"Free\",\"Free\",\"Free\",\"Free\",\"Free\",\"Free\",\"Free\",\"Free\",\"Free\",\"Free\",\"Free\",\"Free\",\"Free\",\"Free\",\"Free\",\"Free\",\"Free\",\"Free\",\"Free\",\"Free\",\"Free\",\"Free\",\"Free\",\"Free\",\"Free\",\"Free\",\"Free\",\"Free\",\"Free\",\"Free\",\"Free\",\"Free\",\"Free\",\"Free\",\"Free\",\"Free\",\"Free\",\"Free\",\"Free\",\"Free\",\"Free\",\"Free\",\"Free\",\"Free\",\"Free\",\"Free\",\"Free\",\"Free\",\"Free\",\"Free\",\"Free\",\"Free\",\"Free\",\"Free\",\"Free\",\"Free\",\"Free\",\"Free\",\"Free\",\"Free\",\"Free\",\"Free\",\"Free\",\"Free\",\"Free\",\"Free\",\"Free\",\"Free\",\"Free\",\"Free\",\"Free\",\"Free\",\"Free\",\"Free\",\"Free\",\"Free\",\"Free\",\"Free\",\"Free\",\"Free\",\"Free\",\"Free\",\"Free\",\"Free\",\"Free\",\"Free\",\"Free\",\"Free\",\"Free\",\"Free\",\"Free\",\"Free\",\"Free\",\"Free\",\"Free\",\"Free\",\"Free\",\"Free\",\"Free\",\"Free\",\"Free\",\"Free\",\"Free\",\"Free\",\"Free\",\"Free\",\"Free\",\"Free\",\"Free\",\"Free\",\"Free\",\"Free\",\"Free\",\"Free\",\"Free\",\"Free\",\"Free\",\"Free\",\"Free\",\"Free\",\"Free\",\"Free\",\"Free\",\"Free\",\"Free\",\"Free\",\"Free\",\"Free\",\"Free\",\"Free\",\"Free\",\"Free\",\"Free\",\"Free\",\"Free\",\"Free\",\"Free\",\"Free\",\"Free\",\"Free\",\"Free\",\"Free\",\"Free\",\"Free\",\"Free\",\"Free\",\"Free\",\"Free\",\"Free\",\"Free\",\"Free\",\"Free\",\"Free\",\"Free\",\"Free\",\"Free\",\"Free\",\"Free\",\"Free\",\"Free\",\"Free\",\"Free\",\"Free\",\"Free\",\"Free\",\"Free\",\"Free\",\"Free\",\"Free\",\"Free\",\"Free\",\"Free\",\"Free\",\"Free\",\"Free\",\"Free\",\"Free\",\"Free\",\"Free\",\"Free\",\"Free\",\"Free\",\"Free\",\"Free\",\"Free\",\"Free\",\"Free\",\"Free\",\"Free\",\"Free\",\"Free\",\"Free\",\"Free\",\"Free\",\"Free\",\"Free\",\"Free\",\"Free\",\"Free\",\"Free\",\"Free\",\"Free\",\"Free\",\"Free\",\"Free\",\"Free\",\"Free\",\"Free\",\"Free\",\"Free\",\"Free\",\"Free\",\"Free\",\"Free\",\"Free\",\"Free\",\"Free\",\"Free\",\"Free\",\"Free\",\"Free\",\"Free\",\"Free\",\"Free\",\"Free\",\"Free\",\"Free\",\"Free\",\"Free\",\"Free\",\"Free\",\"Free\",\"Free\",\"Free\",\"Free\",\"Free\",\"Free\",\"Free\",\"Free\",\"Free\",\"Free\",\"Free\",\"Free\",\"Free\",\"Free\",\"Free\",\"Free\",\"Free\",\"Free\",\"Free\",\"Free\",\"Free\",\"Free\",\"Free\",\"Free\",\"Free\",\"Free\",\"Free\",\"Free\",\"Free\",\"Free\",\"Free\",\"Free\",\"Free\",\"Free\",\"Free\",\"Free\",\"Free\",\"Free\",\"Free\",\"Free\",\"Free\",\"Free\",\"Free\",\"Free\",\"Free\",\"Free\",\"Free\",\"Free\",\"Free\",\"Free\",\"Free\",\"Free\",\"Free\",\"Free\",\"Free\",\"Free\",\"Free\",\"Free\",\"Free\",\"Free\",\"Free\",\"Free\",\"Free\",\"Free\",\"Free\",\"Free\",\"Free\",\"Free\",\"Free\",\"Free\",\"Free\",\"Free\",\"Free\",\"Free\",\"Free\",\"Free\",\"Free\",\"Free\",\"Free\",\"Free\",\"Free\",\"Free\",\"Free\",\"Free\",\"Free\",\"Free\",\"Free\",\"Free\",\"Free\",\"Free\",\"Free\",\"Free\",\"Free\",\"Free\",\"Free\",\"Free\",\"Free\",\"Free\",\"Free\",\"Free\",\"Free\",\"Free\",\"Free\",\"Free\",\"Free\",\"Free\",\"Free\",\"Free\",\"Free\",\"Free\",\"Free\",\"Free\",\"Free\",\"Free\",\"Free\",\"Free\",\"Free\",\"Free\",\"Free\",\"Free\",\"Free\",\"Free\",\"Free\",\"Free\",\"Free\",\"Free\",\"Free\",\"Free\",\"Free\",\"Free\",\"Free\",\"Free\",\"Free\",\"Free\",\"Free\",\"Free\",\"Free\",\"Free\",\"Free\",\"Free\",\"Free\",\"Free\",\"Free\",\"Free\",\"Free\",\"Free\",\"Free\",\"Free\",\"Free\",\"Free\",\"Free\",\"Free\",\"Free\",\"Free\",\"Free\",\"Free\",\"Free\",\"Free\",\"Free\",\"Free\",\"Free\",\"Free\",\"Free\",\"Free\",\"Free\",\"Free\",\"Free\",\"Free\",\"Free\",\"Free\",\"Free\",\"Free\",\"Free\",\"Free\",\"Free\",\"Free\",\"Free\",\"Free\",\"Free\",\"Free\",\"Free\",\"Free\",\"Free\",\"Free\",\"Free\",\"Free\",\"Free\",\"Free\",\"Free\",\"Free\",\"Free\",\"Free\",\"Free\",\"Free\",\"Free\",\"Free\",\"Free\",\"Free\",\"Free\",\"Free\",\"Free\",\"Free\",\"Free\",\"Free\",\"Free\",\"Free\",\"Free\",\"Free\",\"Free\",\"Free\",\"Free\",\"Free\",\"Free\",\"Free\",\"Free\",\"Free\",\"Free\",\"Free\",\"Free\",\"Free\",\"Free\",\"Free\",\"Free\",\"Free\",\"Free\",\"Free\",\"Free\",\"Free\",\"Free\",\"Free\",\"Free\",\"Free\",\"Free\",\"Free\",\"Free\",\"Free\",\"Free\",\"Free\",\"Free\",\"Free\",\"Free\",\"Free\",\"Free\",\"Free\",\"Free\",\"Free\",\"Free\",\"Free\",\"Free\",\"Free\",\"Free\",\"Free\",\"Free\",\"Free\",\"Free\",\"Free\",\"Free\",\"Free\",\"Free\",\"Free\",\"Free\",\"Free\",\"Free\",\"Free\",\"Free\",\"Free\",\"Free\",\"Free\",\"Free\",\"Free\",\"Free\",\"Free\",\"Free\",\"Free\",\"Free\",\"Free\",\"Free\",\"Free\",\"Free\",\"Free\",\"Free\",\"Free\",\"Free\",\"Free\",\"Free\",\"Free\",\"Free\",\"Free\",\"Free\",\"Free\",\"Free\",\"Free\",\"Free\",\"Free\",\"Free\",\"Free\",\"Free\",\"Free\",\"Free\",\"Free\",\"Free\",\"Free\",\"Free\",\"Free\",\"Free\",\"Free\",\"Free\",\"Free\",\"Free\",\"Free\",\"Free\",\"Free\",\"Free\",\"Free\",\"Free\",\"Free\",\"Free\",\"Free\",\"Free\",\"Free\",\"Free\",\"Free\",\"Free\",\"Free\",\"Free\",\"Free\",\"Free\",\"Free\",\"Free\",\"Free\",\"Free\",\"Free\",\"Free\",\"Free\",\"Free\",\"Free\",\"Free\",\"Free\",\"Free\",\"Free\",\"Free\",\"Free\",\"Free\",\"Free\",\"Free\",\"Free\",\"Free\",\"Free\",\"Free\",\"Free\",\"Free\",\"Free\",\"Free\",\"Free\",\"Free\",\"Free\",\"Free\",\"Free\",\"Free\",\"Free\",\"Free\",\"Free\",\"Free\",\"Free\",\"Free\",\"Free\",\"Free\",\"Free\",\"Free\",\"Free\",\"Free\",\"Free\",\"Free\",\"Free\",\"Free\",\"Free\",\"Free\",\"Free\",\"Free\",\"Free\",\"Free\",\"Free\",\"Free\",\"Free\",\"Free\",\"Free\",\"Free\",\"Free\",\"Free\",\"Free\",\"Free\",\"Free\",\"Free\",\"Free\",\"Free\",\"Free\",\"Free\",\"Free\",\"Free\",\"Free\",\"Free\",\"Free\",\"Free\",\"Free\",\"Free\",\"Free\",\"Free\",\"Free\",\"Free\",\"Free\",\"Free\",\"Free\",\"Free\",\"Free\",\"Free\",\"Free\",\"Free\",\"Free\",\"Free\",\"Free\",\"Free\",\"Free\",\"Free\",\"Free\",\"Free\",\"Free\",\"Free\",\"Free\",\"Free\",\"Free\",\"Free\",\"Free\",\"Free\",\"Free\",\"Free\",\"Free\",\"Free\",\"Free\",\"Free\",\"Free\",\"Free\",\"Free\",\"Free\",\"Free\",\"Free\",\"Free\",\"Free\",\"Free\",\"Free\",\"Free\",\"Free\",\"Free\",\"Free\",\"Free\",\"Free\",\"Free\",\"Free\",\"Free\",\"Free\",\"Free\",\"Free\",\"Free\",\"Free\",\"Free\",\"Free\",\"Free\",\"Free\",\"Free\",\"Free\",\"Free\",\"Free\",\"Free\",\"Free\",\"Free\",\"Free\",\"Free\",\"Free\",\"Free\",\"Free\",\"Free\",\"Free\",\"Free\",\"Free\",\"Free\",\"Free\",\"Free\",\"Free\",\"Free\",\"Free\",\"Free\",\"Free\",\"Free\",\"Free\",\"Free\",\"Free\",\"Free\",\"Free\",\"Free\",\"Free\",\"Free\",\"Free\",\"Free\",\"Free\",\"Free\",\"Free\",\"Free\",\"Free\",\"Free\",\"Free\",\"Free\",\"Free\",\"Free\",\"Free\",\"Free\",\"Free\",\"Free\",\"Free\",\"Free\",\"Free\",\"Free\",\"Free\",\"Free\",\"Free\",\"Free\",\"Free\",\"Free\",\"Free\",\"Free\",\"Free\",\"Free\",\"Free\",\"Free\",\"Free\",\"Free\",\"Free\",\"Free\",\"Free\",\"Free\",\"Free\",\"Free\",\"Free\",\"Free\",\"Free\",\"Free\",\"Free\",\"Free\",\"Free\",\"Free\",\"Free\",\"Free\",\"Free\",\"Free\",\"Free\",\"Free\",\"Free\",\"Free\",\"Free\",\"Free\",\"Free\",\"Free\",\"Free\",\"Free\",\"Free\",\"Free\",\"Free\",\"Free\",\"Free\",\"Free\",\"Free\",\"Free\",\"Free\",\"Free\",\"Free\",\"Free\",\"Free\",\"Free\",\"Free\",\"Free\",\"Free\",\"Free\",\"Free\",\"Free\",\"Free\",\"Free\",\"Free\",\"Free\",\"Free\",\"Free\",\"Free\",\"Free\",\"Free\",\"Free\",\"Free\",\"Free\",\"Free\",\"Free\",\"Free\",\"Free\",\"Free\",\"Free\",\"Free\",\"Free\",\"Free\",\"Free\",\"Free\",\"Free\",\"Free\",\"Free\",\"Free\",\"Free\",\"Free\",\"Free\",\"Free\",\"Free\",\"Free\",\"Free\",\"Free\",\"Free\",\"Free\",\"Free\",\"Free\",\"Free\",\"Free\",\"Free\",\"Free\",\"Free\",\"Free\",\"Free\",\"Free\",\"Free\",\"Free\",\"Free\",\"Free\",\"Free\",\"Free\",\"Free\",\"Free\",\"Free\",\"Free\",\"Free\",\"Free\",\"Free\",\"Free\",\"Free\",\"Free\",\"Free\",\"Free\",\"Free\",\"Free\",\"Free\",\"Free\",\"Free\",\"Free\",\"Free\",\"Free\",\"Free\",\"Free\",\"Free\",\"Free\",\"Free\",\"Free\",\"Free\",\"Free\",\"Free\",\"Free\",\"Free\",\"Free\",\"Free\",\"Free\",\"Free\",\"Free\",\"Free\",\"Free\",\"Free\",\"Free\",\"Free\",\"Free\",\"Free\",\"Free\",\"Free\",\"Free\",\"Free\",\"Free\",\"Free\",\"Free\",\"Free\",\"Free\",\"Free\",\"Free\",\"Free\",\"Free\",\"Free\",\"Free\",\"Free\",\"Free\",\"Free\",\"Free\",\"Free\",\"Free\",\"Free\",\"Free\",\"Free\",\"Free\",\"Free\",\"Free\",\"Free\",\"Free\",\"Free\",\"Free\",\"Free\",\"Free\",\"Free\",\"Free\",\"Free\",\"Free\",\"Free\",\"Free\",\"Free\",\"Free\",\"Free\",\"Free\",\"Free\",\"Free\",\"Free\",\"Free\",\"Free\",\"Free\",\"Free\",\"Free\",\"Free\",\"Free\",\"Free\",\"Free\",\"Free\",\"Free\",\"Free\",\"Free\",\"Free\",\"Free\",\"Free\",\"Free\",\"Free\",\"Free\",\"Free\",\"Free\",\"Free\",\"Free\",\"Free\",\"Free\",\"Free\",\"Free\",\"Free\",\"Free\",\"Free\",\"Free\",\"Free\",\"Free\",\"Free\",\"Free\",\"Free\",\"Free\",\"Free\",\"Free\",\"Free\",\"Free\",\"Free\",\"Free\",\"Free\",\"Free\",\"Free\",\"Free\",\"Free\",\"Free\",\"Free\",\"Free\",\"Free\",\"Free\",\"Free\",\"Free\",\"Free\",\"Free\",\"Free\",\"Free\",\"Free\",\"Free\",\"Free\",\"Free\",\"Free\",\"Free\",\"Free\",\"Free\",\"Free\",\"Free\",\"Free\",\"Free\",\"Free\",\"Free\",\"Free\",\"Free\",\"Free\",\"Free\",\"Free\",\"Free\",\"Free\",\"Free\",\"Free\",\"Free\",\"Free\",\"Free\",\"Free\",\"Free\",\"Free\",\"Free\",\"Free\",\"Free\",\"Free\",\"Free\",\"Free\",\"Free\",\"Free\",\"Free\",\"Free\",\"Free\",\"Free\",\"Free\",\"Free\",\"Free\",\"Free\",\"Free\",\"Free\",\"Free\",\"Free\",\"Free\",\"Free\",\"Free\",\"Free\",\"Free\",\"Free\",\"Free\",\"Free\",\"Free\",\"Free\",\"Free\",\"Free\",\"Free\",\"Free\",\"Free\",\"Free\",\"Free\",\"Free\",\"Free\",\"Free\",\"Free\",\"Free\",\"Free\",\"Free\",\"Free\",\"Free\",\"Free\",\"Free\",\"Free\",\"Free\",\"Free\",\"Free\",\"Free\",\"Free\",\"Free\",\"Free\",\"Free\",\"Free\",\"Free\",\"Free\",\"Free\",\"Free\",\"Free\",\"Free\",\"Free\",\"Free\",\"Free\",\"Free\",\"Free\",\"Free\",\"Free\",\"Free\",\"Free\",\"Free\",\"Free\",\"Free\",\"Free\",\"Free\",\"Free\",\"Free\",\"Free\",\"Free\",\"Free\",\"Free\",\"Free\",\"Free\",\"Free\",\"Free\",\"Free\",\"Free\",\"Free\",\"Free\",\"Free\",\"Free\",\"Free\",\"Free\",\"Free\",\"Free\",\"Free\",\"Free\",\"Free\",\"Free\",\"Free\",\"Free\",\"Free\",\"Free\",\"Free\",\"Free\",\"Free\",\"Free\",\"Free\",\"Free\",\"Free\",\"Free\",\"Free\",\"Free\",\"Free\",\"Free\",\"Free\",\"Free\",\"Free\",\"Free\",\"Free\",\"Free\",\"Free\",\"Free\",\"Free\",\"Free\",\"Free\",\"Free\",\"Free\",\"Free\",\"Free\",\"Free\",\"Free\",\"Free\",\"Free\",\"Free\",\"Free\",\"Free\",\"Free\",\"Free\",\"Free\",\"Free\",\"Free\",\"Free\",\"Free\",\"Free\",\"Free\",\"Free\",\"Free\",\"Free\",\"Free\",\"Free\",\"Free\",\"Free\",\"Free\",\"Free\",\"Free\",\"Free\",\"Free\",\"Free\",\"Free\",\"Free\",\"Free\",\"Free\",\"Free\",\"Free\",\"Free\",\"Free\",\"Free\",\"Free\",\"Free\",\"Free\",\"Free\",\"Free\",\"Free\",\"Free\",\"Free\",\"Free\",\"Free\",\"Free\",\"Free\",\"Free\",\"Free\",\"Free\",\"Free\",\"Free\",\"Free\",\"Free\",\"Free\",\"Free\",\"Free\",\"Free\",\"Free\",\"Free\",\"Free\",\"Free\",\"Free\",\"Free\",\"Free\",\"Free\",\"Free\",\"Free\",\"Free\",\"Free\",\"Free\",\"Free\",\"Free\",\"Free\",\"Free\",\"Free\",\"Free\",\"Free\",\"Free\",\"Free\",\"Free\",\"Free\",\"Free\",\"Free\",\"Free\",\"Free\",\"Free\",\"Free\",\"Free\",\"Free\",\"Free\",\"Free\",\"Free\",\"Free\",\"Free\",\"Free\",\"Free\",\"Free\",\"Free\",\"Free\",\"Free\",\"Free\",\"Free\",\"Free\",\"Free\",\"Free\",\"Free\",\"Free\",\"Free\",\"Free\",\"Free\",\"Free\",\"Free\",\"Free\",\"Free\",\"Free\",\"Free\",\"Free\",\"Free\",\"Free\",\"Free\",\"Free\",\"Free\",\"Free\",\"Free\",\"Free\",\"Free\",\"Free\",\"Free\",\"Free\",\"Free\",\"Free\",\"Free\",\"Free\",\"Free\",\"Free\",\"Free\",\"Free\",\"Free\",\"Free\",\"Free\",\"Free\",\"Free\",\"Free\",\"Free\",\"Free\",\"Free\",\"Free\",\"Free\",\"Free\",\"Free\",\"Free\",\"Free\",\"Free\",\"Free\",\"Free\",\"Free\",\"Free\",\"Free\",\"Free\",\"Free\",\"Free\",\"Free\",\"Free\",\"Free\",\"Free\",\"Free\",\"Free\",\"Free\",\"Free\",\"Free\",\"Free\",\"Free\",\"Free\",\"Free\",\"Free\",\"Free\",\"Free\",\"Free\",\"Free\",\"Free\",\"Free\",\"Free\",\"Free\",\"Free\",\"Free\",\"Free\",\"Free\",\"Free\",\"Free\",\"Free\",\"Free\",\"Free\",\"Free\",\"Free\",\"Free\",\"Free\",\"Free\",\"Free\",\"Free\",\"Free\",\"Free\",\"Free\",\"Free\",\"Free\",\"Free\",\"Free\",\"Free\",\"Free\",\"Free\",\"Free\",\"Free\",\"Free\",\"Free\",\"Free\",\"Free\",\"Free\",\"Free\",\"Free\",\"Free\",\"Free\",\"Free\",\"Free\",\"Free\",\"Free\",\"Free\",\"Free\",\"Free\",\"Free\",\"Free\",\"Free\",\"Free\",\"Free\",\"Free\",\"Free\",\"Free\",\"Free\",\"Free\",\"Free\",\"Free\",\"Free\",\"Free\",\"Free\",\"Free\",\"Free\",\"Free\",\"Free\",\"Free\",\"Free\",\"Free\",\"Free\",\"Free\",\"Free\",\"Free\",\"Free\",\"Free\",\"Free\",\"Free\",\"Free\",\"Free\",\"Free\",\"Free\",\"Free\",\"Free\",\"Free\",\"Free\",\"Free\",\"Free\",\"Free\",\"Free\",\"Free\",\"Free\",\"Free\",\"Free\",\"Free\",\"Free\",\"Free\",\"Free\",\"Free\",\"Free\",\"Free\",\"Free\",\"Free\",\"Free\",\"Free\",\"Free\",\"Free\",\"Free\",\"Free\",\"Free\",\"Free\",\"Free\",\"Free\",\"Free\",\"Free\",\"Free\",\"Free\",\"Free\",\"Free\",\"Free\",\"Free\",\"Free\",\"Free\",\"Free\",\"Free\",\"Free\",\"Free\",\"Free\",\"Free\",\"Free\",\"Free\",\"Free\",\"Free\",\"Free\",\"Free\",\"Free\",\"Free\",\"Free\",\"Free\",\"Free\",\"Free\",\"Free\",\"Free\",\"Free\",\"Free\",\"Free\",\"Free\",\"Free\",\"Free\",\"Free\",\"Free\",\"Free\",\"Free\",\"Free\",\"Free\",\"Free\",\"Free\",\"Free\",\"Free\",\"Free\",\"Free\",\"Free\",\"Free\",\"Free\",\"Free\",\"Free\",\"Free\",\"Free\",\"Free\",\"Free\",\"Free\",\"Free\",\"Free\",\"Free\",\"Free\",\"Free\",\"Free\",\"Free\",\"Free\",\"Free\",\"Free\",\"Free\",\"Free\",\"Free\",\"Free\",\"Free\",\"Free\",\"Free\",\"Free\",\"Free\",\"Free\",\"Free\",\"Free\",\"Free\",\"Free\",\"Free\",\"Free\",\"Free\",\"Free\",\"Free\",\"Free\",\"Free\",\"Free\",\"Free\",\"Free\",\"Free\",\"Free\",\"Free\",\"Free\",\"Free\",\"Free\",\"Free\",\"Free\",\"Free\",\"Free\",\"Free\",\"Free\",\"Free\",\"Free\",\"Free\",\"Free\",\"Free\",\"Free\",\"Free\",\"Free\",\"Free\",\"Free\",\"Free\",\"Free\",\"Free\",\"Free\",\"Free\",\"Free\",\"Free\",\"Free\",\"Free\",\"Free\",\"Free\",\"Free\",\"Free\",\"Free\",\"Free\",\"Free\",\"Free\",\"Free\",\"Free\",\"Free\",\"Free\",\"Free\",\"Free\",\"Free\",\"Free\",\"Free\",\"Free\",\"Free\",\"Free\",\"Free\",\"Free\",\"Free\",\"Free\",\"Free\",\"Free\",\"Free\",\"Free\",\"Free\",\"Free\",\"Free\",\"Free\",\"Free\",\"Free\",\"Free\",\"Free\",\"Free\",\"Free\",\"Free\",\"Free\",\"Free\",\"Free\",\"Free\",\"Free\",\"Free\",\"Free\",\"Free\",\"Free\",\"Free\",\"Free\",\"Free\",\"Free\",\"Free\",\"Free\",\"Free\",\"Free\",\"Free\",\"Free\",\"Free\",\"Free\",\"Free\",\"Free\",\"Free\",\"Free\",\"Free\",\"Free\",\"Free\",\"Free\",\"Free\",\"Free\",\"Free\",\"Free\",\"Free\",\"Free\",\"Free\",\"Free\",\"Free\",\"Free\",\"Free\",\"Free\",\"Free\",\"Free\",\"Free\",\"Free\",\"Free\",\"Free\",\"Free\",\"Free\",\"Free\",\"Free\",\"Free\",\"Free\",\"Free\",\"Free\",\"Free\",\"Free\",\"Free\",\"Free\",\"Free\",\"Free\",\"Free\",\"Free\",\"Free\",\"Free\",\"Free\",\"Free\",\"Free\",\"Free\",\"Free\",\"Free\",\"Free\",\"Free\",\"Free\",\"Free\",\"Free\",\"Free\",\"Free\",\"Free\",\"Free\",\"Free\",\"Free\",\"Free\",\"Free\",\"Free\",\"Free\",\"Free\",\"Free\",\"Free\",\"Free\",\"Free\",\"Free\",\"Free\",\"Free\",\"Free\",\"Free\",\"Free\",\"Free\",\"Free\",\"Free\",\"Free\",\"Free\",\"Free\",\"Free\",\"Free\",\"Free\",\"Free\",\"Free\",\"Free\",\"Free\",\"Free\",\"Free\",\"Free\",\"Free\",\"Free\",\"Free\",\"Free\",\"Free\",\"Free\",\"Free\",\"Free\",\"Free\",\"Free\",\"Free\",\"Free\",\"Free\",\"Free\",\"Free\",\"Free\",\"Free\",\"Free\",\"Free\",\"Free\",\"Free\",\"Free\",\"Free\",\"Free\",\"Free\",\"Free\",\"Free\",\"Free\",\"Free\",\"Free\",\"Free\",\"Free\",\"Free\",\"Free\",\"Free\",\"Free\",\"Free\",\"Free\",\"Free\",\"Free\",\"Free\",\"Free\",\"Free\",\"Free\",\"Free\",\"Free\",\"Free\",\"Free\",\"Free\",\"Free\",\"Free\",\"Free\",\"Free\",\"Free\",\"Free\",\"Free\",\"Free\",\"Free\",\"Free\",\"Free\",\"Free\",\"Free\",\"Free\",\"Free\",\"Free\",\"Free\",\"Free\",\"Free\",\"Free\",\"Free\",\"Free\",\"Free\",\"Free\",\"Free\",\"Free\",\"Free\",\"Free\",\"Free\",\"Free\",\"Free\",\"Free\",\"Free\",\"Free\",\"Free\",\"Free\",\"Free\",\"Free\",\"Free\",\"Free\",\"Free\",\"Free\",\"Free\",\"Free\",\"Free\",\"Free\",\"Free\",\"Free\",\"Free\",\"Free\",\"Free\",\"Free\",\"Free\",\"Free\",\"Free\",\"Free\",\"Free\",\"Free\",\"Free\",\"Free\",\"Free\",\"Free\",\"Free\",\"Free\",\"Free\",\"Free\",\"Free\",\"Free\",\"Free\",\"Free\",\"Free\",\"Free\",\"Free\",\"Free\",\"Free\",\"Free\",\"Free\",\"Free\",\"Free\",\"Free\",\"Free\",\"Free\",\"Free\",\"Free\",\"Free\",\"Free\",\"Free\",\"Free\",\"Free\",\"Free\",\"Free\",\"Free\",\"Free\",\"Free\",\"Free\",\"Free\",\"Free\",\"Free\",\"Free\",\"Free\",\"Free\",\"Free\",\"Free\",\"Free\"],\"x0\":\" \",\"xaxis\":\"x\",\"y\":[1,5,5,5,5,5,5,5,5,5,10,10,10,10,10,10,10,10,10,10,10,10,10,10,10,10,10,10,10,10,10,10,10,10,10,10,10,10,10,10,10,10,10,10,10,10,10,10,10,10,10,10,10,10,10,10,10,10,10,10,10,50,50,50,50,50,50,50,50,50,50,50,50,50,50,50,50,50,50,50,50,50,50,50,50,50,50,50,50,50,50,50,50,50,50,50,50,50,50,50,50,50,50,100,100,100,100,100,100,100,100,100,100,100,100,100,100,100,100,100,100,100,100,100,100,100,100,100,100,100,100,100,100,100,100,100,100,100,100,100,100,100,100,100,100,100,100,100,100,100,100,100,100,100,100,100,100,100,100,100,100,100,100,100,100,100,100,100,100,100,100,100,100,100,100,100,100,100,100,100,100,100,100,100,100,100,100,100,100,100,100,100,100,100,100,100,100,100,100,100,100,100,100,100,100,100,100,100,100,100,100,100,100,100,100,100,100,100,100,100,100,100,100,100,100,100,100,100,100,100,100,100,100,100,100,100,100,100,100,100,100,100,100,100,100,100,100,100,100,100,100,100,100,100,100,100,100,100,100,100,100,100,100,100,100,100,100,100,100,100,100,100,100,100,100,100,100,100,100,100,100,100,100,100,100,100,100,100,100,100,100,100,100,100,100,100,100,100,100,100,100,100,100,100,100,100,100,100,100,100,100,100,100,100,100,100,100,100,100,100,100,100,100,100,100,100,100,100,100,100,100,100,100,100,100,100,100,100,100,100,500,500,500,500,500,500,500,500,500,500,500,500,500,500,500,500,500,500,500,500,500,500,500,500,500,500,500,500,500,500,500,500,500,500,500,500,500,500,500,500,500,500,500,500,500,500,500,500,500,500,500,500,500,500,500,500,500,500,500,500,500,500,500,500,500,500,500,500,500,500,500,500,500,500,500,500,500,500,500,500,500,500,500,500,500,500,500,500,500,500,500,500,500,500,500,500,500,500,500,500,500,500,500,500,500,500,500,500,500,500,500,500,500,500,500,500,500,500,500,500,500,500,500,500,500,500,500,500,500,500,500,500,500,500,500,500,500,500,500,500,500,500,500,500,500,500,500,500,500,500,500,500,500,500,500,500,500,500,500,500,500,500,500,1000,1000,1000,1000,1000,1000,1000,1000,1000,1000,1000,1000,1000,1000,1000,1000,1000,1000,1000,1000,1000,1000,1000,1000,1000,1000,1000,1000,1000,1000,1000,1000,1000,1000,1000,1000,1000,1000,1000,1000,1000,1000,1000,1000,1000,1000,1000,1000,1000,1000,1000,1000,1000,1000,1000,1000,1000,1000,1000,1000,1000,1000,1000,1000,1000,1000,1000,1000,1000,1000,1000,1000,1000,1000,1000,1000,1000,1000,1000,1000,1000,1000,1000,1000,1000,1000,1000,1000,1000,1000,1000,1000,1000,1000,1000,1000,1000,1000,1000,1000,1000,1000,1000,1000,1000,1000,1000,1000,1000,1000,1000,1000,1000,1000,1000,1000,1000,1000,1000,1000,1000,1000,1000,1000,1000,1000,1000,1000,1000,1000,1000,1000,1000,1000,1000,1000,1000,1000,1000,1000,1000,1000,1000,1000,1000,1000,1000,1000,1000,1000,1000,1000,1000,1000,1000,1000,1000,1000,1000,1000,1000,1000,1000,1000,1000,1000,1000,1000,1000,1000,1000,1000,1000,1000,1000,1000,1000,1000,1000,1000,1000,1000,1000,1000,1000,1000,1000,1000,1000,1000,1000,1000,1000,1000,1000,1000,1000,1000,1000,1000,1000,1000,1000,1000,1000,1000,1000,1000,1000,1000,1000,1000,1000,1000,1000,1000,1000,1000,1000,1000,1000,1000,1000,1000,1000,1000,1000,1000,1000,1000,1000,1000,1000,1000,1000,1000,1000,1000,1000,1000,1000,1000,1000,1000,1000,1000,1000,1000,1000,1000,1000,1000,1000,1000,1000,1000,1000,1000,1000,1000,1000,1000,1000,1000,1000,1000,1000,1000,1000,1000,1000,1000,1000,1000,1000,1000,1000,1000,1000,1000,1000,1000,1000,1000,1000,1000,1000,1000,1000,1000,1000,1000,1000,1000,1000,1000,1000,1000,1000,1000,1000,1000,1000,1000,1000,1000,1000,1000,1000,1000,1000,1000,1000,1000,1000,1000,1000,1000,1000,1000,1000,1000,1000,1000,1000,1000,1000,1000,1000,1000,1000,1000,1000,1000,1000,1000,1000,1000,1000,1000,1000,1000,1000,1000,1000,1000,1000,1000,1000,1000,1000,1000,1000,1000,1000,1000,1000,1000,1000,1000,1000,1000,1000,1000,1000,1000,1000,1000,1000,1000,1000,1000,1000,1000,1000,1000,1000,1000,1000,1000,1000,1000,1000,1000,1000,1000,1000,1000,1000,1000,1000,1000,1000,1000,1000,1000,1000,1000,1000,1000,1000,1000,1000,1000,1000,1000,1000,1000,1000,1000,1000,1000,1000,1000,1000,1000,1000,1000,1000,1000,1000,1000,1000,1000,1000,1000,1000,1000,1000,1000,1000,1000,1000,1000,1000,1000,1000,1000,1000,1000,1000,1000,1000,1000,1000,1000,1000,1000,1000,1000,1000,1000,1000,1000,1000,1000,1000,1000,1000,1000,1000,1000,1000,1000,1000,1000,1000,1000,1000,1000,1000,1000,1000,1000,1000,1000,1000,1000,1000,1000,1000,1000,1000,1000,1000,1000,1000,1000,1000,1000,1000,1000,1000,1000,1000,1000,1000,1000,1000,1000,1000,1000,1000,1000,1000,1000,1000,1000,1000,1000,1000,1000,1000,1000,1000,1000,1000,1000,1000,1000,1000,1000,1000,1000,1000,1000,1000,1000,1000,1000,1000,1000,1000,1000,1000,1000,1000,1000,1000,1000,1000,1000,1000,1000,1000,1000,1000,1000,1000,1000,1000,1000,1000,1000,1000,1000,1000,1000,1000,1000,1000,1000,1000,1000,1000,1000,1000,5000,5000,5000,5000,5000,5000,5000,5000,5000,5000,5000,5000,5000,5000,5000,5000,5000,5000,5000,5000,5000,5000,5000,5000,5000,5000,5000,5000,5000,5000,5000,5000,5000,5000,5000,5000,5000,5000,5000,5000,5000,5000,5000,5000,5000,5000,5000,5000,5000,5000,5000,5000,5000,5000,5000,5000,5000,5000,5000,5000,5000,5000,5000,5000,5000,5000,5000,5000,5000,5000,5000,5000,5000,5000,5000,5000,5000,5000,5000,5000,5000,5000,5000,5000,5000,5000,5000,5000,5000,5000,5000,5000,5000,5000,5000,5000,5000,5000,5000,5000,5000,5000,5000,5000,5000,5000,5000,5000,5000,5000,5000,5000,5000,5000,5000,5000,5000,5000,5000,5000,5000,5000,5000,5000,5000,5000,5000,5000,5000,5000,5000,5000,5000,5000,5000,5000,5000,5000,5000,5000,5000,5000,5000,5000,5000,5000,5000,5000,5000,5000,5000,5000,5000,5000,5000,5000,5000,5000,5000,5000,5000,5000,5000,5000,5000,5000,5000,5000,5000,5000,5000,5000,5000,5000,5000,5000,5000,5000,5000,5000,5000,5000,5000,5000,5000,5000,5000,5000,5000,5000,5000,5000,5000,5000,5000,5000,5000,5000,5000,5000,5000,5000,5000,5000,5000,5000,5000,5000,5000,5000,5000,5000,5000,5000,5000,5000,5000,5000,5000,5000,5000,5000,5000,5000,5000,5000,5000,5000,5000,5000,5000,5000,5000,5000,5000,5000,5000,5000,5000,5000,5000,5000,5000,5000,5000,5000,5000,5000,5000,5000,5000,5000,5000,5000,5000,5000,5000,5000,5000,5000,5000,5000,5000,5000,5000,5000,5000,5000,5000,5000,5000,5000,5000,5000,5000,5000,5000,5000,5000,5000,5000,5000,5000,5000,5000,5000,5000,5000,5000,5000,5000,5000,5000,5000,5000,5000,5000,5000,5000,5000,5000,5000,5000,5000,5000,5000,5000,5000,5000,5000,5000,5000,5000,5000,5000,5000,5000,5000,5000,5000,5000,5000,5000,5000,5000,5000,5000,5000,5000,5000,5000,5000,5000,5000,5000,5000,5000,5000,5000,5000,5000,5000,5000,5000,5000,5000,5000,5000,5000,5000,5000,5000,5000,5000,5000,5000,5000,5000,5000,5000,10000,10000,10000,10000,10000,10000,10000,10000,10000,10000,10000,10000,10000,10000,10000,10000,10000,10000,10000,10000,10000,10000,10000,10000,10000,10000,10000,10000,10000,10000,10000,10000,10000,10000,10000,10000,10000,10000,10000,10000,10000,10000,10000,10000,10000,10000,10000,10000,10000,10000,10000,10000,10000,10000,10000,10000,10000,10000,10000,10000,10000,10000,10000,10000,10000,10000,10000,10000,10000,10000,10000,10000,10000,10000,10000,10000,10000,10000,10000,10000,10000,10000,10000,10000,10000,10000,10000,10000,10000,10000,10000,10000,10000,10000,10000,10000,10000,10000,10000,10000,10000,10000,10000,10000,10000,10000,10000,10000,10000,10000,10000,10000,10000,10000,10000,10000,10000,10000,10000,10000,10000,10000,10000,10000,10000,10000,10000,10000,10000,10000,10000,10000,10000,10000,10000,10000,10000,10000,10000,10000,10000,10000,10000,10000,10000,10000,10000,10000,10000,10000,10000,10000,10000,10000,10000,10000,10000,10000,10000,10000,10000,10000,10000,10000,10000,10000,10000,10000,10000,10000,10000,10000,10000,10000,10000,10000,10000,10000,10000,10000,10000,10000,10000,10000,10000,10000,10000,10000,10000,10000,10000,10000,10000,10000,10000,10000,10000,10000,10000,10000,10000,10000,10000,10000,10000,10000,10000,10000,10000,10000,10000,10000,10000,10000,10000,10000,10000,10000,10000,10000,10000,10000,10000,10000,10000,10000,10000,10000,10000,10000,10000,10000,10000,10000,10000,10000,10000,10000,10000,10000,10000,10000,10000,10000,10000,10000,10000,10000,10000,10000,10000,10000,10000,10000,10000,10000,10000,10000,10000,10000,10000,10000,10000,10000,10000,10000,10000,10000,10000,10000,10000,10000,10000,10000,10000,10000,10000,10000,10000,10000,10000,10000,10000,10000,10000,10000,10000,10000,10000,10000,10000,10000,10000,10000,10000,10000,10000,10000,10000,10000,10000,10000,10000,10000,10000,10000,10000,10000,10000,10000,10000,10000,10000,10000,10000,10000,10000,10000,10000,10000,10000,10000,10000,10000,10000,10000,10000,10000,10000,10000,10000,10000,10000,10000,10000,10000,10000,10000,10000,10000,10000,10000,10000,10000,10000,10000,10000,10000,10000,10000,10000,10000,10000,10000,10000,10000,10000,10000,10000,10000,10000,10000,10000,10000,10000,10000,10000,10000,10000,10000,10000,10000,10000,10000,10000,10000,10000,10000,10000,10000,10000,10000,10000,10000,10000,10000,10000,10000,10000,10000,10000,10000,10000,10000,10000,10000,10000,10000,10000,10000,10000,10000,10000,10000,10000,10000,10000,10000,10000,10000,10000,10000,10000,10000,10000,10000,10000,10000,10000,10000,10000,10000,10000,10000,10000,10000,10000,10000,10000,10000,10000,10000,10000,10000,10000,10000,10000,10000,10000,10000,10000,10000,10000,10000,10000,10000,10000,10000,10000,10000,10000,10000,10000,10000,10000,10000,10000,10000,10000,10000,10000,10000,10000,10000,10000,10000,10000,10000,10000,10000,10000,10000,10000,10000,10000,10000,10000,10000,10000,10000,10000,10000,10000,10000,10000,10000,10000,10000,10000,10000,10000,10000,10000,10000,10000,10000,10000,10000,10000,10000,10000,10000,10000,10000,10000,10000,10000,10000,10000,10000,10000,10000,10000,10000,10000,10000,10000,10000,10000,10000,10000,10000,10000,10000,10000,10000,10000,10000,10000,10000,10000,10000,10000,10000,10000,10000,10000,10000,10000,10000,10000,10000,10000,10000,10000,10000,10000,10000,10000,10000,10000,10000,10000,10000,10000,10000,10000,10000,10000,10000,10000,10000,10000,10000,10000,10000,10000,10000,10000,10000,10000,10000,10000,10000,10000,10000,10000,10000,10000,10000,10000,10000,10000,10000,10000,10000,10000,10000,10000,10000,10000,10000,10000,10000,10000,10000,10000,10000,10000,10000,10000,10000,10000,10000,10000,10000,10000,10000,10000,10000,10000,10000,10000,10000,10000,10000,10000,10000,10000,10000,10000,10000,10000,10000,10000,10000,10000,10000,10000,10000,10000,10000,10000,10000,10000,10000,10000,10000,10000,10000,10000,10000,10000,10000,10000,10000,10000,10000,10000,10000,10000,10000,10000,10000,10000,10000,10000,10000,10000,10000,10000,10000,10000,10000,10000,10000,10000,10000,10000,10000,10000,10000,10000,10000,10000,10000,10000,10000,10000,10000,10000,10000,10000,10000,10000,10000,10000,10000,10000,10000,10000,10000,10000,10000,10000,10000,10000,10000,10000,10000,10000,10000,10000,10000,10000,10000,10000,10000,10000,10000,10000,10000,10000,10000,10000,10000,10000,10000,10000,10000,10000,10000,10000,10000,10000,10000,10000,10000,10000,10000,10000,10000,10000,10000,10000,10000,10000,10000,10000,10000,10000,10000,10000,10000,10000,10000,10000,10000,10000,10000,10000,10000,10000,10000,10000,10000,10000,10000,10000,10000,10000,10000,10000,10000,10000,10000,10000,10000,10000,10000,10000,10000,10000,10000,10000,10000,10000,10000,10000,10000,10000,10000,10000,10000,10000,10000,10000,10000,10000,10000,10000,10000,10000,10000,10000,10000,10000,10000,10000,10000,10000,10000,10000,10000,10000,10000,10000,10000,10000,10000,10000,10000,10000,10000,10000,10000,10000,10000,10000,10000,10000,10000,10000,10000,10000,10000,10000,10000,10000,10000,10000,10000,10000,10000,10000,10000,10000,10000,10000,10000,10000,10000,10000,10000,10000,10000,10000,10000,10000,10000,10000,10000,10000,10000,10000,10000,10000,10000,10000,10000,10000,10000,10000,10000,10000,10000,10000,10000,10000,10000,10000,50000,50000,50000,50000,50000,50000,50000,50000,50000,50000,50000,50000,50000,50000,50000,50000,50000,50000,50000,50000,50000,50000,50000,50000,50000,50000,50000,50000,50000,50000,50000,50000,50000,50000,50000,50000,50000,50000,50000,50000,50000,50000,50000,50000,50000,50000,50000,50000,50000,50000,50000,50000,50000,50000,50000,50000,50000,50000,50000,50000,50000,50000,50000,50000,50000,50000,50000,50000,50000,50000,50000,50000,50000,50000,50000,50000,50000,50000,50000,50000,50000,50000,50000,50000,50000,50000,50000,50000,50000,50000,50000,50000,50000,50000,50000,50000,50000,50000,50000,50000,50000,50000,50000,50000,50000,50000,50000,50000,50000,50000,50000,50000,50000,50000,50000,50000,50000,50000,50000,50000,50000,50000,50000,50000,50000,50000,50000,50000,50000,50000,50000,50000,50000,50000,50000,50000,50000,50000,50000,50000,50000,50000,50000,50000,50000,50000,50000,50000,50000,50000,50000,50000,50000,50000,50000,50000,50000,50000,50000,50000,50000,50000,50000,50000,50000,50000,50000,50000,50000,50000,50000,50000,50000,50000,50000,50000,50000,50000,50000,50000,50000,50000,50000,50000,50000,50000,50000,50000,50000,50000,50000,50000,50000,50000,50000,50000,50000,50000,50000,50000,50000,50000,50000,50000,50000,50000,50000,50000,50000,50000,50000,50000,50000,50000,50000,50000,50000,50000,50000,50000,50000,50000,50000,50000,50000,50000,50000,50000,50000,50000,50000,50000,50000,50000,50000,50000,50000,50000,50000,50000,50000,50000,50000,50000,50000,50000,50000,50000,50000,50000,50000,50000,50000,50000,50000,50000,50000,50000,50000,50000,50000,50000,50000,50000,50000,50000,50000,50000,50000,50000,50000,50000,50000,50000,50000,50000,50000,50000,50000,50000,50000,50000,50000,50000,50000,50000,50000,50000,50000,50000,50000,50000,50000,50000,50000,50000,50000,50000,50000,50000,50000,50000,50000,50000,50000,50000,50000,50000,50000,50000,50000,50000,50000,50000,50000,50000,50000,50000,50000,50000,50000,50000,50000,50000,50000,50000,50000,50000,50000,50000,50000,50000,50000,50000,50000,50000,50000,50000,50000,50000,50000,50000,50000,50000,50000,50000,50000,50000,50000,50000,50000,50000,50000,50000,50000,50000,50000,50000,50000,50000,50000,50000,50000,50000,50000,50000,50000,50000,50000,50000,50000,50000,50000,50000,50000,50000,50000,50000,50000,50000,50000,50000,50000,50000,50000,50000,50000,50000,50000,50000,50000,50000,50000,50000,50000,50000,50000,50000,50000,50000,50000,50000,50000,50000,50000,50000,50000,50000,50000,50000,50000,50000,50000,50000,50000,50000,50000,100000,100000,100000,100000,100000,100000,100000,100000,100000,100000,100000,100000,100000,100000,100000,100000,100000,100000,100000,100000,100000,100000,100000,100000,100000,100000,100000,100000,100000,100000,100000,100000,100000,100000,100000,100000,100000,100000,100000,100000,100000,100000,100000,100000,100000,100000,100000,100000,100000,100000,100000,100000,100000,100000,100000,100000,100000,100000,100000,100000,100000,100000,100000,100000,100000,100000,100000,100000,100000,100000,100000,100000,100000,100000,100000,100000,100000,100000,100000,100000,100000,100000,100000,100000,100000,100000,100000,100000,100000,100000,100000,100000,100000,100000,100000,100000,100000,100000,100000,100000,100000,100000,100000,100000,100000,100000,100000,100000,100000,100000,100000,100000,100000,100000,100000,100000,100000,100000,100000,100000,100000,100000,100000,100000,100000,100000,100000,100000,100000,100000,100000,100000,100000,100000,100000,100000,100000,100000,100000,100000,100000,100000,100000,100000,100000,100000,100000,100000,100000,100000,100000,100000,100000,100000,100000,100000,100000,100000,100000,100000,100000,100000,100000,100000,100000,100000,100000,100000,100000,100000,100000,100000,100000,100000,100000,100000,100000,100000,100000,100000,100000,100000,100000,100000,100000,100000,100000,100000,100000,100000,100000,100000,100000,100000,100000,100000,100000,100000,100000,100000,100000,100000,100000,100000,100000,100000,100000,100000,100000,100000,100000,100000,100000,100000,100000,100000,100000,100000,100000,100000,100000,100000,100000,100000,100000,100000,100000,100000,100000,100000,100000,100000,100000,100000,100000,100000,100000,100000,100000,100000,100000,100000,100000,100000,100000,100000,100000,100000,100000,100000,100000,100000,100000,100000,100000,100000,100000,100000,100000,100000,100000,100000,100000,100000,100000,100000,100000,100000,100000,100000,100000,100000,100000,100000,100000,100000,100000,100000,100000,100000,100000,100000,100000,100000,100000,100000,100000,100000,100000,100000,100000,100000,100000,100000,100000,100000,100000,100000,100000,100000,100000,100000,100000,100000,100000,100000,100000,100000,100000,100000,100000,100000,100000,100000,100000,100000,100000,100000,100000,100000,100000,100000,100000,100000,100000,100000,100000,100000,100000,100000,100000,100000,100000,100000,100000,100000,100000,100000,100000,100000,100000,100000,100000,100000,100000,100000,100000,100000,100000,100000,100000,100000,100000,100000,100000,100000,100000,100000,100000,100000,100000,100000,100000,100000,100000,100000,100000,100000,100000,100000,100000,100000,100000,100000,100000,100000,100000,100000,100000,100000,100000,100000,100000,100000,100000,100000,100000,100000,100000,100000,100000,100000,100000,100000,100000,100000,100000,100000,100000,100000,100000,100000,100000,100000,100000,100000,100000,100000,100000,100000,100000,100000,100000,100000,100000,100000,100000,100000,100000,100000,100000,100000,100000,100000,100000,100000,100000,100000,100000,100000,100000,100000,100000,100000,100000,100000,100000,100000,100000,100000,100000,100000,100000,100000,100000,100000,100000,100000,100000,100000,100000,100000,100000,100000,100000,100000,100000,100000,100000,100000,100000,100000,100000,100000,100000,100000,100000,100000,100000,100000,100000,100000,100000,100000,100000,100000,100000,100000,100000,100000,100000,100000,100000,100000,100000,100000,100000,100000,100000,100000,100000,100000,100000,100000,100000,100000,100000,100000,100000,100000,100000,100000,100000,100000,100000,100000,100000,100000,100000,100000,100000,100000,100000,100000,100000,100000,100000,100000,100000,100000,100000,100000,100000,100000,100000,100000,100000,100000,100000,100000,100000,100000,100000,100000,100000,100000,100000,100000,100000,100000,100000,100000,100000,100000,100000,100000,100000,100000,100000,100000,100000,100000,100000,100000,100000,100000,100000,100000,100000,100000,100000,100000,100000,100000,100000,100000,100000,100000,100000,100000,100000,100000,100000,100000,100000,100000,100000,100000,100000,100000,100000,100000,100000,100000,100000,100000,100000,100000,100000,100000,100000,100000,100000,100000,100000,100000,100000,100000,100000,100000,100000,100000,100000,100000,100000,100000,100000,100000,100000,100000,100000,100000,100000,100000,100000,100000,100000,100000,100000,100000,100000,100000,100000,100000,100000,100000,100000,100000,100000,100000,100000,100000,100000,100000,100000,100000,100000,100000,100000,100000,100000,100000,100000,100000,100000,100000,100000,100000,100000,100000,100000,100000,100000,100000,100000,100000,100000,100000,100000,100000,100000,100000,100000,100000,100000,100000,100000,100000,100000,100000,100000,100000,100000,100000,100000,100000,100000,100000,100000,100000,100000,100000,100000,100000,100000,100000,100000,100000,100000,100000,100000,100000,100000,100000,100000,100000,100000,100000,100000,100000,100000,100000,100000,100000,100000,100000,100000,100000,100000,100000,100000,100000,100000,100000,100000,100000,100000,100000,100000,100000,100000,100000,100000,100000,100000,100000,100000,100000,100000,100000,100000,100000,100000,100000,100000,100000,100000,100000,100000,100000,100000,100000,100000,100000,100000,100000,100000,100000,100000,100000,100000,100000,100000,100000,100000,100000,100000,100000,100000,100000,100000,100000,100000,100000,100000,100000,100000,100000,100000,100000,100000,100000,100000,100000,100000,100000,100000,100000,100000,100000,100000,100000,100000,100000,100000,100000,100000,100000,100000,100000,100000,100000,100000,100000,100000,100000,100000,100000,100000,100000,100000,100000,100000,100000,100000,100000,100000,100000,100000,100000,100000,100000,100000,100000,100000,100000,100000,100000,100000,100000,100000,100000,100000,100000,100000,100000,100000,100000,100000,100000,100000,100000,100000,100000,100000,100000,100000,100000,100000,100000,100000,100000,100000,100000,100000,100000,100000,100000,100000,100000,100000,100000,100000,100000,100000,100000,100000,100000,100000,100000,100000,100000,100000,100000,100000,100000,100000,100000,100000,100000,100000,100000,100000,100000,100000,100000,100000,100000,100000,100000,100000,100000,100000,100000,100000,100000,100000,100000,100000,100000,100000,100000,100000,100000,100000,100000,100000,100000,100000,100000,100000,100000,100000,100000,100000,100000,100000,100000,100000,100000,100000,100000,100000,100000,100000,100000,100000,100000,100000,100000,100000,100000,100000,100000,100000,100000,100000,100000,100000,100000,100000,100000,100000,100000,100000,100000,100000,100000,100000,100000,100000,100000,100000,100000,100000,100000,100000,100000,100000,100000,100000,100000,100000,100000,100000,100000,100000,100000,100000,100000,100000,100000,100000,100000,100000,100000,100000,100000,100000,100000,100000,100000,100000,100000,100000,100000,100000,100000,100000,100000,100000,100000,100000,100000,100000,100000,100000,100000,100000,100000,100000,100000,100000,100000,100000,100000,100000,100000,100000,100000,100000,100000,100000,100000,100000,100000,100000,100000,100000,100000,100000,100000,100000,100000,500000,500000,500000,500000,500000,500000,500000,500000,500000,500000,500000,500000,500000,500000,500000,500000,500000,500000,500000,500000,500000,500000,500000,500000,500000,500000,500000,500000,500000,500000,500000,500000,500000,500000,500000,500000,500000,500000,500000,500000,500000,500000,500000,500000,500000,500000,500000,500000,500000,500000,500000,500000,500000,500000,500000,500000,500000,500000,500000,500000,500000,500000,500000,500000,500000,500000,500000,500000,500000,500000,500000,500000,500000,500000,500000,500000,500000,500000,500000,500000,500000,500000,500000,500000,500000,500000,500000,500000,500000,500000,500000,500000,500000,500000,500000,500000,500000,500000,500000,500000,500000,500000,500000,500000,500000,500000,500000,500000,500000,500000,500000,500000,500000,500000,500000,500000,500000,500000,500000,500000,500000,500000,500000,500000,500000,500000,500000,500000,500000,500000,500000,500000,500000,500000,500000,500000,500000,500000,500000,500000,500000,500000,500000,500000,500000,500000,500000,500000,500000,500000,500000,500000,500000,500000,500000,500000,500000,500000,500000,500000,500000,500000,500000,500000,500000,500000,500000,500000,500000,500000,500000,500000,500000,500000,500000,500000,500000,500000,500000,500000,500000,500000,500000,500000,500000,500000,500000,500000,500000,500000,500000,500000,500000,500000,500000,500000,500000,500000,500000,500000,500000,500000,500000,500000,500000,500000,500000,500000,500000,500000,500000,500000,500000,500000,500000,500000,500000,500000,500000,500000,500000,500000,500000,500000,500000,500000,500000,500000,500000,500000,500000,500000,500000,500000,500000,500000,500000,500000,500000,500000,500000,500000,500000,500000,500000,500000,500000,500000,500000,500000,500000,500000,500000,500000,500000,500000,500000,500000,500000,500000,500000,500000,500000,500000,500000,500000,500000,500000,500000,500000,500000,500000,500000,500000,500000,500000,500000,500000,500000,500000,500000,500000,500000,500000,500000,500000,500000,500000,500000,500000,500000,500000,500000,500000,500000,500000,500000,500000,500000,500000,500000,500000,500000,500000,500000,500000,500000,500000,500000,500000,500000,500000,500000,500000,500000,500000,500000,500000,500000,500000,500000,500000,500000,500000,500000,500000,500000,500000,500000,500000,500000,500000,500000,500000,500000,500000,500000,500000,500000,500000,500000,500000,500000,500000,500000,500000,500000,500000,500000,500000,500000,500000,500000,500000,500000,500000,500000,500000,500000,500000,500000,500000,500000,500000,500000,500000,500000,500000,500000,500000,500000,500000,500000,500000,500000,500000,500000,500000,500000,500000,500000,500000,500000,500000,500000,500000,500000,500000,500000,500000,500000,500000,500000,500000,500000,500000,500000,500000,500000,500000,500000,500000,500000,500000,500000,500000,500000,500000,500000,500000,500000,500000,500000,500000,500000,500000,500000,500000,500000,500000,500000,500000,500000,500000,500000,500000,500000,500000,500000,500000,500000,500000,500000,500000,500000,500000,500000,500000,500000,500000,500000,500000,500000,500000,500000,500000,500000,500000,500000,500000,500000,500000,500000,500000,500000,500000,500000,500000,500000,500000,500000,500000,500000,500000,500000,500000,500000,500000,500000,500000,500000,500000,500000,500000,500000,500000,500000,500000,500000,500000,500000,500000,500000,500000,500000,500000,500000,500000,500000,500000,500000,500000,500000,1000000,1000000,1000000,1000000,1000000,1000000,1000000,1000000,1000000,1000000,1000000,1000000,1000000,1000000,1000000,1000000,1000000,1000000,1000000,1000000,1000000,1000000,1000000,1000000,1000000,1000000,1000000,1000000,1000000,1000000,1000000,1000000,1000000,1000000,1000000,1000000,1000000,1000000,1000000,1000000,1000000,1000000,1000000,1000000,1000000,1000000,1000000,1000000,1000000,1000000,1000000,1000000,1000000,1000000,1000000,1000000,1000000,1000000,1000000,1000000,1000000,1000000,1000000,1000000,1000000,1000000,1000000,1000000,1000000,1000000,1000000,1000000,1000000,1000000,1000000,1000000,1000000,1000000,1000000,1000000,1000000,1000000,1000000,1000000,1000000,1000000,1000000,1000000,1000000,1000000,1000000,1000000,1000000,1000000,1000000,1000000,1000000,1000000,1000000,1000000,1000000,1000000,1000000,1000000,1000000,1000000,1000000,1000000,1000000,1000000,1000000,1000000,1000000,1000000,1000000,1000000,1000000,1000000,1000000,1000000,1000000,1000000,1000000,1000000,1000000,1000000,1000000,1000000,1000000,1000000,1000000,1000000,1000000,1000000,1000000,1000000,1000000,1000000,1000000,1000000,1000000,1000000,1000000,1000000,1000000,1000000,1000000,1000000,1000000,1000000,1000000,1000000,1000000,1000000,1000000,1000000,1000000,1000000,1000000,1000000,1000000,1000000,1000000,1000000,1000000,1000000,1000000,1000000,1000000,1000000,1000000,1000000,1000000,1000000,1000000,1000000,1000000,1000000,1000000,1000000,1000000,1000000,1000000,1000000,1000000,1000000,1000000,1000000,1000000,1000000,1000000,1000000,1000000,1000000,1000000,1000000,1000000,1000000,1000000,1000000,1000000,1000000,1000000,1000000,1000000,1000000,1000000,1000000,1000000,1000000,1000000,1000000,1000000,1000000,1000000,1000000,1000000,1000000,1000000,1000000,1000000,1000000,1000000,1000000,1000000,1000000,1000000,1000000,1000000,1000000,1000000,1000000,1000000,1000000,1000000,1000000,1000000,1000000,1000000,1000000,1000000,1000000,1000000,1000000,1000000,1000000,1000000,1000000,1000000,1000000,1000000,1000000,1000000,1000000,1000000,1000000,1000000,1000000,1000000,1000000,1000000,1000000,1000000,1000000,1000000,1000000,1000000,1000000,1000000,1000000,1000000,1000000,1000000,1000000,1000000,1000000,1000000,1000000,1000000,1000000,1000000,1000000,1000000,1000000,1000000,1000000,1000000,1000000,1000000,1000000,1000000,1000000,1000000,1000000,1000000,1000000,1000000,1000000,1000000,1000000,1000000,1000000,1000000,1000000,1000000,1000000,1000000,1000000,1000000,1000000,1000000,1000000,1000000,1000000,1000000,1000000,1000000,1000000,1000000,1000000,1000000,1000000,1000000,1000000,1000000,1000000,1000000,1000000,1000000,1000000,1000000,1000000,1000000,1000000,1000000,1000000,1000000,1000000,1000000,1000000,1000000,1000000,1000000,1000000,1000000,1000000,1000000,1000000,1000000,1000000,1000000,1000000,1000000,1000000,1000000,1000000,1000000,1000000,1000000,1000000,1000000,1000000,1000000,1000000,1000000,1000000,1000000,1000000,1000000,1000000,1000000,1000000,1000000,1000000,1000000,1000000,1000000,1000000,1000000,1000000,1000000,1000000,1000000,1000000,1000000,1000000,1000000,1000000,1000000,1000000,1000000,1000000,1000000,1000000,1000000,1000000,1000000,1000000,1000000,1000000,1000000,1000000,1000000,1000000,1000000,1000000,1000000,1000000,1000000,1000000,1000000,1000000,1000000,1000000,1000000,1000000,1000000,1000000,1000000,1000000,1000000,1000000,1000000,1000000,1000000,1000000,1000000,1000000,1000000,1000000,1000000,1000000,1000000,1000000,1000000,1000000,1000000,1000000,1000000,1000000,1000000,1000000,1000000,1000000,1000000,1000000,1000000,1000000,1000000,1000000,1000000,1000000,1000000,1000000,1000000,1000000,1000000,1000000,1000000,1000000,1000000,1000000,1000000,1000000,1000000,1000000,1000000,1000000,1000000,1000000,1000000,1000000,1000000,1000000,1000000,1000000,1000000,1000000,1000000,1000000,1000000,1000000,1000000,1000000,1000000,1000000,1000000,1000000,1000000,1000000,1000000,1000000,1000000,1000000,1000000,1000000,1000000,1000000,1000000,1000000,1000000,1000000,1000000,1000000,1000000,1000000,1000000,1000000,1000000,1000000,1000000,1000000,1000000,1000000,1000000,1000000,1000000,1000000,1000000,1000000,1000000,1000000,1000000,1000000,1000000,1000000,1000000,1000000,1000000,1000000,1000000,1000000,1000000,1000000,1000000,1000000,1000000,1000000,1000000,1000000,1000000,1000000,1000000,1000000,1000000,1000000,1000000,1000000,1000000,1000000,1000000,1000000,1000000,1000000,1000000,1000000,1000000,1000000,1000000,1000000,1000000,1000000,1000000,1000000,1000000,1000000,1000000,1000000,1000000,1000000,1000000,1000000,1000000,1000000,1000000,1000000,1000000,1000000,1000000,1000000,1000000,1000000,1000000,1000000,1000000,1000000,1000000,1000000,1000000,1000000,1000000,1000000,1000000,1000000,1000000,1000000,1000000,1000000,1000000,1000000,1000000,1000000,1000000,1000000,1000000,1000000,1000000,1000000,1000000,1000000,1000000,1000000,1000000,1000000,1000000,1000000,1000000,1000000,1000000,1000000,1000000,1000000,1000000,1000000,1000000,1000000,1000000,1000000,1000000,1000000,1000000,1000000,1000000,1000000,1000000,1000000,1000000,1000000,1000000,1000000,1000000,1000000,1000000,1000000,1000000,1000000,1000000,1000000,1000000,1000000,1000000,1000000,1000000,1000000,1000000,1000000,1000000,1000000,1000000,1000000,1000000,1000000,1000000,1000000,1000000,1000000,1000000,1000000,1000000,1000000,1000000,1000000,1000000,1000000,1000000,1000000,1000000,1000000,1000000,1000000,1000000,1000000,1000000,1000000,1000000,1000000,1000000,1000000,1000000,1000000,1000000,1000000,1000000,1000000,1000000,1000000,1000000,1000000,1000000,1000000,1000000,1000000,1000000,1000000,1000000,1000000,1000000,1000000,1000000,1000000,1000000,1000000,1000000,1000000,1000000,1000000,1000000,1000000,1000000,1000000,1000000,1000000,1000000,1000000,1000000,1000000,1000000,1000000,1000000,1000000,1000000,1000000,1000000,1000000,1000000,1000000,1000000,1000000,1000000,1000000,1000000,1000000,1000000,1000000,1000000,1000000,1000000,1000000,1000000,1000000,1000000,1000000,1000000,1000000,1000000,1000000,1000000,1000000,1000000,1000000,1000000,1000000,1000000,1000000,1000000,1000000,1000000,1000000,1000000,1000000,1000000,1000000,1000000,1000000,1000000,1000000,1000000,1000000,1000000,1000000,1000000,1000000,1000000,1000000,1000000,1000000,1000000,1000000,1000000,1000000,1000000,1000000,1000000,1000000,1000000,1000000,1000000,1000000,1000000,1000000,1000000,1000000,1000000,1000000,1000000,1000000,1000000,1000000,1000000,1000000,1000000,1000000,1000000,1000000,1000000,1000000,1000000,1000000,1000000,1000000,1000000,1000000,1000000,1000000,1000000,1000000,1000000,1000000,1000000,1000000,1000000,1000000,1000000,1000000,1000000,1000000,1000000,1000000,1000000,1000000,1000000,1000000,1000000,1000000,1000000,1000000,1000000,1000000,1000000,1000000,1000000,1000000,1000000,1000000,1000000,1000000,1000000,1000000,1000000,1000000,1000000,1000000,1000000,1000000,1000000,1000000,1000000,1000000,1000000,1000000,1000000,1000000,1000000,1000000,1000000,1000000,1000000,1000000,1000000,1000000,1000000,1000000,1000000,1000000,1000000,1000000,1000000,1000000,1000000,1000000,1000000,1000000,1000000,1000000,1000000,1000000,1000000,1000000,1000000,1000000,1000000,1000000,1000000,1000000,1000000,1000000,1000000,1000000,1000000,1000000,1000000,1000000,1000000,1000000,1000000,1000000,1000000,1000000,1000000,1000000,1000000,1000000,1000000,1000000,1000000,1000000,1000000,1000000,1000000,1000000,1000000,1000000,1000000,1000000,1000000,1000000,1000000,1000000,1000000,1000000,1000000,1000000,1000000,1000000,1000000,1000000,1000000,1000000,1000000,1000000,1000000,1000000,1000000,1000000,1000000,1000000,1000000,1000000,1000000,1000000,1000000,1000000,1000000,1000000,1000000,1000000,1000000,1000000,1000000,1000000,1000000,1000000,1000000,1000000,1000000,1000000,1000000,1000000,1000000,1000000,1000000,1000000,1000000,1000000,1000000,1000000,1000000,1000000,1000000,1000000,1000000,1000000,1000000,1000000,1000000,1000000,1000000,1000000,1000000,1000000,1000000,1000000,1000000,1000000,1000000,1000000,1000000,1000000,1000000,1000000,1000000,1000000,1000000,1000000,1000000,1000000,1000000,1000000,1000000,1000000,1000000,1000000,1000000,1000000,1000000,1000000,1000000,1000000,1000000,1000000,1000000,1000000,1000000,1000000,1000000,1000000,1000000,1000000,1000000,1000000,1000000,1000000,1000000,1000000,1000000,1000000,1000000,1000000,1000000,1000000,1000000,1000000,1000000,1000000,1000000,1000000,1000000,1000000,1000000,1000000,1000000,1000000,1000000,1000000,1000000,1000000,1000000,1000000,1000000,1000000,1000000,1000000,1000000,1000000,1000000,1000000,1000000,1000000,1000000,1000000,1000000,1000000,1000000,1000000,1000000,1000000,1000000,1000000,1000000,1000000,1000000,1000000,1000000,1000000,1000000,1000000,1000000,1000000,1000000,1000000,1000000,1000000,1000000,1000000,1000000,1000000,1000000,1000000,1000000,1000000,1000000,1000000,1000000,1000000,1000000,1000000,1000000,1000000,1000000,1000000,1000000,1000000,1000000,1000000,1000000,1000000,1000000,1000000,1000000,1000000,1000000,1000000,1000000,1000000,1000000,1000000,1000000,1000000,1000000,1000000,1000000,1000000,1000000,1000000,1000000,1000000,1000000,1000000,1000000,1000000,1000000,1000000,1000000,1000000,1000000,1000000,1000000,1000000,1000000,1000000,1000000,1000000,1000000,1000000,1000000,1000000,1000000,1000000,1000000,1000000,1000000,1000000,1000000,1000000,1000000,1000000,1000000,1000000,1000000,1000000,1000000,1000000,1000000,1000000,1000000,1000000,1000000,1000000,1000000,1000000,1000000,1000000,1000000,1000000,1000000,1000000,1000000,1000000,1000000,1000000,1000000,1000000,1000000,1000000,1000000,1000000,1000000,1000000,1000000,1000000,1000000,1000000,1000000,1000000,1000000,1000000,1000000,1000000,1000000,1000000,1000000,1000000,1000000,1000000,1000000,1000000,1000000,1000000,1000000,1000000,1000000,1000000,1000000,1000000,1000000,1000000,1000000,1000000,1000000,1000000,1000000,1000000,1000000,1000000,1000000,1000000,1000000,1000000,1000000,1000000,1000000,1000000,1000000,1000000,1000000,1000000,1000000,1000000,1000000,1000000,1000000,1000000,1000000,1000000,1000000,1000000,1000000,1000000,1000000,1000000,1000000,1000000,1000000,1000000,1000000,1000000,1000000,1000000,1000000,1000000,1000000,1000000,1000000,1000000,1000000,1000000,1000000,1000000,1000000,1000000,1000000,1000000,1000000,1000000,1000000,1000000,1000000,1000000,1000000,1000000,1000000,1000000,1000000,1000000,1000000,1000000,1000000,1000000,1000000,1000000,1000000,1000000,1000000,1000000,1000000,1000000,1000000,1000000,1000000,1000000,1000000,1000000,1000000,1000000,1000000,1000000,1000000,1000000,1000000,1000000,1000000,1000000,1000000,1000000,1000000,1000000,1000000,1000000,1000000,1000000,1000000,1000000,1000000,1000000,1000000,1000000,1000000,1000000,1000000,1000000,1000000,1000000,1000000,1000000,1000000,1000000,1000000,1000000,1000000,1000000,1000000,1000000,1000000,1000000,1000000,1000000,1000000,1000000,1000000,1000000,1000000,1000000,1000000,1000000,1000000,1000000,1000000,1000000,1000000,1000000,1000000,1000000,1000000,1000000,1000000,1000000,1000000,1000000,1000000,1000000,1000000,1000000,1000000,1000000,1000000,1000000,1000000,5000000,5000000,5000000,5000000,5000000,5000000,5000000,5000000,5000000,5000000,5000000,5000000,5000000,5000000,5000000,5000000,5000000,5000000,5000000,5000000,5000000,5000000,5000000,5000000,5000000,5000000,5000000,5000000,5000000,5000000,5000000,5000000,5000000,5000000,5000000,5000000,5000000,5000000,5000000,5000000,5000000,5000000,5000000,5000000,5000000,5000000,5000000,5000000,5000000,5000000,5000000,5000000,5000000,5000000,5000000,5000000,5000000,5000000,5000000,5000000,5000000,5000000,5000000,5000000,5000000,5000000,5000000,5000000,5000000,5000000,5000000,5000000,5000000,5000000,5000000,5000000,5000000,5000000,5000000,5000000,5000000,5000000,5000000,5000000,5000000,5000000,5000000,5000000,5000000,5000000,5000000,5000000,5000000,5000000,5000000,5000000,5000000,5000000,5000000,5000000,5000000,5000000,5000000,5000000,5000000,5000000,5000000,5000000,5000000,5000000,5000000,5000000,5000000,5000000,5000000,5000000,5000000,5000000,5000000,5000000,5000000,5000000,5000000,5000000,5000000,5000000,5000000,5000000,5000000,5000000,5000000,5000000,5000000,5000000,5000000,5000000,5000000,5000000,5000000,5000000,5000000,5000000,5000000,5000000,5000000,5000000,5000000,5000000,5000000,5000000,5000000,5000000,5000000,5000000,5000000,5000000,5000000,5000000,5000000,5000000,5000000,5000000,5000000,5000000,5000000,5000000,5000000,5000000,5000000,5000000,5000000,5000000,5000000,5000000,5000000,5000000,5000000,5000000,5000000,5000000,5000000,5000000,5000000,5000000,5000000,5000000,5000000,5000000,5000000,5000000,5000000,5000000,5000000,5000000,5000000,5000000,5000000,5000000,5000000,5000000,5000000,5000000,5000000,5000000,5000000,5000000,5000000,5000000,5000000,5000000,5000000,5000000,5000000,5000000,5000000,5000000,5000000,5000000,5000000,5000000,5000000,5000000,5000000,5000000,5000000,5000000,5000000,5000000,5000000,5000000,5000000,5000000,5000000,5000000,5000000,5000000,5000000,5000000,5000000,5000000,5000000,5000000,5000000,5000000,5000000,5000000,5000000,5000000,5000000,5000000,5000000,5000000,5000000,5000000,5000000,5000000,5000000,5000000,5000000,5000000,5000000,5000000,5000000,5000000,5000000,5000000,5000000,5000000,5000000,5000000,5000000,5000000,5000000,5000000,5000000,5000000,5000000,5000000,5000000,5000000,5000000,5000000,5000000,5000000,5000000,5000000,5000000,5000000,5000000,5000000,5000000,5000000,5000000,5000000,5000000,5000000,5000000,5000000,5000000,5000000,5000000,5000000,5000000,5000000,5000000,5000000,5000000,5000000,5000000,5000000,5000000,5000000,5000000,5000000,5000000,5000000,5000000,5000000,5000000,5000000,5000000,5000000,5000000,5000000,5000000,5000000,5000000,5000000,5000000,5000000,5000000,5000000,5000000,5000000,5000000,5000000,5000000,5000000,5000000,5000000,5000000,5000000,5000000,5000000,5000000,5000000,5000000,5000000,5000000,5000000,5000000,5000000,5000000,5000000,5000000,5000000,5000000,5000000,5000000,5000000,5000000,5000000,5000000,5000000,5000000,5000000,5000000,5000000,5000000,5000000,5000000,5000000,5000000,5000000,5000000,5000000,5000000,5000000,5000000,5000000,5000000,5000000,5000000,5000000,5000000,5000000,5000000,5000000,5000000,5000000,5000000,5000000,5000000,5000000,5000000,5000000,5000000,5000000,5000000,5000000,5000000,5000000,5000000,5000000,5000000,5000000,5000000,5000000,5000000,5000000,5000000,5000000,5000000,5000000,5000000,5000000,5000000,5000000,5000000,5000000,5000000,5000000,5000000,5000000,5000000,5000000,5000000,5000000,5000000,5000000,5000000,5000000,5000000,5000000,5000000,5000000,5000000,5000000,5000000,5000000,5000000,5000000,5000000,5000000,5000000,5000000,5000000,5000000,5000000,5000000,5000000,5000000,5000000,5000000,5000000,5000000,5000000,5000000,5000000,5000000,5000000,5000000,5000000,5000000,5000000,5000000,5000000,5000000,5000000,5000000,5000000,5000000,5000000,5000000,5000000,5000000,5000000,5000000,5000000,5000000,5000000,5000000,5000000,5000000,5000000,5000000,5000000,5000000,5000000,5000000,5000000,5000000,5000000,5000000,5000000,5000000,5000000,5000000,5000000,5000000,5000000,5000000,5000000,5000000,5000000,5000000,5000000,5000000,5000000,5000000,5000000,5000000,5000000,5000000,5000000,5000000,5000000,5000000,5000000,5000000,5000000,5000000,5000000,5000000,5000000,5000000,5000000,5000000,5000000,5000000,5000000,5000000,5000000,5000000,5000000,5000000,5000000,5000000,5000000,5000000,5000000,5000000,5000000,5000000,5000000,5000000,5000000,5000000,5000000,5000000,5000000,5000000,5000000,5000000,5000000,5000000,5000000,5000000,5000000,5000000,5000000,5000000,5000000,5000000,5000000,5000000,5000000,5000000,5000000,5000000,5000000,5000000,5000000,5000000,5000000,5000000,5000000,5000000,5000000,5000000,5000000,5000000,5000000,5000000,5000000,5000000,5000000,5000000,5000000,5000000,5000000,5000000,5000000,5000000,5000000,5000000,5000000,5000000,5000000,5000000,5000000,5000000,5000000,5000000,5000000,5000000,5000000,10000000,10000000,10000000,10000000,10000000,10000000,10000000,10000000,10000000,10000000,10000000,10000000,10000000,10000000,10000000,10000000,10000000,10000000,10000000,10000000,10000000,10000000,10000000,10000000,10000000,10000000,10000000,10000000,10000000,10000000,10000000,10000000,10000000,10000000,10000000,10000000,10000000,10000000,10000000,10000000,10000000,10000000,10000000,10000000,10000000,10000000,10000000,10000000,10000000,10000000,10000000,10000000,10000000,10000000,10000000,10000000,10000000,10000000,10000000,10000000,10000000,10000000,10000000,10000000,10000000,10000000,10000000,10000000,10000000,10000000,10000000,10000000,10000000,10000000,10000000,10000000,10000000,10000000,10000000,10000000,10000000,10000000,10000000,10000000,10000000,10000000,10000000,10000000,10000000,10000000,10000000,10000000,10000000,10000000,10000000,10000000,10000000,10000000,10000000,10000000,10000000,10000000,10000000,10000000,10000000,10000000,10000000,10000000,10000000,10000000,10000000,10000000,10000000,10000000,10000000,10000000,10000000,10000000,10000000,10000000,10000000,10000000,10000000,10000000,10000000,10000000,10000000,10000000,10000000,10000000,10000000,10000000,10000000,10000000,10000000,10000000,10000000,10000000,10000000,10000000,10000000,10000000,10000000,10000000,10000000,10000000,10000000,10000000,10000000,10000000,10000000,10000000,10000000,10000000,10000000,10000000,10000000,10000000,10000000,10000000,10000000,10000000,10000000,10000000,10000000,10000000,10000000,10000000,10000000,10000000,10000000,10000000,10000000,10000000,10000000,10000000,10000000,10000000,10000000,10000000,10000000,10000000,10000000,10000000,10000000,10000000,10000000,10000000,10000000,10000000,10000000,10000000,10000000,10000000,10000000,10000000,10000000,10000000,10000000,10000000,10000000,10000000,10000000,10000000,10000000,10000000,10000000,10000000,10000000,10000000,10000000,10000000,10000000,10000000,10000000,10000000,10000000,10000000,10000000,10000000,10000000,10000000,10000000,10000000,10000000,10000000,10000000,10000000,10000000,10000000,10000000,10000000,10000000,10000000,10000000,10000000,10000000,10000000,10000000,10000000,10000000,10000000,10000000,10000000,10000000,10000000,10000000,10000000,10000000,10000000,10000000,10000000,10000000,10000000,10000000,10000000,10000000,10000000,10000000,10000000,10000000,10000000,10000000,10000000,10000000,10000000,10000000,10000000,10000000,10000000,10000000,10000000,10000000,10000000,10000000,10000000,10000000,10000000,10000000,10000000,10000000,10000000,10000000,10000000,10000000,10000000,10000000,10000000,10000000,10000000,10000000,10000000,10000000,10000000,10000000,10000000,10000000,10000000,10000000,10000000,10000000,10000000,10000000,10000000,10000000,10000000,10000000,10000000,10000000,10000000,10000000,10000000,10000000,10000000,10000000,10000000,10000000,10000000,10000000,10000000,10000000,10000000,10000000,10000000,10000000,10000000,10000000,10000000,10000000,10000000,10000000,10000000,10000000,10000000,10000000,10000000,10000000,10000000,10000000,10000000,10000000,10000000,10000000,10000000,10000000,10000000,10000000,10000000,10000000,10000000,10000000,10000000,10000000,10000000,10000000,10000000,10000000,10000000,10000000,10000000,10000000,10000000,10000000,10000000,10000000,10000000,10000000,10000000,10000000,10000000,10000000,10000000,10000000,10000000,10000000,10000000,10000000,10000000,10000000,10000000,10000000,10000000,10000000,10000000,10000000,10000000,10000000,10000000,10000000,10000000,10000000,10000000,10000000,10000000,10000000,10000000,10000000,10000000,10000000,10000000,10000000,10000000,10000000,10000000,10000000,10000000,10000000,10000000,10000000,10000000,10000000,10000000,10000000,10000000,10000000,10000000,10000000,10000000,10000000,10000000,10000000,10000000,10000000,10000000,10000000,10000000,10000000,10000000,10000000,10000000,10000000,10000000,10000000,10000000,10000000,10000000,10000000,10000000,10000000,10000000,10000000,10000000,10000000,10000000,10000000,10000000,10000000,10000000,10000000,10000000,10000000,10000000,10000000,10000000,10000000,10000000,10000000,10000000,10000000,10000000,10000000,10000000,10000000,10000000,10000000,10000000,10000000,10000000,10000000,10000000,10000000,10000000,10000000,10000000,10000000,10000000,10000000,10000000,10000000,10000000,10000000,10000000,10000000,10000000,10000000,10000000,10000000,10000000,10000000,10000000,10000000,10000000,10000000,10000000,10000000,10000000,10000000,10000000,10000000,10000000,10000000,10000000,10000000,10000000,10000000,10000000,10000000,10000000,10000000,10000000,10000000,10000000,10000000,10000000,10000000,10000000,10000000,10000000,10000000,10000000,10000000,10000000,10000000,10000000,10000000,10000000,10000000,10000000,10000000,10000000,10000000,10000000,10000000,10000000,10000000,10000000,10000000,10000000,10000000,10000000,10000000,10000000,10000000,10000000,10000000,10000000,10000000,10000000,10000000,10000000,10000000,10000000,10000000,10000000,10000000,10000000,10000000,10000000,10000000,10000000,10000000,10000000,10000000,10000000,10000000,10000000,10000000,10000000,10000000,10000000,10000000,10000000,10000000,10000000,10000000,10000000,10000000,10000000,10000000,10000000,10000000,10000000,10000000,10000000,10000000,10000000,10000000,10000000,10000000,10000000,10000000,10000000,10000000,10000000,10000000,10000000,10000000,10000000,10000000,10000000,10000000,10000000,10000000,10000000,10000000,10000000,10000000,10000000,10000000,10000000,10000000,10000000,10000000,10000000,10000000,10000000,10000000,10000000,10000000,10000000,10000000,10000000,10000000,10000000,10000000,10000000,10000000,10000000,10000000,10000000,10000000,10000000,10000000,10000000,10000000,10000000,10000000,10000000,10000000,10000000,10000000,10000000,10000000,10000000,10000000,10000000,10000000,10000000,10000000,10000000,10000000,10000000,10000000,10000000,10000000,10000000,10000000,10000000,10000000,10000000,10000000,10000000,10000000,10000000,10000000,10000000,10000000,10000000,10000000,10000000,10000000,10000000,10000000,10000000,10000000,10000000,10000000,10000000,10000000,10000000,10000000,10000000,10000000,10000000,10000000,10000000,10000000,10000000,10000000,10000000,10000000,10000000,10000000,10000000,10000000,10000000,10000000,10000000,10000000,10000000,10000000,10000000,10000000,10000000,10000000,10000000,10000000,10000000,10000000,10000000,10000000,10000000,10000000,10000000,10000000,10000000,10000000,10000000,10000000,10000000,10000000,10000000,10000000,10000000,10000000,10000000,10000000,10000000,10000000,10000000,10000000,10000000,10000000,10000000,10000000,10000000,10000000,10000000,10000000,10000000,10000000,10000000,10000000,10000000,10000000,10000000,10000000,10000000,10000000,10000000,10000000,10000000,10000000,10000000,10000000,10000000,10000000,10000000,10000000,10000000,10000000,10000000,10000000,10000000,10000000,10000000,10000000,10000000,10000000,10000000,10000000,10000000,10000000,10000000,10000000,10000000,10000000,10000000,10000000,10000000,10000000,10000000,10000000,10000000,10000000,10000000,10000000,10000000,10000000,10000000,10000000,10000000,10000000,10000000,10000000,10000000,10000000,10000000,10000000,10000000,10000000,10000000,10000000,10000000,10000000,10000000,10000000,10000000,10000000,10000000,10000000,10000000,10000000,10000000,10000000,10000000,10000000,10000000,10000000,10000000,10000000,10000000,10000000,10000000,10000000,10000000,10000000,10000000,10000000,10000000,10000000,10000000,10000000,10000000,10000000,10000000,10000000,10000000,10000000,10000000,10000000,10000000,10000000,10000000,10000000,10000000,10000000,10000000,10000000,10000000,10000000,10000000,10000000,10000000,10000000,10000000,10000000,10000000,10000000,10000000,10000000,10000000,10000000,10000000,10000000,10000000,10000000,10000000,10000000,10000000,10000000,10000000,10000000,10000000,10000000,10000000,10000000,10000000,10000000,10000000,10000000,10000000,10000000,10000000,10000000,10000000,10000000,10000000,10000000,10000000,10000000,10000000,10000000,10000000,10000000,10000000,10000000,10000000,10000000,10000000,10000000,10000000,10000000,10000000,10000000,10000000,10000000,10000000,10000000,10000000,10000000,10000000,10000000,10000000,10000000,10000000,10000000,10000000,10000000,10000000,10000000,10000000,10000000,10000000,10000000,10000000,10000000,10000000,10000000,10000000,10000000,50000000,50000000,50000000,50000000,50000000,50000000,50000000,50000000,50000000,50000000,50000000,50000000,50000000,50000000,50000000,50000000,50000000,50000000,50000000,50000000,50000000,50000000,50000000,50000000,50000000,50000000,50000000,50000000,50000000,50000000,50000000,50000000,50000000,50000000,50000000,50000000,50000000,50000000,50000000,50000000,50000000,50000000,50000000,50000000,50000000,50000000,50000000,50000000,50000000,50000000,50000000,50000000,50000000,50000000,50000000,50000000,50000000,50000000,50000000,50000000,50000000,50000000,50000000,50000000,50000000,50000000,50000000,50000000,50000000,50000000,50000000,50000000,50000000,50000000,50000000,50000000,50000000,50000000,50000000,50000000,50000000,50000000,50000000,50000000,50000000,50000000,50000000,50000000,50000000,50000000,50000000,50000000,50000000,50000000,50000000,50000000,50000000,50000000,50000000,50000000,50000000,50000000,50000000,50000000,50000000,50000000,50000000,50000000,50000000,50000000,50000000,50000000,50000000,50000000,50000000,50000000,50000000,50000000,50000000,50000000,50000000,50000000,50000000,50000000,50000000,50000000,50000000,50000000,50000000,50000000,50000000,50000000,50000000,50000000,50000000,50000000,50000000,50000000,50000000,50000000,50000000,50000000,50000000,50000000,50000000,50000000,50000000,50000000,50000000,50000000,50000000,50000000,50000000,50000000,50000000,50000000,50000000,50000000,50000000,50000000,50000000,50000000,50000000,50000000,50000000,50000000,50000000,50000000,50000000,50000000,50000000,50000000,50000000,50000000,50000000,50000000,50000000,50000000,50000000,50000000,50000000,50000000,50000000,50000000,50000000,50000000,50000000,50000000,50000000,50000000,50000000,50000000,50000000,50000000,50000000,50000000,50000000,50000000,50000000,50000000,50000000,50000000,100000000,100000000,100000000,100000000,100000000,100000000,100000000,100000000,100000000,100000000,100000000,100000000,100000000,100000000,100000000,100000000,100000000,100000000,100000000,100000000,100000000,100000000,100000000,100000000,100000000,100000000,100000000,100000000,100000000,100000000,100000000,100000000,100000000,100000000,100000000,100000000,100000000,100000000,100000000,100000000,100000000,100000000,100000000,100000000,100000000,100000000,100000000,100000000,100000000,100000000,100000000,100000000,100000000,100000000,100000000,100000000,100000000,100000000,100000000,100000000,100000000,100000000,100000000,100000000,100000000,100000000,100000000,100000000,100000000,100000000,100000000,100000000,100000000,100000000,100000000,100000000,100000000,100000000,100000000,100000000,100000000,100000000,100000000,100000000,100000000,100000000,100000000,100000000,100000000,100000000,100000000,100000000,100000000,100000000,100000000,100000000,100000000,100000000,100000000,100000000,100000000,100000000,100000000,100000000,100000000,100000000,100000000,100000000,100000000,100000000,100000000,100000000,100000000,100000000,100000000,100000000,100000000,100000000,100000000,100000000,100000000,100000000,100000000,100000000,100000000,100000000,100000000,100000000,100000000,100000000,100000000,100000000,100000000,100000000,100000000,100000000,100000000,100000000,100000000,100000000,100000000,100000000,100000000,100000000,100000000,100000000,100000000,100000000,100000000,100000000,100000000,100000000,100000000,100000000,100000000,100000000,100000000,100000000,100000000,100000000,100000000,100000000,100000000,100000000,100000000,100000000,100000000,100000000,100000000,100000000,100000000,100000000,100000000,100000000,100000000,100000000,100000000,100000000,100000000,100000000,100000000,100000000,100000000,100000000,100000000,100000000,100000000,100000000,100000000,500000000,500000000,500000000,500000000,500000000,500000000,500000000,500000000,500000000,500000000,500000000,500000000,500000000,500000000,500000000,500000000,500000000,500000000,500000000,500000000,500000000,500000000,500000000,500000000,1000000000,1000000000,1000000000,1000000000,1000000000,1000000000,1000000000,1000000000,1000000000,1000000000,1000000000,1000000000,1000000000,1000000000,1000000000,1000000000,1000000000,1000000000,1000000000,1000000000],\"y0\":\" \",\"yaxis\":\"y\",\"type\":\"box\"},{\"alignmentgroup\":\"True\",\"boxpoints\":\"all\",\"hovertemplate\":\"Type=%{x}<br>Installs=%{y}<extra></extra>\",\"legendgroup\":\"Paid\",\"marker\":{\"color\":\"#EF553B\"},\"name\":\"Paid\",\"notched\":true,\"offsetgroup\":\"Paid\",\"orientation\":\"v\",\"showlegend\":true,\"x\":[\"Paid\",\"Paid\",\"Paid\",\"Paid\",\"Paid\",\"Paid\",\"Paid\",\"Paid\",\"Paid\",\"Paid\",\"Paid\",\"Paid\",\"Paid\",\"Paid\",\"Paid\",\"Paid\",\"Paid\",\"Paid\",\"Paid\",\"Paid\",\"Paid\",\"Paid\",\"Paid\",\"Paid\",\"Paid\",\"Paid\",\"Paid\",\"Paid\",\"Paid\",\"Paid\",\"Paid\",\"Paid\",\"Paid\",\"Paid\",\"Paid\",\"Paid\",\"Paid\",\"Paid\",\"Paid\",\"Paid\",\"Paid\",\"Paid\",\"Paid\",\"Paid\",\"Paid\",\"Paid\",\"Paid\",\"Paid\",\"Paid\",\"Paid\",\"Paid\",\"Paid\",\"Paid\",\"Paid\",\"Paid\",\"Paid\",\"Paid\",\"Paid\",\"Paid\",\"Paid\",\"Paid\",\"Paid\",\"Paid\",\"Paid\",\"Paid\",\"Paid\",\"Paid\",\"Paid\",\"Paid\",\"Paid\",\"Paid\",\"Paid\",\"Paid\",\"Paid\",\"Paid\",\"Paid\",\"Paid\",\"Paid\",\"Paid\",\"Paid\",\"Paid\",\"Paid\",\"Paid\",\"Paid\",\"Paid\",\"Paid\",\"Paid\",\"Paid\",\"Paid\",\"Paid\",\"Paid\",\"Paid\",\"Paid\",\"Paid\",\"Paid\",\"Paid\",\"Paid\",\"Paid\",\"Paid\",\"Paid\",\"Paid\",\"Paid\",\"Paid\",\"Paid\",\"Paid\",\"Paid\",\"Paid\",\"Paid\",\"Paid\",\"Paid\",\"Paid\",\"Paid\",\"Paid\",\"Paid\",\"Paid\",\"Paid\",\"Paid\",\"Paid\",\"Paid\",\"Paid\",\"Paid\",\"Paid\",\"Paid\",\"Paid\",\"Paid\",\"Paid\",\"Paid\",\"Paid\",\"Paid\",\"Paid\",\"Paid\",\"Paid\",\"Paid\",\"Paid\",\"Paid\",\"Paid\",\"Paid\",\"Paid\",\"Paid\",\"Paid\",\"Paid\",\"Paid\",\"Paid\",\"Paid\",\"Paid\",\"Paid\",\"Paid\",\"Paid\",\"Paid\",\"Paid\",\"Paid\",\"Paid\",\"Paid\",\"Paid\",\"Paid\",\"Paid\",\"Paid\",\"Paid\",\"Paid\",\"Paid\",\"Paid\",\"Paid\",\"Paid\",\"Paid\",\"Paid\",\"Paid\",\"Paid\",\"Paid\",\"Paid\",\"Paid\",\"Paid\",\"Paid\",\"Paid\",\"Paid\",\"Paid\",\"Paid\",\"Paid\",\"Paid\",\"Paid\",\"Paid\",\"Paid\",\"Paid\",\"Paid\",\"Paid\",\"Paid\",\"Paid\",\"Paid\",\"Paid\",\"Paid\",\"Paid\",\"Paid\",\"Paid\",\"Paid\",\"Paid\",\"Paid\",\"Paid\",\"Paid\",\"Paid\",\"Paid\",\"Paid\",\"Paid\",\"Paid\",\"Paid\",\"Paid\",\"Paid\",\"Paid\",\"Paid\",\"Paid\",\"Paid\",\"Paid\",\"Paid\",\"Paid\",\"Paid\",\"Paid\",\"Paid\",\"Paid\",\"Paid\",\"Paid\",\"Paid\",\"Paid\",\"Paid\",\"Paid\",\"Paid\",\"Paid\",\"Paid\",\"Paid\",\"Paid\",\"Paid\",\"Paid\",\"Paid\",\"Paid\",\"Paid\",\"Paid\",\"Paid\",\"Paid\",\"Paid\",\"Paid\",\"Paid\",\"Paid\",\"Paid\",\"Paid\",\"Paid\",\"Paid\",\"Paid\",\"Paid\",\"Paid\",\"Paid\",\"Paid\",\"Paid\",\"Paid\",\"Paid\",\"Paid\",\"Paid\",\"Paid\",\"Paid\",\"Paid\",\"Paid\",\"Paid\",\"Paid\",\"Paid\",\"Paid\",\"Paid\",\"Paid\",\"Paid\",\"Paid\",\"Paid\",\"Paid\",\"Paid\",\"Paid\",\"Paid\",\"Paid\",\"Paid\",\"Paid\",\"Paid\",\"Paid\",\"Paid\",\"Paid\",\"Paid\",\"Paid\",\"Paid\",\"Paid\",\"Paid\",\"Paid\",\"Paid\",\"Paid\",\"Paid\",\"Paid\",\"Paid\",\"Paid\",\"Paid\",\"Paid\",\"Paid\",\"Paid\",\"Paid\",\"Paid\",\"Paid\",\"Paid\",\"Paid\",\"Paid\",\"Paid\",\"Paid\",\"Paid\",\"Paid\",\"Paid\",\"Paid\",\"Paid\",\"Paid\",\"Paid\",\"Paid\",\"Paid\",\"Paid\",\"Paid\",\"Paid\",\"Paid\",\"Paid\",\"Paid\",\"Paid\",\"Paid\",\"Paid\",\"Paid\",\"Paid\",\"Paid\",\"Paid\",\"Paid\",\"Paid\",\"Paid\",\"Paid\",\"Paid\",\"Paid\",\"Paid\",\"Paid\",\"Paid\",\"Paid\",\"Paid\",\"Paid\",\"Paid\",\"Paid\",\"Paid\",\"Paid\",\"Paid\",\"Paid\",\"Paid\",\"Paid\",\"Paid\",\"Paid\",\"Paid\",\"Paid\",\"Paid\",\"Paid\",\"Paid\",\"Paid\",\"Paid\",\"Paid\",\"Paid\",\"Paid\",\"Paid\",\"Paid\",\"Paid\",\"Paid\",\"Paid\",\"Paid\",\"Paid\",\"Paid\",\"Paid\",\"Paid\",\"Paid\",\"Paid\",\"Paid\",\"Paid\",\"Paid\",\"Paid\",\"Paid\",\"Paid\",\"Paid\",\"Paid\",\"Paid\",\"Paid\",\"Paid\",\"Paid\",\"Paid\",\"Paid\",\"Paid\",\"Paid\",\"Paid\",\"Paid\",\"Paid\",\"Paid\",\"Paid\",\"Paid\",\"Paid\",\"Paid\",\"Paid\",\"Paid\",\"Paid\",\"Paid\",\"Paid\",\"Paid\",\"Paid\",\"Paid\",\"Paid\",\"Paid\",\"Paid\",\"Paid\",\"Paid\",\"Paid\",\"Paid\",\"Paid\",\"Paid\",\"Paid\",\"Paid\",\"Paid\",\"Paid\",\"Paid\",\"Paid\",\"Paid\",\"Paid\",\"Paid\",\"Paid\",\"Paid\",\"Paid\",\"Paid\",\"Paid\",\"Paid\",\"Paid\",\"Paid\",\"Paid\",\"Paid\",\"Paid\",\"Paid\",\"Paid\",\"Paid\",\"Paid\",\"Paid\",\"Paid\",\"Paid\",\"Paid\",\"Paid\",\"Paid\",\"Paid\",\"Paid\",\"Paid\",\"Paid\",\"Paid\",\"Paid\",\"Paid\",\"Paid\",\"Paid\",\"Paid\",\"Paid\",\"Paid\",\"Paid\",\"Paid\",\"Paid\",\"Paid\",\"Paid\",\"Paid\",\"Paid\",\"Paid\",\"Paid\",\"Paid\",\"Paid\",\"Paid\",\"Paid\",\"Paid\",\"Paid\",\"Paid\",\"Paid\",\"Paid\",\"Paid\",\"Paid\",\"Paid\",\"Paid\",\"Paid\",\"Paid\",\"Paid\",\"Paid\",\"Paid\",\"Paid\",\"Paid\",\"Paid\",\"Paid\",\"Paid\",\"Paid\",\"Paid\",\"Paid\",\"Paid\",\"Paid\",\"Paid\",\"Paid\",\"Paid\",\"Paid\",\"Paid\",\"Paid\",\"Paid\",\"Paid\",\"Paid\",\"Paid\",\"Paid\",\"Paid\",\"Paid\",\"Paid\",\"Paid\",\"Paid\",\"Paid\",\"Paid\",\"Paid\",\"Paid\",\"Paid\",\"Paid\",\"Paid\",\"Paid\",\"Paid\",\"Paid\",\"Paid\",\"Paid\",\"Paid\",\"Paid\",\"Paid\",\"Paid\",\"Paid\",\"Paid\",\"Paid\",\"Paid\",\"Paid\",\"Paid\",\"Paid\",\"Paid\",\"Paid\",\"Paid\",\"Paid\",\"Paid\",\"Paid\",\"Paid\",\"Paid\",\"Paid\",\"Paid\",\"Paid\",\"Paid\",\"Paid\",\"Paid\",\"Paid\",\"Paid\",\"Paid\",\"Paid\",\"Paid\",\"Paid\",\"Paid\",\"Paid\",\"Paid\",\"Paid\",\"Paid\",\"Paid\",\"Paid\",\"Paid\",\"Paid\",\"Paid\",\"Paid\",\"Paid\",\"Paid\",\"Paid\",\"Paid\",\"Paid\",\"Paid\",\"Paid\",\"Paid\",\"Paid\",\"Paid\",\"Paid\",\"Paid\",\"Paid\",\"Paid\",\"Paid\",\"Paid\",\"Paid\",\"Paid\",\"Paid\",\"Paid\",\"Paid\",\"Paid\",\"Paid\",\"Paid\",\"Paid\",\"Paid\",\"Paid\",\"Paid\",\"Paid\",\"Paid\",\"Paid\",\"Paid\"],\"x0\":\" \",\"xaxis\":\"x\",\"y\":[1,1,10,10,10,10,10,10,10,10,10,10,10,10,10,10,10,10,10,10,50,50,50,50,50,50,50,50,50,50,50,50,50,50,100,100,100,100,100,100,100,100,100,100,100,100,100,100,100,100,100,100,100,100,100,100,100,100,100,100,100,100,100,100,100,100,100,100,100,100,100,100,100,100,100,100,100,100,100,100,100,100,100,100,100,100,100,100,100,100,100,100,100,100,100,100,100,100,100,500,500,500,500,500,500,500,500,500,500,500,500,500,500,500,500,500,500,500,500,500,500,500,500,500,500,500,500,500,500,500,500,500,500,500,500,1000,1000,1000,1000,1000,1000,1000,1000,1000,1000,1000,1000,1000,1000,1000,1000,1000,1000,1000,1000,1000,1000,1000,1000,1000,1000,1000,1000,1000,1000,1000,1000,1000,1000,1000,1000,1000,1000,1000,1000,1000,1000,1000,1000,1000,1000,1000,1000,1000,1000,1000,1000,1000,1000,1000,1000,1000,1000,1000,1000,1000,1000,1000,1000,1000,1000,1000,1000,1000,1000,1000,1000,1000,1000,1000,1000,1000,1000,1000,1000,1000,1000,1000,1000,1000,1000,1000,1000,1000,1000,1000,1000,1000,1000,1000,1000,1000,1000,1000,1000,1000,1000,1000,1000,1000,1000,1000,1000,1000,1000,1000,1000,1000,1000,1000,1000,1000,1000,1000,1000,1000,1000,1000,1000,1000,1000,1000,5000,5000,5000,5000,5000,5000,5000,5000,5000,5000,5000,5000,5000,5000,5000,5000,5000,5000,5000,5000,5000,5000,5000,5000,5000,5000,5000,5000,5000,5000,5000,5000,5000,5000,5000,5000,5000,5000,5000,5000,5000,5000,5000,5000,5000,5000,5000,5000,5000,5000,5000,5000,5000,5000,5000,5000,5000,5000,5000,5000,5000,5000,10000,10000,10000,10000,10000,10000,10000,10000,10000,10000,10000,10000,10000,10000,10000,10000,10000,10000,10000,10000,10000,10000,10000,10000,10000,10000,10000,10000,10000,10000,10000,10000,10000,10000,10000,10000,10000,10000,10000,10000,10000,10000,10000,10000,10000,10000,10000,10000,10000,10000,10000,10000,10000,10000,10000,10000,10000,10000,10000,10000,10000,10000,10000,10000,10000,10000,10000,10000,10000,10000,10000,10000,10000,10000,10000,10000,10000,10000,10000,10000,10000,10000,10000,10000,10000,10000,10000,10000,10000,10000,10000,10000,10000,10000,10000,10000,10000,10000,10000,10000,10000,10000,10000,10000,10000,10000,10000,10000,10000,10000,10000,10000,50000,50000,50000,50000,50000,50000,50000,50000,50000,50000,50000,50000,50000,50000,50000,50000,50000,50000,50000,50000,50000,50000,50000,50000,50000,50000,50000,50000,50000,50000,50000,50000,50000,50000,50000,50000,50000,50000,50000,100000,100000,100000,100000,100000,100000,100000,100000,100000,100000,100000,100000,100000,100000,100000,100000,100000,100000,100000,100000,100000,100000,100000,100000,100000,100000,100000,100000,100000,100000,100000,100000,100000,100000,100000,100000,100000,100000,100000,100000,100000,100000,100000,100000,100000,100000,100000,100000,100000,100000,100000,100000,100000,100000,100000,100000,100000,100000,100000,100000,100000,100000,100000,100000,100000,100000,100000,100000,100000,100000,100000,100000,100000,100000,100000,100000,100000,100000,100000,100000,100000,500000,500000,500000,500000,500000,500000,500000,500000,500000,500000,500000,1000000,1000000,1000000,1000000,1000000,1000000,1000000,1000000,1000000,1000000,1000000,1000000,1000000,1000000,1000000,1000000,1000000,1000000,1000000,1000000,10000000,10000000],\"y0\":\" \",\"yaxis\":\"y\",\"type\":\"box\"}],                        {\"template\":{\"data\":{\"bar\":[{\"error_x\":{\"color\":\"#2a3f5f\"},\"error_y\":{\"color\":\"#2a3f5f\"},\"marker\":{\"line\":{\"color\":\"#E5ECF6\",\"width\":0.5},\"pattern\":{\"fillmode\":\"overlay\",\"size\":10,\"solidity\":0.2}},\"type\":\"bar\"}],\"barpolar\":[{\"marker\":{\"line\":{\"color\":\"#E5ECF6\",\"width\":0.5},\"pattern\":{\"fillmode\":\"overlay\",\"size\":10,\"solidity\":0.2}},\"type\":\"barpolar\"}],\"carpet\":[{\"aaxis\":{\"endlinecolor\":\"#2a3f5f\",\"gridcolor\":\"white\",\"linecolor\":\"white\",\"minorgridcolor\":\"white\",\"startlinecolor\":\"#2a3f5f\"},\"baxis\":{\"endlinecolor\":\"#2a3f5f\",\"gridcolor\":\"white\",\"linecolor\":\"white\",\"minorgridcolor\":\"white\",\"startlinecolor\":\"#2a3f5f\"},\"type\":\"carpet\"}],\"choropleth\":[{\"colorbar\":{\"outlinewidth\":0,\"ticks\":\"\"},\"type\":\"choropleth\"}],\"contour\":[{\"colorbar\":{\"outlinewidth\":0,\"ticks\":\"\"},\"colorscale\":[[0.0,\"#0d0887\"],[0.1111111111111111,\"#46039f\"],[0.2222222222222222,\"#7201a8\"],[0.3333333333333333,\"#9c179e\"],[0.4444444444444444,\"#bd3786\"],[0.5555555555555556,\"#d8576b\"],[0.6666666666666666,\"#ed7953\"],[0.7777777777777778,\"#fb9f3a\"],[0.8888888888888888,\"#fdca26\"],[1.0,\"#f0f921\"]],\"type\":\"contour\"}],\"contourcarpet\":[{\"colorbar\":{\"outlinewidth\":0,\"ticks\":\"\"},\"type\":\"contourcarpet\"}],\"heatmap\":[{\"colorbar\":{\"outlinewidth\":0,\"ticks\":\"\"},\"colorscale\":[[0.0,\"#0d0887\"],[0.1111111111111111,\"#46039f\"],[0.2222222222222222,\"#7201a8\"],[0.3333333333333333,\"#9c179e\"],[0.4444444444444444,\"#bd3786\"],[0.5555555555555556,\"#d8576b\"],[0.6666666666666666,\"#ed7953\"],[0.7777777777777778,\"#fb9f3a\"],[0.8888888888888888,\"#fdca26\"],[1.0,\"#f0f921\"]],\"type\":\"heatmap\"}],\"heatmapgl\":[{\"colorbar\":{\"outlinewidth\":0,\"ticks\":\"\"},\"colorscale\":[[0.0,\"#0d0887\"],[0.1111111111111111,\"#46039f\"],[0.2222222222222222,\"#7201a8\"],[0.3333333333333333,\"#9c179e\"],[0.4444444444444444,\"#bd3786\"],[0.5555555555555556,\"#d8576b\"],[0.6666666666666666,\"#ed7953\"],[0.7777777777777778,\"#fb9f3a\"],[0.8888888888888888,\"#fdca26\"],[1.0,\"#f0f921\"]],\"type\":\"heatmapgl\"}],\"histogram\":[{\"marker\":{\"pattern\":{\"fillmode\":\"overlay\",\"size\":10,\"solidity\":0.2}},\"type\":\"histogram\"}],\"histogram2d\":[{\"colorbar\":{\"outlinewidth\":0,\"ticks\":\"\"},\"colorscale\":[[0.0,\"#0d0887\"],[0.1111111111111111,\"#46039f\"],[0.2222222222222222,\"#7201a8\"],[0.3333333333333333,\"#9c179e\"],[0.4444444444444444,\"#bd3786\"],[0.5555555555555556,\"#d8576b\"],[0.6666666666666666,\"#ed7953\"],[0.7777777777777778,\"#fb9f3a\"],[0.8888888888888888,\"#fdca26\"],[1.0,\"#f0f921\"]],\"type\":\"histogram2d\"}],\"histogram2dcontour\":[{\"colorbar\":{\"outlinewidth\":0,\"ticks\":\"\"},\"colorscale\":[[0.0,\"#0d0887\"],[0.1111111111111111,\"#46039f\"],[0.2222222222222222,\"#7201a8\"],[0.3333333333333333,\"#9c179e\"],[0.4444444444444444,\"#bd3786\"],[0.5555555555555556,\"#d8576b\"],[0.6666666666666666,\"#ed7953\"],[0.7777777777777778,\"#fb9f3a\"],[0.8888888888888888,\"#fdca26\"],[1.0,\"#f0f921\"]],\"type\":\"histogram2dcontour\"}],\"mesh3d\":[{\"colorbar\":{\"outlinewidth\":0,\"ticks\":\"\"},\"type\":\"mesh3d\"}],\"parcoords\":[{\"line\":{\"colorbar\":{\"outlinewidth\":0,\"ticks\":\"\"}},\"type\":\"parcoords\"}],\"pie\":[{\"automargin\":true,\"type\":\"pie\"}],\"scatter\":[{\"marker\":{\"colorbar\":{\"outlinewidth\":0,\"ticks\":\"\"}},\"type\":\"scatter\"}],\"scatter3d\":[{\"line\":{\"colorbar\":{\"outlinewidth\":0,\"ticks\":\"\"}},\"marker\":{\"colorbar\":{\"outlinewidth\":0,\"ticks\":\"\"}},\"type\":\"scatter3d\"}],\"scattercarpet\":[{\"marker\":{\"colorbar\":{\"outlinewidth\":0,\"ticks\":\"\"}},\"type\":\"scattercarpet\"}],\"scattergeo\":[{\"marker\":{\"colorbar\":{\"outlinewidth\":0,\"ticks\":\"\"}},\"type\":\"scattergeo\"}],\"scattergl\":[{\"marker\":{\"colorbar\":{\"outlinewidth\":0,\"ticks\":\"\"}},\"type\":\"scattergl\"}],\"scattermapbox\":[{\"marker\":{\"colorbar\":{\"outlinewidth\":0,\"ticks\":\"\"}},\"type\":\"scattermapbox\"}],\"scatterpolar\":[{\"marker\":{\"colorbar\":{\"outlinewidth\":0,\"ticks\":\"\"}},\"type\":\"scatterpolar\"}],\"scatterpolargl\":[{\"marker\":{\"colorbar\":{\"outlinewidth\":0,\"ticks\":\"\"}},\"type\":\"scatterpolargl\"}],\"scatterternary\":[{\"marker\":{\"colorbar\":{\"outlinewidth\":0,\"ticks\":\"\"}},\"type\":\"scatterternary\"}],\"surface\":[{\"colorbar\":{\"outlinewidth\":0,\"ticks\":\"\"},\"colorscale\":[[0.0,\"#0d0887\"],[0.1111111111111111,\"#46039f\"],[0.2222222222222222,\"#7201a8\"],[0.3333333333333333,\"#9c179e\"],[0.4444444444444444,\"#bd3786\"],[0.5555555555555556,\"#d8576b\"],[0.6666666666666666,\"#ed7953\"],[0.7777777777777778,\"#fb9f3a\"],[0.8888888888888888,\"#fdca26\"],[1.0,\"#f0f921\"]],\"type\":\"surface\"}],\"table\":[{\"cells\":{\"fill\":{\"color\":\"#EBF0F8\"},\"line\":{\"color\":\"white\"}},\"header\":{\"fill\":{\"color\":\"#C8D4E3\"},\"line\":{\"color\":\"white\"}},\"type\":\"table\"}]},\"layout\":{\"annotationdefaults\":{\"arrowcolor\":\"#2a3f5f\",\"arrowhead\":0,\"arrowwidth\":1},\"autotypenumbers\":\"strict\",\"coloraxis\":{\"colorbar\":{\"outlinewidth\":0,\"ticks\":\"\"}},\"colorscale\":{\"diverging\":[[0,\"#8e0152\"],[0.1,\"#c51b7d\"],[0.2,\"#de77ae\"],[0.3,\"#f1b6da\"],[0.4,\"#fde0ef\"],[0.5,\"#f7f7f7\"],[0.6,\"#e6f5d0\"],[0.7,\"#b8e186\"],[0.8,\"#7fbc41\"],[0.9,\"#4d9221\"],[1,\"#276419\"]],\"sequential\":[[0.0,\"#0d0887\"],[0.1111111111111111,\"#46039f\"],[0.2222222222222222,\"#7201a8\"],[0.3333333333333333,\"#9c179e\"],[0.4444444444444444,\"#bd3786\"],[0.5555555555555556,\"#d8576b\"],[0.6666666666666666,\"#ed7953\"],[0.7777777777777778,\"#fb9f3a\"],[0.8888888888888888,\"#fdca26\"],[1.0,\"#f0f921\"]],\"sequentialminus\":[[0.0,\"#0d0887\"],[0.1111111111111111,\"#46039f\"],[0.2222222222222222,\"#7201a8\"],[0.3333333333333333,\"#9c179e\"],[0.4444444444444444,\"#bd3786\"],[0.5555555555555556,\"#d8576b\"],[0.6666666666666666,\"#ed7953\"],[0.7777777777777778,\"#fb9f3a\"],[0.8888888888888888,\"#fdca26\"],[1.0,\"#f0f921\"]]},\"colorway\":[\"#636efa\",\"#EF553B\",\"#00cc96\",\"#ab63fa\",\"#FFA15A\",\"#19d3f3\",\"#FF6692\",\"#B6E880\",\"#FF97FF\",\"#FECB52\"],\"font\":{\"color\":\"#2a3f5f\"},\"geo\":{\"bgcolor\":\"white\",\"lakecolor\":\"white\",\"landcolor\":\"#E5ECF6\",\"showlakes\":true,\"showland\":true,\"subunitcolor\":\"white\"},\"hoverlabel\":{\"align\":\"left\"},\"hovermode\":\"closest\",\"mapbox\":{\"style\":\"light\"},\"paper_bgcolor\":\"white\",\"plot_bgcolor\":\"#E5ECF6\",\"polar\":{\"angularaxis\":{\"gridcolor\":\"white\",\"linecolor\":\"white\",\"ticks\":\"\"},\"bgcolor\":\"#E5ECF6\",\"radialaxis\":{\"gridcolor\":\"white\",\"linecolor\":\"white\",\"ticks\":\"\"}},\"scene\":{\"xaxis\":{\"backgroundcolor\":\"#E5ECF6\",\"gridcolor\":\"white\",\"gridwidth\":2,\"linecolor\":\"white\",\"showbackground\":true,\"ticks\":\"\",\"zerolinecolor\":\"white\"},\"yaxis\":{\"backgroundcolor\":\"#E5ECF6\",\"gridcolor\":\"white\",\"gridwidth\":2,\"linecolor\":\"white\",\"showbackground\":true,\"ticks\":\"\",\"zerolinecolor\":\"white\"},\"zaxis\":{\"backgroundcolor\":\"#E5ECF6\",\"gridcolor\":\"white\",\"gridwidth\":2,\"linecolor\":\"white\",\"showbackground\":true,\"ticks\":\"\",\"zerolinecolor\":\"white\"}},\"shapedefaults\":{\"line\":{\"color\":\"#2a3f5f\"}},\"ternary\":{\"aaxis\":{\"gridcolor\":\"white\",\"linecolor\":\"white\",\"ticks\":\"\"},\"baxis\":{\"gridcolor\":\"white\",\"linecolor\":\"white\",\"ticks\":\"\"},\"bgcolor\":\"#E5ECF6\",\"caxis\":{\"gridcolor\":\"white\",\"linecolor\":\"white\",\"ticks\":\"\"}},\"title\":{\"x\":0.05},\"xaxis\":{\"automargin\":true,\"gridcolor\":\"white\",\"linecolor\":\"white\",\"ticks\":\"\",\"title\":{\"standoff\":15},\"zerolinecolor\":\"white\",\"zerolinewidth\":2},\"yaxis\":{\"automargin\":true,\"gridcolor\":\"white\",\"linecolor\":\"white\",\"ticks\":\"\",\"title\":{\"standoff\":15},\"zerolinecolor\":\"white\",\"zerolinewidth\":2}}},\"xaxis\":{\"anchor\":\"y\",\"domain\":[0.0,1.0],\"title\":{\"text\":\"Type\"},\"categoryorder\":\"array\",\"categoryarray\":[\"Free\",\"Paid\"]},\"yaxis\":{\"anchor\":\"x\",\"domain\":[0.0,1.0],\"title\":{\"text\":\"Installs\"},\"type\":\"log\"},\"legend\":{\"title\":{\"text\":\"Type\"},\"tracegroupgap\":0},\"margin\":{\"t\":60},\"boxmode\":\"overlay\"},                        {\"responsive\": true}                    ).then(function(){\n",
              "                            \n",
              "var gd = document.getElementById('f219378e-575c-48c4-ac47-a582c63b2e4f');\n",
              "var x = new MutationObserver(function (mutations, observer) {{\n",
              "        var display = window.getComputedStyle(gd).display;\n",
              "        if (!display || display === 'none') {{\n",
              "            console.log([gd, 'removed!']);\n",
              "            Plotly.purge(gd);\n",
              "            observer.disconnect();\n",
              "        }}\n",
              "}});\n",
              "\n",
              "// Listen for the removal of the full notebook cells\n",
              "var notebookContainer = gd.closest('#notebook-container');\n",
              "if (notebookContainer) {{\n",
              "    x.observe(notebookContainer, {childList: true});\n",
              "}}\n",
              "\n",
              "// Listen for the clearing of the current output cell\n",
              "var outputEl = gd.closest('.output');\n",
              "if (outputEl) {{\n",
              "    x.observe(outputEl, {childList: true});\n",
              "}}\n",
              "\n",
              "                        })                };                            </script>        </div>\n",
              "</body>\n",
              "</html>"
            ]
          },
          "metadata": {}
        }
      ]
    },
    {
      "cell_type": "markdown",
      "metadata": {
        "id": "Xi2NaEBPVNrP"
      },
      "source": [
        "# Plotly Box Plots: Revenue by App Category\n",
        "\n",
        "**Challenge**: See if you can generate the chart below: \n",
        "\n",
        "<img src=https://imgur.com/v4CiNqX.png>\n",
        "\n",
        "Looking at the hover text, how much does the median app earn in the Tools category? If developing an Android app costs $30,000 or thereabouts, does the average photography app recoup its development costs?\n",
        "\n",
        "Hint: I've used 'min ascending' to sort the categories. "
      ]
    },
    {
      "cell_type": "code",
      "source": [
        "df_paid_apps = df_apps_clean[df_apps_clean['Type'] == 'Paid']"
      ],
      "metadata": {
        "id": "C6f-dVdbk7Zu"
      },
      "execution_count": 97,
      "outputs": []
    },
    {
      "cell_type": "code",
      "metadata": {
        "id": "W1iVoT8Dos7x",
        "colab": {
          "base_uri": "https://localhost:8080/",
          "height": 542
        },
        "outputId": "fcd3dfca-0754-495d-9ca5-8cea1053fe50"
      },
      "source": [
        "box2 = px.box(data_frame = df_paid_apps,\n",
        "              x = df_paid_apps['Category'],\n",
        "              y = df_paid_apps['Revenue Estimate'],\n",
        "              title = 'How much can paid apps earn?', \n",
        "              log_y = True)\n",
        "box2.update_layout(xaxis = {'categoryorder':'min ascending'})\n",
        "box2.show()"
      ],
      "execution_count": 100,
      "outputs": [
        {
          "output_type": "display_data",
          "data": {
            "text/html": [
              "<html>\n",
              "<head><meta charset=\"utf-8\" /></head>\n",
              "<body>\n",
              "    <div>            <script src=\"https://cdnjs.cloudflare.com/ajax/libs/mathjax/2.7.5/MathJax.js?config=TeX-AMS-MML_SVG\"></script><script type=\"text/javascript\">if (window.MathJax) {MathJax.Hub.Config({SVG: {font: \"STIX-Web\"}});}</script>                <script type=\"text/javascript\">window.PlotlyConfig = {MathJaxConfig: 'local'};</script>\n",
              "        <script src=\"https://cdn.plot.ly/plotly-2.8.3.min.js\"></script>                <div id=\"20a24058-75b2-4e55-9d24-b31a6f8700c1\" class=\"plotly-graph-div\" style=\"height:525px; width:100%;\"></div>            <script type=\"text/javascript\">                                    window.PLOTLYENV=window.PLOTLYENV || {};                                    if (document.getElementById(\"20a24058-75b2-4e55-9d24-b31a6f8700c1\")) {                    Plotly.newPlot(                        \"20a24058-75b2-4e55-9d24-b31a6f8700c1\",                        [{\"alignmentgroup\":\"True\",\"hovertemplate\":\"Category=%{x}<br>Revenue Estimate=%{y}<extra></extra>\",\"legendgroup\":\"\",\"marker\":{\"color\":\"#636efa\"},\"name\":\"\",\"notched\":false,\"offsetgroup\":\"\",\"orientation\":\"v\",\"showlegend\":false,\"x\":[\"GAME\",\"GAME\",\"FAMILY\",\"BUSINESS\",\"LIFESTYLE\",\"FAMILY\",\"PERSONALIZATION\",\"PHOTOGRAPHY\",\"FAMILY\",\"GAME\",\"PRODUCTIVITY\",\"PHOTOGRAPHY\",\"FAMILY\",\"TOOLS\",\"TOOLS\",\"PERSONALIZATION\",\"FAMILY\",\"FAMILY\",\"FAMILY\",\"FAMILY\",\"GAME\",\"TOOLS\",\"PERSONALIZATION\",\"PERSONALIZATION\",\"PERSONALIZATION\",\"TOOLS\",\"FAMILY\",\"FAMILY\",\"BUSINESS\",\"BOOKS_AND_REFERENCE\",\"FAMILY\",\"FAMILY\",\"FAMILY\",\"PERSONALIZATION\",\"PERSONALIZATION\",\"PERSONALIZATION\",\"GAME\",\"PERSONALIZATION\",\"FAMILY\",\"FINANCE\",\"SHOPPING\",\"DATING\",\"PERSONALIZATION\",\"GAME\",\"FAMILY\",\"PRODUCTIVITY\",\"FAMILY\",\"MEDICAL\",\"SPORTS\",\"MEDICAL\",\"PRODUCTIVITY\",\"BUSINESS\",\"PARENTING\",\"LIFESTYLE\",\"FAMILY\",\"TOOLS\",\"MAPS_AND_NAVIGATION\",\"COMMUNICATION\",\"PERSONALIZATION\",\"COMMUNICATION\",\"FAMILY\",\"PERSONALIZATION\",\"FAMILY\",\"FAMILY\",\"FAMILY\",\"TOOLS\",\"FAMILY\",\"SPORTS\",\"FAMILY\",\"MEDICAL\",\"FAMILY\",\"FAMILY\",\"GAME\",\"TOOLS\",\"FAMILY\",\"FAMILY\",\"PERSONALIZATION\",\"BOOKS_AND_REFERENCE\",\"GAME\",\"PERSONALIZATION\",\"GAME\",\"GAME\",\"TOOLS\",\"MEDICAL\",\"TOOLS\",\"TOOLS\",\"PERSONALIZATION\",\"GAME\",\"COMMUNICATION\",\"MEDICAL\",\"SPORTS\",\"PERSONALIZATION\",\"COMMUNICATION\",\"COMMUNICATION\",\"PERSONALIZATION\",\"TOOLS\",\"PERSONALIZATION\",\"PERSONALIZATION\",\"PRODUCTIVITY\",\"MEDICAL\",\"FAMILY\",\"TOOLS\",\"TOOLS\",\"BUSINESS\",\"COMMUNICATION\",\"FAMILY\",\"PERSONALIZATION\",\"PHOTOGRAPHY\",\"MEDICAL\",\"PERSONALIZATION\",\"MEDICAL\",\"COMMUNICATION\",\"PRODUCTIVITY\",\"BOOKS_AND_REFERENCE\",\"TOOLS\",\"WEATHER\",\"FAMILY\",\"FAMILY\",\"MEDICAL\",\"FAMILY\",\"TOOLS\",\"TOOLS\",\"SPORTS\",\"GAME\",\"MEDICAL\",\"PERSONALIZATION\",\"PERSONALIZATION\",\"NEWS_AND_MAGAZINES\",\"COMMUNICATION\",\"TOOLS\",\"MEDICAL\",\"FINANCE\",\"FAMILY\",\"PERSONALIZATION\",\"PERSONALIZATION\",\"MEDICAL\",\"FAMILY\",\"MEDICAL\",\"MEDICAL\",\"FAMILY\",\"FAMILY\",\"FAMILY\",\"GAME\",\"PERSONALIZATION\",\"TOOLS\",\"PERSONALIZATION\",\"GAME\",\"GAME\",\"GAME\",\"FAMILY\",\"FAMILY\",\"PRODUCTIVITY\",\"COMMUNICATION\",\"SPORTS\",\"SPORTS\",\"FAMILY\",\"PERSONALIZATION\",\"MEDICAL\",\"SPORTS\",\"COMMUNICATION\",\"LIFESTYLE\",\"FAMILY\",\"MEDICAL\",\"MEDICAL\",\"TOOLS\",\"PRODUCTIVITY\",\"FINANCE\",\"HEALTH_AND_FITNESS\",\"MEDICAL\",\"PHOTOGRAPHY\",\"FAMILY\",\"FAMILY\",\"PHOTOGRAPHY\",\"SPORTS\",\"ART_AND_DESIGN\",\"FAMILY\",\"PERSONALIZATION\",\"PRODUCTIVITY\",\"HEALTH_AND_FITNESS\",\"MEDICAL\",\"TOOLS\",\"PRODUCTIVITY\",\"GAME\",\"TOOLS\",\"MEDICAL\",\"LIFESTYLE\",\"GAME\",\"MEDICAL\",\"TRAVEL_AND_LOCAL\",\"BUSINESS\",\"MEDICAL\",\"COMMUNICATION\",\"PERSONALIZATION\",\"GAME\",\"TRAVEL_AND_LOCAL\",\"GAME\",\"SPORTS\",\"MEDICAL\",\"FAMILY\",\"MEDICAL\",\"TOOLS\",\"BOOKS_AND_REFERENCE\",\"FAMILY\",\"MEDICAL\",\"MEDICAL\",\"GAME\",\"BUSINESS\",\"TOOLS\",\"FAMILY\",\"MEDICAL\",\"PERSONALIZATION\",\"PHOTOGRAPHY\",\"SPORTS\",\"MAPS_AND_NAVIGATION\",\"PERSONALIZATION\",\"GAME\",\"BOOKS_AND_REFERENCE\",\"EDUCATION\",\"FAMILY\",\"FAMILY\",\"SOCIAL\",\"MEDICAL\",\"TOOLS\",\"SPORTS\",\"FAMILY\",\"FAMILY\",\"TOOLS\",\"WEATHER\",\"VIDEO_PLAYERS\",\"MEDICAL\",\"TOOLS\",\"GAME\",\"PERSONALIZATION\",\"MEDICAL\",\"LIFESTYLE\",\"MEDICAL\",\"DATING\",\"HEALTH_AND_FITNESS\",\"MEDICAL\",\"FAMILY\",\"PRODUCTIVITY\",\"EDUCATION\",\"SPORTS\",\"FAMILY\",\"PERSONALIZATION\",\"PERSONALIZATION\",\"FAMILY\",\"GAME\",\"FINANCE\",\"GAME\",\"MEDICAL\",\"FAMILY\",\"MEDICAL\",\"MEDICAL\",\"TOOLS\",\"TOOLS\",\"TOOLS\",\"TOOLS\",\"PERSONALIZATION\",\"PERSONALIZATION\",\"PERSONALIZATION\",\"PERSONALIZATION\",\"FAMILY\",\"GAME\",\"FAMILY\",\"FAMILY\",\"MEDICAL\",\"SPORTS\",\"LIFESTYLE\",\"FAMILY\",\"FAMILY\",\"TRAVEL_AND_LOCAL\",\"PERSONALIZATION\",\"BOOKS_AND_REFERENCE\",\"FAMILY\",\"MEDICAL\",\"MEDICAL\",\"MEDICAL\",\"MEDICAL\",\"PRODUCTIVITY\",\"SOCIAL\",\"SPORTS\",\"TRAVEL_AND_LOCAL\",\"TOOLS\",\"FAMILY\",\"NEWS_AND_MAGAZINES\",\"ART_AND_DESIGN\",\"GAME\",\"PERSONALIZATION\",\"LIFESTYLE\",\"PERSONALIZATION\",\"LIFESTYLE\",\"MEDICAL\",\"FAMILY\",\"FAMILY\",\"BOOKS_AND_REFERENCE\",\"LIFESTYLE\",\"MEDICAL\",\"MEDICAL\",\"TOOLS\",\"SPORTS\",\"MEDICAL\",\"PHOTOGRAPHY\",\"GAME\",\"SPORTS\",\"FAMILY\",\"SPORTS\",\"TOOLS\",\"LIFESTYLE\",\"FAMILY\",\"COMMUNICATION\",\"COMMUNICATION\",\"COMMUNICATION\",\"FAMILY\",\"FAMILY\",\"TOOLS\",\"MEDICAL\",\"TOOLS\",\"TOOLS\",\"TOOLS\",\"TOOLS\",\"TOOLS\",\"TOOLS\",\"PERSONALIZATION\",\"FAMILY\",\"MEDICAL\",\"MEDICAL\",\"MEDICAL\",\"HEALTH_AND_FITNESS\",\"GAME\",\"FAMILY\",\"FAMILY\",\"PHOTOGRAPHY\",\"PERSONALIZATION\",\"LIFESTYLE\",\"GAME\",\"FAMILY\",\"MEDICAL\",\"FAMILY\",\"BUSINESS\",\"GAME\",\"FAMILY\",\"MEDICAL\",\"FAMILY\",\"MAPS_AND_NAVIGATION\",\"BOOKS_AND_REFERENCE\",\"GAME\",\"PERSONALIZATION\",\"PERSONALIZATION\",\"COMMUNICATION\",\"DATING\",\"FOOD_AND_DRINK\",\"LIFESTYLE\",\"FAMILY\",\"FAMILY\",\"MEDICAL\",\"TRAVEL_AND_LOCAL\",\"TOOLS\",\"TOOLS\",\"TOOLS\",\"PERSONALIZATION\",\"VIDEO_PLAYERS\",\"VIDEO_PLAYERS\",\"GAME\",\"FAMILY\",\"FAMILY\",\"FAMILY\",\"FAMILY\",\"PERSONALIZATION\",\"WEATHER\",\"TOOLS\",\"PERSONALIZATION\",\"TOOLS\",\"ART_AND_DESIGN\",\"PERSONALIZATION\",\"PERSONALIZATION\",\"MEDICAL\",\"TOOLS\",\"FAMILY\",\"FINANCE\",\"TOOLS\",\"GAME\",\"FAMILY\",\"FAMILY\",\"TOOLS\",\"TOOLS\",\"GAME\",\"TOOLS\",\"HEALTH_AND_FITNESS\",\"GAME\",\"MEDICAL\",\"COMMUNICATION\",\"FAMILY\",\"GAME\",\"FAMILY\",\"MEDICAL\",\"PERSONALIZATION\",\"FAMILY\",\"SPORTS\",\"FAMILY\",\"TRAVEL_AND_LOCAL\",\"TOOLS\",\"SHOPPING\",\"TOOLS\",\"FAMILY\",\"FAMILY\",\"FAMILY\",\"FAMILY\",\"FAMILY\",\"FAMILY\",\"GAME\",\"MAPS_AND_NAVIGATION\",\"PERSONALIZATION\",\"GAME\",\"FAMILY\",\"FAMILY\",\"FINANCE\",\"TOOLS\",\"TOOLS\",\"FAMILY\",\"FAMILY\",\"MEDICAL\",\"GAME\",\"FAMILY\",\"COMMUNICATION\",\"COMMUNICATION\",\"FAMILY\",\"FAMILY\",\"MEDICAL\",\"MEDICAL\",\"MEDICAL\",\"PHOTOGRAPHY\",\"TOOLS\",\"TOOLS\",\"PERSONALIZATION\",\"PERSONALIZATION\",\"FAMILY\",\"GAME\",\"SPORTS\",\"MEDICAL\",\"GAME\",\"FAMILY\",\"AUTO_AND_VEHICLES\",\"HEALTH_AND_FITNESS\",\"FAMILY\",\"FAMILY\",\"MEDICAL\",\"PHOTOGRAPHY\",\"SPORTS\",\"TOOLS\",\"VIDEO_PLAYERS\",\"FAMILY\",\"FAMILY\",\"PRODUCTIVITY\",\"PERSONALIZATION\",\"PRODUCTIVITY\",\"PERSONALIZATION\",\"FAMILY\",\"FAMILY\",\"GAME\",\"MEDICAL\",\"FAMILY\",\"FAMILY\",\"FOOD_AND_DRINK\",\"FAMILY\",\"FAMILY\",\"FAMILY\",\"TOOLS\",\"HEALTH_AND_FITNESS\",\"PARENTING\",\"FAMILY\",\"GAME\",\"HEALTH_AND_FITNESS\",\"TRAVEL_AND_LOCAL\",\"GAME\",\"WEATHER\",\"FAMILY\",\"MEDICAL\",\"GAME\",\"GAME\",\"MEDICAL\",\"PERSONALIZATION\",\"FAMILY\",\"FAMILY\",\"FAMILY\",\"FAMILY\",\"GAME\",\"PHOTOGRAPHY\",\"FAMILY\",\"BUSINESS\",\"FAMILY\",\"GAME\",\"FAMILY\",\"FAMILY\",\"WEATHER\",\"EDUCATION\",\"COMMUNICATION\",\"ENTERTAINMENT\",\"HEALTH_AND_FITNESS\",\"HEALTH_AND_FITNESS\",\"GAME\",\"GAME\",\"FAMILY\",\"FAMILY\",\"FAMILY\",\"PHOTOGRAPHY\",\"SPORTS\",\"TRAVEL_AND_LOCAL\",\"TOOLS\",\"TOOLS\",\"PERSONALIZATION\",\"PERSONALIZATION\",\"PRODUCTIVITY\",\"PRODUCTIVITY\",\"MAPS_AND_NAVIGATION\",\"GAME\",\"GAME\",\"PRODUCTIVITY\",\"TOOLS\",\"WEATHER\",\"FAMILY\",\"GAME\",\"FAMILY\",\"GAME\",\"TOOLS\",\"GAME\",\"FAMILY\",\"FAMILY\",\"HEALTH_AND_FITNESS\",\"FAMILY\",\"GAME\",\"FAMILY\",\"PERSONALIZATION\",\"BUSINESS\",\"FINANCE\",\"FAMILY\",\"PHOTOGRAPHY\",\"GAME\",\"FAMILY\",\"FAMILY\",\"FAMILY\",\"FAMILY\",\"GAME\",\"FAMILY\",\"GAME\",\"COMMUNICATION\",\"FAMILY\",\"ENTERTAINMENT\",\"COMMUNICATION\",\"GAME\",\"GAME\",\"GAME\",\"GAME\",\"GAME\",\"GAME\",\"PERSONALIZATION\",\"FAMILY\",\"PERSONALIZATION\",\"FAMILY\",\"EDUCATION\",\"WEATHER\",\"PHOTOGRAPHY\",\"PRODUCTIVITY\",\"GAME\",\"FAMILY\",\"FAMILY\",\"PRODUCTIVITY\",\"PERSONALIZATION\",\"GAME\",\"GAME\",\"FAMILY\",\"COMMUNICATION\",\"TOOLS\",\"GAME\",\"PERSONALIZATION\",\"PHOTOGRAPHY\",\"SPORTS\",\"GAME\",\"FAMILY\",\"GAME\",\"GAME\",\"FAMILY\",\"GAME\",\"FAMILY\",\"GAME\",\"LIFESTYLE\",\"FAMILY\",\"GAME\",\"FAMILY\"],\"x0\":\" \",\"xaxis\":\"x\",\"y\":[1.49,0.99,149.9,24.900000000000002,30.4,14.9,9.9,34.900000000000006,29.900000000000002,9.9,9.9,49.900000000000006,9.9,29.900000000000002,9.9,9.9,299.9,199.89999999999998,49.900000000000006,49.900000000000006,99.5,149.5,49.5,49.5,49.5,88.0,149.5,149.5,449.5,87.5,74.5,74.5,49.5,49.5,99.0,99.0,99.0,99.0,1299.0,499.0,249.00000000000003,799.0,199.0,499.0,99.0,499.0,399.0,299.0,388.0,299.0,299.0,1299.0,459.0,99.0,999.0,399.0,999.0,149.0,149.0,149.0,149.0,99.0,299.0,199.0,499.0,149.0,99.0,349.0,199.0,1299.0,99.0,99.0,99.0,199.0,499.0,399.0,99.0,399.0,1400.0,149.0,449.0,199.0,99.0,699.0,599.0,399.0,249.00000000000003,99.0,149.0,3999.0,302.0,149.0,149.0,99.0,99.0,499.0,149.0,99.0,649.0,2995.0,1495.0,1995.0,495.0,8995.0,495.0,995.0,745.0,745.0,1995.0,745.0,1495.0,2495.0,4495.0,495.0,495.0,995.0,1245.0,2495.0,495.0,995.0,995.0,495.0,1495.0,2245.0,1745.0,1000.0,745.0,1495.0,1995.0,1995.0,7995.0,1995.0,1495.0,745.0,495.0,9990.0,2990.0,4990.0,9990.0,2490.0,10990.0,2990.0,990.0,1990.0,1990.0,990.0,3990.0,1610.0,990.0,1990.0,2490.0,4290.0,990.0,3990.0,990.0,2990.0,1490.0,15460.0,1990.0,2990.0,4990.0,7490.0,3990.0,5490.0,2490.0,2990.0,1990.0,4990.0,4990.0,19990.0,2990.0,1990.0,9990.0,990.0,1990.0,2990.0,1700.0,990.0,7990.0,29990.0,2990.0,7990.0,990.0,1490.0,2990.0,4990.0,2490.0,79990.0,2560.0,3990.0,19990.0,2490.0,990.0,990.0,8490.0,6990.0,2990.0,990.0,2990.0,1500.0,4990.0,1990.0,4840.0,14990.0,29990.0,4990.0,4990.0,3990.0,19400.0,33990.0,1490.0,2990.0,2990.0,990.0,990.0,1990.0,3080.0,5990.0,3990.0,2990.0,990.0,1990.0,5990.0,2490.0,990.0,990.0,990.0,6990.0,990.0,16990.0,990.0,3490.0,1700.0,3990.0,37990.0,9990.0,6990.0,1990.0,3990.0,10000.0,1290.0,3990.0,4490.0,2990.0,2490.0,990.0,4990.0,990.0,3990.0,1990.0,7490.0,990.0,10990.0,5990.0,990.0,1490.0,14990.0,4990.0,4990.0,990.0,4990.0,3990.0,24950.0,4950.0,22450.0,29950.0,19950.0,9950.0,19950.0,24950.0,9950.0,19950.0,4950.0,14950.000000000002,7450.0,12450.000000000002,19950.0,19950.0,19950.0,19950.0,4950.0,9950.0,14950.000000000002,4950.0,14950.000000000002,4950.0,9950.0,34950.0,9950.0,4950.0,7450.0,14950.000000000002,29950.0,14950.000000000002,14950.000000000002,23000.0,9950.0,74950.0,4950.0,4950.0,4950.0,14950.000000000002,14950.000000000002,9950.0,14950.000000000002,24950.0,5000.0,74950.0,12450.000000000002,4950.0,24950.0,4950.0,7450.0,19950.0,14950.000000000002,24950.0,19950.0,24950.0,24950.0,24950.0,24950.0,24950.0,5000.0,34950.0,29900.000000000004,99900.0,249899.99999999997,29900.000000000004,39900.0,9900.0,39900.0,39900.0,19900.0,9900.0,79900.0,49900.0,29900.000000000004,100000.0,29900.000000000004,29900.000000000004,29900.000000000004,149900.0,79900.0,129900.0,9900.0,44900.0,169899.99999999997,9900.0,9900.0,49900.0,39900.0,34900.0,24900.000000000004,29900.000000000004,14900.0,69900.0,19900.0,25000.0,39000.0,29500.0,9900.0,14900.0,19900.0,79900.0,29900.000000000004,29900.000000000004,49900.0,19900.0,9900.0,29900.000000000004,29900.000000000004,19900.0,19700.0,19900.0,99900.0,29900.000000000004,54900.0,32800.0,9900.0,29900.000000000004,49900.0,29900.000000000004,149900.0,29900.000000000004,29900.000000000004,29900.000000000004,179899.99999999997,9900.0,69900.0,49900.0,39900.0,29900.000000000004,29900.000000000004,49900.0,12000.0,29900.000000000004,19900.0,49900.0,49900.0,9900.0,59900.0,25900.0,29900.000000000004,19900.0,39900.0,49900.0,39900.0,29900.000000000004,49900.0,29900.000000000004,49900.0,29900.000000000004,9900.0,39900.0,24900.000000000004,9900.0,189899.99999999997,19900.0,19900.0,15900.0,39900.0,119900.0,19900.0,19900.0,29900.000000000004,9900.0,99900.0,39900.0,9900.0,29900.000000000004,19900.0,49900.0,19900.0,29900.000000000004,9900.0,19900.0,49500.0,49500.0,1499500.0,149500.0,99500.0,149500.0,99500.0,99500.0,149500.0,249500.0,199500.0,99500.0,199500.0,149500.0,299500.0,999499.9999999999,499500.0,149500.0,124500.00000000001,74500.0,49500.0,149500.0,149500.0,99500.0,599500.0,249500.0,199500.0,249500.0,149500.0,149500.0,238499.99999999997,149500.0,149500.0,249500.0,249500.0,249500.0,99500.0,124500.00000000001,249500.0,399000.0,399000.0,2499000.0,499000.0,99000.0,900000.0,99000.0,299000.0,299000.0,299000.0,999000.0,299000.0,149000.0,1499000.0,499000.0,799000.0,199000.0,99000.0,99000.0,449000.0,399000.0,399000.0,499000.0,299000.0,299000.0,299000.0,299000.0,399000.0,499000.0,499000.0,395000.0,899000.0,899000.0,249000.00000000003,399000.0,449000.0,199000.0,599000.0,499000.0,1199000.0,499000.0,999000.0,449000.0,349000.0,299000.0,499000.0,499000.0,499000.0,199000.0,449000.0,399000.0,299000.0,1399000.0,349000.0,999000.0,499000.0,299000.0,299000.0,499000.0,299000.0,299000.0,299000.0,299000.0,299000.0,999000.0,99000.0,199000.0,299000.0,149000.0,699000.0,290000.0,299000.0,299000.0,399000.0,299000.0,499000.0,299000.0,299000.0,199000.0,599000.0,499000.0,1495000.0,1245000.0,495000.0,1995000.0,2995000.0,1495000.0,1495000.0,995000.0,1495000.0,2495000.0,995000.0,2490000.0,990000.0,4990000.0,2990000.0,2990000.0,2990000.0,6990000.0,990000.0,5990000.0,1990000.0,2990000.0,990000.0,990000.0,990000.0,990000.0,990000.0,2990000.0,990000.0,5990000.0,1990000.0,9900000.0,69900000.0],\"y0\":\" \",\"yaxis\":\"y\",\"type\":\"box\"}],                        {\"template\":{\"data\":{\"bar\":[{\"error_x\":{\"color\":\"#2a3f5f\"},\"error_y\":{\"color\":\"#2a3f5f\"},\"marker\":{\"line\":{\"color\":\"#E5ECF6\",\"width\":0.5},\"pattern\":{\"fillmode\":\"overlay\",\"size\":10,\"solidity\":0.2}},\"type\":\"bar\"}],\"barpolar\":[{\"marker\":{\"line\":{\"color\":\"#E5ECF6\",\"width\":0.5},\"pattern\":{\"fillmode\":\"overlay\",\"size\":10,\"solidity\":0.2}},\"type\":\"barpolar\"}],\"carpet\":[{\"aaxis\":{\"endlinecolor\":\"#2a3f5f\",\"gridcolor\":\"white\",\"linecolor\":\"white\",\"minorgridcolor\":\"white\",\"startlinecolor\":\"#2a3f5f\"},\"baxis\":{\"endlinecolor\":\"#2a3f5f\",\"gridcolor\":\"white\",\"linecolor\":\"white\",\"minorgridcolor\":\"white\",\"startlinecolor\":\"#2a3f5f\"},\"type\":\"carpet\"}],\"choropleth\":[{\"colorbar\":{\"outlinewidth\":0,\"ticks\":\"\"},\"type\":\"choropleth\"}],\"contour\":[{\"colorbar\":{\"outlinewidth\":0,\"ticks\":\"\"},\"colorscale\":[[0.0,\"#0d0887\"],[0.1111111111111111,\"#46039f\"],[0.2222222222222222,\"#7201a8\"],[0.3333333333333333,\"#9c179e\"],[0.4444444444444444,\"#bd3786\"],[0.5555555555555556,\"#d8576b\"],[0.6666666666666666,\"#ed7953\"],[0.7777777777777778,\"#fb9f3a\"],[0.8888888888888888,\"#fdca26\"],[1.0,\"#f0f921\"]],\"type\":\"contour\"}],\"contourcarpet\":[{\"colorbar\":{\"outlinewidth\":0,\"ticks\":\"\"},\"type\":\"contourcarpet\"}],\"heatmap\":[{\"colorbar\":{\"outlinewidth\":0,\"ticks\":\"\"},\"colorscale\":[[0.0,\"#0d0887\"],[0.1111111111111111,\"#46039f\"],[0.2222222222222222,\"#7201a8\"],[0.3333333333333333,\"#9c179e\"],[0.4444444444444444,\"#bd3786\"],[0.5555555555555556,\"#d8576b\"],[0.6666666666666666,\"#ed7953\"],[0.7777777777777778,\"#fb9f3a\"],[0.8888888888888888,\"#fdca26\"],[1.0,\"#f0f921\"]],\"type\":\"heatmap\"}],\"heatmapgl\":[{\"colorbar\":{\"outlinewidth\":0,\"ticks\":\"\"},\"colorscale\":[[0.0,\"#0d0887\"],[0.1111111111111111,\"#46039f\"],[0.2222222222222222,\"#7201a8\"],[0.3333333333333333,\"#9c179e\"],[0.4444444444444444,\"#bd3786\"],[0.5555555555555556,\"#d8576b\"],[0.6666666666666666,\"#ed7953\"],[0.7777777777777778,\"#fb9f3a\"],[0.8888888888888888,\"#fdca26\"],[1.0,\"#f0f921\"]],\"type\":\"heatmapgl\"}],\"histogram\":[{\"marker\":{\"pattern\":{\"fillmode\":\"overlay\",\"size\":10,\"solidity\":0.2}},\"type\":\"histogram\"}],\"histogram2d\":[{\"colorbar\":{\"outlinewidth\":0,\"ticks\":\"\"},\"colorscale\":[[0.0,\"#0d0887\"],[0.1111111111111111,\"#46039f\"],[0.2222222222222222,\"#7201a8\"],[0.3333333333333333,\"#9c179e\"],[0.4444444444444444,\"#bd3786\"],[0.5555555555555556,\"#d8576b\"],[0.6666666666666666,\"#ed7953\"],[0.7777777777777778,\"#fb9f3a\"],[0.8888888888888888,\"#fdca26\"],[1.0,\"#f0f921\"]],\"type\":\"histogram2d\"}],\"histogram2dcontour\":[{\"colorbar\":{\"outlinewidth\":0,\"ticks\":\"\"},\"colorscale\":[[0.0,\"#0d0887\"],[0.1111111111111111,\"#46039f\"],[0.2222222222222222,\"#7201a8\"],[0.3333333333333333,\"#9c179e\"],[0.4444444444444444,\"#bd3786\"],[0.5555555555555556,\"#d8576b\"],[0.6666666666666666,\"#ed7953\"],[0.7777777777777778,\"#fb9f3a\"],[0.8888888888888888,\"#fdca26\"],[1.0,\"#f0f921\"]],\"type\":\"histogram2dcontour\"}],\"mesh3d\":[{\"colorbar\":{\"outlinewidth\":0,\"ticks\":\"\"},\"type\":\"mesh3d\"}],\"parcoords\":[{\"line\":{\"colorbar\":{\"outlinewidth\":0,\"ticks\":\"\"}},\"type\":\"parcoords\"}],\"pie\":[{\"automargin\":true,\"type\":\"pie\"}],\"scatter\":[{\"marker\":{\"colorbar\":{\"outlinewidth\":0,\"ticks\":\"\"}},\"type\":\"scatter\"}],\"scatter3d\":[{\"line\":{\"colorbar\":{\"outlinewidth\":0,\"ticks\":\"\"}},\"marker\":{\"colorbar\":{\"outlinewidth\":0,\"ticks\":\"\"}},\"type\":\"scatter3d\"}],\"scattercarpet\":[{\"marker\":{\"colorbar\":{\"outlinewidth\":0,\"ticks\":\"\"}},\"type\":\"scattercarpet\"}],\"scattergeo\":[{\"marker\":{\"colorbar\":{\"outlinewidth\":0,\"ticks\":\"\"}},\"type\":\"scattergeo\"}],\"scattergl\":[{\"marker\":{\"colorbar\":{\"outlinewidth\":0,\"ticks\":\"\"}},\"type\":\"scattergl\"}],\"scattermapbox\":[{\"marker\":{\"colorbar\":{\"outlinewidth\":0,\"ticks\":\"\"}},\"type\":\"scattermapbox\"}],\"scatterpolar\":[{\"marker\":{\"colorbar\":{\"outlinewidth\":0,\"ticks\":\"\"}},\"type\":\"scatterpolar\"}],\"scatterpolargl\":[{\"marker\":{\"colorbar\":{\"outlinewidth\":0,\"ticks\":\"\"}},\"type\":\"scatterpolargl\"}],\"scatterternary\":[{\"marker\":{\"colorbar\":{\"outlinewidth\":0,\"ticks\":\"\"}},\"type\":\"scatterternary\"}],\"surface\":[{\"colorbar\":{\"outlinewidth\":0,\"ticks\":\"\"},\"colorscale\":[[0.0,\"#0d0887\"],[0.1111111111111111,\"#46039f\"],[0.2222222222222222,\"#7201a8\"],[0.3333333333333333,\"#9c179e\"],[0.4444444444444444,\"#bd3786\"],[0.5555555555555556,\"#d8576b\"],[0.6666666666666666,\"#ed7953\"],[0.7777777777777778,\"#fb9f3a\"],[0.8888888888888888,\"#fdca26\"],[1.0,\"#f0f921\"]],\"type\":\"surface\"}],\"table\":[{\"cells\":{\"fill\":{\"color\":\"#EBF0F8\"},\"line\":{\"color\":\"white\"}},\"header\":{\"fill\":{\"color\":\"#C8D4E3\"},\"line\":{\"color\":\"white\"}},\"type\":\"table\"}]},\"layout\":{\"annotationdefaults\":{\"arrowcolor\":\"#2a3f5f\",\"arrowhead\":0,\"arrowwidth\":1},\"autotypenumbers\":\"strict\",\"coloraxis\":{\"colorbar\":{\"outlinewidth\":0,\"ticks\":\"\"}},\"colorscale\":{\"diverging\":[[0,\"#8e0152\"],[0.1,\"#c51b7d\"],[0.2,\"#de77ae\"],[0.3,\"#f1b6da\"],[0.4,\"#fde0ef\"],[0.5,\"#f7f7f7\"],[0.6,\"#e6f5d0\"],[0.7,\"#b8e186\"],[0.8,\"#7fbc41\"],[0.9,\"#4d9221\"],[1,\"#276419\"]],\"sequential\":[[0.0,\"#0d0887\"],[0.1111111111111111,\"#46039f\"],[0.2222222222222222,\"#7201a8\"],[0.3333333333333333,\"#9c179e\"],[0.4444444444444444,\"#bd3786\"],[0.5555555555555556,\"#d8576b\"],[0.6666666666666666,\"#ed7953\"],[0.7777777777777778,\"#fb9f3a\"],[0.8888888888888888,\"#fdca26\"],[1.0,\"#f0f921\"]],\"sequentialminus\":[[0.0,\"#0d0887\"],[0.1111111111111111,\"#46039f\"],[0.2222222222222222,\"#7201a8\"],[0.3333333333333333,\"#9c179e\"],[0.4444444444444444,\"#bd3786\"],[0.5555555555555556,\"#d8576b\"],[0.6666666666666666,\"#ed7953\"],[0.7777777777777778,\"#fb9f3a\"],[0.8888888888888888,\"#fdca26\"],[1.0,\"#f0f921\"]]},\"colorway\":[\"#636efa\",\"#EF553B\",\"#00cc96\",\"#ab63fa\",\"#FFA15A\",\"#19d3f3\",\"#FF6692\",\"#B6E880\",\"#FF97FF\",\"#FECB52\"],\"font\":{\"color\":\"#2a3f5f\"},\"geo\":{\"bgcolor\":\"white\",\"lakecolor\":\"white\",\"landcolor\":\"#E5ECF6\",\"showlakes\":true,\"showland\":true,\"subunitcolor\":\"white\"},\"hoverlabel\":{\"align\":\"left\"},\"hovermode\":\"closest\",\"mapbox\":{\"style\":\"light\"},\"paper_bgcolor\":\"white\",\"plot_bgcolor\":\"#E5ECF6\",\"polar\":{\"angularaxis\":{\"gridcolor\":\"white\",\"linecolor\":\"white\",\"ticks\":\"\"},\"bgcolor\":\"#E5ECF6\",\"radialaxis\":{\"gridcolor\":\"white\",\"linecolor\":\"white\",\"ticks\":\"\"}},\"scene\":{\"xaxis\":{\"backgroundcolor\":\"#E5ECF6\",\"gridcolor\":\"white\",\"gridwidth\":2,\"linecolor\":\"white\",\"showbackground\":true,\"ticks\":\"\",\"zerolinecolor\":\"white\"},\"yaxis\":{\"backgroundcolor\":\"#E5ECF6\",\"gridcolor\":\"white\",\"gridwidth\":2,\"linecolor\":\"white\",\"showbackground\":true,\"ticks\":\"\",\"zerolinecolor\":\"white\"},\"zaxis\":{\"backgroundcolor\":\"#E5ECF6\",\"gridcolor\":\"white\",\"gridwidth\":2,\"linecolor\":\"white\",\"showbackground\":true,\"ticks\":\"\",\"zerolinecolor\":\"white\"}},\"shapedefaults\":{\"line\":{\"color\":\"#2a3f5f\"}},\"ternary\":{\"aaxis\":{\"gridcolor\":\"white\",\"linecolor\":\"white\",\"ticks\":\"\"},\"baxis\":{\"gridcolor\":\"white\",\"linecolor\":\"white\",\"ticks\":\"\"},\"bgcolor\":\"#E5ECF6\",\"caxis\":{\"gridcolor\":\"white\",\"linecolor\":\"white\",\"ticks\":\"\"}},\"title\":{\"x\":0.05},\"xaxis\":{\"automargin\":true,\"gridcolor\":\"white\",\"linecolor\":\"white\",\"ticks\":\"\",\"title\":{\"standoff\":15},\"zerolinecolor\":\"white\",\"zerolinewidth\":2},\"yaxis\":{\"automargin\":true,\"gridcolor\":\"white\",\"linecolor\":\"white\",\"ticks\":\"\",\"title\":{\"standoff\":15},\"zerolinecolor\":\"white\",\"zerolinewidth\":2}}},\"xaxis\":{\"anchor\":\"y\",\"domain\":[0.0,1.0],\"title\":{\"text\":\"Category\"},\"categoryorder\":\"min ascending\"},\"yaxis\":{\"anchor\":\"x\",\"domain\":[0.0,1.0],\"title\":{\"text\":\"Revenue Estimate\"},\"type\":\"log\"},\"legend\":{\"tracegroupgap\":0},\"title\":{\"text\":\"How much can paid apps earn?\"},\"boxmode\":\"group\"},                        {\"responsive\": true}                    ).then(function(){\n",
              "                            \n",
              "var gd = document.getElementById('20a24058-75b2-4e55-9d24-b31a6f8700c1');\n",
              "var x = new MutationObserver(function (mutations, observer) {{\n",
              "        var display = window.getComputedStyle(gd).display;\n",
              "        if (!display || display === 'none') {{\n",
              "            console.log([gd, 'removed!']);\n",
              "            Plotly.purge(gd);\n",
              "            observer.disconnect();\n",
              "        }}\n",
              "}});\n",
              "\n",
              "// Listen for the removal of the full notebook cells\n",
              "var notebookContainer = gd.closest('#notebook-container');\n",
              "if (notebookContainer) {{\n",
              "    x.observe(notebookContainer, {childList: true});\n",
              "}}\n",
              "\n",
              "// Listen for the clearing of the current output cell\n",
              "var outputEl = gd.closest('.output');\n",
              "if (outputEl) {{\n",
              "    x.observe(outputEl, {childList: true});\n",
              "}}\n",
              "\n",
              "                        })                };                            </script>        </div>\n",
              "</body>\n",
              "</html>"
            ]
          },
          "metadata": {}
        }
      ]
    },
    {
      "cell_type": "markdown",
      "metadata": {
        "id": "uT32ylj4WS9B"
      },
      "source": [
        "# How Much Can You Charge? Examine Paid App Pricing Strategies by Category\n",
        "\n",
        "**Challenge**: What is the median price price for a paid app? Then compare pricing by category by creating another box plot. But this time examine the prices (instead of the revenue estimates) of the paid apps. I recommend using `{categoryorder':'max descending'}` to sort the categories."
      ]
    },
    {
      "cell_type": "code",
      "metadata": {
        "id": "AdBr0TUhouqs",
        "colab": {
          "base_uri": "https://localhost:8080/"
        },
        "outputId": "29434255-fce6-4f1e-d58d-f5a413372bda"
      },
      "source": [
        "df_paid_apps['Price'].describe()"
      ],
      "execution_count": 101,
      "outputs": [
        {
          "output_type": "execute_result",
          "data": {
            "text/plain": [
              "count   589.00\n",
              "mean      4.48\n",
              "std       5.77\n",
              "min       0.99\n",
              "25%       1.99\n",
              "50%       2.99\n",
              "75%       4.99\n",
              "max      79.99\n",
              "Name: Price, dtype: float64"
            ]
          },
          "metadata": {},
          "execution_count": 101
        }
      ]
    },
    {
      "cell_type": "code",
      "metadata": {
        "id": "bJnABRw3ovwr",
        "colab": {
          "base_uri": "https://localhost:8080/",
          "height": 542
        },
        "outputId": "d44d0268-ce87-481f-d084-b9cfbdb16af4"
      },
      "source": [
        "box3 = px.box(data_frame = df_paid_apps,\n",
        "              x = df_paid_apps['Category'],\n",
        "              y = df_paid_apps['Price'],\n",
        "              log_y = True,\n",
        "              title = 'How much to charge?')\n",
        "box3.update_layout(xaxis = {'categoryorder': 'max descending'},\n",
        "                   yaxis_title = 'Paid App Price')\n",
        "box3.show()"
      ],
      "execution_count": 105,
      "outputs": [
        {
          "output_type": "display_data",
          "data": {
            "text/html": [
              "<html>\n",
              "<head><meta charset=\"utf-8\" /></head>\n",
              "<body>\n",
              "    <div>            <script src=\"https://cdnjs.cloudflare.com/ajax/libs/mathjax/2.7.5/MathJax.js?config=TeX-AMS-MML_SVG\"></script><script type=\"text/javascript\">if (window.MathJax) {MathJax.Hub.Config({SVG: {font: \"STIX-Web\"}});}</script>                <script type=\"text/javascript\">window.PlotlyConfig = {MathJaxConfig: 'local'};</script>\n",
              "        <script src=\"https://cdn.plot.ly/plotly-2.8.3.min.js\"></script>                <div id=\"3bd87a83-b975-4c8d-af8b-1729a70c94ba\" class=\"plotly-graph-div\" style=\"height:525px; width:100%;\"></div>            <script type=\"text/javascript\">                                    window.PLOTLYENV=window.PLOTLYENV || {};                                    if (document.getElementById(\"3bd87a83-b975-4c8d-af8b-1729a70c94ba\")) {                    Plotly.newPlot(                        \"3bd87a83-b975-4c8d-af8b-1729a70c94ba\",                        [{\"alignmentgroup\":\"True\",\"hovertemplate\":\"Category=%{x}<br>Price=%{y}<extra></extra>\",\"legendgroup\":\"\",\"marker\":{\"color\":\"#636efa\"},\"name\":\"\",\"notched\":false,\"offsetgroup\":\"\",\"orientation\":\"v\",\"showlegend\":false,\"x\":[\"GAME\",\"GAME\",\"FAMILY\",\"BUSINESS\",\"LIFESTYLE\",\"FAMILY\",\"PERSONALIZATION\",\"PHOTOGRAPHY\",\"FAMILY\",\"GAME\",\"PRODUCTIVITY\",\"PHOTOGRAPHY\",\"FAMILY\",\"TOOLS\",\"TOOLS\",\"PERSONALIZATION\",\"FAMILY\",\"FAMILY\",\"FAMILY\",\"FAMILY\",\"GAME\",\"TOOLS\",\"PERSONALIZATION\",\"PERSONALIZATION\",\"PERSONALIZATION\",\"TOOLS\",\"FAMILY\",\"FAMILY\",\"BUSINESS\",\"BOOKS_AND_REFERENCE\",\"FAMILY\",\"FAMILY\",\"FAMILY\",\"PERSONALIZATION\",\"PERSONALIZATION\",\"PERSONALIZATION\",\"GAME\",\"PERSONALIZATION\",\"FAMILY\",\"FINANCE\",\"SHOPPING\",\"DATING\",\"PERSONALIZATION\",\"GAME\",\"FAMILY\",\"PRODUCTIVITY\",\"FAMILY\",\"MEDICAL\",\"SPORTS\",\"MEDICAL\",\"PRODUCTIVITY\",\"BUSINESS\",\"PARENTING\",\"LIFESTYLE\",\"FAMILY\",\"TOOLS\",\"MAPS_AND_NAVIGATION\",\"COMMUNICATION\",\"PERSONALIZATION\",\"COMMUNICATION\",\"FAMILY\",\"PERSONALIZATION\",\"FAMILY\",\"FAMILY\",\"FAMILY\",\"TOOLS\",\"FAMILY\",\"SPORTS\",\"FAMILY\",\"MEDICAL\",\"FAMILY\",\"FAMILY\",\"GAME\",\"TOOLS\",\"FAMILY\",\"FAMILY\",\"PERSONALIZATION\",\"BOOKS_AND_REFERENCE\",\"GAME\",\"PERSONALIZATION\",\"GAME\",\"GAME\",\"TOOLS\",\"MEDICAL\",\"TOOLS\",\"TOOLS\",\"PERSONALIZATION\",\"GAME\",\"COMMUNICATION\",\"MEDICAL\",\"SPORTS\",\"PERSONALIZATION\",\"COMMUNICATION\",\"COMMUNICATION\",\"PERSONALIZATION\",\"TOOLS\",\"PERSONALIZATION\",\"PERSONALIZATION\",\"PRODUCTIVITY\",\"MEDICAL\",\"FAMILY\",\"TOOLS\",\"TOOLS\",\"BUSINESS\",\"COMMUNICATION\",\"FAMILY\",\"PERSONALIZATION\",\"PHOTOGRAPHY\",\"MEDICAL\",\"PERSONALIZATION\",\"MEDICAL\",\"COMMUNICATION\",\"PRODUCTIVITY\",\"BOOKS_AND_REFERENCE\",\"TOOLS\",\"WEATHER\",\"FAMILY\",\"FAMILY\",\"MEDICAL\",\"FAMILY\",\"TOOLS\",\"TOOLS\",\"SPORTS\",\"GAME\",\"MEDICAL\",\"PERSONALIZATION\",\"PERSONALIZATION\",\"NEWS_AND_MAGAZINES\",\"COMMUNICATION\",\"TOOLS\",\"MEDICAL\",\"FINANCE\",\"FAMILY\",\"PERSONALIZATION\",\"PERSONALIZATION\",\"MEDICAL\",\"FAMILY\",\"MEDICAL\",\"MEDICAL\",\"FAMILY\",\"FAMILY\",\"FAMILY\",\"GAME\",\"PERSONALIZATION\",\"TOOLS\",\"PERSONALIZATION\",\"GAME\",\"GAME\",\"GAME\",\"FAMILY\",\"FAMILY\",\"PRODUCTIVITY\",\"COMMUNICATION\",\"SPORTS\",\"SPORTS\",\"FAMILY\",\"PERSONALIZATION\",\"MEDICAL\",\"SPORTS\",\"COMMUNICATION\",\"LIFESTYLE\",\"FAMILY\",\"MEDICAL\",\"MEDICAL\",\"TOOLS\",\"PRODUCTIVITY\",\"FINANCE\",\"HEALTH_AND_FITNESS\",\"MEDICAL\",\"PHOTOGRAPHY\",\"FAMILY\",\"FAMILY\",\"PHOTOGRAPHY\",\"SPORTS\",\"ART_AND_DESIGN\",\"FAMILY\",\"PERSONALIZATION\",\"PRODUCTIVITY\",\"HEALTH_AND_FITNESS\",\"MEDICAL\",\"TOOLS\",\"PRODUCTIVITY\",\"GAME\",\"TOOLS\",\"MEDICAL\",\"LIFESTYLE\",\"GAME\",\"MEDICAL\",\"TRAVEL_AND_LOCAL\",\"BUSINESS\",\"MEDICAL\",\"COMMUNICATION\",\"PERSONALIZATION\",\"GAME\",\"TRAVEL_AND_LOCAL\",\"GAME\",\"SPORTS\",\"MEDICAL\",\"FAMILY\",\"MEDICAL\",\"TOOLS\",\"BOOKS_AND_REFERENCE\",\"FAMILY\",\"MEDICAL\",\"MEDICAL\",\"GAME\",\"BUSINESS\",\"TOOLS\",\"FAMILY\",\"MEDICAL\",\"PERSONALIZATION\",\"PHOTOGRAPHY\",\"SPORTS\",\"MAPS_AND_NAVIGATION\",\"PERSONALIZATION\",\"GAME\",\"BOOKS_AND_REFERENCE\",\"EDUCATION\",\"FAMILY\",\"FAMILY\",\"SOCIAL\",\"MEDICAL\",\"TOOLS\",\"SPORTS\",\"FAMILY\",\"FAMILY\",\"TOOLS\",\"WEATHER\",\"VIDEO_PLAYERS\",\"MEDICAL\",\"TOOLS\",\"GAME\",\"PERSONALIZATION\",\"MEDICAL\",\"LIFESTYLE\",\"MEDICAL\",\"DATING\",\"HEALTH_AND_FITNESS\",\"MEDICAL\",\"FAMILY\",\"PRODUCTIVITY\",\"EDUCATION\",\"SPORTS\",\"FAMILY\",\"PERSONALIZATION\",\"PERSONALIZATION\",\"FAMILY\",\"GAME\",\"FINANCE\",\"GAME\",\"MEDICAL\",\"FAMILY\",\"MEDICAL\",\"MEDICAL\",\"TOOLS\",\"TOOLS\",\"TOOLS\",\"TOOLS\",\"PERSONALIZATION\",\"PERSONALIZATION\",\"PERSONALIZATION\",\"PERSONALIZATION\",\"FAMILY\",\"GAME\",\"FAMILY\",\"FAMILY\",\"MEDICAL\",\"SPORTS\",\"LIFESTYLE\",\"FAMILY\",\"FAMILY\",\"TRAVEL_AND_LOCAL\",\"PERSONALIZATION\",\"BOOKS_AND_REFERENCE\",\"FAMILY\",\"MEDICAL\",\"MEDICAL\",\"MEDICAL\",\"MEDICAL\",\"PRODUCTIVITY\",\"SOCIAL\",\"SPORTS\",\"TRAVEL_AND_LOCAL\",\"TOOLS\",\"FAMILY\",\"NEWS_AND_MAGAZINES\",\"ART_AND_DESIGN\",\"GAME\",\"PERSONALIZATION\",\"LIFESTYLE\",\"PERSONALIZATION\",\"LIFESTYLE\",\"MEDICAL\",\"FAMILY\",\"FAMILY\",\"BOOKS_AND_REFERENCE\",\"LIFESTYLE\",\"MEDICAL\",\"MEDICAL\",\"TOOLS\",\"SPORTS\",\"MEDICAL\",\"PHOTOGRAPHY\",\"GAME\",\"SPORTS\",\"FAMILY\",\"SPORTS\",\"TOOLS\",\"LIFESTYLE\",\"FAMILY\",\"COMMUNICATION\",\"COMMUNICATION\",\"COMMUNICATION\",\"FAMILY\",\"FAMILY\",\"TOOLS\",\"MEDICAL\",\"TOOLS\",\"TOOLS\",\"TOOLS\",\"TOOLS\",\"TOOLS\",\"TOOLS\",\"PERSONALIZATION\",\"FAMILY\",\"MEDICAL\",\"MEDICAL\",\"MEDICAL\",\"HEALTH_AND_FITNESS\",\"GAME\",\"FAMILY\",\"FAMILY\",\"PHOTOGRAPHY\",\"PERSONALIZATION\",\"LIFESTYLE\",\"GAME\",\"FAMILY\",\"MEDICAL\",\"FAMILY\",\"BUSINESS\",\"GAME\",\"FAMILY\",\"MEDICAL\",\"FAMILY\",\"MAPS_AND_NAVIGATION\",\"BOOKS_AND_REFERENCE\",\"GAME\",\"PERSONALIZATION\",\"PERSONALIZATION\",\"COMMUNICATION\",\"DATING\",\"FOOD_AND_DRINK\",\"LIFESTYLE\",\"FAMILY\",\"FAMILY\",\"MEDICAL\",\"TRAVEL_AND_LOCAL\",\"TOOLS\",\"TOOLS\",\"TOOLS\",\"PERSONALIZATION\",\"VIDEO_PLAYERS\",\"VIDEO_PLAYERS\",\"GAME\",\"FAMILY\",\"FAMILY\",\"FAMILY\",\"FAMILY\",\"PERSONALIZATION\",\"WEATHER\",\"TOOLS\",\"PERSONALIZATION\",\"TOOLS\",\"ART_AND_DESIGN\",\"PERSONALIZATION\",\"PERSONALIZATION\",\"MEDICAL\",\"TOOLS\",\"FAMILY\",\"FINANCE\",\"TOOLS\",\"GAME\",\"FAMILY\",\"FAMILY\",\"TOOLS\",\"TOOLS\",\"GAME\",\"TOOLS\",\"HEALTH_AND_FITNESS\",\"GAME\",\"MEDICAL\",\"COMMUNICATION\",\"FAMILY\",\"GAME\",\"FAMILY\",\"MEDICAL\",\"PERSONALIZATION\",\"FAMILY\",\"SPORTS\",\"FAMILY\",\"TRAVEL_AND_LOCAL\",\"TOOLS\",\"SHOPPING\",\"TOOLS\",\"FAMILY\",\"FAMILY\",\"FAMILY\",\"FAMILY\",\"FAMILY\",\"FAMILY\",\"GAME\",\"MAPS_AND_NAVIGATION\",\"PERSONALIZATION\",\"GAME\",\"FAMILY\",\"FAMILY\",\"FINANCE\",\"TOOLS\",\"TOOLS\",\"FAMILY\",\"FAMILY\",\"MEDICAL\",\"GAME\",\"FAMILY\",\"COMMUNICATION\",\"COMMUNICATION\",\"FAMILY\",\"FAMILY\",\"MEDICAL\",\"MEDICAL\",\"MEDICAL\",\"PHOTOGRAPHY\",\"TOOLS\",\"TOOLS\",\"PERSONALIZATION\",\"PERSONALIZATION\",\"FAMILY\",\"GAME\",\"SPORTS\",\"MEDICAL\",\"GAME\",\"FAMILY\",\"AUTO_AND_VEHICLES\",\"HEALTH_AND_FITNESS\",\"FAMILY\",\"FAMILY\",\"MEDICAL\",\"PHOTOGRAPHY\",\"SPORTS\",\"TOOLS\",\"VIDEO_PLAYERS\",\"FAMILY\",\"FAMILY\",\"PRODUCTIVITY\",\"PERSONALIZATION\",\"PRODUCTIVITY\",\"PERSONALIZATION\",\"FAMILY\",\"FAMILY\",\"GAME\",\"MEDICAL\",\"FAMILY\",\"FAMILY\",\"FOOD_AND_DRINK\",\"FAMILY\",\"FAMILY\",\"FAMILY\",\"TOOLS\",\"HEALTH_AND_FITNESS\",\"PARENTING\",\"FAMILY\",\"GAME\",\"HEALTH_AND_FITNESS\",\"TRAVEL_AND_LOCAL\",\"GAME\",\"WEATHER\",\"FAMILY\",\"MEDICAL\",\"GAME\",\"GAME\",\"MEDICAL\",\"PERSONALIZATION\",\"FAMILY\",\"FAMILY\",\"FAMILY\",\"FAMILY\",\"GAME\",\"PHOTOGRAPHY\",\"FAMILY\",\"BUSINESS\",\"FAMILY\",\"GAME\",\"FAMILY\",\"FAMILY\",\"WEATHER\",\"EDUCATION\",\"COMMUNICATION\",\"ENTERTAINMENT\",\"HEALTH_AND_FITNESS\",\"HEALTH_AND_FITNESS\",\"GAME\",\"GAME\",\"FAMILY\",\"FAMILY\",\"FAMILY\",\"PHOTOGRAPHY\",\"SPORTS\",\"TRAVEL_AND_LOCAL\",\"TOOLS\",\"TOOLS\",\"PERSONALIZATION\",\"PERSONALIZATION\",\"PRODUCTIVITY\",\"PRODUCTIVITY\",\"MAPS_AND_NAVIGATION\",\"GAME\",\"GAME\",\"PRODUCTIVITY\",\"TOOLS\",\"WEATHER\",\"FAMILY\",\"GAME\",\"FAMILY\",\"GAME\",\"TOOLS\",\"GAME\",\"FAMILY\",\"FAMILY\",\"HEALTH_AND_FITNESS\",\"FAMILY\",\"GAME\",\"FAMILY\",\"PERSONALIZATION\",\"BUSINESS\",\"FINANCE\",\"FAMILY\",\"PHOTOGRAPHY\",\"GAME\",\"FAMILY\",\"FAMILY\",\"FAMILY\",\"FAMILY\",\"GAME\",\"FAMILY\",\"GAME\",\"COMMUNICATION\",\"FAMILY\",\"ENTERTAINMENT\",\"COMMUNICATION\",\"GAME\",\"GAME\",\"GAME\",\"GAME\",\"GAME\",\"GAME\",\"PERSONALIZATION\",\"FAMILY\",\"PERSONALIZATION\",\"FAMILY\",\"EDUCATION\",\"WEATHER\",\"PHOTOGRAPHY\",\"PRODUCTIVITY\",\"GAME\",\"FAMILY\",\"FAMILY\",\"PRODUCTIVITY\",\"PERSONALIZATION\",\"GAME\",\"GAME\",\"FAMILY\",\"COMMUNICATION\",\"TOOLS\",\"GAME\",\"PERSONALIZATION\",\"PHOTOGRAPHY\",\"SPORTS\",\"GAME\",\"FAMILY\",\"GAME\",\"GAME\",\"FAMILY\",\"GAME\",\"FAMILY\",\"GAME\",\"LIFESTYLE\",\"FAMILY\",\"GAME\",\"FAMILY\"],\"x0\":\" \",\"xaxis\":\"x\",\"y\":[1.49,0.99,14.99,2.49,3.04,1.49,0.99,3.49,2.99,0.99,0.99,4.99,0.99,2.99,0.99,0.99,29.99,19.99,4.99,4.99,1.99,2.99,0.99,0.99,0.99,1.76,2.99,2.99,8.99,1.75,1.49,1.49,0.99,0.99,0.99,0.99,0.99,0.99,12.99,4.99,2.49,7.99,1.99,4.99,0.99,4.99,3.99,2.99,3.88,2.99,2.99,12.99,4.59,0.99,9.99,3.99,9.99,1.49,1.49,1.49,1.49,0.99,2.99,1.99,4.99,1.49,0.99,3.49,1.99,12.99,0.99,0.99,0.99,1.99,4.99,3.99,0.99,3.99,14.0,1.49,4.49,1.99,0.99,6.99,5.99,3.99,2.49,0.99,1.49,39.99,3.02,1.49,1.49,0.99,0.99,4.99,1.49,0.99,6.49,5.99,2.99,3.99,0.99,17.99,0.99,1.99,1.49,1.49,3.99,1.49,2.99,4.99,8.99,0.99,0.99,1.99,2.49,4.99,0.99,1.99,1.99,0.99,2.99,4.49,3.49,2.0,1.49,2.99,3.99,3.99,15.99,3.99,2.99,1.49,0.99,9.99,2.99,4.99,9.99,2.49,10.99,2.99,0.99,1.99,1.99,0.99,3.99,1.61,0.99,1.99,2.49,4.29,0.99,3.99,0.99,2.99,1.49,15.46,1.99,2.99,4.99,7.49,3.99,5.49,2.49,2.99,1.99,4.99,4.99,19.99,2.99,1.99,9.99,0.99,1.99,2.99,1.7,0.99,7.99,29.99,2.99,7.99,0.99,1.49,2.99,4.99,2.49,79.99,2.56,3.99,19.99,2.49,0.99,0.99,8.49,6.99,2.99,0.99,2.99,1.5,4.99,1.99,4.84,14.99,29.99,4.99,4.99,3.99,19.4,33.99,1.49,2.99,2.99,0.99,0.99,1.99,3.08,5.99,3.99,2.99,0.99,1.99,5.99,2.49,0.99,0.99,0.99,6.99,0.99,16.99,0.99,3.49,1.7,3.99,37.99,9.99,6.99,1.99,3.99,10.0,1.29,3.99,4.49,2.99,2.49,0.99,4.99,0.99,3.99,1.99,7.49,0.99,10.99,5.99,0.99,1.49,14.99,4.99,4.99,0.99,4.99,3.99,4.99,0.99,4.49,5.99,3.99,1.99,3.99,4.99,1.99,3.99,0.99,2.99,1.49,2.49,3.99,3.99,3.99,3.99,0.99,1.99,2.99,0.99,2.99,0.99,1.99,6.99,1.99,0.99,1.49,2.99,5.99,2.99,2.99,4.6,1.99,14.99,0.99,0.99,0.99,2.99,2.99,1.99,2.99,4.99,1.0,14.99,2.49,0.99,4.99,0.99,1.49,3.99,2.99,4.99,3.99,4.99,4.99,4.99,4.99,4.99,1.0,6.99,2.99,9.99,24.99,2.99,3.99,0.99,3.99,3.99,1.99,0.99,7.99,4.99,2.99,10.0,2.99,2.99,2.99,14.99,7.99,12.99,0.99,4.49,16.99,0.99,0.99,4.99,3.99,3.49,2.49,2.99,1.49,6.99,1.99,2.5,3.9,2.95,0.99,1.49,1.99,7.99,2.99,2.99,4.99,1.99,0.99,2.99,2.99,1.99,1.97,1.99,9.99,2.99,5.49,3.28,0.99,2.99,4.99,2.99,14.99,2.99,2.99,2.99,17.99,0.99,6.99,4.99,3.99,2.99,2.99,4.99,1.2,2.99,1.99,4.99,4.99,0.99,5.99,2.59,2.99,1.99,3.99,4.99,3.99,2.99,4.99,2.99,4.99,2.99,0.99,3.99,2.49,0.99,18.99,1.99,1.99,1.59,3.99,11.99,1.99,1.99,2.99,0.99,9.99,3.99,0.99,2.99,1.99,4.99,1.99,2.99,0.99,1.99,0.99,0.99,29.99,2.99,1.99,2.99,1.99,1.99,2.99,4.99,3.99,1.99,3.99,2.99,5.99,19.99,9.99,2.99,2.49,1.49,0.99,2.99,2.99,1.99,11.99,4.99,3.99,4.99,2.99,2.99,4.77,2.99,2.99,4.99,4.99,4.99,1.99,2.49,4.99,3.99,3.99,24.99,4.99,0.99,9.0,0.99,2.99,2.99,2.99,9.99,2.99,1.49,14.99,4.99,7.99,1.99,0.99,0.99,4.49,3.99,3.99,4.99,2.99,2.99,2.99,2.99,3.99,4.99,4.99,3.95,8.99,8.99,2.49,3.99,4.49,1.99,5.99,4.99,11.99,4.99,9.99,4.49,3.49,2.99,4.99,4.99,4.99,1.99,4.49,3.99,2.99,13.99,3.49,9.99,4.99,2.99,2.99,4.99,2.99,2.99,2.99,2.99,2.99,9.99,0.99,1.99,2.99,1.49,6.99,2.9,2.99,2.99,3.99,2.99,4.99,2.99,2.99,1.99,5.99,4.99,2.99,2.49,0.99,3.99,5.99,2.99,2.99,1.99,2.99,4.99,1.99,2.49,0.99,4.99,2.99,2.99,2.99,6.99,0.99,5.99,1.99,2.99,0.99,0.99,0.99,0.99,0.99,2.99,0.99,5.99,1.99,0.99,6.99],\"y0\":\" \",\"yaxis\":\"y\",\"type\":\"box\"}],                        {\"template\":{\"data\":{\"bar\":[{\"error_x\":{\"color\":\"#2a3f5f\"},\"error_y\":{\"color\":\"#2a3f5f\"},\"marker\":{\"line\":{\"color\":\"#E5ECF6\",\"width\":0.5},\"pattern\":{\"fillmode\":\"overlay\",\"size\":10,\"solidity\":0.2}},\"type\":\"bar\"}],\"barpolar\":[{\"marker\":{\"line\":{\"color\":\"#E5ECF6\",\"width\":0.5},\"pattern\":{\"fillmode\":\"overlay\",\"size\":10,\"solidity\":0.2}},\"type\":\"barpolar\"}],\"carpet\":[{\"aaxis\":{\"endlinecolor\":\"#2a3f5f\",\"gridcolor\":\"white\",\"linecolor\":\"white\",\"minorgridcolor\":\"white\",\"startlinecolor\":\"#2a3f5f\"},\"baxis\":{\"endlinecolor\":\"#2a3f5f\",\"gridcolor\":\"white\",\"linecolor\":\"white\",\"minorgridcolor\":\"white\",\"startlinecolor\":\"#2a3f5f\"},\"type\":\"carpet\"}],\"choropleth\":[{\"colorbar\":{\"outlinewidth\":0,\"ticks\":\"\"},\"type\":\"choropleth\"}],\"contour\":[{\"colorbar\":{\"outlinewidth\":0,\"ticks\":\"\"},\"colorscale\":[[0.0,\"#0d0887\"],[0.1111111111111111,\"#46039f\"],[0.2222222222222222,\"#7201a8\"],[0.3333333333333333,\"#9c179e\"],[0.4444444444444444,\"#bd3786\"],[0.5555555555555556,\"#d8576b\"],[0.6666666666666666,\"#ed7953\"],[0.7777777777777778,\"#fb9f3a\"],[0.8888888888888888,\"#fdca26\"],[1.0,\"#f0f921\"]],\"type\":\"contour\"}],\"contourcarpet\":[{\"colorbar\":{\"outlinewidth\":0,\"ticks\":\"\"},\"type\":\"contourcarpet\"}],\"heatmap\":[{\"colorbar\":{\"outlinewidth\":0,\"ticks\":\"\"},\"colorscale\":[[0.0,\"#0d0887\"],[0.1111111111111111,\"#46039f\"],[0.2222222222222222,\"#7201a8\"],[0.3333333333333333,\"#9c179e\"],[0.4444444444444444,\"#bd3786\"],[0.5555555555555556,\"#d8576b\"],[0.6666666666666666,\"#ed7953\"],[0.7777777777777778,\"#fb9f3a\"],[0.8888888888888888,\"#fdca26\"],[1.0,\"#f0f921\"]],\"type\":\"heatmap\"}],\"heatmapgl\":[{\"colorbar\":{\"outlinewidth\":0,\"ticks\":\"\"},\"colorscale\":[[0.0,\"#0d0887\"],[0.1111111111111111,\"#46039f\"],[0.2222222222222222,\"#7201a8\"],[0.3333333333333333,\"#9c179e\"],[0.4444444444444444,\"#bd3786\"],[0.5555555555555556,\"#d8576b\"],[0.6666666666666666,\"#ed7953\"],[0.7777777777777778,\"#fb9f3a\"],[0.8888888888888888,\"#fdca26\"],[1.0,\"#f0f921\"]],\"type\":\"heatmapgl\"}],\"histogram\":[{\"marker\":{\"pattern\":{\"fillmode\":\"overlay\",\"size\":10,\"solidity\":0.2}},\"type\":\"histogram\"}],\"histogram2d\":[{\"colorbar\":{\"outlinewidth\":0,\"ticks\":\"\"},\"colorscale\":[[0.0,\"#0d0887\"],[0.1111111111111111,\"#46039f\"],[0.2222222222222222,\"#7201a8\"],[0.3333333333333333,\"#9c179e\"],[0.4444444444444444,\"#bd3786\"],[0.5555555555555556,\"#d8576b\"],[0.6666666666666666,\"#ed7953\"],[0.7777777777777778,\"#fb9f3a\"],[0.8888888888888888,\"#fdca26\"],[1.0,\"#f0f921\"]],\"type\":\"histogram2d\"}],\"histogram2dcontour\":[{\"colorbar\":{\"outlinewidth\":0,\"ticks\":\"\"},\"colorscale\":[[0.0,\"#0d0887\"],[0.1111111111111111,\"#46039f\"],[0.2222222222222222,\"#7201a8\"],[0.3333333333333333,\"#9c179e\"],[0.4444444444444444,\"#bd3786\"],[0.5555555555555556,\"#d8576b\"],[0.6666666666666666,\"#ed7953\"],[0.7777777777777778,\"#fb9f3a\"],[0.8888888888888888,\"#fdca26\"],[1.0,\"#f0f921\"]],\"type\":\"histogram2dcontour\"}],\"mesh3d\":[{\"colorbar\":{\"outlinewidth\":0,\"ticks\":\"\"},\"type\":\"mesh3d\"}],\"parcoords\":[{\"line\":{\"colorbar\":{\"outlinewidth\":0,\"ticks\":\"\"}},\"type\":\"parcoords\"}],\"pie\":[{\"automargin\":true,\"type\":\"pie\"}],\"scatter\":[{\"marker\":{\"colorbar\":{\"outlinewidth\":0,\"ticks\":\"\"}},\"type\":\"scatter\"}],\"scatter3d\":[{\"line\":{\"colorbar\":{\"outlinewidth\":0,\"ticks\":\"\"}},\"marker\":{\"colorbar\":{\"outlinewidth\":0,\"ticks\":\"\"}},\"type\":\"scatter3d\"}],\"scattercarpet\":[{\"marker\":{\"colorbar\":{\"outlinewidth\":0,\"ticks\":\"\"}},\"type\":\"scattercarpet\"}],\"scattergeo\":[{\"marker\":{\"colorbar\":{\"outlinewidth\":0,\"ticks\":\"\"}},\"type\":\"scattergeo\"}],\"scattergl\":[{\"marker\":{\"colorbar\":{\"outlinewidth\":0,\"ticks\":\"\"}},\"type\":\"scattergl\"}],\"scattermapbox\":[{\"marker\":{\"colorbar\":{\"outlinewidth\":0,\"ticks\":\"\"}},\"type\":\"scattermapbox\"}],\"scatterpolar\":[{\"marker\":{\"colorbar\":{\"outlinewidth\":0,\"ticks\":\"\"}},\"type\":\"scatterpolar\"}],\"scatterpolargl\":[{\"marker\":{\"colorbar\":{\"outlinewidth\":0,\"ticks\":\"\"}},\"type\":\"scatterpolargl\"}],\"scatterternary\":[{\"marker\":{\"colorbar\":{\"outlinewidth\":0,\"ticks\":\"\"}},\"type\":\"scatterternary\"}],\"surface\":[{\"colorbar\":{\"outlinewidth\":0,\"ticks\":\"\"},\"colorscale\":[[0.0,\"#0d0887\"],[0.1111111111111111,\"#46039f\"],[0.2222222222222222,\"#7201a8\"],[0.3333333333333333,\"#9c179e\"],[0.4444444444444444,\"#bd3786\"],[0.5555555555555556,\"#d8576b\"],[0.6666666666666666,\"#ed7953\"],[0.7777777777777778,\"#fb9f3a\"],[0.8888888888888888,\"#fdca26\"],[1.0,\"#f0f921\"]],\"type\":\"surface\"}],\"table\":[{\"cells\":{\"fill\":{\"color\":\"#EBF0F8\"},\"line\":{\"color\":\"white\"}},\"header\":{\"fill\":{\"color\":\"#C8D4E3\"},\"line\":{\"color\":\"white\"}},\"type\":\"table\"}]},\"layout\":{\"annotationdefaults\":{\"arrowcolor\":\"#2a3f5f\",\"arrowhead\":0,\"arrowwidth\":1},\"autotypenumbers\":\"strict\",\"coloraxis\":{\"colorbar\":{\"outlinewidth\":0,\"ticks\":\"\"}},\"colorscale\":{\"diverging\":[[0,\"#8e0152\"],[0.1,\"#c51b7d\"],[0.2,\"#de77ae\"],[0.3,\"#f1b6da\"],[0.4,\"#fde0ef\"],[0.5,\"#f7f7f7\"],[0.6,\"#e6f5d0\"],[0.7,\"#b8e186\"],[0.8,\"#7fbc41\"],[0.9,\"#4d9221\"],[1,\"#276419\"]],\"sequential\":[[0.0,\"#0d0887\"],[0.1111111111111111,\"#46039f\"],[0.2222222222222222,\"#7201a8\"],[0.3333333333333333,\"#9c179e\"],[0.4444444444444444,\"#bd3786\"],[0.5555555555555556,\"#d8576b\"],[0.6666666666666666,\"#ed7953\"],[0.7777777777777778,\"#fb9f3a\"],[0.8888888888888888,\"#fdca26\"],[1.0,\"#f0f921\"]],\"sequentialminus\":[[0.0,\"#0d0887\"],[0.1111111111111111,\"#46039f\"],[0.2222222222222222,\"#7201a8\"],[0.3333333333333333,\"#9c179e\"],[0.4444444444444444,\"#bd3786\"],[0.5555555555555556,\"#d8576b\"],[0.6666666666666666,\"#ed7953\"],[0.7777777777777778,\"#fb9f3a\"],[0.8888888888888888,\"#fdca26\"],[1.0,\"#f0f921\"]]},\"colorway\":[\"#636efa\",\"#EF553B\",\"#00cc96\",\"#ab63fa\",\"#FFA15A\",\"#19d3f3\",\"#FF6692\",\"#B6E880\",\"#FF97FF\",\"#FECB52\"],\"font\":{\"color\":\"#2a3f5f\"},\"geo\":{\"bgcolor\":\"white\",\"lakecolor\":\"white\",\"landcolor\":\"#E5ECF6\",\"showlakes\":true,\"showland\":true,\"subunitcolor\":\"white\"},\"hoverlabel\":{\"align\":\"left\"},\"hovermode\":\"closest\",\"mapbox\":{\"style\":\"light\"},\"paper_bgcolor\":\"white\",\"plot_bgcolor\":\"#E5ECF6\",\"polar\":{\"angularaxis\":{\"gridcolor\":\"white\",\"linecolor\":\"white\",\"ticks\":\"\"},\"bgcolor\":\"#E5ECF6\",\"radialaxis\":{\"gridcolor\":\"white\",\"linecolor\":\"white\",\"ticks\":\"\"}},\"scene\":{\"xaxis\":{\"backgroundcolor\":\"#E5ECF6\",\"gridcolor\":\"white\",\"gridwidth\":2,\"linecolor\":\"white\",\"showbackground\":true,\"ticks\":\"\",\"zerolinecolor\":\"white\"},\"yaxis\":{\"backgroundcolor\":\"#E5ECF6\",\"gridcolor\":\"white\",\"gridwidth\":2,\"linecolor\":\"white\",\"showbackground\":true,\"ticks\":\"\",\"zerolinecolor\":\"white\"},\"zaxis\":{\"backgroundcolor\":\"#E5ECF6\",\"gridcolor\":\"white\",\"gridwidth\":2,\"linecolor\":\"white\",\"showbackground\":true,\"ticks\":\"\",\"zerolinecolor\":\"white\"}},\"shapedefaults\":{\"line\":{\"color\":\"#2a3f5f\"}},\"ternary\":{\"aaxis\":{\"gridcolor\":\"white\",\"linecolor\":\"white\",\"ticks\":\"\"},\"baxis\":{\"gridcolor\":\"white\",\"linecolor\":\"white\",\"ticks\":\"\"},\"bgcolor\":\"#E5ECF6\",\"caxis\":{\"gridcolor\":\"white\",\"linecolor\":\"white\",\"ticks\":\"\"}},\"title\":{\"x\":0.05},\"xaxis\":{\"automargin\":true,\"gridcolor\":\"white\",\"linecolor\":\"white\",\"ticks\":\"\",\"title\":{\"standoff\":15},\"zerolinecolor\":\"white\",\"zerolinewidth\":2},\"yaxis\":{\"automargin\":true,\"gridcolor\":\"white\",\"linecolor\":\"white\",\"ticks\":\"\",\"title\":{\"standoff\":15},\"zerolinecolor\":\"white\",\"zerolinewidth\":2}}},\"xaxis\":{\"anchor\":\"y\",\"domain\":[0.0,1.0],\"title\":{\"text\":\"Category\"},\"categoryorder\":\"max descending\"},\"yaxis\":{\"anchor\":\"x\",\"domain\":[0.0,1.0],\"title\":{\"text\":\"Paid App Price\"},\"type\":\"log\"},\"legend\":{\"tracegroupgap\":0},\"title\":{\"text\":\"How much to charge?\"},\"boxmode\":\"group\"},                        {\"responsive\": true}                    ).then(function(){\n",
              "                            \n",
              "var gd = document.getElementById('3bd87a83-b975-4c8d-af8b-1729a70c94ba');\n",
              "var x = new MutationObserver(function (mutations, observer) {{\n",
              "        var display = window.getComputedStyle(gd).display;\n",
              "        if (!display || display === 'none') {{\n",
              "            console.log([gd, 'removed!']);\n",
              "            Plotly.purge(gd);\n",
              "            observer.disconnect();\n",
              "        }}\n",
              "}});\n",
              "\n",
              "// Listen for the removal of the full notebook cells\n",
              "var notebookContainer = gd.closest('#notebook-container');\n",
              "if (notebookContainer) {{\n",
              "    x.observe(notebookContainer, {childList: true});\n",
              "}}\n",
              "\n",
              "// Listen for the clearing of the current output cell\n",
              "var outputEl = gd.closest('.output');\n",
              "if (outputEl) {{\n",
              "    x.observe(outputEl, {childList: true});\n",
              "}}\n",
              "\n",
              "                        })                };                            </script>        </div>\n",
              "</body>\n",
              "</html>"
            ]
          },
          "metadata": {}
        }
      ]
    },
    {
      "cell_type": "code",
      "metadata": {
        "id": "zSXVSlVyQ4Kz"
      },
      "source": [
        ""
      ],
      "execution_count": null,
      "outputs": []
    }
  ]
}